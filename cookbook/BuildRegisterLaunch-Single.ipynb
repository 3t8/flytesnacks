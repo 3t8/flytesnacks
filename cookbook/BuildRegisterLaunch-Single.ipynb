{
 "cells": [
  {
   "cell_type": "code",
   "execution_count": 1,
   "metadata": {},
   "outputs": [],
   "source": [
    "from flytekit.configuration import platform\n",
    "def print_console_url(exc):\n",
    "    print(\"http://{}/console/projects/{}/domains/{}/executions/{}\".format(platform.URL.get(), exc.id.project, exc.id.domain, exc.id.name))"
   ]
  },
  {
   "cell_type": "markdown",
   "metadata": {},
   "source": [
    "# REPL-sorta\n",
    "\n",
    "### 1) Run locally\n",
    "Flyte allows you to run the exact tasks that run remotely locally to iterate, unit test, and fix bugs."
   ]
  },
  {
   "cell_type": "raw",
   "metadata": {},
   "source": [
    "##. DELTE THIS SSWITCH TO VSCODE INSTEAD\n",
    "\n",
    "\n",
    "from __future__ import absolute_import\n",
    "\n",
    "from flytekit.contrib.notebook import python_notebook\n",
    "from flytekit.sdk.types import Types\n",
    "\n",
    "interactive_python = python_notebook(notebook_path=\"../../demo_py_task.ipynb\",\n",
    "                                     inputs={\"a\": Types.Float, \"b\": Types.Float},\n",
    "                                     outputs={\"out\": Types.Float},\n",
    "                                     cpu_request=\"0.5\",\n",
    "                                     memory_request=\"1G\"\n",
    "                                    )\n"
   ]
  },
  {
   "cell_type": "code",
   "execution_count": 7,
   "metadata": {},
   "outputs": [
    {
     "data": {
      "application/vnd.jupyter.widget-view+json": {
       "model_id": "44523d694736484eb0754b9edf3c76af",
       "version_major": 2,
       "version_minor": 0
      },
      "text/plain": [
       "HBox(children=(FloatProgress(value=0.0, description='Executing', max=5.0, style=ProgressStyle(description_widt…"
      ]
     },
     "metadata": {},
     "output_type": "display_data"
    },
    {
     "name": "stdout",
     "output_type": "stream",
     "text": [
      "\n",
      "2+3=5.0\n"
     ]
    },
    {
     "data": {
      "application/vnd.jupyter.widget-view+json": {
       "model_id": "4ebdad9ddb554dc281be8eb22371a03c",
       "version_major": 2,
       "version_minor": 0
      },
      "text/plain": [
       "HBox(children=(FloatProgress(value=0.0, description='Executing', max=5.0, style=ProgressStyle(description_widt…"
      ]
     },
     "metadata": {},
     "output_type": "display_data"
    },
    {
     "name": "stdout",
     "output_type": "stream",
     "text": [
      "\n",
      "-5+3=-2.0\n"
     ]
    }
   ],
   "source": [
    "from workflows.recipe_7.interactive_python import interactive_python\n",
    "\n",
    "r = interactive_python.unit_test(a=2.0, b=3.0)\n",
    "print('2+3={}'.format(r['out']))\n",
    "\n",
    "r = interactive_python.unit_test(a=-5.0, b=3.0)\n",
    "print('-5+3={}'.format(r['out']))"
   ]
  },
  {
   "cell_type": "markdown",
   "metadata": {},
   "source": [
    "### 2) Build a docker image\n",
    "To ensure repeatablity, we recommend building a docker image with a new version to reflect any code change.\n",
    "\n",
    "Note: You need to have push permissions on a docker hub repo (or any other docker registry) to execute the docker push command."
   ]
  },
  {
   "cell_type": "code",
   "execution_count": 6,
   "metadata": {
    "scrolled": true
   },
   "outputs": [
    {
     "name": "stdout",
     "output_type": "stream",
     "text": [
      "Sending build context to Docker daemon  284.2kB\n",
      "Step 1/19 : FROM ubuntu:bionic\n",
      " ---> 775349758637\n",
      "Step 2/19 : WORKDIR /root\n",
      " ---> Using cache\n",
      " ---> 9e71f2c2950c\n",
      "Step 3/19 : ENV VENV /opt/venv\n",
      " ---> Using cache\n",
      " ---> 7605b00f67e3\n",
      "Step 4/19 : ENV LANG C.UTF-8\n",
      " ---> Using cache\n",
      " ---> 197d97963594\n",
      "Step 5/19 : ENV LC_ALL C.UTF-8\n",
      " ---> Using cache\n",
      " ---> f424c74f8294\n",
      "Step 6/19 : ENV PYTHONPATH /root\n",
      " ---> Using cache\n",
      " ---> ce39083a6d7c\n",
      "Step 7/19 : RUN :     && apt-get update && apt-get install -y python3.6 python3.6-venv python3.6-dev make build-essential libssl-dev python3-venv python3-pip curl\n",
      " ---> Using cache\n",
      " ---> fbbef8af0eb2\n",
      "Step 8/19 : RUN apt-get update && apt-get install -y libsm6 libxext6 libxrender-dev\n",
      " ---> Using cache\n",
      " ---> 61cfd96195b8\n",
      "Step 9/19 : RUN pip3 install awscli\n",
      " ---> Using cache\n",
      " ---> 9ec5fd79ae76\n",
      "Step 10/19 : RUN python3.6 -m venv ${VENV}\n",
      " ---> Using cache\n",
      " ---> c9f5e3d2048a\n",
      "Step 11/19 : RUN ${VENV}/bin/pip install wheel\n",
      " ---> Using cache\n",
      " ---> 14c2e932b36c\n",
      "Step 12/19 : COPY ./requirements.txt /root\n",
      " ---> Using cache\n",
      " ---> 30a7b5fd8f73\n",
      "Step 13/19 : RUN ${VENV}/bin/pip install -r /root/requirements.txt\n",
      " ---> Using cache\n",
      " ---> 762c6549edac\n",
      "Step 14/19 : COPY . /root\n",
      " ---> 28d2c91f2ec6\n",
      "Step 15/19 : RUN cp ${VENV}/bin/flytekit_venv /usr/local/bin/\n",
      " ---> Running in 04fc4e3c7fff\n",
      "Removing intermediate container 04fc4e3c7fff\n",
      " ---> fd65172b4f69\n",
      "Step 16/19 : RUN chmod a+x /usr/local/bin/flytekit_venv\n",
      " ---> Running in 8a1c08ed34e9\n",
      "Removing intermediate container 8a1c08ed34e9\n",
      " ---> dad523887d23\n",
      "Step 17/19 : ARG tag\n",
      " ---> Running in 141db80f6176\n",
      "Removing intermediate container 141db80f6176\n",
      " ---> 2ced16db5c03\n",
      "Step 18/19 : ENV FLYTE_INTERNAL_IMAGE $tag\n",
      " ---> Running in 1fb206e43690\n",
      "Removing intermediate container 1fb206e43690\n",
      " ---> 1e7db6f8a21e\n",
      "Step 19/19 : ENTRYPOINT [\"/usr/local/bin/flytekit_venv\"]\n",
      " ---> Running in 12171106c2dc\n",
      "Removing intermediate container 12171106c2dc\n",
      " ---> f9a3dadcb9a2\n",
      "Successfully built f9a3dadcb9a2\n",
      "Successfully tagged lyft/flytesnacks:datacouncil-24\n",
      "The push refers to repository [docker.io/lyft/flytesnacks]\n",
      "\n",
      "\u001b[1B42f949c8: Preparing \n",
      "\u001b[1B8384e137: Preparing \n",
      "\u001b[1B543bcece: Preparing \n",
      "\u001b[1B1535116a: Preparing \n",
      "\u001b[1Bbb51655e: Preparing \n",
      "\u001b[1Be9699b3b: Preparing \n",
      "\u001b[1Bb7640e73: Preparing \n",
      "\u001b[1B02118bd7: Preparing \n",
      "\u001b[1B28cd61d6: Preparing \n",
      "\u001b[1Bafb09dc3: Preparing \n",
      "\u001b[1Bb5a53aac: Preparing \n",
      "\u001b[1Bc8e5063e: Preparing \n",
      "\u001b[12B384e137: Pushed lready exists 4kB\u001b[12A\u001b[2K\u001b[9A\u001b[2K\u001b[13A\u001b[2K\u001b[8A\u001b[2K\u001b[7A\u001b[2K\u001b[5A\u001b[2K\u001b[3A\u001b[2K\u001b[1A\u001b[2K\u001b[13A\u001b[2K\u001b[12A\u001b[2Kdatacouncil-24: digest: sha256:4878e68169cee4f5def46cedba2c4dfe764a5cee788256de0ff83d57a193d72d size: 3251\n"
     ]
    }
   ],
   "source": [
    "from os import environ\n",
    "environ[\"version\"]=\"24\"\n",
    "!docker build -t docker.io/lyft/flytesnacks:datacouncil-$version .\n",
    "!docker push docker.io/lyft/flytesnacks:datacouncil-$version"
   ]
  },
  {
   "cell_type": "markdown",
   "metadata": {},
   "source": [
    "### 2) Register a notebook task\n",
    "FlyteKit can discover all tasks, workflows and launchplans in a given python package(s). You can use flytekit.clis.sdk_in_container.register.register_all to achieve that."
   ]
  },
  {
   "cell_type": "code",
   "execution_count": 9,
   "metadata": {
    "scrolled": true
   },
   "outputs": [
    {
     "data": {
      "text/plain": [
       "'tsk:flytesnacks:development:interactive_python:123456789'"
      ]
     },
     "execution_count": 9,
     "metadata": {},
     "output_type": "execute_result"
    }
   ],
   "source": [
    "from os import environ\n",
    "from flytekit.configuration import set_flyte_config_file\n",
    "from flytekit.contrib.notebook import python_notebook, spark_notebook\n",
    "from flytekit.sdk.types import Types\n",
    "from workflows.recipe_7.interactive_python import interactive_python\n",
    "\n",
    "environ[\"FLYTE_INTERNAL_IMAGE\"] = \"docker.io/lyft/flytesnacks:datacouncil-{}\".format(environ[\"version\"])\n",
    "set_flyte_config_file(\"production.config\")\n",
    "environ[\"FLYTE_INTERNAL_CONFIGURATION_PATH\"] = \"/root/production.config\"\n",
    "\n",
    "interactive_python.register(project=\"flytesnacks\", domain=\"development\", name=\"interactive_python\", version=environ[\"version\"])"
   ]
  },
  {
   "cell_type": "markdown",
   "metadata": {},
   "source": [
    "### 3) Launch a single task\n",
    "This action runs the task on a flyte cluster (KinD, Docker for Desktop, EKS, GKE,... etc.)"
   ]
  },
  {
   "cell_type": "code",
   "execution_count": 10,
   "metadata": {},
   "outputs": [
    {
     "name": "stdout",
     "output_type": "stream",
     "text": [
      "http://flyte.lyft.net/console/projects/flytesnacks/domains/development/executions/dw6jcj61xk\n"
     ]
    }
   ],
   "source": [
    "from workflows.recipe_1.inner import IdentityWorkflow\n",
    "from os import environ\n",
    "\n",
    "exec = interactive_python.launch(project=\"flytesnacks\", domain=\"development\", inputs={\n",
    "    'a': 5.0,\n",
    "    'b': 6.0,\n",
    "})\n",
    "print_console_url(exec)"
   ]
  },
  {
   "cell_type": "code",
   "execution_count": 11,
   "metadata": {},
   "outputs": [
    {
     "name": "stdout",
     "output_type": "stream",
     "text": [
      "Waiting for workflow execution to complete\n",
      "Done!\n",
      "\n",
      "Output: 11.0\n"
     ]
    }
   ],
   "source": [
    "print(\"Waiting for workflow execution to complete\")\n",
    "exec.wait_for_completion()\n",
    "print(\"Done!\")\n",
    "print()\n",
    "print(\"Output: {}\".format(exec.outputs[\"out\"]))"
   ]
  },
  {
   "cell_type": "code",
   "execution_count": null,
   "metadata": {},
   "outputs": [],
   "source": []
  }
 ],
 "metadata": {
  "kernelspec": {
   "display_name": "Python 3",
   "language": "python",
   "name": "python3"
  },
  "language_info": {
   "codemirror_mode": {
    "name": "ipython",
    "version": 3
   },
   "file_extension": ".py",
   "mimetype": "text/x-python",
   "name": "python",
   "nbconvert_exporter": "python",
   "pygments_lexer": "ipython3",
   "version": "3.7.6"
  }
 },
 "nbformat": 4,
 "nbformat_minor": 4
}
