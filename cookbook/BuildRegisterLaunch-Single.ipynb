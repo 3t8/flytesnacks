{
 "cells": [
  {
   "cell_type": "code",
   "execution_count": null,
   "metadata": {},
   "outputs": [],
   "source": [
    "from flytekit.configuration import platform\n",
    "def print_console_url(exc):\n",
    "    print(\"http://{}/console/projects/{}/domains/{}/executions/{}\".format(platform.URL.get(), exc.id.project, exc.id.domain, exc.id.name))"
   ]
  },
  {
   "cell_type": "markdown",
   "metadata": {},
   "source": [
    "# REPL-sorta\n",
    "\n",
    "### 1) Run locally\n",
    "Flyte allows you to run the exact tasks that run remotely locally to iterate, unit test, and fix bugs."
   ]
  },
  {
   "cell_type": "code",
   "execution_count": 27,
   "metadata": {},
   "outputs": [
    {
     "data": {
      "application/vnd.jupyter.widget-view+json": {
       "model_id": "fad3a69416394d62b2ce508d1a2834b5",
       "version_major": 2,
       "version_minor": 0
      },
      "text/plain": [
       "HBox(children=(FloatProgress(value=0.0, description='Executing', max=4.0, style=ProgressStyle(description_widt…"
      ]
     },
     "metadata": {},
     "output_type": "display_data"
    },
    {
     "name": "stdout",
     "output_type": "stream",
     "text": [
      "\n",
      "2+3=5.0\n"
     ]
    },
    {
     "data": {
      "application/vnd.jupyter.widget-view+json": {
       "model_id": "ae99dce61e0c46d9b4765ac49eaa9058",
       "version_major": 2,
       "version_minor": 0
      },
      "text/plain": [
       "HBox(children=(FloatProgress(value=0.0, description='Executing', max=4.0, style=ProgressStyle(description_widt…"
      ]
     },
     "metadata": {},
     "output_type": "display_data"
    },
    {
     "name": "stdout",
     "output_type": "stream",
     "text": [
      "\n",
      "-5+3=-2.0\n"
     ]
    }
   ],
   "source": [
    "from workflows.recipe_7.interactive_python import interactive_python\n",
    "\n",
    "r = interactive_python.unit_test(a=2.0, b=3.0)\n",
    "print('2+3={}'.format(r['out']))\n",
    "\n",
    "r = interactive_python.unit_test(a=-5.0, b=3.0)\n",
    "print('-5+3={}'.format(r['out']))"
   ]
  },
  {
   "cell_type": "markdown",
   "metadata": {},
   "source": [
    "### 2) Build a docker image\n",
    "To ensure repeatablity, we recommend building a docker image with a new version to reflect any code change.\n",
    "\n",
    "Note: You need to have push permissions on a docker hub repo (or any other docker registry) to execute the docker push command."
   ]
  },
  {
   "cell_type": "code",
   "execution_count": 28,
   "metadata": {
    "scrolled": true
   },
   "outputs": [
    {
     "name": "stdout",
     "output_type": "stream",
     "text": [
      "Sending build context to Docker daemon  321.5kB\n",
      "Step 1/19 : FROM ubuntu:bionic\n",
      " ---> 775349758637\n",
      "Step 2/19 : WORKDIR /root\n",
      " ---> Using cache\n",
      " ---> 9e71f2c2950c\n",
      "Step 3/19 : ENV VENV /opt/venv\n",
      " ---> Using cache\n",
      " ---> 7605b00f67e3\n",
      "Step 4/19 : ENV LANG C.UTF-8\n",
      " ---> Using cache\n",
      " ---> 197d97963594\n",
      "Step 5/19 : ENV LC_ALL C.UTF-8\n",
      " ---> Using cache\n",
      " ---> f424c74f8294\n",
      "Step 6/19 : ENV PYTHONPATH /root\n",
      " ---> Using cache\n",
      " ---> ce39083a6d7c\n",
      "Step 7/19 : RUN :     && apt-get update && apt-get install -y python3.6 python3.6-venv python3.6-dev make build-essential libssl-dev python3-venv python3-pip curl\n",
      " ---> Using cache\n",
      " ---> fbbef8af0eb2\n",
      "Step 8/19 : RUN apt-get update && apt-get install -y libsm6 libxext6 libxrender-dev\n",
      " ---> Using cache\n",
      " ---> 61cfd96195b8\n",
      "Step 9/19 : RUN pip3 install awscli\n",
      " ---> Using cache\n",
      " ---> 9ec5fd79ae76\n",
      "Step 10/19 : RUN python3.6 -m venv ${VENV}\n",
      " ---> Using cache\n",
      " ---> c9f5e3d2048a\n",
      "Step 11/19 : RUN ${VENV}/bin/pip install wheel\n",
      " ---> Using cache\n",
      " ---> 14c2e932b36c\n",
      "Step 12/19 : COPY ./requirements.txt /root\n",
      " ---> Using cache\n",
      " ---> a73106da2730\n",
      "Step 13/19 : RUN ${VENV}/bin/pip install -r /root/requirements.txt\n",
      " ---> Using cache\n",
      " ---> 76495a38a250\n",
      "Step 14/19 : COPY . /root\n",
      " ---> c5a3b24efc97\n",
      "Step 15/19 : RUN cp ${VENV}/bin/flytekit_venv /usr/local/bin/\n",
      " ---> Running in b8038ae2f2c2\n",
      "Removing intermediate container b8038ae2f2c2\n",
      " ---> 583e43abd7c2\n",
      "Step 16/19 : RUN chmod a+x /usr/local/bin/flytekit_venv\n",
      " ---> Running in 2c9379413571\n",
      "Removing intermediate container 2c9379413571\n",
      " ---> 4b01833d5533\n",
      "Step 17/19 : ARG tag\n",
      " ---> Running in 80ef9a156cb8\n",
      "Removing intermediate container 80ef9a156cb8\n",
      " ---> a43552c39a59\n",
      "Step 18/19 : ENV FLYTE_INTERNAL_IMAGE $tag\n",
      " ---> Running in 9241ee4bb2eb\n",
      "Removing intermediate container 9241ee4bb2eb\n",
      " ---> 9cb002c7c1a4\n",
      "Step 19/19 : ENTRYPOINT [\"/usr/local/bin/flytekit_venv\"]\n",
      " ---> Running in bcf43c926d6f\n",
      "Removing intermediate container bcf43c926d6f\n",
      " ---> 46ed2793c129\n",
      "Successfully built 46ed2793c129\n",
      "Successfully tagged lyft/flytesnacks:datacouncil-8-notebooks\n",
      "The push refers to repository [docker.io/lyft/flytesnacks]\n",
      "\n",
      "\u001b[1Bcad1ff65: Preparing \n",
      "\u001b[1B7406d3cb: Preparing \n",
      "\u001b[1Bf1a9e0dc: Preparing \n",
      "\u001b[1B19f6db99: Preparing \n",
      "\u001b[1Bbb51655e: Preparing \n",
      "\u001b[1Be9699b3b: Preparing \n",
      "\u001b[1Bb7640e73: Preparing \n",
      "\u001b[1B02118bd7: Preparing \n",
      "\u001b[1B28cd61d6: Preparing \n",
      "\u001b[4Bb7640e73: Waiting g \n",
      "\u001b[1Bb5a53aac: Preparing \n",
      "\u001b[1Bc8e5063e: Preparing \n",
      "\u001b[12B406d3cb: Pushed lready exists 8kB[2K\u001b[12A\u001b[2K\u001b[12A\u001b[2K\u001b[12A\u001b[2K\u001b[8A\u001b[2K\u001b[4A\u001b[2K\u001b[3A\u001b[2K\u001b[1A\u001b[2K\u001b[13A\u001b[2K\u001b[12A\u001b[2Kdatacouncil-8-notebooks: digest: sha256:96e886cd44d97e7b5e85f8eb1990f1e12a813aaa01379dd25eba150c8d7645bc size: 3251\n"
     ]
    }
   ],
   "source": [
    "from os import environ\n",
    "environ[\"version\"]=\"8-notebooks\"\n",
    "!docker build -t docker.io/lyft/flytesnacks:datacouncil-$version .\n",
    "!docker push docker.io/lyft/flytesnacks:datacouncil-$version"
   ]
  },
  {
   "cell_type": "markdown",
   "metadata": {},
   "source": [
    "### 2) Register a notebook task\n",
    "FlyteKit can discover all tasks, workflows and launchplans in a given python package(s). You can use flytekit.clis.sdk_in_container.register.register_all to achieve that."
   ]
  },
  {
   "cell_type": "code",
   "execution_count": 29,
   "metadata": {
    "scrolled": true
   },
   "outputs": [
    {
     "name": "stdout",
     "output_type": "stream",
     "text": [
      "Contected to 'localhost:30081'\n"
     ]
    },
    {
     "data": {
      "text/plain": [
       "'tsk:flytesnacks:development:interactive_python:8-notebooks'"
      ]
     },
     "execution_count": 29,
     "metadata": {},
     "output_type": "execute_result"
    }
   ],
   "source": [
    "from os import environ\n",
    "from flytekit.configuration import set_flyte_config_file\n",
    "from flytekit.contrib.notebook import python_notebook, spark_notebook\n",
    "from flytekit.sdk.types import Types\n",
    "from workflows.recipe_7.interactive_python import interactive_python\n",
    "from flytekit.configuration import platform\n",
    "\n",
    "environ[\"FLYTE_INTERNAL_IMAGE\"] = \"docker.io/lyft/flytesnacks:datacouncil-{}\".format(environ[\"version\"])\n",
    "set_flyte_config_file(\"sandbox.config\")\n",
    "environ[\"FLYTE_INTERNAL_CONFIGURATION_PATH\"] = \"/root/sandbox.config\"\n",
    "\n",
    "print(\"Contected to '{}'\".format(platform.URL.get()))\n",
    "\n",
    "interactive_python.register(project=\"flytesnacks\", domain=\"development\", name=\"interactive_python\", version=environ[\"version\"])"
   ]
  },
  {
   "cell_type": "markdown",
   "metadata": {},
   "source": [
    "### 3) Launch a single task\n",
    "This action runs the task on a flyte cluster (KinD, Docker for Desktop, EKS, GKE,... etc.)"
   ]
  },
  {
   "cell_type": "code",
   "execution_count": 30,
   "metadata": {},
   "outputs": [
    {
     "name": "stdout",
     "output_type": "stream",
     "text": [
      "http://localhost:30081/console/projects/flytesnacks/domains/development/executions/ujre6zmpdr\n"
     ]
    }
   ],
   "source": [
    "from workflows.recipe_1.inner import IdentityWorkflow\n",
    "from os import environ\n",
    "\n",
    "exec = interactive_python.launch(project=\"flytesnacks\", domain=\"development\", inputs={\n",
    "    'a': 5.0,\n",
    "    'b': 6.0,\n",
    "})\n",
    "print_console_url(exec)"
   ]
  },
  {
   "cell_type": "code",
   "execution_count": 31,
   "metadata": {},
   "outputs": [
    {
     "name": "stdout",
     "output_type": "stream",
     "text": [
      "Waiting for workflow execution to complete\n",
      "Done!\n"
     ]
    }
   ],
   "source": [
    "print(\"Waiting for workflow execution to complete\")\n",
    "exec.wait_for_completion()\n",
    "print(\"Done!\")"
   ]
  },
  {
   "cell_type": "markdown",
   "metadata": {},
   "source": [
    "### Demo 2\n",
    "\n",
    "Let's spice things up and do same task in Shell! Which one do you think will finish faster?"
   ]
  },
  {
   "cell_type": "code",
   "execution_count": 32,
   "metadata": {},
   "outputs": [
    {
     "data": {
      "text/plain": [
       "'lp:flytesnacks:development:SumCompare:8-notebooks'"
      ]
     },
     "execution_count": 32,
     "metadata": {},
     "output_type": "execute_result"
    }
   ],
   "source": [
    "from flytekit.common.tasks.raw_container import SdkRawContainerTask\n",
    "from flytekit.sdk.types import Types\n",
    "from flytekit.sdk.workflow import workflow_class, Input, Output\n",
    "\n",
    "sum_in_shell = SdkRawContainerTask(\n",
    "    input_data_dir=\"/var/inputs\",\n",
    "    output_data_dir=\"/var/outputs\",\n",
    "    inputs={\"a\": Types.Float, \"b\": Types.Float},\n",
    "    outputs={\"out\": Types.Float},\n",
    "    image=\"alpine\",\n",
    "    command=[\"sh\", \"-c\", \"echo $(( {{.Inputs.a}} + {{.Inputs.b}} )) | tee /var/outputs/out\"],\n",
    "    cpu_request=\"0.2\",\n",
    "    memory_request=\"100Mi\",\n",
    ")\n",
    "\n",
    "# Define a workflow that runs both tasks and produce the final output\n",
    "@workflow_class\n",
    "class SumCompare(object):\n",
    "    a = Input(Types.Float)\n",
    "    b = Input(Types.Float)\n",
    "    \n",
    "    sum_shell = sum_in_shell(a=a, b=b)\n",
    "    sum_notebook = interactive_python(a=a, b=b)\n",
    "\n",
    "    res_shell = Output(sum_shell.outputs.out, sdk_type=Types.Float)\n",
    "    res_notebook = Output(sum_notebook.outputs.out, sdk_type=Types.Float)\n",
    "    \n",
    "SumCompare_lp = SumCompare.create_launch_plan() \n",
    "\n",
    "# Currently in flytekit you have to register the tasks first and then register the workflow\n",
    "sum_in_shell.register(name=\"sum_in_shell\", project=\"flytesnacks\", domain=\"development\", version=environ[\"version\"])\n",
    "\n",
    "# It will use the name of the tasks to find the registrations\n",
    "SumCompare.register(name=\"SumCompare\", project=\"flytesnacks\", domain=\"development\", version=environ[\"version\"])\n",
    "SumCompare_lp.register(name=\"SumCompare\", project=\"flytesnacks\", domain=\"development\", version=environ[\"version\"])"
   ]
  },
  {
   "cell_type": "code",
   "execution_count": null,
   "metadata": {},
   "outputs": [],
   "source": []
  }
 ],
 "metadata": {
  "kernelspec": {
   "display_name": "Python 3",
   "language": "python",
   "name": "python3"
  },
  "language_info": {
   "codemirror_mode": {
    "name": "ipython",
    "version": 3
   },
   "file_extension": ".py",
   "mimetype": "text/x-python",
   "name": "python",
   "nbconvert_exporter": "python",
   "pygments_lexer": "ipython3",
   "version": "3.7.6"
  }
 },
 "nbformat": 4,
 "nbformat_minor": 4
}
