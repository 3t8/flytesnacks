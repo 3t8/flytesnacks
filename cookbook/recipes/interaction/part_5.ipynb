{
 "cells": [
  {
   "cell_type": "code",
   "execution_count": null,
   "metadata": {},
   "outputs": [],
   "source": [
    "from flytekit.configuration import set_flyte_config_file, platform\n",
    "set_flyte_config_file(\"notebook.config\")\n",
    "\n",
    "print(\"Connected to {}\".format(platform.URL.get()))\n",
    "\n",
    "def print_console_url(exc):\n",
    "    print(\"http://{}/console/projects/{}/domains/{}/executions/{}\".format(platform.URL.get(), exc.id.project, exc.id.domain, exc.id.name))"
   ]
  },
  {
   "cell_type": "code",
   "execution_count": null,
   "metadata": {},
   "outputs": [],
   "source": [
    "from flytekit.common.workflow_execution import SdkWorkflowExecution as exe\n",
    "execution_id = \"yxh3ug0diz\"\n",
    "e = exe.fetch(\"flyteoperationsworkflows\", \"production\", execution_id)\n",
    "o = e.get_node_executions()[\"getbatchmetrics\"].outputs\n",
    "detailed_metrics = o[\"detailed_metrics\"]\n",
    "capacity_metrics = o[\"capacity_metrics\"]\n",
    "start = o[\"start_time_unix\"]\n",
    "end = o[\"end_time_unix\"]\n",
    "ds = o[\"ds\"]"
   ]
  },
  {
   "cell_type": "code",
   "execution_count": null,
   "metadata": {},
   "outputs": [],
   "source": [
    "from flytekit.common.launch_plan import SdkLaunchPlan\n",
    "lp = SdkLaunchPlan.fetch(\"flyteoperationsworkflows\", \"development\", \"workflows.scrape_metrics.BackfillScrapeMetrics\", \"2d731b7439a0f0a63f13d45d70e413d68c8770ea\")\n",
    "l = lp.execute(\"flyteoperationsworkflows\", \"development\", inputs={\"capacity_metrics\":capacity_metrics,\n",
    "            \"detailed_metrics\":detailed_metrics, \"ds\":ds, \"start_time_unix\":start, \"end_time_unix\":end})"
   ]
  },
  {
   "cell_type": "code",
   "execution_count": null,
   "metadata": {},
   "outputs": [],
   "source": [
    "print_console_url(l)"
   ]
  },
  {
   "cell_type": "code",
   "execution_count": null,
   "metadata": {},
   "outputs": [],
   "source": []
  }
 ],
 "metadata": {
  "kernelspec": {
   "display_name": "Python (other-env)",
   "language": "python",
   "name": "other-env"
  },
  "language_info": {
   "codemirror_mode": {
    "name": "ipython",
    "version": 3
   },
   "file_extension": ".py",
   "mimetype": "text/x-python",
   "name": "python",
   "nbconvert_exporter": "python",
   "pygments_lexer": "ipython3",
   "version": "3.7.4"
  }
 },
 "nbformat": 4,
 "nbformat_minor": 2
}
