{
 "cells": [
  {
   "cell_type": "code",
   "execution_count": 2,
   "metadata": {},
   "outputs": [
    {
     "name": "stdout",
     "output_type": "stream",
     "text": [
      "Connected to localhost:30081\n"
     ]
    }
   ],
   "source": [
    "from flytekit.configuration import set_flyte_config_file, platform\n",
    "set_flyte_config_file(\"../../notebook.config\")\n",
    "print(\"Connected to {}\".format(platform.URL.get()))\n",
    "\n",
    "from jupyter_helpers import print_console_url"
   ]
  },
  {
   "cell_type": "markdown",
   "metadata": {},
   "source": [
    "# Section I: Execute registered Tasks\n",
    "\n",
    "## Option 1: Execute without having the right environment setup\n",
    "This option involves fetching the remote task and then requesting an execution in your own namespace.\n",
    "This concept is what is also used in Sharing.\n",
    "\n",
    "To start an execution following pieces of information are required\n",
    " - project: The project where the task was registered\n",
    " - domain: Domain where the task was registered\n",
    " - name: Name of the registered task. This is the canonical name (usually includes the module name). You can lookup using flyte-cli or console or arrive at it using \"root_module.module....task\" pattern\n",
    " - Version! This is the version of the registered task\n",
    " \n",
    "**Note** Version is the most important to pinpoint the task to execute. At the same time Flyte can have multiple versions active. Cookbook build system uses Git-SHA to version a release. So you can use the latest git-sha from flytesnacks as the release identifier.\n"
   ]
  },
  {
   "cell_type": "code",
   "execution_count": 3,
   "metadata": {},
   "outputs": [
    {
     "ename": "_InactiveRpcError",
     "evalue": "<_InactiveRpcError of RPC that terminated with:\n\tstatus = StatusCode.UNAVAILABLE\n\tdetails = \"failed to connect to all addresses\"\n\tdebug_error_string = \"{\"created\":\"@1595308113.877438000\",\"description\":\"Failed to pick subchannel\",\"file\":\"src/core/ext/filters/client_channel/client_channel.cc\",\"file_line\":3941,\"referenced_errors\":[{\"created\":\"@1595308113.877435000\",\"description\":\"failed to connect to all addresses\",\"file\":\"src/core/ext/filters/client_channel/lb_policy/pick_first/pick_first.cc\",\"file_line\":393,\"grpc_status\":14}]}\"\n>",
     "output_type": "error",
     "traceback": [
      "\u001b[0;31m---------------------------------------------------------------------------\u001b[0m",
      "\u001b[0;31m_InactiveRpcError\u001b[0m                         Traceback (most recent call last)",
      "\u001b[0;32m<ipython-input-3-f7556afb838e>\u001b[0m in \u001b[0;36m<module>\u001b[0;34m\u001b[0m\n\u001b[1;32m      1\u001b[0m \u001b[0;32mfrom\u001b[0m \u001b[0mflytekit\u001b[0m\u001b[0;34m.\u001b[0m\u001b[0mcommon\u001b[0m\u001b[0;34m.\u001b[0m\u001b[0mtasks\u001b[0m\u001b[0;34m.\u001b[0m\u001b[0mtask\u001b[0m \u001b[0;32mimport\u001b[0m \u001b[0mSdkTask\u001b[0m\u001b[0;34m\u001b[0m\u001b[0;34m\u001b[0m\u001b[0m\n\u001b[1;32m      2\u001b[0m \u001b[0mversion\u001b[0m \u001b[0;34m=\u001b[0m \u001b[0;34m\"ade80023b74f9810fe720471b8926d6b991fc879\"\u001b[0m \u001b[0;31m## Replace this\u001b[0m\u001b[0;34m\u001b[0m\u001b[0;34m\u001b[0m\u001b[0m\n\u001b[0;32m----> 3\u001b[0;31m \u001b[0mremote_task\u001b[0m \u001b[0;34m=\u001b[0m \u001b[0mSdkTask\u001b[0m\u001b[0;34m.\u001b[0m\u001b[0mfetch\u001b[0m\u001b[0;34m(\u001b[0m\u001b[0mproject\u001b[0m\u001b[0;34m=\u001b[0m\u001b[0;34m\"flytesnacks\"\u001b[0m\u001b[0;34m,\u001b[0m \u001b[0mdomain\u001b[0m\u001b[0;34m=\u001b[0m\u001b[0;34m\"development\"\u001b[0m\u001b[0;34m,\u001b[0m \u001b[0mname\u001b[0m\u001b[0;34m=\u001b[0m\u001b[0;34m\"recipes.interaction.interaction.scale\"\u001b[0m\u001b[0;34m,\u001b[0m \u001b[0mversion\u001b[0m\u001b[0;34m=\u001b[0m\u001b[0mversion\u001b[0m\u001b[0;34m)\u001b[0m\u001b[0;34m\u001b[0m\u001b[0;34m\u001b[0m\u001b[0m\n\u001b[0m",
      "\u001b[0;32m~/.virtualenvs/cookbook/lib/python3.7/site-packages/flytekit/common/exceptions/scopes.py\u001b[0m in \u001b[0;36msystem_entry_point\u001b[0;34m(wrapped, instance, args, kwargs)\u001b[0m\n\u001b[1;32m    159\u001b[0m         \u001b[0;32mif\u001b[0m \u001b[0m_is_base_context\u001b[0m\u001b[0;34m(\u001b[0m\u001b[0;34m)\u001b[0m\u001b[0;34m:\u001b[0m\u001b[0;34m\u001b[0m\u001b[0;34m\u001b[0m\u001b[0m\n\u001b[1;32m    160\u001b[0m             \u001b[0;32mtry\u001b[0m\u001b[0;34m:\u001b[0m\u001b[0;34m\u001b[0m\u001b[0;34m\u001b[0m\u001b[0m\n\u001b[0;32m--> 161\u001b[0;31m                 \u001b[0;32mreturn\u001b[0m \u001b[0mwrapped\u001b[0m\u001b[0;34m(\u001b[0m\u001b[0;34m*\u001b[0m\u001b[0margs\u001b[0m\u001b[0;34m,\u001b[0m \u001b[0;34m**\u001b[0m\u001b[0mkwargs\u001b[0m\u001b[0;34m)\u001b[0m\u001b[0;34m\u001b[0m\u001b[0;34m\u001b[0m\u001b[0m\n\u001b[0m\u001b[1;32m    162\u001b[0m             \u001b[0;32mexcept\u001b[0m \u001b[0mFlyteScopedException\u001b[0m \u001b[0;32mas\u001b[0m \u001b[0mex\u001b[0m\u001b[0;34m:\u001b[0m\u001b[0;34m\u001b[0m\u001b[0;34m\u001b[0m\u001b[0m\n\u001b[1;32m    163\u001b[0m                 \u001b[0m_reraise\u001b[0m\u001b[0;34m(\u001b[0m\u001b[0mex\u001b[0m\u001b[0;34m.\u001b[0m\u001b[0mtype\u001b[0m\u001b[0;34m,\u001b[0m \u001b[0mex\u001b[0m\u001b[0;34m.\u001b[0m\u001b[0mvalue\u001b[0m\u001b[0;34m,\u001b[0m \u001b[0mex\u001b[0m\u001b[0;34m.\u001b[0m\u001b[0mtraceback\u001b[0m\u001b[0;34m)\u001b[0m\u001b[0;34m\u001b[0m\u001b[0;34m\u001b[0m\u001b[0m\n",
      "\u001b[0;32m~/.virtualenvs/cookbook/lib/python3.7/site-packages/flytekit/common/tasks/task.py\u001b[0m in \u001b[0;36mfetch\u001b[0;34m(cls, project, domain, name, version)\u001b[0m\n\u001b[1;32m    169\u001b[0m         \"\"\"\n\u001b[1;32m    170\u001b[0m         \u001b[0mtask_id\u001b[0m \u001b[0;34m=\u001b[0m \u001b[0m_identifier\u001b[0m\u001b[0;34m.\u001b[0m\u001b[0mIdentifier\u001b[0m\u001b[0;34m(\u001b[0m\u001b[0m_identifier_model\u001b[0m\u001b[0;34m.\u001b[0m\u001b[0mResourceType\u001b[0m\u001b[0;34m.\u001b[0m\u001b[0mTASK\u001b[0m\u001b[0;34m,\u001b[0m \u001b[0mproject\u001b[0m\u001b[0;34m,\u001b[0m \u001b[0mdomain\u001b[0m\u001b[0;34m,\u001b[0m \u001b[0mname\u001b[0m\u001b[0;34m,\u001b[0m \u001b[0mversion\u001b[0m\u001b[0;34m)\u001b[0m\u001b[0;34m\u001b[0m\u001b[0;34m\u001b[0m\u001b[0m\n\u001b[0;32m--> 171\u001b[0;31m         \u001b[0madmin_task\u001b[0m \u001b[0;34m=\u001b[0m \u001b[0m_engine_loader\u001b[0m\u001b[0;34m.\u001b[0m\u001b[0mget_engine\u001b[0m\u001b[0;34m(\u001b[0m\u001b[0;34m)\u001b[0m\u001b[0;34m.\u001b[0m\u001b[0mfetch_task\u001b[0m\u001b[0;34m(\u001b[0m\u001b[0mtask_id\u001b[0m\u001b[0;34m=\u001b[0m\u001b[0mtask_id\u001b[0m\u001b[0;34m)\u001b[0m\u001b[0;34m\u001b[0m\u001b[0;34m\u001b[0m\u001b[0m\n\u001b[0m\u001b[1;32m    172\u001b[0m         \u001b[0msdk_task\u001b[0m \u001b[0;34m=\u001b[0m \u001b[0mcls\u001b[0m\u001b[0;34m.\u001b[0m\u001b[0mpromote_from_model\u001b[0m\u001b[0;34m(\u001b[0m\u001b[0madmin_task\u001b[0m\u001b[0;34m.\u001b[0m\u001b[0mclosure\u001b[0m\u001b[0;34m.\u001b[0m\u001b[0mcompiled_task\u001b[0m\u001b[0;34m.\u001b[0m\u001b[0mtemplate\u001b[0m\u001b[0;34m)\u001b[0m\u001b[0;34m\u001b[0m\u001b[0;34m\u001b[0m\u001b[0m\n\u001b[1;32m    173\u001b[0m         \u001b[0msdk_task\u001b[0m\u001b[0;34m.\u001b[0m\u001b[0m_id\u001b[0m \u001b[0;34m=\u001b[0m \u001b[0mtask_id\u001b[0m\u001b[0;34m\u001b[0m\u001b[0;34m\u001b[0m\u001b[0m\n",
      "\u001b[0;32m~/.virtualenvs/cookbook/lib/python3.7/site-packages/flytekit/engines/flyte/engine.py\u001b[0m in \u001b[0;36mfetch_task\u001b[0;34m(self, task_id)\u001b[0m\n\u001b[1;32m    106\u001b[0m             \u001b[0m_platform_config\u001b[0m\u001b[0;34m.\u001b[0m\u001b[0mURL\u001b[0m\u001b[0;34m.\u001b[0m\u001b[0mget\u001b[0m\u001b[0;34m(\u001b[0m\u001b[0;34m)\u001b[0m\u001b[0;34m,\u001b[0m\u001b[0;34m\u001b[0m\u001b[0;34m\u001b[0m\u001b[0m\n\u001b[1;32m    107\u001b[0m             \u001b[0minsecure\u001b[0m\u001b[0;34m=\u001b[0m\u001b[0m_platform_config\u001b[0m\u001b[0;34m.\u001b[0m\u001b[0mINSECURE\u001b[0m\u001b[0;34m.\u001b[0m\u001b[0mget\u001b[0m\u001b[0;34m(\u001b[0m\u001b[0;34m)\u001b[0m\u001b[0;34m\u001b[0m\u001b[0;34m\u001b[0m\u001b[0m\n\u001b[0;32m--> 108\u001b[0;31m         ).client.get_task(task_id)\n\u001b[0m\u001b[1;32m    109\u001b[0m \u001b[0;34m\u001b[0m\u001b[0m\n\u001b[1;32m    110\u001b[0m     \u001b[0;32mdef\u001b[0m \u001b[0mfetch_latest_task\u001b[0m\u001b[0;34m(\u001b[0m\u001b[0mself\u001b[0m\u001b[0;34m,\u001b[0m \u001b[0mnamed_task\u001b[0m\u001b[0;34m)\u001b[0m\u001b[0;34m:\u001b[0m\u001b[0;34m\u001b[0m\u001b[0;34m\u001b[0m\u001b[0m\n",
      "\u001b[0;32m~/.virtualenvs/cookbook/lib/python3.7/site-packages/flytekit/clients/friendly.py\u001b[0m in \u001b[0;36mget_task\u001b[0;34m(self, id)\u001b[0m\n\u001b[1;32m    170\u001b[0m             super(SynchronousFlyteClient, self).get_task(\n\u001b[1;32m    171\u001b[0m                 _common_pb2.ObjectGetRequest(\n\u001b[0;32m--> 172\u001b[0;31m                     \u001b[0mid\u001b[0m\u001b[0;34m=\u001b[0m\u001b[0mid\u001b[0m\u001b[0;34m.\u001b[0m\u001b[0mto_flyte_idl\u001b[0m\u001b[0;34m(\u001b[0m\u001b[0;34m)\u001b[0m\u001b[0;34m\u001b[0m\u001b[0;34m\u001b[0m\u001b[0m\n\u001b[0m\u001b[1;32m    173\u001b[0m                 )\n\u001b[1;32m    174\u001b[0m             )\n",
      "\u001b[0;32m~/.virtualenvs/cookbook/lib/python3.7/site-packages/flytekit/clients/raw.py\u001b[0m in \u001b[0;36mhandler\u001b[0;34m(*args, **kwargs)\u001b[0m\n\u001b[1;32m     76\u001b[0m             \u001b[0;32mfor\u001b[0m \u001b[0mi\u001b[0m \u001b[0;32min\u001b[0m \u001b[0mrange\u001b[0m\u001b[0;34m(\u001b[0m\u001b[0mretries\u001b[0m\u001b[0;34m)\u001b[0m\u001b[0;34m:\u001b[0m\u001b[0;34m\u001b[0m\u001b[0;34m\u001b[0m\u001b[0m\n\u001b[1;32m     77\u001b[0m                 \u001b[0;32mtry\u001b[0m\u001b[0;34m:\u001b[0m\u001b[0;34m\u001b[0m\u001b[0;34m\u001b[0m\u001b[0m\n\u001b[0;32m---> 78\u001b[0;31m                     \u001b[0;32mreturn\u001b[0m \u001b[0mfn\u001b[0m\u001b[0;34m(\u001b[0m\u001b[0;34m*\u001b[0m\u001b[0margs\u001b[0m\u001b[0;34m,\u001b[0m \u001b[0;34m**\u001b[0m\u001b[0mkwargs\u001b[0m\u001b[0;34m)\u001b[0m\u001b[0;34m\u001b[0m\u001b[0;34m\u001b[0m\u001b[0m\n\u001b[0m\u001b[1;32m     79\u001b[0m                 \u001b[0;32mexcept\u001b[0m \u001b[0m_RpcError\u001b[0m \u001b[0;32mas\u001b[0m \u001b[0me\u001b[0m\u001b[0;34m:\u001b[0m\u001b[0;34m\u001b[0m\u001b[0;34m\u001b[0m\u001b[0m\n\u001b[1;32m     80\u001b[0m                     \u001b[0;32mif\u001b[0m \u001b[0me\u001b[0m\u001b[0;34m.\u001b[0m\u001b[0mcode\u001b[0m\u001b[0;34m(\u001b[0m\u001b[0;34m)\u001b[0m \u001b[0;34m==\u001b[0m \u001b[0m_GrpcStatusCode\u001b[0m\u001b[0;34m.\u001b[0m\u001b[0mUNAUTHENTICATED\u001b[0m\u001b[0;34m:\u001b[0m\u001b[0;34m\u001b[0m\u001b[0;34m\u001b[0m\u001b[0m\n",
      "\u001b[0;32m~/.virtualenvs/cookbook/lib/python3.7/site-packages/flytekit/clients/raw.py\u001b[0m in \u001b[0;36mget_task\u001b[0;34m(self, get_object_request)\u001b[0m\n\u001b[1;32m    222\u001b[0m         \u001b[0;34m:\u001b[0m\u001b[0mraises\u001b[0m\u001b[0;34m:\u001b[0m \u001b[0mTODO\u001b[0m\u001b[0;34m\u001b[0m\u001b[0;34m\u001b[0m\u001b[0m\n\u001b[1;32m    223\u001b[0m         \"\"\"\n\u001b[0;32m--> 224\u001b[0;31m         \u001b[0;32mreturn\u001b[0m \u001b[0mself\u001b[0m\u001b[0;34m.\u001b[0m\u001b[0m_stub\u001b[0m\u001b[0;34m.\u001b[0m\u001b[0mGetTask\u001b[0m\u001b[0;34m(\u001b[0m\u001b[0mget_object_request\u001b[0m\u001b[0;34m,\u001b[0m \u001b[0mmetadata\u001b[0m\u001b[0;34m=\u001b[0m\u001b[0mself\u001b[0m\u001b[0;34m.\u001b[0m\u001b[0m_metadata\u001b[0m\u001b[0;34m)\u001b[0m\u001b[0;34m\u001b[0m\u001b[0;34m\u001b[0m\u001b[0m\n\u001b[0m\u001b[1;32m    225\u001b[0m \u001b[0;34m\u001b[0m\u001b[0m\n\u001b[1;32m    226\u001b[0m     \u001b[0;31m####################################################################################################################\u001b[0m\u001b[0;34m\u001b[0m\u001b[0;34m\u001b[0m\u001b[0;34m\u001b[0m\u001b[0m\n",
      "\u001b[0;32m~/.virtualenvs/cookbook/lib/python3.7/site-packages/grpc/_channel.py\u001b[0m in \u001b[0;36m__call__\u001b[0;34m(self, request, timeout, metadata, credentials, wait_for_ready, compression)\u001b[0m\n\u001b[1;32m    824\u001b[0m         state, call, = self._blocking(request, timeout, metadata, credentials,\n\u001b[1;32m    825\u001b[0m                                       wait_for_ready, compression)\n\u001b[0;32m--> 826\u001b[0;31m         \u001b[0;32mreturn\u001b[0m \u001b[0m_end_unary_response_blocking\u001b[0m\u001b[0;34m(\u001b[0m\u001b[0mstate\u001b[0m\u001b[0;34m,\u001b[0m \u001b[0mcall\u001b[0m\u001b[0;34m,\u001b[0m \u001b[0;32mFalse\u001b[0m\u001b[0;34m,\u001b[0m \u001b[0;32mNone\u001b[0m\u001b[0;34m)\u001b[0m\u001b[0;34m\u001b[0m\u001b[0;34m\u001b[0m\u001b[0m\n\u001b[0m\u001b[1;32m    827\u001b[0m \u001b[0;34m\u001b[0m\u001b[0m\n\u001b[1;32m    828\u001b[0m     def with_call(self,\n",
      "\u001b[0;32m~/.virtualenvs/cookbook/lib/python3.7/site-packages/grpc/_channel.py\u001b[0m in \u001b[0;36m_end_unary_response_blocking\u001b[0;34m(state, call, with_call, deadline)\u001b[0m\n\u001b[1;32m    727\u001b[0m             \u001b[0;32mreturn\u001b[0m \u001b[0mstate\u001b[0m\u001b[0;34m.\u001b[0m\u001b[0mresponse\u001b[0m\u001b[0;34m\u001b[0m\u001b[0;34m\u001b[0m\u001b[0m\n\u001b[1;32m    728\u001b[0m     \u001b[0;32melse\u001b[0m\u001b[0;34m:\u001b[0m\u001b[0;34m\u001b[0m\u001b[0;34m\u001b[0m\u001b[0m\n\u001b[0;32m--> 729\u001b[0;31m         \u001b[0;32mraise\u001b[0m \u001b[0m_InactiveRpcError\u001b[0m\u001b[0;34m(\u001b[0m\u001b[0mstate\u001b[0m\u001b[0;34m)\u001b[0m\u001b[0;34m\u001b[0m\u001b[0;34m\u001b[0m\u001b[0m\n\u001b[0m\u001b[1;32m    730\u001b[0m \u001b[0;34m\u001b[0m\u001b[0m\n\u001b[1;32m    731\u001b[0m \u001b[0;34m\u001b[0m\u001b[0m\n",
      "\u001b[0;31m_InactiveRpcError\u001b[0m: <_InactiveRpcError of RPC that terminated with:\n\tstatus = StatusCode.UNAVAILABLE\n\tdetails = \"failed to connect to all addresses\"\n\tdebug_error_string = \"{\"created\":\"@1595308113.877438000\",\"description\":\"Failed to pick subchannel\",\"file\":\"src/core/ext/filters/client_channel/client_channel.cc\",\"file_line\":3941,\"referenced_errors\":[{\"created\":\"@1595308113.877435000\",\"description\":\"failed to connect to all addresses\",\"file\":\"src/core/ext/filters/client_channel/lb_policy/pick_first/pick_first.cc\",\"file_line\":393,\"grpc_status\":14}]}\"\n>"
     ]
    }
   ],
   "source": [
    "from flytekit.common.tasks.task import SdkTask\n",
    "version = \"ade80023b74f9810fe720471b8926d6b991fc879\" ## Replace this\n",
    "remote_task = SdkTask.fetch(project=\"flytesnacks\", domain=\"development\", name=\"recipes.interaction.interaction.scale\", version=version)"
   ]
  },
  {
   "cell_type": "code",
   "execution_count": null,
   "metadata": {},
   "outputs": [],
   "source": [
    "exe = remote_task.execute(project=\"flytesnacks\", domain=\"development\", inputs={\"image\":\"https://miro.medium.com/max/1400/1*qL8UYfaStcEo_YVPrA4cbA.png\"})\n",
    "print_console_url(exe)"
   ]
  },
  {
   "cell_type": "markdown",
   "metadata": {},
   "source": [
    "### Load outputs for introspection\n",
    "**TODO** This does not work on sandbox environment today as minio is not available on the same port"
   ]
  },
  {
   "cell_type": "code",
   "execution_count": null,
   "metadata": {},
   "outputs": [],
   "source": [
    "exe.sync()\n",
    "# In sandbox outputs does not work because the dns points to k8s local address, but this is not available on localhost\n",
    "#. we can create a hostfile entry but that would be too complicated\n",
    "exe.outputs"
   ]
  },
  {
   "cell_type": "markdown",
   "metadata": {},
   "source": [
    "## Option 2: Execute by loading the current code \n",
    "\n",
    "This is only supported for non-container (like queries etc), pre-built containers like Sagemaker etc and Raw containers tasks. For tasks that are written in containers, this is not directly supported as it would easily confuse the user about false iteration, without building a container.\n",
    "\n",
    "**NOTE** this is an active area of work, come back again and you will see an update.\n"
   ]
  },
  {
   "cell_type": "markdown",
   "metadata": {},
   "source": [
    "# Section II: Execute registered Workflows\n",
    "\n",
    "## Option 1: Execute without the environment setup\n",
    "This option involves fetching the remote workflow (pre-registered) and then requesting an execution in your own namespace.\n",
    "This concept is what is also used in Sharing.\n",
    "\n",
    "Flyte Workflows are not directly executable. Only launch plans are executable. LaunchPlans allow partial specialization of inputs and allow specifying schedules. This enables Flyte workflows to have multiple schedules at the same time (with different default input values). Refer to the docs to understand LaunchPlans in more depth.\n",
    "\n",
    "**NOTE** Flytekit automatically creates a **default** launch plan when a workflow is registered. A Default launchplan is exactly like a Workflow.\n",
    "\n",
    "To start an execution following pieces of information are required\n",
    " - project: The project where the task was registered\n",
    " - domain: Domain where the task was registered\n",
    " - name: Name of the registered Launch plan - *for default launch plans the name is identical to the workflow name*. The Workflow name is the canonical name (usually includes the module name). You can lookup using flyte-cli or console or arrive at it using \"root_module.module....task\" pattern\n",
    " - Version! This is the version of the registered task\n",
    " \n",
    "**Note** Version is the most important to pinpoint the workflow/launchplan to execute. At the same time Flyte can have multiple versions active. Cookbook build system uses Git-SHA to version a release. So you can use the latest git-sha from flytesnacks as the release identifier.\n"
   ]
  },
  {
   "cell_type": "code",
   "execution_count": null,
   "metadata": {},
   "outputs": [],
   "source": [
    "from flytekit.common.launch_plan import SdkLaunchPlan\n",
    "version = \"ade80023b74f9810fe720471b8926d6b991fc879\" ## Replace this\n",
    "remote_lp = SdkLaunchPlan.fetch(project=\"flytesnacks\", domain=\"development\", name=\"recipes.interaction.interaction.FailingWorkflow\", version=version)"
   ]
  },
  {
   "cell_type": "code",
   "execution_count": null,
   "metadata": {},
   "outputs": [],
   "source": [
    "exe = remote_lp.execute(project=\"flytesnacks\", domain=\"development\", inputs={\"in_image\": \"https://miro.medium.com/max/1400/1*qL8UYfaStcEo_YVPrA4cbA.png\", \"angle\": 180.0})\n",
    "print_console_url(exe)"
   ]
  },
  {
   "cell_type": "markdown",
   "metadata": {},
   "source": [
    "# Section III: Load Error for introspection\n",
    "Flyte returns the error captured during execution through the API.\n",
    "This can be captured in multiple ways, if using flytekit, then \"raising\" any Python Exception will be captured. If using raw container, then raw stdout / stderr will be captured, or error can be written to a special file."
   ]
  },
  {
   "cell_type": "code",
   "execution_count": null,
   "metadata": {},
   "outputs": [],
   "source": [
    "from flytekit.common.workflow_execution import SdkWorkflowExecution\n",
    "exe = SdkWorkflowExecution.fetch(project=\"flytesnacks\", domain=\"development\", name=\"f696cca32ffa44513b25\")\n",
    "exe.error"
   ]
  },
  {
   "cell_type": "markdown",
   "metadata": {},
   "source": [
    "# Section IV: Relaunch the failed execution\n",
    "Sometimes relaunching an execution is what is required just with a different parameter. This is usually preferable if one of the inputs was incorrect or if the workflow execution failed due to a system or any other retryable failure.\n",
    "\n",
    "### Lets fetch the execution information first\n"
   ]
  },
  {
   "cell_type": "code",
   "execution_count": null,
   "metadata": {},
   "outputs": [],
   "source": [
    "from flytekit.common.workflow_execution import SdkWorkflowExecution\n",
    "exe = SdkWorkflowExecution.fetch(project=\"flytesnacks\", domain=\"development\", name=\"f696cca32ffa44513b25\")\n"
   ]
  },
  {
   "cell_type": "markdown",
   "metadata": {},
   "source": [
    "### Now fetch the launch plan to execute, note this can be different version."
   ]
  },
  {
   "cell_type": "code",
   "execution_count": null,
   "metadata": {},
   "outputs": [],
   "source": [
    "from flytekit.common.launch_plan import SdkLaunchPlan\n",
    "version = \"ade80023b74f9810fe720471b8926d6b991fc879\" ## Replace this\n",
    "remote_lp = SdkLaunchPlan.fetch(project=\"flytesnacks\", domain=\"development\", name=\"recipes.interaction.interaction.FailingWorkflow\", version=version)\n",
    "\n",
    "## Now just execute like previous"
   ]
  },
  {
   "cell_type": "code",
   "execution_count": null,
   "metadata": {},
   "outputs": [],
   "source": []
  }
 ],
 "metadata": {
  "kernelspec": {
   "display_name": "cookbook",
   "language": "python",
   "name": "cookbook"
  },
  "language_info": {
   "codemirror_mode": {
    "name": "ipython",
    "version": 3
   },
   "file_extension": ".py",
   "mimetype": "text/x-python",
   "name": "python",
   "nbconvert_exporter": "python",
   "pygments_lexer": "ipython3",
   "version": "3.7.4"
  }
 },
 "nbformat": 4,
 "nbformat_minor": 4
}
