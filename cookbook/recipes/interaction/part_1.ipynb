{
 "cells": [
  {
   "cell_type": "code",
   "execution_count": null,
   "metadata": {},
   "outputs": [],
   "source": [
    "import cv2\n",
    "\n",
    "def scale(wf_params, input_image_path, output_image_path):\n",
    "    \"\"\" Scale a given image by float \"\"\"\n",
    "    img = cv2.imread(input_image_path, 0)\n",
    "    if img is None:\n",
    "        raise Exception(\"Failed to read image\")\n",
    "    res = cv2.resize(img, None, fx=2, fy=2, interpolation=cv2.INTER_CUBIC)\n",
    "    cv2.imwrite(output_image_path, res)\n",
    "    return output_image_path\n",
    "    \n",
    "def rotate(wf_params, input_image_path, angle, output_image_path):\n",
    "    \"\"\" Rotate a given image by x-degress\"\"\"\n",
    "    img = cv2.imread(input_image_path, 0)\n",
    "    if img is None:\n",
    "        raise Exception(\"Failed to read image\")\n",
    "    (h, w) = img.shape[:2]\n",
    "    center = (w / 2, h / 2)\n",
    "    M = cv2.getRotationMatrix2D(center, angle, 1)\n",
    "    rotated = cv2.warpAffine(img, M, (w, h))\n",
    "    cv2.imwrite(output_image_path, rotated)\n",
    "    return output_image_path"
   ]
  },
  {
   "cell_type": "code",
   "execution_count": null,
   "metadata": {},
   "outputs": [],
   "source": [
    "from IPython.display import Image, display\n",
    "def display_images(paths):\n",
    "    for p in paths:\n",
    "        display(Image(p))"
   ]
  },
  {
   "cell_type": "code",
   "execution_count": null,
   "metadata": {},
   "outputs": [],
   "source": [
    "i = '/Users/kumare/Desktop/headshot.jpg'\n",
    "s = scale(None, i, '/tmp/scale.jpg')\n",
    "r = rotate(None, s, 92.5, '/tmp/rotate.jpg')\n",
    "display_images([i, s, r])\n"
   ]
  },
  {
   "cell_type": "code",
   "execution_count": null,
   "metadata": {},
   "outputs": [],
   "source": []
  }
 ],
 "metadata": {
  "kernelspec": {
   "display_name": "cookbook",
   "language": "python",
   "name": "cookbook"
  },
  "language_info": {
   "codemirror_mode": {
    "name": "ipython",
    "version": 3
   },
   "file_extension": ".py",
   "mimetype": "text/x-python",
   "name": "python",
   "nbconvert_exporter": "python",
   "pygments_lexer": "ipython3",
   "version": "3.7.4"
  }
 },
 "nbformat": 4,
 "nbformat_minor": 4
}
