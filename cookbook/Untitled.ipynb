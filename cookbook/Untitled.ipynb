{
 "cells": [
  {
   "cell_type": "code",
   "execution_count": 1,
   "id": "99f90138-9547-4276-9dec-d1bb3633f045",
   "metadata": {},
   "outputs": [],
   "source": [
    "from flytekit.remote.remote import FlyteRemote\n",
    "from flytekit.configuration import Config\n",
    "from flytekit.core.data_persistence import DataPersistencePlugins\n",
    "import pandas as pd"
   ]
  },
  {
   "cell_type": "code",
   "execution_count": 2,
   "id": "0f58d1d1-76f6-4d1c-b903-a577ccb27d49",
   "metadata": {},
   "outputs": [],
   "source": [
    "rr = FlyteRemote(\n",
    "    Config.auto(config_file=\"/Users/ytong/.flyte/dev-uniondemo.yaml\"),\n",
    "    default_project=\"flytesnacks\",\n",
    "    default_domain=\"development\",\n",
    ")"
   ]
  },
  {
   "cell_type": "code",
   "execution_count": 3,
   "id": "58905dec-9fbf-48a4-b531-615eacd8ffbf",
   "metadata": {},
   "outputs": [],
   "source": [
    "e = rr.fetch_execution(name=\"f9666c275fcc84538963\")"
   ]
  },
  {
   "cell_type": "code",
   "execution_count": 4,
   "id": "78509c8c-0d5a-4658-9a62-09342f87b301",
   "metadata": {},
   "outputs": [
    {
     "data": {
      "text/plain": [
       "id {\n",
       "  project: \"flytesnacks\"\n",
       "  domain: \"development\"\n",
       "  name: \"f9666c275fcc84538963\"\n",
       "}\n",
       "spec {\n",
       "  launch_plan {\n",
       "    resource_type: LAUNCH_PLAN\n",
       "    project: \"flytesnacks\"\n",
       "    domain: \"development\"\n",
       "    name: \"core.sd.basic_wf\"\n",
       "    version: \"Bu0RX-jxj9qlh7yQ78oEEA==\"\n",
       "  }\n",
       "  metadata {\n",
       "    principal: \"00u14vp47zIuyRt3I5d7\"\n",
       "  }\n",
       "  notifications {\n",
       "  }\n",
       "  labels {\n",
       "  }\n",
       "  annotations {\n",
       "  }\n",
       "  auth_role {\n",
       "  }\n",
       "}\n",
       "closure {\n",
       "  outputs {\n",
       "    uri: \"s3://development-service-flyte/metadata/propeller/flytesnacks-development-f9666c275fcc84538963/end-node/data/0/outputs.pb\"\n",
       "  }\n",
       "  phase: SUCCEEDED\n",
       "  started_at {\n",
       "    seconds: 1660786418\n",
       "    nanos: 778453000\n",
       "  }\n",
       "  duration {\n",
       "    seconds: 27\n",
       "    nanos: 629963000\n",
       "  }\n",
       "}"
      ]
     },
     "execution_count": 4,
     "metadata": {},
     "output_type": "execute_result"
    }
   ],
   "source": [
    "rr.sync_execution(e, sync_nodes=True)"
   ]
  },
  {
   "cell_type": "code",
   "execution_count": 5,
   "id": "6db390a8-cf4e-49fb-976d-1833cd47c8a3",
   "metadata": {},
   "outputs": [],
   "source": [
    "literal_sd = e.node_executions[\"n0\"].outputs.literals[\"o0\"]"
   ]
  },
  {
   "cell_type": "code",
   "execution_count": 6,
   "id": "871b38b9-08c9-4c53-96ef-9f1ff00bebef",
   "metadata": {},
   "outputs": [
    {
     "data": {
      "text/plain": [
       "<class 'flytekit.models.literals.Literal'>"
      ]
     },
     "execution_count": 6,
     "metadata": {},
     "output_type": "execute_result"
    }
   ],
   "source": [
    "type(literal_sd)"
   ]
  },
  {
   "cell_type": "code",
   "execution_count": 7,
   "id": "8b163623-aa79-46f1-93a7-00f9848ad158",
   "metadata": {},
   "outputs": [],
   "source": [
    "python_sd = e.node_executions[\"n0\"].outputs[\"o0\"]"
   ]
  },
  {
   "cell_type": "code",
   "execution_count": 8,
   "id": "d4e6aa0c-0224-446c-95f5-5dee3ef91cbe",
   "metadata": {},
   "outputs": [
    {
     "name": "stderr",
     "output_type": "stream",
     "text": [
      "{\"asctime\": \"2022-08-17 21:49:58,445\", \"name\": \"flytekit\", \"levelname\": \"ERROR\", \"message\": \"Error from command '['aws', 's3', 'cp', '--recursive', 's3://development-service-flyte/5t/f9666c275fcc84538963-n0-0/f4a5e225b75c305668cd30da9b5d167b', '/var/folders/bt/5y0vvxc95tx_hpjxf99m_zsr0000gn/T/flyte-un_u0daj/sandbox/local_flytekit/dff2b9dfc1ec4e2c48741eb6eabd6c65']':\\nb'fatal error: An error occurred (ExpiredToken) when calling the ListObjectsV2 operation: The provided token has expired.\\\\n'\\n\"}\n",
      "{\"asctime\": \"2022-08-17 21:49:59,401\", \"name\": \"flytekit\", \"levelname\": \"ERROR\", \"message\": \"Error from command '['aws', '--no-sign-request', 's3', 'cp', '--recursive', 's3://development-service-flyte/5t/f9666c275fcc84538963-n0-0/f4a5e225b75c305668cd30da9b5d167b', '/var/folders/bt/5y0vvxc95tx_hpjxf99m_zsr0000gn/T/flyte-un_u0daj/sandbox/local_flytekit/dff2b9dfc1ec4e2c48741eb6eabd6c65']':\\nb'fatal error: An error occurred (AccessDenied) when calling the ListObjectsV2 operation: Access Denied\\\\n'\\n\"}\n",
      "{\"asctime\": \"2022-08-17 21:49:59,405\", \"name\": \"flytekit\", \"levelname\": \"ERROR\", \"message\": \"Exception when trying to execute ['aws', 's3', 'cp', '--recursive', 's3://development-service-flyte/5t/f9666c275fcc84538963-n0-0/f4a5e225b75c305668cd30da9b5d167b', '/var/folders/bt/5y0vvxc95tx_hpjxf99m_zsr0000gn/T/flyte-un_u0daj/sandbox/local_flytekit/dff2b9dfc1ec4e2c48741eb6eabd6c65'], reason: Called process exited with error code: 1.  Stderr dump:\\n\\nb'fatal error: An error occurred (AccessDenied) when calling the ListObjectsV2 operation: Access Denied\\\\n'\"}\n",
      "{\"asctime\": \"2022-08-17 21:50:05,742\", \"name\": \"flytekit\", \"levelname\": \"ERROR\", \"message\": \"Error from command '['aws', 's3', 'cp', '--recursive', 's3://development-service-flyte/5t/f9666c275fcc84538963-n0-0/f4a5e225b75c305668cd30da9b5d167b', '/var/folders/bt/5y0vvxc95tx_hpjxf99m_zsr0000gn/T/flyte-un_u0daj/sandbox/local_flytekit/dff2b9dfc1ec4e2c48741eb6eabd6c65']':\\nb'fatal error: An error occurred (ExpiredToken) when calling the ListObjectsV2 operation: The provided token has expired.\\\\n'\\n\"}\n",
      "{\"asctime\": \"2022-08-17 21:50:06,746\", \"name\": \"flytekit\", \"levelname\": \"ERROR\", \"message\": \"Error from command '['aws', '--no-sign-request', 's3', 'cp', '--recursive', 's3://development-service-flyte/5t/f9666c275fcc84538963-n0-0/f4a5e225b75c305668cd30da9b5d167b', '/var/folders/bt/5y0vvxc95tx_hpjxf99m_zsr0000gn/T/flyte-un_u0daj/sandbox/local_flytekit/dff2b9dfc1ec4e2c48741eb6eabd6c65']':\\nb'fatal error: An error occurred (AccessDenied) when calling the ListObjectsV2 operation: Access Denied\\\\n'\\n\"}\n",
      "{\"asctime\": \"2022-08-17 21:50:06,749\", \"name\": \"flytekit\", \"levelname\": \"ERROR\", \"message\": \"Exception when trying to execute ['aws', 's3', 'cp', '--recursive', 's3://development-service-flyte/5t/f9666c275fcc84538963-n0-0/f4a5e225b75c305668cd30da9b5d167b', '/var/folders/bt/5y0vvxc95tx_hpjxf99m_zsr0000gn/T/flyte-un_u0daj/sandbox/local_flytekit/dff2b9dfc1ec4e2c48741eb6eabd6c65'], reason: Called process exited with error code: 1.  Stderr dump:\\n\\nb'fatal error: An error occurred (AccessDenied) when calling the ListObjectsV2 operation: Access Denied\\\\n'\"}\n",
      "{\"asctime\": \"2022-08-17 21:50:13,093\", \"name\": \"flytekit\", \"levelname\": \"ERROR\", \"message\": \"Error from command '['aws', 's3', 'cp', '--recursive', 's3://development-service-flyte/5t/f9666c275fcc84538963-n0-0/f4a5e225b75c305668cd30da9b5d167b', '/var/folders/bt/5y0vvxc95tx_hpjxf99m_zsr0000gn/T/flyte-un_u0daj/sandbox/local_flytekit/dff2b9dfc1ec4e2c48741eb6eabd6c65']':\\nb'fatal error: An error occurred (ExpiredToken) when calling the ListObjectsV2 operation: The provided token has expired.\\\\n'\\n\"}\n",
      "{\"asctime\": \"2022-08-17 21:50:14,074\", \"name\": \"flytekit\", \"levelname\": \"ERROR\", \"message\": \"Error from command '['aws', '--no-sign-request', 's3', 'cp', '--recursive', 's3://development-service-flyte/5t/f9666c275fcc84538963-n0-0/f4a5e225b75c305668cd30da9b5d167b', '/var/folders/bt/5y0vvxc95tx_hpjxf99m_zsr0000gn/T/flyte-un_u0daj/sandbox/local_flytekit/dff2b9dfc1ec4e2c48741eb6eabd6c65']':\\nb'fatal error: An error occurred (AccessDenied) when calling the ListObjectsV2 operation: Access Denied\\\\n'\\n\"}\n",
      "{\"asctime\": \"2022-08-17 21:50:14,077\", \"name\": \"flytekit\", \"levelname\": \"ERROR\", \"message\": \"Exception when trying to execute ['aws', 's3', 'cp', '--recursive', 's3://development-service-flyte/5t/f9666c275fcc84538963-n0-0/f4a5e225b75c305668cd30da9b5d167b', '/var/folders/bt/5y0vvxc95tx_hpjxf99m_zsr0000gn/T/flyte-un_u0daj/sandbox/local_flytekit/dff2b9dfc1ec4e2c48741eb6eabd6c65'], reason: Called process exited with error code: 1.  Stderr dump:\\n\\nb'fatal error: An error occurred (AccessDenied) when calling the ListObjectsV2 operation: Access Denied\\\\n'\"}\n",
      "{\"asctime\": \"2022-08-17 21:50:25,438\", \"name\": \"flytekit\", \"levelname\": \"ERROR\", \"message\": \"Error from command '['aws', 's3', 'cp', '--recursive', 's3://development-service-flyte/5t/f9666c275fcc84538963-n0-0/f4a5e225b75c305668cd30da9b5d167b', '/var/folders/bt/5y0vvxc95tx_hpjxf99m_zsr0000gn/T/flyte-un_u0daj/sandbox/local_flytekit/dff2b9dfc1ec4e2c48741eb6eabd6c65']':\\nb'fatal error: An error occurred (ExpiredToken) when calling the ListObjectsV2 operation: The provided token has expired.\\\\n'\\n\"}\n",
      "{\"asctime\": \"2022-08-17 21:50:26,452\", \"name\": \"flytekit\", \"levelname\": \"ERROR\", \"message\": \"Error from command '['aws', '--no-sign-request', 's3', 'cp', '--recursive', 's3://development-service-flyte/5t/f9666c275fcc84538963-n0-0/f4a5e225b75c305668cd30da9b5d167b', '/var/folders/bt/5y0vvxc95tx_hpjxf99m_zsr0000gn/T/flyte-un_u0daj/sandbox/local_flytekit/dff2b9dfc1ec4e2c48741eb6eabd6c65']':\\nb'fatal error: An error occurred (AccessDenied) when calling the ListObjectsV2 operation: Access Denied\\\\n'\\n\"}\n",
      "{\"asctime\": \"2022-08-17 21:50:26,455\", \"name\": \"flytekit\", \"levelname\": \"ERROR\", \"message\": \"Exception when trying to execute ['aws', 's3', 'cp', '--recursive', 's3://development-service-flyte/5t/f9666c275fcc84538963-n0-0/f4a5e225b75c305668cd30da9b5d167b', '/var/folders/bt/5y0vvxc95tx_hpjxf99m_zsr0000gn/T/flyte-un_u0daj/sandbox/local_flytekit/dff2b9dfc1ec4e2c48741eb6eabd6c65'], reason: Called process exited with error code: 1.  Stderr dump:\\n\\nb'fatal error: An error occurred (AccessDenied) when calling the ListObjectsV2 operation: Access Denied\\\\n'\"}\n"
     ]
    },
    {
     "ename": "FlyteAssertion",
     "evalue": "Failed to get data from s3://development-service-flyte/5t/f9666c275fcc84538963-n0-0/f4a5e225b75c305668cd30da9b5d167b to /var/folders/bt/5y0vvxc95tx_hpjxf99m_zsr0000gn/T/flyte-un_u0daj/sandbox/local_flytekit/dff2b9dfc1ec4e2c48741eb6eabd6c65 (recursive=True).\n\nOriginal exception: Called process exited with error code: 1.  Stderr dump:\n\nb'fatal error: An error occurred (AccessDenied) when calling the ListObjectsV2 operation: Access Denied\\n'",
     "output_type": "error",
     "traceback": [
      "\u001b[0;31m---------------------------------------------------------------------------\u001b[0m",
      "\u001b[0;31mException\u001b[0m                                 Traceback (most recent call last)",
      "File \u001b[0;32m~/go/src/github.com/flyteorg/flytekit/flytekit/core/data_persistence.py:431\u001b[0m, in \u001b[0;36mFileAccessProvider.get_data\u001b[0;34m(self, remote_path, local_path, is_multipart)\u001b[0m\n\u001b[1;32m    430\u001b[0m         data_persistence_plugin \u001b[38;5;241m=\u001b[39m DataPersistencePlugins\u001b[38;5;241m.\u001b[39mfind_plugin(remote_path)\n\u001b[0;32m--> 431\u001b[0m         \u001b[43mdata_persistence_plugin\u001b[49m\u001b[43m(\u001b[49m\u001b[43mdata_config\u001b[49m\u001b[38;5;241;43m=\u001b[39;49m\u001b[38;5;28;43mself\u001b[39;49m\u001b[38;5;241;43m.\u001b[39;49m\u001b[43mdata_config\u001b[49m\u001b[43m)\u001b[49m\u001b[38;5;241;43m.\u001b[39;49m\u001b[43mget\u001b[49m\u001b[43m(\u001b[49m\n\u001b[1;32m    432\u001b[0m \u001b[43m            \u001b[49m\u001b[43mremote_path\u001b[49m\u001b[43m,\u001b[49m\u001b[43m \u001b[49m\u001b[43mlocal_path\u001b[49m\u001b[43m,\u001b[49m\u001b[43m \u001b[49m\u001b[43mrecursive\u001b[49m\u001b[38;5;241;43m=\u001b[39;49m\u001b[43mis_multipart\u001b[49m\n\u001b[1;32m    433\u001b[0m \u001b[43m        \u001b[49m\u001b[43m)\u001b[49m\n\u001b[1;32m    434\u001b[0m \u001b[38;5;28;01mexcept\u001b[39;00m \u001b[38;5;167;01mException\u001b[39;00m \u001b[38;5;28;01mas\u001b[39;00m ex:\n",
      "File \u001b[0;32m~/go/src/github.com/flyteorg/flytekit/flytekit/extras/persistence/s3_awscli.py:153\u001b[0m, in \u001b[0;36mS3Persistence.get\u001b[0;34m(self, from_path, to_path, recursive)\u001b[0m\n\u001b[1;32m    152\u001b[0m     cmd \u001b[38;5;241m=\u001b[39m [S3Persistence\u001b[38;5;241m.\u001b[39m_AWS_CLI, \u001b[38;5;124m\"\u001b[39m\u001b[38;5;124ms3\u001b[39m\u001b[38;5;124m\"\u001b[39m, \u001b[38;5;124m\"\u001b[39m\u001b[38;5;124mcp\u001b[39m\u001b[38;5;124m\"\u001b[39m, from_path, to_path]\n\u001b[0;32m--> 153\u001b[0m \u001b[38;5;28;01mreturn\u001b[39;00m \u001b[43m_update_cmd_config_and_execute\u001b[49m\u001b[43m(\u001b[49m\u001b[43mcmd\u001b[49m\u001b[38;5;241;43m=\u001b[39;49m\u001b[43mcmd\u001b[49m\u001b[43m,\u001b[49m\u001b[43m \u001b[49m\u001b[43ms3_cfg\u001b[49m\u001b[38;5;241;43m=\u001b[39;49m\u001b[38;5;28;43mself\u001b[39;49m\u001b[38;5;241;43m.\u001b[39;49m\u001b[43ms3_cfg\u001b[49m\u001b[43m)\u001b[49m\n",
      "File \u001b[0;32m~/go/src/github.com/flyteorg/flytekit/flytekit/extras/persistence/s3_awscli.py:51\u001b[0m, in \u001b[0;36m_update_cmd_config_and_execute\u001b[0;34m(s3_cfg, cmd)\u001b[0m\n\u001b[1;32m     50\u001b[0m     anonymous_cmd\u001b[38;5;241m.\u001b[39minsert(\u001b[38;5;241m1\u001b[39m, S3_ANONYMOUS_FLAG)\n\u001b[0;32m---> 51\u001b[0m     \u001b[38;5;28;01mreturn\u001b[39;00m \u001b[43msubprocess\u001b[49m\u001b[38;5;241;43m.\u001b[39;49m\u001b[43mcheck_call\u001b[49m\u001b[43m(\u001b[49m\u001b[43manonymous_cmd\u001b[49m\u001b[43m,\u001b[49m\u001b[43m \u001b[49m\u001b[43menv\u001b[49m\u001b[38;5;241;43m=\u001b[39;49m\u001b[43menv\u001b[49m\u001b[43m)\u001b[49m\n\u001b[1;32m     53\u001b[0m \u001b[38;5;28;01mexcept\u001b[39;00m \u001b[38;5;167;01mException\u001b[39;00m \u001b[38;5;28;01mas\u001b[39;00m e:\n",
      "File \u001b[0;32m~/go/src/github.com/flyteorg/flytekit/flytekit/tools/subprocess.py:26\u001b[0m, in \u001b[0;36mcheck_call\u001b[0;34m(cmd_args, **kwargs)\u001b[0m\n\u001b[1;32m     24\u001b[0m             logger\u001b[38;5;241m.\u001b[39merror(\u001b[38;5;124m\"\u001b[39m\u001b[38;5;124mError from command \u001b[39m\u001b[38;5;124m'\u001b[39m\u001b[38;5;132;01m{}\u001b[39;00m\u001b[38;5;124m'\u001b[39m\u001b[38;5;124m:\u001b[39m\u001b[38;5;130;01m\\n\u001b[39;00m\u001b[38;5;132;01m{}\u001b[39;00m\u001b[38;5;130;01m\\n\u001b[39;00m\u001b[38;5;124m\"\u001b[39m\u001b[38;5;241m.\u001b[39mformat(cmd_args, err_str))\n\u001b[0;32m---> 26\u001b[0m             \u001b[38;5;28;01mraise\u001b[39;00m \u001b[38;5;167;01mException\u001b[39;00m(\n\u001b[1;32m     27\u001b[0m                 \u001b[38;5;124m\"\u001b[39m\u001b[38;5;124mCalled process exited with error code: \u001b[39m\u001b[38;5;132;01m{}\u001b[39;00m\u001b[38;5;124m.  Stderr dump:\u001b[39m\u001b[38;5;130;01m\\n\u001b[39;00m\u001b[38;5;130;01m\\n\u001b[39;00m\u001b[38;5;132;01m{}\u001b[39;00m\u001b[38;5;124m\"\u001b[39m\u001b[38;5;241m.\u001b[39mformat(ret_code, err_str)\n\u001b[1;32m     28\u001b[0m             )\n\u001b[1;32m     30\u001b[0m \u001b[38;5;28;01mreturn\u001b[39;00m \u001b[38;5;241m0\u001b[39m\n",
      "\u001b[0;31mException\u001b[0m: Called process exited with error code: 1.  Stderr dump:\n\nb'fatal error: An error occurred (AccessDenied) when calling the ListObjectsV2 operation: Access Denied\\n'",
      "\nDuring handling of the above exception, another exception occurred:\n",
      "\u001b[0;31mFlyteAssertion\u001b[0m                            Traceback (most recent call last)",
      "Input \u001b[0;32mIn [8]\u001b[0m, in \u001b[0;36m<cell line: 1>\u001b[0;34m()\u001b[0m\n\u001b[0;32m----> 1\u001b[0m df \u001b[38;5;241m=\u001b[39m \u001b[43mpython_sd\u001b[49m\u001b[38;5;241;43m.\u001b[39;49m\u001b[43mopen\u001b[49m\u001b[43m(\u001b[49m\u001b[43mpd\u001b[49m\u001b[38;5;241;43m.\u001b[39;49m\u001b[43mDataFrame\u001b[49m\u001b[43m)\u001b[49m\u001b[38;5;241;43m.\u001b[39;49m\u001b[43mall\u001b[49m\u001b[43m(\u001b[49m\u001b[43m)\u001b[49m\n",
      "File \u001b[0;32m~/go/src/github.com/flyteorg/flytekit/flytekit/types/structured/structured_dataset.py:106\u001b[0m, in \u001b[0;36mStructuredDataset.all\u001b[0;34m(self)\u001b[0m\n\u001b[1;32m    104\u001b[0m     \u001b[38;5;28;01mraise\u001b[39;00m \u001b[38;5;167;01mValueError\u001b[39;00m(\u001b[38;5;124m\"\u001b[39m\u001b[38;5;124mNo dataframe type set. Use open() to set the local dataframe type you want to use.\u001b[39m\u001b[38;5;124m\"\u001b[39m)\n\u001b[1;32m    105\u001b[0m ctx \u001b[38;5;241m=\u001b[39m FlyteContextManager\u001b[38;5;241m.\u001b[39mcurrent_context()\n\u001b[0;32m--> 106\u001b[0m \u001b[38;5;28;01mreturn\u001b[39;00m \u001b[43mflyte_dataset_transformer\u001b[49m\u001b[38;5;241;43m.\u001b[39;49m\u001b[43mopen_as\u001b[49m\u001b[43m(\u001b[49m\u001b[43mctx\u001b[49m\u001b[43m,\u001b[49m\u001b[43m \u001b[49m\u001b[38;5;28;43mself\u001b[39;49m\u001b[38;5;241;43m.\u001b[39;49m\u001b[43mliteral\u001b[49m\u001b[43m,\u001b[49m\u001b[43m \u001b[49m\u001b[38;5;28;43mself\u001b[39;49m\u001b[38;5;241;43m.\u001b[39;49m\u001b[43m_dataframe_type\u001b[49m\u001b[43m,\u001b[49m\u001b[43m \u001b[49m\u001b[38;5;28;43mself\u001b[39;49m\u001b[38;5;241;43m.\u001b[39;49m\u001b[43mmetadata\u001b[49m\u001b[43m)\u001b[49m\n",
      "File \u001b[0;32m~/go/src/github.com/flyteorg/flytekit/flytekit/types/structured/structured_dataset.py:733\u001b[0m, in \u001b[0;36mStructuredDatasetTransformerEngine.open_as\u001b[0;34m(self, ctx, sd, df_type, updated_metadata)\u001b[0m\n\u001b[1;32m    731\u001b[0m protocol \u001b[38;5;241m=\u001b[39m protocol_prefix(sd\u001b[38;5;241m.\u001b[39muri)\n\u001b[1;32m    732\u001b[0m decoder \u001b[38;5;241m=\u001b[39m \u001b[38;5;28mself\u001b[39m\u001b[38;5;241m.\u001b[39mget_decoder(df_type, protocol, sd\u001b[38;5;241m.\u001b[39mmetadata\u001b[38;5;241m.\u001b[39mstructured_dataset_type\u001b[38;5;241m.\u001b[39mformat)\n\u001b[0;32m--> 733\u001b[0m result \u001b[38;5;241m=\u001b[39m \u001b[43mdecoder\u001b[49m\u001b[38;5;241;43m.\u001b[39;49m\u001b[43mdecode\u001b[49m\u001b[43m(\u001b[49m\u001b[43mctx\u001b[49m\u001b[43m,\u001b[49m\u001b[43m \u001b[49m\u001b[43msd\u001b[49m\u001b[43m,\u001b[49m\u001b[43m \u001b[49m\u001b[43mupdated_metadata\u001b[49m\u001b[43m)\u001b[49m\n\u001b[1;32m    734\u001b[0m \u001b[38;5;28;01mif\u001b[39;00m \u001b[38;5;28misinstance\u001b[39m(result, types\u001b[38;5;241m.\u001b[39mGeneratorType):\n\u001b[1;32m    735\u001b[0m     \u001b[38;5;28;01mraise\u001b[39;00m \u001b[38;5;167;01mValueError\u001b[39;00m(\u001b[38;5;124mf\u001b[39m\u001b[38;5;124m\"\u001b[39m\u001b[38;5;124mDecoder \u001b[39m\u001b[38;5;132;01m{\u001b[39;00mdecoder\u001b[38;5;132;01m}\u001b[39;00m\u001b[38;5;124m returned iterator \u001b[39m\u001b[38;5;132;01m{\u001b[39;00mresult\u001b[38;5;132;01m}\u001b[39;00m\u001b[38;5;124m but whole value requested from \u001b[39m\u001b[38;5;132;01m{\u001b[39;00msd\u001b[38;5;132;01m}\u001b[39;00m\u001b[38;5;124m\"\u001b[39m)\n",
      "File \u001b[0;32m~/go/src/github.com/flyteorg/flytekit/flytekit/types/structured/basic_dfs.py:57\u001b[0m, in \u001b[0;36mParquetToPandasDecodingHandler.decode\u001b[0;34m(self, ctx, flyte_value, current_task_metadata)\u001b[0m\n\u001b[1;32m     55\u001b[0m path \u001b[38;5;241m=\u001b[39m flyte_value\u001b[38;5;241m.\u001b[39muri\n\u001b[1;32m     56\u001b[0m local_dir \u001b[38;5;241m=\u001b[39m ctx\u001b[38;5;241m.\u001b[39mfile_access\u001b[38;5;241m.\u001b[39mget_random_local_directory()\n\u001b[0;32m---> 57\u001b[0m \u001b[43mctx\u001b[49m\u001b[38;5;241;43m.\u001b[39;49m\u001b[43mfile_access\u001b[49m\u001b[38;5;241;43m.\u001b[39;49m\u001b[43mget_data\u001b[49m\u001b[43m(\u001b[49m\u001b[43mpath\u001b[49m\u001b[43m,\u001b[49m\u001b[43m \u001b[49m\u001b[43mlocal_dir\u001b[49m\u001b[43m,\u001b[49m\u001b[43m \u001b[49m\u001b[43mis_multipart\u001b[49m\u001b[38;5;241;43m=\u001b[39;49m\u001b[38;5;28;43;01mTrue\u001b[39;49;00m\u001b[43m)\u001b[49m\n\u001b[1;32m     58\u001b[0m \u001b[38;5;28;01mif\u001b[39;00m current_task_metadata\u001b[38;5;241m.\u001b[39mstructured_dataset_type \u001b[38;5;129;01mand\u001b[39;00m current_task_metadata\u001b[38;5;241m.\u001b[39mstructured_dataset_type\u001b[38;5;241m.\u001b[39mcolumns:\n\u001b[1;32m     59\u001b[0m     columns \u001b[38;5;241m=\u001b[39m [c\u001b[38;5;241m.\u001b[39mname \u001b[38;5;28;01mfor\u001b[39;00m c \u001b[38;5;129;01min\u001b[39;00m current_task_metadata\u001b[38;5;241m.\u001b[39mstructured_dataset_type\u001b[38;5;241m.\u001b[39mcolumns]\n",
      "File \u001b[0;32m~/go/src/github.com/flyteorg/flytekit/flytekit/core/data_persistence.py:435\u001b[0m, in \u001b[0;36mFileAccessProvider.get_data\u001b[0;34m(self, remote_path, local_path, is_multipart)\u001b[0m\n\u001b[1;32m    431\u001b[0m         data_persistence_plugin(data_config\u001b[38;5;241m=\u001b[39m\u001b[38;5;28mself\u001b[39m\u001b[38;5;241m.\u001b[39mdata_config)\u001b[38;5;241m.\u001b[39mget(\n\u001b[1;32m    432\u001b[0m             remote_path, local_path, recursive\u001b[38;5;241m=\u001b[39mis_multipart\n\u001b[1;32m    433\u001b[0m         )\n\u001b[1;32m    434\u001b[0m \u001b[38;5;28;01mexcept\u001b[39;00m \u001b[38;5;167;01mException\u001b[39;00m \u001b[38;5;28;01mas\u001b[39;00m ex:\n\u001b[0;32m--> 435\u001b[0m     \u001b[38;5;28;01mraise\u001b[39;00m FlyteAssertion(\n\u001b[1;32m    436\u001b[0m         \u001b[38;5;124mf\u001b[39m\u001b[38;5;124m\"\u001b[39m\u001b[38;5;124mFailed to get data from \u001b[39m\u001b[38;5;132;01m{\u001b[39;00mremote_path\u001b[38;5;132;01m}\u001b[39;00m\u001b[38;5;124m to \u001b[39m\u001b[38;5;132;01m{\u001b[39;00mlocal_path\u001b[38;5;132;01m}\u001b[39;00m\u001b[38;5;124m (recursive=\u001b[39m\u001b[38;5;132;01m{\u001b[39;00mis_multipart\u001b[38;5;132;01m}\u001b[39;00m\u001b[38;5;124m).\u001b[39m\u001b[38;5;130;01m\\n\u001b[39;00m\u001b[38;5;130;01m\\n\u001b[39;00m\u001b[38;5;124m\"\u001b[39m\n\u001b[1;32m    437\u001b[0m         \u001b[38;5;124mf\u001b[39m\u001b[38;5;124m\"\u001b[39m\u001b[38;5;124mOriginal exception: \u001b[39m\u001b[38;5;132;01m{\u001b[39;00m\u001b[38;5;28mstr\u001b[39m(ex)\u001b[38;5;132;01m}\u001b[39;00m\u001b[38;5;124m\"\u001b[39m\n\u001b[1;32m    438\u001b[0m     )\n",
      "\u001b[0;31mFlyteAssertion\u001b[0m: Failed to get data from s3://development-service-flyte/5t/f9666c275fcc84538963-n0-0/f4a5e225b75c305668cd30da9b5d167b to /var/folders/bt/5y0vvxc95tx_hpjxf99m_zsr0000gn/T/flyte-un_u0daj/sandbox/local_flytekit/dff2b9dfc1ec4e2c48741eb6eabd6c65 (recursive=True).\n\nOriginal exception: Called process exited with error code: 1.  Stderr dump:\n\nb'fatal error: An error occurred (AccessDenied) when calling the ListObjectsV2 operation: Access Denied\\n'"
     ]
    }
   ],
   "source": [
    "df = python_sd.open(pd.DataFrame).all()"
   ]
  },
  {
   "cell_type": "code",
   "execution_count": 7,
   "id": "8dfccae3-5235-4988-82c8-d91b3af9eaf1",
   "metadata": {},
   "outputs": [],
   "source": []
  },
  {
   "cell_type": "code",
   "execution_count": 10,
   "id": "63e6e1cc-eaf4-4c18-a325-79b2a737ab02",
   "metadata": {},
   "outputs": [
    {
     "ename": "AttributeError",
     "evalue": "'StructuredDataset' object has no attribute '_remote_reference'",
     "output_type": "error",
     "traceback": [
      "\u001b[0;31m---------------------------------------------------------------------------\u001b[0m",
      "\u001b[0;31mAttributeError\u001b[0m                            Traceback (most recent call last)",
      "Input \u001b[0;32mIn [10]\u001b[0m, in \u001b[0;36m<cell line: 1>\u001b[0;34m()\u001b[0m\n\u001b[0;32m----> 1\u001b[0m \u001b[38;5;28mprint\u001b[39m(\u001b[43mpython_sd\u001b[49m\u001b[38;5;241;43m.\u001b[39;49m\u001b[43m_remote_reference\u001b[49m)\n",
      "\u001b[0;31mAttributeError\u001b[0m: 'StructuredDataset' object has no attribute '_remote_reference'"
     ]
    }
   ],
   "source": [
    "print(python_sd._remote_reference)"
   ]
  },
  {
   "cell_type": "code",
   "execution_count": 4,
   "id": "01ab3243-111e-4f6f-8c8f-6e45e9ade61c",
   "metadata": {},
   "outputs": [],
   "source": [
    "dpp = DataPersistencePlugins()"
   ]
  },
  {
   "cell_type": "code",
   "execution_count": 18,
   "id": "231f2028-6d0c-446d-a06e-3a11cfd02897",
   "metadata": {},
   "outputs": [
    {
     "data": {
      "text/plain": [
       "'s3'"
      ]
     },
     "execution_count": 18,
     "metadata": {},
     "output_type": "execute_result"
    }
   ],
   "source": [
    "dpp.get_protocol(literal_sd.scalar.structured_dataset.uri)"
   ]
  },
  {
   "cell_type": "code",
   "execution_count": 5,
   "id": "1cf766b6-602e-486f-b360-3ea611115a36",
   "metadata": {},
   "outputs": [
    {
     "data": {
      "text/plain": [
       "'/'"
      ]
     },
     "execution_count": 5,
     "metadata": {},
     "output_type": "execute_result"
    }
   ],
   "source": [
    "dpp.get_protocol(\"/\")"
   ]
  },
  {
   "cell_type": "code",
   "execution_count": 9,
   "id": "8c5761a7-6a07-4846-a06e-6beeb52cfa55",
   "metadata": {},
   "outputs": [],
   "source": [
    "f_print_wf = rr.fetch_workflow(name=\"core.sd.print_wf\")"
   ]
  },
  {
   "cell_type": "code",
   "execution_count": 13,
   "id": "bde8cc31-bb90-4442-9cba-1e7b8f9ee802",
   "metadata": {},
   "outputs": [
    {
     "data": {
      "text/plain": [
       "id {\n",
       "  project: \"flytesnacks\"\n",
       "  domain: \"development\"\n",
       "  name: \"fd64962a0e642456694a\"\n",
       "}\n",
       "spec {\n",
       "  launch_plan {\n",
       "    resource_type: LAUNCH_PLAN\n",
       "    project: \"flytesnacks\"\n",
       "    domain: \"development\"\n",
       "    name: \"core.sd.print_wf\"\n",
       "    version: \"B_mFA8SMi7zkaRewAX68zw==\"\n",
       "  }\n",
       "  metadata {\n",
       "    principal: \"00u14vp47zIuyRt3I5d7\"\n",
       "  }\n",
       "  notifications {\n",
       "  }\n",
       "  labels {\n",
       "  }\n",
       "  annotations {\n",
       "  }\n",
       "  auth_role {\n",
       "  }\n",
       "}\n",
       "closure {\n",
       "  started_at {\n",
       "  }\n",
       "  duration {\n",
       "  }\n",
       "}"
      ]
     },
     "execution_count": 13,
     "metadata": {},
     "output_type": "execute_result"
    }
   ],
   "source": [
    "rr.execute(f_print_wf, inputs={\"df\": literal_sd})"
   ]
  },
  {
   "cell_type": "code",
   "execution_count": 14,
   "id": "13b4570d-5201-43b6-b371-9aa30a2edc2f",
   "metadata": {},
   "outputs": [],
   "source": [
    "my_local_df = pd.DataFrame({\"name\": [\"Tom\", \"Joseph\"], \"age\": [21, 23]})"
   ]
  },
  {
   "cell_type": "code",
   "execution_count": 15,
   "id": "33e96415-af0a-4096-9452-fd3ed7447670",
   "metadata": {},
   "outputs": [
    {
     "ename": "ValueError",
     "evalue": "Failed to find a handler for <class 'flytekit.types.structured.structured_dataset.StructuredDataset'>, protocol s3, fmt parquet",
     "output_type": "error",
     "traceback": [
      "\u001b[0;31m---------------------------------------------------------------------------\u001b[0m",
      "\u001b[0;31mValueError\u001b[0m                                Traceback (most recent call last)",
      "Input \u001b[0;32mIn [15]\u001b[0m, in \u001b[0;36m<cell line: 1>\u001b[0;34m()\u001b[0m\n\u001b[0;32m----> 1\u001b[0m \u001b[43mrr\u001b[49m\u001b[38;5;241;43m.\u001b[39;49m\u001b[43mexecute\u001b[49m\u001b[43m(\u001b[49m\u001b[43mf_print_wf\u001b[49m\u001b[43m,\u001b[49m\u001b[43m \u001b[49m\u001b[43minputs\u001b[49m\u001b[38;5;241;43m=\u001b[39;49m\u001b[43m{\u001b[49m\u001b[38;5;124;43m\"\u001b[39;49m\u001b[38;5;124;43mdf\u001b[39;49m\u001b[38;5;124;43m\"\u001b[39;49m\u001b[43m:\u001b[49m\u001b[43m \u001b[49m\u001b[43mmy_local_df\u001b[49m\u001b[43m}\u001b[49m\u001b[43m)\u001b[49m\n",
      "File \u001b[0;32m~/go/src/github.com/flyteorg/flytekit/flytekit/remote/remote.py:853\u001b[0m, in \u001b[0;36mFlyteRemote.execute\u001b[0;34m(self, entity, inputs, project, domain, name, version, execution_name, image_config, options, wait, type_hints)\u001b[0m\n\u001b[1;32m    842\u001b[0m     \u001b[38;5;28;01mreturn\u001b[39;00m \u001b[38;5;28mself\u001b[39m\u001b[38;5;241m.\u001b[39mexecute_remote_task_lp(\n\u001b[1;32m    843\u001b[0m         entity\u001b[38;5;241m=\u001b[39mentity,\n\u001b[1;32m    844\u001b[0m         inputs\u001b[38;5;241m=\u001b[39minputs,\n\u001b[0;32m   (...)\u001b[0m\n\u001b[1;32m    850\u001b[0m         type_hints\u001b[38;5;241m=\u001b[39mtype_hints,\n\u001b[1;32m    851\u001b[0m     )\n\u001b[1;32m    852\u001b[0m \u001b[38;5;28;01mif\u001b[39;00m \u001b[38;5;28misinstance\u001b[39m(entity, FlyteWorkflow):\n\u001b[0;32m--> 853\u001b[0m     \u001b[38;5;28;01mreturn\u001b[39;00m \u001b[38;5;28;43mself\u001b[39;49m\u001b[38;5;241;43m.\u001b[39;49m\u001b[43mexecute_remote_wf\u001b[49m\u001b[43m(\u001b[49m\n\u001b[1;32m    854\u001b[0m \u001b[43m        \u001b[49m\u001b[43mentity\u001b[49m\u001b[38;5;241;43m=\u001b[39;49m\u001b[43mentity\u001b[49m\u001b[43m,\u001b[49m\n\u001b[1;32m    855\u001b[0m \u001b[43m        \u001b[49m\u001b[43minputs\u001b[49m\u001b[38;5;241;43m=\u001b[39;49m\u001b[43minputs\u001b[49m\u001b[43m,\u001b[49m\n\u001b[1;32m    856\u001b[0m \u001b[43m        \u001b[49m\u001b[43mproject\u001b[49m\u001b[38;5;241;43m=\u001b[39;49m\u001b[43mproject\u001b[49m\u001b[43m,\u001b[49m\n\u001b[1;32m    857\u001b[0m \u001b[43m        \u001b[49m\u001b[43mdomain\u001b[49m\u001b[38;5;241;43m=\u001b[39;49m\u001b[43mdomain\u001b[49m\u001b[43m,\u001b[49m\n\u001b[1;32m    858\u001b[0m \u001b[43m        \u001b[49m\u001b[43mexecution_name\u001b[49m\u001b[38;5;241;43m=\u001b[39;49m\u001b[43mexecution_name\u001b[49m\u001b[43m,\u001b[49m\n\u001b[1;32m    859\u001b[0m \u001b[43m        \u001b[49m\u001b[43moptions\u001b[49m\u001b[38;5;241;43m=\u001b[39;49m\u001b[43moptions\u001b[49m\u001b[43m,\u001b[49m\n\u001b[1;32m    860\u001b[0m \u001b[43m        \u001b[49m\u001b[43mwait\u001b[49m\u001b[38;5;241;43m=\u001b[39;49m\u001b[43mwait\u001b[49m\u001b[43m,\u001b[49m\n\u001b[1;32m    861\u001b[0m \u001b[43m        \u001b[49m\u001b[43mtype_hints\u001b[49m\u001b[38;5;241;43m=\u001b[39;49m\u001b[43mtype_hints\u001b[49m\u001b[43m,\u001b[49m\n\u001b[1;32m    862\u001b[0m \u001b[43m    \u001b[49m\u001b[43m)\u001b[49m\n\u001b[1;32m    863\u001b[0m \u001b[38;5;28;01mif\u001b[39;00m \u001b[38;5;28misinstance\u001b[39m(entity, PythonTask):\n\u001b[1;32m    864\u001b[0m     \u001b[38;5;28;01mreturn\u001b[39;00m \u001b[38;5;28mself\u001b[39m\u001b[38;5;241m.\u001b[39mexecute_local_task(\n\u001b[1;32m    865\u001b[0m         entity\u001b[38;5;241m=\u001b[39mentity,\n\u001b[1;32m    866\u001b[0m         inputs\u001b[38;5;241m=\u001b[39minputs,\n\u001b[0;32m   (...)\u001b[0m\n\u001b[1;32m    873\u001b[0m         wait\u001b[38;5;241m=\u001b[39mwait,\n\u001b[1;32m    874\u001b[0m     )\n",
      "File \u001b[0;32m~/go/src/github.com/flyteorg/flytekit/flytekit/remote/remote.py:946\u001b[0m, in \u001b[0;36mFlyteRemote.execute_remote_wf\u001b[0;34m(self, entity, inputs, project, domain, execution_name, options, wait, type_hints)\u001b[0m\n\u001b[1;32m    941\u001b[0m \u001b[38;5;124;03m\"\"\"Execute a FlyteWorkflow.\u001b[39;00m\n\u001b[1;32m    942\u001b[0m \n\u001b[1;32m    943\u001b[0m \u001b[38;5;124;03mNOTE: the name and version arguments are currently not used and only there consistency in the function signature\u001b[39;00m\n\u001b[1;32m    944\u001b[0m \u001b[38;5;124;03m\"\"\"\u001b[39;00m\n\u001b[1;32m    945\u001b[0m launch_plan \u001b[38;5;241m=\u001b[39m \u001b[38;5;28mself\u001b[39m\u001b[38;5;241m.\u001b[39mfetch_launch_plan(entity\u001b[38;5;241m.\u001b[39mid\u001b[38;5;241m.\u001b[39mproject, entity\u001b[38;5;241m.\u001b[39mid\u001b[38;5;241m.\u001b[39mdomain, entity\u001b[38;5;241m.\u001b[39mid\u001b[38;5;241m.\u001b[39mname, entity\u001b[38;5;241m.\u001b[39mid\u001b[38;5;241m.\u001b[39mversion)\n\u001b[0;32m--> 946\u001b[0m \u001b[38;5;28;01mreturn\u001b[39;00m \u001b[38;5;28;43mself\u001b[39;49m\u001b[38;5;241;43m.\u001b[39;49m\u001b[43mexecute_remote_task_lp\u001b[49m\u001b[43m(\u001b[49m\n\u001b[1;32m    947\u001b[0m \u001b[43m    \u001b[49m\u001b[43mlaunch_plan\u001b[49m\u001b[43m,\u001b[49m\n\u001b[1;32m    948\u001b[0m \u001b[43m    \u001b[49m\u001b[43minputs\u001b[49m\u001b[43m,\u001b[49m\n\u001b[1;32m    949\u001b[0m \u001b[43m    \u001b[49m\u001b[43mproject\u001b[49m\u001b[38;5;241;43m=\u001b[39;49m\u001b[43mproject\u001b[49m\u001b[43m,\u001b[49m\n\u001b[1;32m    950\u001b[0m \u001b[43m    \u001b[49m\u001b[43mdomain\u001b[49m\u001b[38;5;241;43m=\u001b[39;49m\u001b[43mdomain\u001b[49m\u001b[43m,\u001b[49m\n\u001b[1;32m    951\u001b[0m \u001b[43m    \u001b[49m\u001b[43mexecution_name\u001b[49m\u001b[38;5;241;43m=\u001b[39;49m\u001b[43mexecution_name\u001b[49m\u001b[43m,\u001b[49m\n\u001b[1;32m    952\u001b[0m \u001b[43m    \u001b[49m\u001b[43moptions\u001b[49m\u001b[38;5;241;43m=\u001b[39;49m\u001b[43moptions\u001b[49m\u001b[43m,\u001b[49m\n\u001b[1;32m    953\u001b[0m \u001b[43m    \u001b[49m\u001b[43mwait\u001b[49m\u001b[38;5;241;43m=\u001b[39;49m\u001b[43mwait\u001b[49m\u001b[43m,\u001b[49m\n\u001b[1;32m    954\u001b[0m \u001b[43m    \u001b[49m\u001b[43mtype_hints\u001b[49m\u001b[38;5;241;43m=\u001b[39;49m\u001b[43mtype_hints\u001b[49m\u001b[43m,\u001b[49m\n\u001b[1;32m    955\u001b[0m \u001b[43m\u001b[49m\u001b[43m)\u001b[49m\n",
      "File \u001b[0;32m~/go/src/github.com/flyteorg/flytekit/flytekit/remote/remote.py:919\u001b[0m, in \u001b[0;36mFlyteRemote.execute_remote_task_lp\u001b[0;34m(self, entity, inputs, project, domain, execution_name, options, wait, type_hints)\u001b[0m\n\u001b[1;32m    904\u001b[0m \u001b[38;5;28;01mdef\u001b[39;00m \u001b[38;5;21mexecute_remote_task_lp\u001b[39m(\n\u001b[1;32m    905\u001b[0m     \u001b[38;5;28mself\u001b[39m,\n\u001b[1;32m    906\u001b[0m     entity: typing\u001b[38;5;241m.\u001b[39mUnion[FlyteTask, FlyteLaunchPlan],\n\u001b[0;32m   (...)\u001b[0m\n\u001b[1;32m    913\u001b[0m     type_hints: typing\u001b[38;5;241m.\u001b[39mOptional[typing\u001b[38;5;241m.\u001b[39mDict[\u001b[38;5;28mstr\u001b[39m, typing\u001b[38;5;241m.\u001b[39mType]] \u001b[38;5;241m=\u001b[39m \u001b[38;5;28;01mNone\u001b[39;00m,\n\u001b[1;32m    914\u001b[0m ) \u001b[38;5;241m-\u001b[39m\u001b[38;5;241m>\u001b[39m FlyteWorkflowExecution:\n\u001b[1;32m    915\u001b[0m     \u001b[38;5;124;03m\"\"\"Execute a FlyteTask, or FlyteLaunchplan.\u001b[39;00m\n\u001b[1;32m    916\u001b[0m \n\u001b[1;32m    917\u001b[0m \u001b[38;5;124;03m    NOTE: the name and version arguments are currently not used and only there consistency in the function signature\u001b[39;00m\n\u001b[1;32m    918\u001b[0m \u001b[38;5;124;03m    \"\"\"\u001b[39;00m\n\u001b[0;32m--> 919\u001b[0m     \u001b[38;5;28;01mreturn\u001b[39;00m \u001b[38;5;28;43mself\u001b[39;49m\u001b[38;5;241;43m.\u001b[39;49m\u001b[43m_execute\u001b[49m\u001b[43m(\u001b[49m\n\u001b[1;32m    920\u001b[0m \u001b[43m        \u001b[49m\u001b[43mentity\u001b[49m\u001b[43m,\u001b[49m\n\u001b[1;32m    921\u001b[0m \u001b[43m        \u001b[49m\u001b[43minputs\u001b[49m\u001b[43m,\u001b[49m\n\u001b[1;32m    922\u001b[0m \u001b[43m        \u001b[49m\u001b[43mproject\u001b[49m\u001b[38;5;241;43m=\u001b[39;49m\u001b[43mproject\u001b[49m\u001b[43m,\u001b[49m\n\u001b[1;32m    923\u001b[0m \u001b[43m        \u001b[49m\u001b[43mdomain\u001b[49m\u001b[38;5;241;43m=\u001b[39;49m\u001b[43mdomain\u001b[49m\u001b[43m,\u001b[49m\n\u001b[1;32m    924\u001b[0m \u001b[43m        \u001b[49m\u001b[43mexecution_name\u001b[49m\u001b[38;5;241;43m=\u001b[39;49m\u001b[43mexecution_name\u001b[49m\u001b[43m,\u001b[49m\n\u001b[1;32m    925\u001b[0m \u001b[43m        \u001b[49m\u001b[43mwait\u001b[49m\u001b[38;5;241;43m=\u001b[39;49m\u001b[43mwait\u001b[49m\u001b[43m,\u001b[49m\n\u001b[1;32m    926\u001b[0m \u001b[43m        \u001b[49m\u001b[43moptions\u001b[49m\u001b[38;5;241;43m=\u001b[39;49m\u001b[43moptions\u001b[49m\u001b[43m,\u001b[49m\n\u001b[1;32m    927\u001b[0m \u001b[43m        \u001b[49m\u001b[43mtype_hints\u001b[49m\u001b[38;5;241;43m=\u001b[39;49m\u001b[43mtype_hints\u001b[49m\u001b[43m,\u001b[49m\n\u001b[1;32m    928\u001b[0m \u001b[43m    \u001b[49m\u001b[43m)\u001b[49m\n",
      "File \u001b[0;32m~/go/src/github.com/flyteorg/flytekit/flytekit/remote/remote.py:715\u001b[0m, in \u001b[0;36mFlyteRemote._execute\u001b[0;34m(self, entity, inputs, project, domain, execution_name, options, wait, type_hints)\u001b[0m\n\u001b[1;32m    713\u001b[0m         variable \u001b[38;5;241m=\u001b[39m entity\u001b[38;5;241m.\u001b[39minterface\u001b[38;5;241m.\u001b[39minputs\u001b[38;5;241m.\u001b[39mget(k)\n\u001b[1;32m    714\u001b[0m         hint \u001b[38;5;241m=\u001b[39m type_hints[k]\n\u001b[0;32m--> 715\u001b[0m         lit \u001b[38;5;241m=\u001b[39m \u001b[43mTypeEngine\u001b[49m\u001b[38;5;241;43m.\u001b[39;49m\u001b[43mto_literal\u001b[49m\u001b[43m(\u001b[49m\u001b[43mctx\u001b[49m\u001b[43m,\u001b[49m\u001b[43m \u001b[49m\u001b[43mv\u001b[49m\u001b[43m,\u001b[49m\u001b[43m \u001b[49m\u001b[43mhint\u001b[49m\u001b[43m,\u001b[49m\u001b[43m \u001b[49m\u001b[43mvariable\u001b[49m\u001b[38;5;241;43m.\u001b[39;49m\u001b[43mtype\u001b[49m\u001b[43m)\u001b[49m\n\u001b[1;32m    716\u001b[0m     literal_map[k] \u001b[38;5;241m=\u001b[39m lit\n\u001b[1;32m    718\u001b[0m literal_inputs \u001b[38;5;241m=\u001b[39m literal_models\u001b[38;5;241m.\u001b[39mLiteralMap(literals\u001b[38;5;241m=\u001b[39mliteral_map)\n",
      "File \u001b[0;32m~/go/src/github.com/flyteorg/flytekit/flytekit/core/type_engine.py:708\u001b[0m, in \u001b[0;36mTypeEngine.to_literal\u001b[0;34m(cls, ctx, python_val, python_type, expected)\u001b[0m\n\u001b[1;32m    705\u001b[0m         \u001b[38;5;28mhash\u001b[39m \u001b[38;5;241m=\u001b[39m annotation\u001b[38;5;241m.\u001b[39mcalculate(python_val)\n\u001b[1;32m    706\u001b[0m         \u001b[38;5;28;01mbreak\u001b[39;00m\n\u001b[0;32m--> 708\u001b[0m lv \u001b[38;5;241m=\u001b[39m \u001b[43mtransformer\u001b[49m\u001b[38;5;241;43m.\u001b[39;49m\u001b[43mto_literal\u001b[49m\u001b[43m(\u001b[49m\u001b[43mctx\u001b[49m\u001b[43m,\u001b[49m\u001b[43m \u001b[49m\u001b[43mpython_val\u001b[49m\u001b[43m,\u001b[49m\u001b[43m \u001b[49m\u001b[43mpython_type\u001b[49m\u001b[43m,\u001b[49m\u001b[43m \u001b[49m\u001b[43mexpected\u001b[49m\u001b[43m)\u001b[49m\n\u001b[1;32m    710\u001b[0m \u001b[38;5;28;01mif\u001b[39;00m \u001b[38;5;28mhash\u001b[39m \u001b[38;5;129;01mis\u001b[39;00m \u001b[38;5;129;01mnot\u001b[39;00m \u001b[38;5;28;01mNone\u001b[39;00m:\n\u001b[1;32m    711\u001b[0m     lv\u001b[38;5;241m.\u001b[39mhash \u001b[38;5;241m=\u001b[39m \u001b[38;5;28mhash\u001b[39m\n",
      "File \u001b[0;32m~/go/src/github.com/flyteorg/flytekit/flytekit/types/structured/structured_dataset.py:538\u001b[0m, in \u001b[0;36mStructuredDatasetTransformerEngine.to_literal\u001b[0;34m(self, ctx, python_val, python_type, expected)\u001b[0m\n\u001b[1;32m    535\u001b[0m meta \u001b[38;5;241m=\u001b[39m StructuredDatasetMetadata(structured_dataset_type\u001b[38;5;241m=\u001b[39mexpected\u001b[38;5;241m.\u001b[39mstructured_dataset_type \u001b[38;5;28;01mif\u001b[39;00m expected \u001b[38;5;28;01melse\u001b[39;00m \u001b[38;5;28;01mNone\u001b[39;00m)\n\u001b[1;32m    537\u001b[0m sd \u001b[38;5;241m=\u001b[39m StructuredDataset(dataframe\u001b[38;5;241m=\u001b[39mpython_val, metadata\u001b[38;5;241m=\u001b[39mmeta)\n\u001b[0;32m--> 538\u001b[0m \u001b[38;5;28;01mreturn\u001b[39;00m \u001b[38;5;28;43mself\u001b[39;49m\u001b[38;5;241;43m.\u001b[39;49m\u001b[43mencode\u001b[49m\u001b[43m(\u001b[49m\u001b[43mctx\u001b[49m\u001b[43m,\u001b[49m\u001b[43m \u001b[49m\u001b[43msd\u001b[49m\u001b[43m,\u001b[49m\u001b[43m \u001b[49m\u001b[43mpython_type\u001b[49m\u001b[43m,\u001b[49m\u001b[43m \u001b[49m\u001b[43mprotocol\u001b[49m\u001b[43m,\u001b[49m\u001b[43m \u001b[49m\u001b[43mfmt\u001b[49m\u001b[43m,\u001b[49m\u001b[43m \u001b[49m\u001b[43msdt\u001b[49m\u001b[43m)\u001b[49m\n",
      "File \u001b[0;32m~/go/src/github.com/flyteorg/flytekit/flytekit/types/structured/structured_dataset.py:564\u001b[0m, in \u001b[0;36mStructuredDatasetTransformerEngine.encode\u001b[0;34m(self, ctx, sd, df_type, protocol, format, structured_literal_type)\u001b[0m\n\u001b[1;32m    554\u001b[0m \u001b[38;5;28;01mdef\u001b[39;00m \u001b[38;5;21mencode\u001b[39m(\n\u001b[1;32m    555\u001b[0m     \u001b[38;5;28mself\u001b[39m,\n\u001b[1;32m    556\u001b[0m     ctx: FlyteContext,\n\u001b[0;32m   (...)\u001b[0m\n\u001b[1;32m    561\u001b[0m     structured_literal_type: StructuredDatasetType,\n\u001b[1;32m    562\u001b[0m ) \u001b[38;5;241m-\u001b[39m\u001b[38;5;241m>\u001b[39m Literal:\n\u001b[1;32m    563\u001b[0m     handler: StructuredDatasetEncoder\n\u001b[0;32m--> 564\u001b[0m     handler \u001b[38;5;241m=\u001b[39m \u001b[38;5;28;43mself\u001b[39;49m\u001b[38;5;241;43m.\u001b[39;49m\u001b[43mget_encoder\u001b[49m\u001b[43m(\u001b[49m\u001b[43mdf_type\u001b[49m\u001b[43m,\u001b[49m\u001b[43m \u001b[49m\u001b[43mprotocol\u001b[49m\u001b[43m,\u001b[49m\u001b[43m \u001b[49m\u001b[38;5;28;43mformat\u001b[39;49m\u001b[43m)\u001b[49m\n\u001b[1;32m    565\u001b[0m     sd_model \u001b[38;5;241m=\u001b[39m handler\u001b[38;5;241m.\u001b[39mencode(ctx, sd, structured_literal_type)\n\u001b[1;32m    566\u001b[0m     \u001b[38;5;66;03m# This block is here in case the encoder did not set the type information in the metadata. Since this literal\u001b[39;00m\n\u001b[1;32m    567\u001b[0m     \u001b[38;5;66;03m# is special in that it carries around the type itself, we want to make sure the type info therein is at\u001b[39;00m\n\u001b[1;32m    568\u001b[0m     \u001b[38;5;66;03m# least as good as the type of the interface.\u001b[39;00m\n",
      "File \u001b[0;32m~/go/src/github.com/flyteorg/flytekit/flytekit/types/structured/structured_dataset.py:363\u001b[0m, in \u001b[0;36mStructuredDatasetTransformerEngine.get_encoder\u001b[0;34m(cls, df_type, protocol, format)\u001b[0m\n\u001b[1;32m    361\u001b[0m \u001b[38;5;129m@classmethod\u001b[39m\n\u001b[1;32m    362\u001b[0m \u001b[38;5;28;01mdef\u001b[39;00m \u001b[38;5;21mget_encoder\u001b[39m(\u001b[38;5;28mcls\u001b[39m, df_type: Type, protocol: \u001b[38;5;28mstr\u001b[39m, \u001b[38;5;28mformat\u001b[39m: \u001b[38;5;28mstr\u001b[39m):\n\u001b[0;32m--> 363\u001b[0m     \u001b[38;5;28;01mreturn\u001b[39;00m \u001b[38;5;28;43mcls\u001b[39;49m\u001b[38;5;241;43m.\u001b[39;49m\u001b[43m_finder\u001b[49m\u001b[43m(\u001b[49m\u001b[43mStructuredDatasetTransformerEngine\u001b[49m\u001b[38;5;241;43m.\u001b[39;49m\u001b[43mENCODERS\u001b[49m\u001b[43m,\u001b[49m\u001b[43m \u001b[49m\u001b[43mdf_type\u001b[49m\u001b[43m,\u001b[49m\u001b[43m \u001b[49m\u001b[43mprotocol\u001b[49m\u001b[43m,\u001b[49m\u001b[43m \u001b[49m\u001b[38;5;28;43mformat\u001b[39;49m\u001b[43m)\u001b[49m\n",
      "File \u001b[0;32m~/go/src/github.com/flyteorg/flytekit/flytekit/types/structured/structured_dataset.py:359\u001b[0m, in \u001b[0;36mStructuredDatasetTransformerEngine._finder\u001b[0;34m(handler_map, df_type, protocol, format)\u001b[0m\n\u001b[1;32m    357\u001b[0m     \u001b[38;5;28;01mexcept\u001b[39;00m \u001b[38;5;167;01mKeyError\u001b[39;00m:\n\u001b[1;32m    358\u001b[0m         \u001b[38;5;241m.\u001b[39m\u001b[38;5;241m.\u001b[39m\u001b[38;5;241m.\u001b[39m\n\u001b[0;32m--> 359\u001b[0m \u001b[38;5;28;01mraise\u001b[39;00m \u001b[38;5;167;01mValueError\u001b[39;00m(\u001b[38;5;124mf\u001b[39m\u001b[38;5;124m\"\u001b[39m\u001b[38;5;124mFailed to find a handler for \u001b[39m\u001b[38;5;132;01m{\u001b[39;00mdf_type\u001b[38;5;132;01m}\u001b[39;00m\u001b[38;5;124m, protocol \u001b[39m\u001b[38;5;132;01m{\u001b[39;00mprotocol\u001b[38;5;132;01m}\u001b[39;00m\u001b[38;5;124m, fmt \u001b[39m\u001b[38;5;132;01m{\u001b[39;00m\u001b[38;5;28mformat\u001b[39m\u001b[38;5;132;01m}\u001b[39;00m\u001b[38;5;124m\"\u001b[39m)\n",
      "\u001b[0;31mValueError\u001b[0m: Failed to find a handler for <class 'flytekit.types.structured.structured_dataset.StructuredDataset'>, protocol s3, fmt parquet"
     ]
    }
   ],
   "source": [
    "rr.execute(f_print_wf, inputs={\"df\": my_local_df})"
   ]
  },
  {
   "cell_type": "code",
   "execution_count": null,
   "id": "49afd372-43f4-4086-9af8-77ea02c6f3d6",
   "metadata": {},
   "outputs": [],
   "source": []
  }
 ],
 "metadata": {
  "kernelspec": {
   "display_name": "Python 3 (ipykernel)",
   "language": "python",
   "name": "python3"
  },
  "language_info": {
   "codemirror_mode": {
    "name": "ipython",
    "version": 3
   },
   "file_extension": ".py",
   "mimetype": "text/x-python",
   "name": "python",
   "nbconvert_exporter": "python",
   "pygments_lexer": "ipython3",
   "version": "3.9.13"
  }
 },
 "nbformat": 4,
 "nbformat_minor": 5
}
