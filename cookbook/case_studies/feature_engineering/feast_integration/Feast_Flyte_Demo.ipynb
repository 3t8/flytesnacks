{
 "cells": [
  {
   "cell_type": "code",
   "execution_count": 2,
   "id": "f8dd18c7",
   "metadata": {},
   "outputs": [
    {
     "name": "stdout",
     "output_type": "stream",
     "text": [
      "\u001b[34mUsing default config file at /Users/ketanumare/.flyte/config\u001b[0m\n"
     ]
    },
    {
     "name": "stderr",
     "output_type": "stream",
     "text": [
      "{\"asctime\": \"2021-09-26 09:44:39,607\", \"name\": \"flytekit.remote\", \"levelname\": \"WARNING\", \"message\": \"This feature is still in beta. Its interface and UX is subject to change.\"}\n"
     ]
    },
    {
     "name": "stdout",
     "output_type": "stream",
     "text": [
      "No images specified, will use the default image\n"
     ]
    }
   ],
   "source": [
    "from flytekit.remote import FlyteRemote\n",
    "remote = FlyteRemote.from_config(\"flytesnacks\", \"development\")"
   ]
  },
  {
   "cell_type": "code",
   "execution_count": null,
   "id": "9ccda3d5",
   "metadata": {},
   "outputs": [],
   "source": []
  }
 ],
 "metadata": {
  "kernelspec": {
   "display_name": "Python 3 (ipykernel)",
   "language": "python",
   "name": "python3"
  },
  "language_info": {
   "codemirror_mode": {
    "name": "ipython",
    "version": 3
   },
   "file_extension": ".py",
   "mimetype": "text/x-python",
   "name": "python",
   "nbconvert_exporter": "python",
   "pygments_lexer": "ipython3",
   "version": "3.8.2"
  }
 },
 "nbformat": 4,
 "nbformat_minor": 5
}
