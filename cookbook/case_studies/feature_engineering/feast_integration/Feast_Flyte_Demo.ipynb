{
 "cells": [
  {
   "cell_type": "code",
   "execution_count": 2,
   "id": "f8dd18c7",
   "metadata": {},
   "outputs": [
    {
     "name": "stdout",
     "output_type": "stream",
     "text": [
      "\u001b[34mUsing default config file at /Users/ketanumare/.flyte/config\u001b[0m\n"
     ]
    },
    {
     "name": "stderr",
     "output_type": "stream",
     "text": [
      "{\"asctime\": \"2021-09-26 21:11:22,883\", \"name\": \"flytekit.remote\", \"levelname\": \"WARNING\", \"message\": \"This feature is still in beta. Its interface and UX is subject to change.\"}\n"
     ]
    },
    {
     "name": "stdout",
     "output_type": "stream",
     "text": [
      "No images specified, will use the default image\n"
     ]
    }
   ],
   "source": [
    "from flytekit.remote import FlyteRemote\n",
    "remote = FlyteRemote.from_config(\"flytesnacks\", \"development\")"
   ]
  },
  {
   "cell_type": "code",
   "execution_count": 3,
   "id": "9ccda3d5",
   "metadata": {},
   "outputs": [],
   "source": [
    "# from feast_integration.feast_workflow import feast_workflow\n",
    "lp = remote.fetch_launch_plan(name=\"feast_integration.feast_workflow.feast_workflow\", version=\"87845235cf4128576e981c4fcaa9cf54410424f0\")"
   ]
  },
  {
   "cell_type": "code",
   "execution_count": 4,
   "id": "a461fe08",
   "metadata": {},
   "outputs": [],
   "source": [
    "from feast_workflow import feast_workflow\n",
    "lp.guessed_python_interface = feast_workflow.python_interface\n",
    "exe = remote.execute(lp, inputs={'registry_path': \"registry1.db\", 'online_store_path': \"online1.db\"})"
   ]
  },
  {
   "cell_type": "code",
   "execution_count": 10,
   "id": "502711ef",
   "metadata": {},
   "outputs": [],
   "source": [
    "exe = remote.sync(exe)"
   ]
  },
  {
   "cell_type": "code",
   "execution_count": 11,
   "id": "9fda8da9",
   "metadata": {},
   "outputs": [],
   "source": [
    "exe.sync()"
   ]
  },
  {
   "cell_type": "code",
   "execution_count": 12,
   "id": "35d75a83",
   "metadata": {},
   "outputs": [],
   "source": [
    "feature_store = exe.outputs['o0']\n",
    "model = exe.outputs['o1']\n",
    "predictions = exe.outputs['o2']"
   ]
  },
  {
   "cell_type": "code",
   "execution_count": 18,
   "id": "c350a61c",
   "metadata": {},
   "outputs": [
    {
     "ename": "KeyError",
     "evalue": "'config'",
     "output_type": "error",
     "traceback": [
      "\u001b[0;31m---------------------------------------------------------------------------\u001b[0m",
      "\u001b[0;31mKeyError\u001b[0m                                  Traceback (most recent call last)",
      "\u001b[0;32m/var/folders/hs/n83kv4c57c9bcnlpg66mh6gw0000gn/T/ipykernel_38345/2371889009.py\u001b[0m in \u001b[0;36m<module>\u001b[0;34m\u001b[0m\n\u001b[1;32m      1\u001b[0m \u001b[0;32mfrom\u001b[0m \u001b[0mfeast_dataobjects\u001b[0m \u001b[0;32mimport\u001b[0m \u001b[0mFeatureStore\u001b[0m\u001b[0;34m\u001b[0m\u001b[0;34m\u001b[0m\u001b[0m\n\u001b[1;32m      2\u001b[0m \u001b[0;32mimport\u001b[0m \u001b[0mjson\u001b[0m\u001b[0;34m\u001b[0m\u001b[0;34m\u001b[0m\u001b[0m\n\u001b[0;32m----> 3\u001b[0;31m \u001b[0mFeatureStore\u001b[0m\u001b[0;34m.\u001b[0m\u001b[0mfrom_json\u001b[0m\u001b[0;34m(\u001b[0m\u001b[0mjson\u001b[0m\u001b[0;34m.\u001b[0m\u001b[0mdumps\u001b[0m\u001b[0;34m(\u001b[0m\u001b[0mfeature_store\u001b[0m\u001b[0;34m.\u001b[0m\u001b[0mschema\u001b[0m\u001b[0;34m)\u001b[0m\u001b[0;34m)\u001b[0m\u001b[0;34m\u001b[0m\u001b[0;34m\u001b[0m\u001b[0m\n\u001b[0m",
      "\u001b[0;32m~/.virtualenvs/flyte-feast/lib/python3.8/site-packages/dataclasses_json/api.py\u001b[0m in \u001b[0;36mfrom_json\u001b[0;34m(cls, s, parse_float, parse_int, parse_constant, infer_missing, **kw)\u001b[0m\n\u001b[1;32m     73\u001b[0m                          \u001b[0mparse_constant\u001b[0m\u001b[0;34m=\u001b[0m\u001b[0mparse_constant\u001b[0m\u001b[0;34m,\u001b[0m\u001b[0;34m\u001b[0m\u001b[0;34m\u001b[0m\u001b[0m\n\u001b[1;32m     74\u001b[0m                          **kw)\n\u001b[0;32m---> 75\u001b[0;31m         \u001b[0;32mreturn\u001b[0m \u001b[0mcls\u001b[0m\u001b[0;34m.\u001b[0m\u001b[0mfrom_dict\u001b[0m\u001b[0;34m(\u001b[0m\u001b[0mkvs\u001b[0m\u001b[0;34m,\u001b[0m \u001b[0minfer_missing\u001b[0m\u001b[0;34m=\u001b[0m\u001b[0minfer_missing\u001b[0m\u001b[0;34m)\u001b[0m\u001b[0;34m\u001b[0m\u001b[0;34m\u001b[0m\u001b[0m\n\u001b[0m\u001b[1;32m     76\u001b[0m \u001b[0;34m\u001b[0m\u001b[0m\n\u001b[1;32m     77\u001b[0m     \u001b[0;34m@\u001b[0m\u001b[0mclassmethod\u001b[0m\u001b[0;34m\u001b[0m\u001b[0;34m\u001b[0m\u001b[0m\n",
      "\u001b[0;32m~/.virtualenvs/flyte-feast/lib/python3.8/site-packages/dataclasses_json/api.py\u001b[0m in \u001b[0;36mfrom_dict\u001b[0;34m(cls, kvs, infer_missing)\u001b[0m\n\u001b[1;32m     80\u001b[0m                   \u001b[0;34m*\u001b[0m\u001b[0;34m,\u001b[0m\u001b[0;34m\u001b[0m\u001b[0;34m\u001b[0m\u001b[0m\n\u001b[1;32m     81\u001b[0m                   infer_missing=False) -> A:\n\u001b[0;32m---> 82\u001b[0;31m         \u001b[0;32mreturn\u001b[0m \u001b[0m_decode_dataclass\u001b[0m\u001b[0;34m(\u001b[0m\u001b[0mcls\u001b[0m\u001b[0;34m,\u001b[0m \u001b[0mkvs\u001b[0m\u001b[0;34m,\u001b[0m \u001b[0minfer_missing\u001b[0m\u001b[0;34m)\u001b[0m\u001b[0;34m\u001b[0m\u001b[0;34m\u001b[0m\u001b[0m\n\u001b[0m\u001b[1;32m     83\u001b[0m \u001b[0;34m\u001b[0m\u001b[0m\n\u001b[1;32m     84\u001b[0m     \u001b[0;32mdef\u001b[0m \u001b[0mto_dict\u001b[0m\u001b[0;34m(\u001b[0m\u001b[0mself\u001b[0m\u001b[0;34m,\u001b[0m \u001b[0mencode_json\u001b[0m\u001b[0;34m=\u001b[0m\u001b[0;32mFalse\u001b[0m\u001b[0;34m)\u001b[0m \u001b[0;34m->\u001b[0m \u001b[0mDict\u001b[0m\u001b[0;34m[\u001b[0m\u001b[0mstr\u001b[0m\u001b[0;34m,\u001b[0m \u001b[0mJson\u001b[0m\u001b[0;34m]\u001b[0m\u001b[0;34m:\u001b[0m\u001b[0;34m\u001b[0m\u001b[0;34m\u001b[0m\u001b[0m\n",
      "\u001b[0;32m~/.virtualenvs/flyte-feast/lib/python3.8/site-packages/dataclasses_json/core.py\u001b[0m in \u001b[0;36m_decode_dataclass\u001b[0;34m(cls, kvs, infer_missing)\u001b[0m\n\u001b[1;32m    157\u001b[0m             \u001b[0;32mcontinue\u001b[0m\u001b[0;34m\u001b[0m\u001b[0;34m\u001b[0m\u001b[0m\n\u001b[1;32m    158\u001b[0m \u001b[0;34m\u001b[0m\u001b[0m\n\u001b[0;32m--> 159\u001b[0;31m         \u001b[0mfield_value\u001b[0m \u001b[0;34m=\u001b[0m \u001b[0mkvs\u001b[0m\u001b[0;34m[\u001b[0m\u001b[0mfield\u001b[0m\u001b[0;34m.\u001b[0m\u001b[0mname\u001b[0m\u001b[0;34m]\u001b[0m\u001b[0;34m\u001b[0m\u001b[0;34m\u001b[0m\u001b[0m\n\u001b[0m\u001b[1;32m    160\u001b[0m         \u001b[0mfield_type\u001b[0m \u001b[0;34m=\u001b[0m \u001b[0mtypes\u001b[0m\u001b[0;34m[\u001b[0m\u001b[0mfield\u001b[0m\u001b[0;34m.\u001b[0m\u001b[0mname\u001b[0m\u001b[0;34m]\u001b[0m\u001b[0;34m\u001b[0m\u001b[0;34m\u001b[0m\u001b[0m\n\u001b[1;32m    161\u001b[0m         \u001b[0;32mif\u001b[0m \u001b[0mfield_value\u001b[0m \u001b[0;32mis\u001b[0m \u001b[0;32mNone\u001b[0m \u001b[0;32mand\u001b[0m \u001b[0;32mnot\u001b[0m \u001b[0m_is_optional\u001b[0m\u001b[0;34m(\u001b[0m\u001b[0mfield_type\u001b[0m\u001b[0;34m)\u001b[0m\u001b[0;34m:\u001b[0m\u001b[0;34m\u001b[0m\u001b[0;34m\u001b[0m\u001b[0m\n",
      "\u001b[0;31mKeyError\u001b[0m: 'config'"
     ]
    }
   ],
   "source": [
    "from feast_dataobjects import FeatureStore\n",
    "import json\n",
    "FeatureStore.from_json(json.dumps(feature_store.schema))"
   ]
  },
  {
   "cell_type": "code",
   "execution_count": 22,
   "id": "38544680",
   "metadata": {},
   "outputs": [],
   "source": [
    "from feast_workflow import predict"
   ]
  },
  {
   "cell_type": "code",
   "execution_count": 38,
   "id": "88abda57",
   "metadata": {},
   "outputs": [],
   "source": [
    "exe.get_node_executions()['n1'].sync()"
   ]
  },
  {
   "cell_type": "code",
   "execution_count": 40,
   "id": "f0ff6c96",
   "metadata": {},
   "outputs": [],
   "source": [
    "exe.get_node_executions()['n1'].outputs"
   ]
  },
  {
   "cell_type": "code",
   "execution_count": null,
   "id": "f93991c9",
   "metadata": {},
   "outputs": [],
   "source": []
  }
 ],
 "metadata": {
  "kernelspec": {
   "display_name": "Python 3 (ipykernel)",
   "language": "python",
   "name": "python3"
  },
  "language_info": {
   "codemirror_mode": {
    "name": "ipython",
    "version": 3
   },
   "file_extension": ".py",
   "mimetype": "text/x-python",
   "name": "python",
   "nbconvert_exporter": "python",
   "pygments_lexer": "ipython3",
   "version": "3.8.2"
  }
 },
 "nbformat": 4,
 "nbformat_minor": 5
}
