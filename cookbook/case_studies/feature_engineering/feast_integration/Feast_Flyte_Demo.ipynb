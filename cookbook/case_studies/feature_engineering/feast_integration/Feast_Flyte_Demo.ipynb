{
 "cells": [
  {
   "cell_type": "markdown",
   "id": "2319b783",
   "metadata": {},
   "source": [
    "# Demo of running a Flyte + Feast, feature engineering and training pipeline\n",
    "In this demo we will learn how to interact with Feast through Flyte. The goal will be to train a simple [Gaussian Naive Bayes model using sklearn](https://scikit-learn.org/stable/modules/generated/sklearn.naive_bayes.GaussianNB.html) on the [Horse-Colic dataset from UCI](https://archive.ics.uci.edu/ml/datasets/Horse+Colic).\n",
    "\n",
    "**NOTE**\n",
    "We will not really dive into the dataset or the model, as the aim of this tutorial is to show how you can use Feast as the feature store and use Flyte to engineer the features that can be identical across your online predictions as well as offline training"
   ]
  },
  {
   "cell_type": "markdown",
   "id": "fc2a53ca",
   "metadata": {},
   "source": [
    "## Step 1: Check out the code for the pipeline\n",
    "We have used [flytekit](https://docs.flyte.org/projects/flytekit/en/latest/) flyte's python SDK to express the pipeline in pure python. The code is auto-documented and rendered using sphinx [here]()"
   ]
  },
  {
   "cell_type": "markdown",
   "id": "70e1897c",
   "metadata": {},
   "source": [
    "## Step 2: Launch an execution\n",
    "We can use the [FlyteConsole](https://github.com/flyteorg/flyteconsole) to launch, monitor and introspect Flyte executions, but in this case we will use [flytekit.remote](https://docs.flyte.org/projects/flytekit/en/latest/design/control_plane.html) to interact with the Flyte backend."
   ]
  },
  {
   "cell_type": "code",
   "execution_count": 3,
   "id": "f8dd18c7",
   "metadata": {},
   "outputs": [
    {
     "name": "stdout",
     "output_type": "stream",
     "text": [
      "\u001B[34mUsing default config file at /Users/ketanumare/.flyte/config\u001B[0m\n"
     ]
    },
    {
     "name": "stderr",
     "output_type": "stream",
     "text": [
      "{\"asctime\": \"2021-09-28 09:44:07,041\", \"name\": \"flytekit.remote\", \"levelname\": \"WARNING\", \"message\": \"This feature is still in beta. Its interface and UX is subject to change.\"}\n"
     ]
    },
    {
     "name": "stdout",
     "output_type": "stream",
     "text": [
      "No images specified, will use the default image\n"
     ]
    }
   ],
   "source": [
    "from flytekit.remote import FlyteRemote\n",
    "remote = FlyteRemote.from_config(\"flytesnacks\", \"development\")"
   ]
  },
  {
   "cell_type": "code",
   "execution_count": 49,
   "id": "9ccda3d5",
   "metadata": {},
   "outputs": [
    {
     "data": {
      "text/plain": [
       "'77cf08a7fff024aefd22e927eba6ab7be8323293'"
      ]
     },
     "execution_count": 49,
     "metadata": {},
     "output_type": "execute_result"
    }
   ],
   "source": [
    "# from feast_integration.feast_workflow import feast_workflow\n",
    "lp = remote.fetch_launch_plan(name=\"feast_integration.feast_workflow.feast_workflow\")\n",
    "lp.id.version"
   ]
  },
  {
   "cell_type": "code",
   "execution_count": 50,
   "id": "a461fe08",
   "metadata": {},
   "outputs": [],
   "source": [
    "from feast_workflow import feast_workflow\n",
    "lp.guessed_python_interface = feast_workflow.python_interface\n",
    "exe = remote.execute(lp, inputs={})"
   ]
  },
  {
   "cell_type": "code",
   "execution_count": 51,
   "id": "d0ab6055",
   "metadata": {},
   "outputs": [
    {
     "name": "stdout",
     "output_type": "stream",
     "text": [
      "http://localhost:30081/console/projects/flytesnacks/domains/development/executions/fdde7d53867b74cd9885\n"
     ]
    }
   ],
   "source": [
    "print(f\"http://localhost:30081/console/projects/{exe.id.project}/domains/{exe.id.domain}/executions/{exe.id.name}\")"
   ]
  },
  {
   "cell_type": "code",
   "execution_count": 52,
   "id": "502711ef",
   "metadata": {},
   "outputs": [],
   "source": [
    "exe = remote.sync(exe)"
   ]
  },
  {
   "cell_type": "code",
   "execution_count": 53,
   "id": "9fda8da9",
   "metadata": {},
   "outputs": [],
   "source": [
    "exe.sync()"
   ]
  },
  {
   "cell_type": "code",
   "execution_count": 54,
   "id": "35d75a83",
   "metadata": {},
   "outputs": [],
   "source": [
    "feature_store = exe.outputs['o0']\n",
    "model = exe.outputs['o1']\n",
    "predictions = exe.outputs['o2']"
   ]
  },
  {
   "cell_type": "code",
   "execution_count": 4,
   "id": "3e778b53",
   "metadata": {},
   "outputs": [],
   "source": [
    "exe2 = remote.fetch_workflow_execution(name='fdde7d53867b74cd9885')\n",
    "exe2 = remote.sync(exe2)\n",
    "from feast_dataobjects import FeatureStore\n",
    "fs = exe2.raw_outputs.get('o0', FeatureStore)"
   ]
  },
  {
   "cell_type": "code",
   "execution_count": 5,
   "id": "38544680",
   "metadata": {},
   "outputs": [
    {
     "name": "stderr",
     "output_type": "stream",
     "text": [
      "/Users/ketanumare/.virtualenvs/flyte-feast/lib/python3.8/site-packages/marshmallow/fields.py:173: RemovedInMarshmallow4Warning: The 'default' argument to fields is deprecated. Use 'dump_default' instead.\n",
      "  warnings.warn(\n",
      "/Users/ketanumare/.virtualenvs/flyte-feast/lib/python3.8/site-packages/marshmallow/fields.py:218: RemovedInMarshmallow4Warning: Passing field metadata as a keyword arg is deprecated. Use the explicit `metadata=...` argument instead.\n",
      "  warnings.warn(\n",
      "/Users/ketanumare/.virtualenvs/flyte-feast/lib/python3.8/site-packages/marshmallow/fields.py:438: RemovedInMarshmallow4Warning: The 'default' attribute of fields is deprecated. Use 'dump_default' instead.\n",
      "  warnings.warn(\n"
     ]
    }
   ],
   "source": [
    "from feast_workflow import predict, FEAST_FEATURES"
   ]
  },
  {
   "cell_type": "code",
   "execution_count": 6,
   "id": "b893a2d8",
   "metadata": {},
   "outputs": [
    {
     "data": {
      "text/plain": [
       "<feast.feature_store.FeatureStore at 0x143e125e0>"
      ]
     },
     "execution_count": 6,
     "metadata": {},
     "output_type": "execute_result"
    }
   ],
   "source": [
    "fs1 = fs._build_feast_feature_store()\n",
    "fs1"
   ]
  },
  {
   "cell_type": "code",
   "execution_count": null,
   "id": "88abda57",
   "metadata": {},
   "outputs": [
    {
     "name": "stderr",
     "output_type": "stream",
     "text": [
      "ERROR:root:Error from command '['aws', 's3', 'cp', 's3://feast-integration/online.db', 'online.db']':\n",
      "b'fatal error: An error occurred (403) when calling the HeadObject operation: Forbidden\\n'\n",
      "\n",
      "ERROR:root:Exception when trying to execute ['aws', 's3', 'cp', 's3://feast-integration/online.db', 'online.db'], reason: Called process exited with error code: 1.  Stderr dump:\n",
      "\n",
      "b'fatal error: An error occurred (403) when calling the HeadObject operation: Forbidden\\n'\n"
     ]
    }
   ],
   "source": [
    "\n",
    "inference_point = fs.get_online_features(FEAST_FEATURES, [{\"Hospital Number\": 5290409}])\n"
   ]
  },
  {
   "cell_type": "code",
   "execution_count": 40,
   "id": "f0ff6c96",
   "metadata": {},
   "outputs": [],
   "source": [
    "predict(model, inference_point)"
   ]
  },
  {
   "cell_type": "code",
   "execution_count": 2,
   "id": "f93991c9",
   "metadata": {},
   "outputs": [
    {
     "name": "stdout",
     "output_type": "stream",
     "text": [
      "minio\n",
      "http://localhost:30084\n",
      "miniostorage\n"
     ]
    }
   ],
   "source": [
    "from flytekit.configuration import aws\n",
    "from flytekit.configuration import set_flyte_config_file\n",
    "set_flyte_config_file('/Users/ketanumare/.flyte/config')\n",
    "print(aws.S3_ACCESS_KEY_ID.get())\n",
    "print(aws.S3_ENDPOINT.get())\n",
    "print(aws.S3_SECRET_ACCESS_KEY.get())"
   ]
  },
  {
   "cell_type": "code",
   "execution_count": 1,
   "id": "cb7e3186",
   "metadata": {},
   "outputs": [
    {
     "name": "stdout",
     "output_type": "stream",
     "text": [
      "[platform]\r\n",
      "url=localhost:30081\r\n",
      "insecure=True\r\n",
      "\r\n",
      "[credentials]\r\n",
      "client_id=flytectl\r\n",
      "redirect_uri=http://localhost:53593/callback\r\n",
      "oauth_scopes=offline,all\r\n",
      "authorization_metadata_key=flyte-authorization\r\n",
      "auth_mode=standard\r\n",
      "\r\n",
      "[aws]\r\n",
      "s3_endpoint=http://localhost:30084\r\n",
      "s3_access_key_id=minio\r\n",
      "s3_secret_access_key=miniostorage\r\n"
     ]
    }
   ],
   "source": [
    "!cat /Users/ketanumare/.flyte/config"
   ]
  }
 ],
 "metadata": {
  "kernelspec": {
   "display_name": "Python 3 (ipykernel)",
   "language": "python",
   "name": "python3"
  },
  "language_info": {
   "codemirror_mode": {
    "name": "ipython",
    "version": 3
   },
   "file_extension": ".py",
   "mimetype": "text/x-python",
   "name": "python",
   "nbconvert_exporter": "python",
   "pygments_lexer": "ipython3",
   "version": "3.8.2"
  }
 },
 "nbformat": 4,
 "nbformat_minor": 5
}