{
 "cells": [
  {
   "cell_type": "markdown",
   "id": "56ad7306",
   "metadata": {},
   "source": [
    "# Demo of running a Flyte + Feast, feature engineering and training pipeline\n",
    "In this demo we will learn how to interact with Feast through Flyte. The goal will be to train a simple [Gaussian Naive Bayes model using sklearn](https://scikit-learn.org/stable/modules/generated/sklearn.naive_bayes.GaussianNB.html) on the [Horse-Colic dataset from UCI](https://archive.ics.uci.edu/ml/datasets/Horse+Colic).\n",
    "\n",
    "**NOTE**\n",
    "We will not really dive into the dataset or the model, as the aim of this tutorial is to show how you can use Feast as the feature store and use Flyte to engineer the features that can be identical across your online predictions as well as offline training"
   ]
  },
  {
   "cell_type": "markdown",
   "id": "07dbb780",
   "metadata": {},
   "source": [
    "## Step 1: Check out the code for the pipeline\n",
    "We have used [flytekit](https://docs.flyte.org/projects/flytekit/en/latest/) flyte's python SDK to express the pipeline in pure python. The code is auto-documented and rendered using sphinx [here]()"
   ]
  },
  {
   "cell_type": "markdown",
   "id": "6ecc8e06",
   "metadata": {},
   "source": [
    "## Step 2: Launch an execution\n",
    "We can use the [FlyteConsole](https://github.com/flyteorg/flyteconsole) to launch, monitor and introspect Flyte executions, but in this case we will use [flytekit.remote](https://docs.flyte.org/projects/flytekit/en/latest/design/control_plane.html) to interact with the Flyte backend.\n",
    "\n",
    "### Setup flytekit remote from config\n",
    "To work with flytesandbox, we have created a simple local config that points to FlyteSandbox server and execution environment. We will initialize flytekit remote with this server. We will also pin it to one project and domain.\n",
    "\n",
    "**Note** this also sets up access to S3 or other equivalent datastores needed by FEAST"
   ]
  },
  {
   "cell_type": "code",
   "execution_count": 20,
   "id": "f8dd18c7",
   "metadata": {
    "scrolled": true
   },
   "outputs": [
    {
     "name": "stdout",
     "output_type": "stream",
     "text": [
      "\u001b[34mUsing default config file at /Users/ketanumare/.flyte/config\u001b[0m\n"
     ]
    },
    {
     "name": "stderr",
     "output_type": "stream",
     "text": [
      "{\"asctime\": \"2021-09-28 09:55:36,379\", \"name\": \"flytekit.remote\", \"levelname\": \"WARNING\", \"message\": \"This feature is still in beta. Its interface and UX is subject to change.\"}\n",
      "WARNING:flytekit.remote:This feature is still in beta. Its interface and UX is subject to change.\n"
     ]
    },
    {
     "name": "stdout",
     "output_type": "stream",
     "text": [
      "No images specified, will use the default image\n"
     ]
    }
   ],
   "source": [
    "from flytekit.remote import FlyteRemote\n",
    "remote = FlyteRemote.from_config(\"flytesnacks\", \"development\")"
   ]
  },
  {
   "cell_type": "markdown",
   "id": "9cd0b83e",
   "metadata": {},
   "source": [
    "### Retrieve the latest registered version of the pipeline\n",
    "FlyteRemote provides convienient methods to retrieve a version of the pipeline from the remote server.\n",
    "\n",
    "**Note** It is possible to get a specific version of workflow and trigger a launch for that, but, we will just get the latest"
   ]
  },
  {
   "cell_type": "code",
   "execution_count": 22,
   "id": "9ccda3d5",
   "metadata": {},
   "outputs": [
    {
     "data": {
      "text/plain": [
       "'86b9fe59988c2b91eb9a852048b6c3179939198a'"
      ]
     },
     "execution_count": 22,
     "metadata": {},
     "output_type": "execute_result"
    }
   ],
   "source": [
    "# from feast_integration.feast_workflow import feast_workflow\n",
    "lp = remote.fetch_launch_plan(name=\"feast_integration.feast_workflow.feast_workflow\")\n",
    "lp.id.version"
   ]
  },
  {
   "cell_type": "markdown",
   "id": "5e8ccc35",
   "metadata": {},
   "source": [
    "### Launch an execution\n",
    "`remote.execute` makes it simple to start an execution for the launchplan. We will not provide any inputs and just use the default inputs"
   ]
  },
  {
   "cell_type": "code",
   "execution_count": 23,
   "id": "a461fe08",
   "metadata": {},
   "outputs": [
    {
     "name": "stdout",
     "output_type": "stream",
     "text": [
      "http://localhost:30081/console/projects/flytesnacks/domains/development/executions/f9f180a56e67b4c9781e\n"
     ]
    }
   ],
   "source": [
    "exe = remote.execute(lp, inputs={})\n",
    "print(f\"http://localhost:30081/console/projects/{exe.id.project}/domains/{exe.id.domain}/executions/{exe.id.name}\")"
   ]
  },
  {
   "cell_type": "markdown",
   "id": "adb68140",
   "metadata": {},
   "source": [
    "## Step 3: Now wait for the execution to complete\n",
    "It is possible to launch a sync execution and wait for it to complete, but since all the processes are completely detached (you can even close your laptop) and come back to it later, we will show how to sync the execution back."
   ]
  },
  {
   "cell_type": "code",
   "execution_count": 34,
   "id": "502711ef",
   "metadata": {},
   "outputs": [
    {
     "name": "stdout",
     "output_type": "stream",
     "text": [
      "Execution f9f180a56e67b4c9781e is in Phase - SUCCEEDED\n"
     ]
    }
   ],
   "source": [
    "from flytekit.models.core.execution import WorkflowExecutionPhase\n",
    "exe = remote.sync(exe)\n",
    "print(f\"Execution {exe.id.name} is in Phase - {WorkflowExecutionPhase.enum_to_string(exe.closure.phase)}\")"
   ]
  },
  {
   "cell_type": "code",
   "execution_count": 35,
   "id": "9fda8da9",
   "metadata": {},
   "outputs": [],
   "source": [
    "exe.sync()"
   ]
  },
  {
   "cell_type": "markdown",
   "id": "4c2074cc",
   "metadata": {},
   "source": [
    "## Step 4: Lets sync data from this execution\n",
    "\n",
    "**Side Note**\n",
    "It is possible to fetch an existing execution or simply retrieve a started execution. Also if you launch an execution with the same name, flyte will respect and not restart a new execution!\n",
    "\n",
    "To fetch an execution\n",
    "```python\n",
    "exe = remote.fetch_workflow_execution(name='fdde7d53867b74cd9885')\n",
    "exe = remote.sync(exe2)\n",
    "```"
   ]
  },
  {
   "cell_type": "code",
   "execution_count": 36,
   "id": "3e778b53",
   "metadata": {},
   "outputs": [],
   "source": [
    "from feast_dataobjects import FeatureStore\n",
    "fs = exe.raw_outputs.get('o0', FeatureStore)\n",
    "model = exe.outputs['o1']"
   ]
  },
  {
   "cell_type": "markdown",
   "id": "545e00c9",
   "metadata": {},
   "source": [
    "#### Lets inspect the feature store configuration"
   ]
  },
  {
   "cell_type": "code",
   "execution_count": 37,
   "id": "a5dff70e",
   "metadata": {},
   "outputs": [
    {
     "data": {
      "text/plain": [
       "FeatureStoreConfig(registry_path='registry.db', project='horsecolic', s3_bucket='feast-integration', online_store_path='online.db')"
      ]
     },
     "execution_count": 37,
     "metadata": {},
     "output_type": "execute_result"
    }
   ],
   "source": [
    "fs.config"
   ]
  },
  {
   "cell_type": "markdown",
   "id": "20db4c76",
   "metadata": {},
   "source": [
    "#### Also, the model is now available locally as a JobLibSerialized file and can be downloaded and loaded"
   ]
  },
  {
   "cell_type": "code",
   "execution_count": 38,
   "id": "3747b3a3",
   "metadata": {},
   "outputs": [
    {
     "data": {
      "text/plain": [
       "/var/folders/hs/n83kv4c57c9bcnlpg66mh6gw0000gn/T/flytetkd8_fqj/control_plane_metadata/local_flytekit/e51f130fdbe204ce483f3e80ef78c032/model.joblib.dat"
      ]
     },
     "execution_count": 38,
     "metadata": {},
     "output_type": "execute_result"
    }
   ],
   "source": [
    "model"
   ]
  },
  {
   "cell_type": "code",
   "execution_count": 11,
   "id": "38544680",
   "metadata": {},
   "outputs": [],
   "source": [
    "from feast_workflow import predict, FEAST_FEATURES"
   ]
  },
  {
   "cell_type": "markdown",
   "id": "344b0c51",
   "metadata": {},
   "source": [
    "fs1 = fs._build_feast_feature_store()\n",
    "fs1.config"
   ]
  },
  {
   "cell_type": "code",
   "execution_count": 19,
   "id": "88abda57",
   "metadata": {},
   "outputs": [],
   "source": [
    "\n",
    "inference_point = fs.get_online_features(FEAST_FEATURES, [{\"Hospital Number\": 5290409}])\n"
   ]
  },
  {
   "cell_type": "code",
   "execution_count": 14,
   "id": "a0204a1f",
   "metadata": {},
   "outputs": [
    {
     "data": {
      "text/plain": [
       "{'nasogastric reflux PH': [None],\n",
       " 'abdominal distension': [None],\n",
       " 'surgical lesion': [None],\n",
       " 'rectal temperature': [None],\n",
       " 'outcome': [None],\n",
       " 'total protein': [None],\n",
       " 'packed cell volume': [None],\n",
       " 'nasogastric tube': [None],\n",
       " 'peripheral pulse': [None],\n",
       " 'Hospital Number': [5290409]}"
      ]
     },
     "execution_count": 14,
     "metadata": {},
     "output_type": "execute_result"
    }
   ],
   "source": [
    "inference_point"
   ]
  },
  {
   "cell_type": "code",
   "execution_count": 17,
   "id": "f0ff6c96",
   "metadata": {},
   "outputs": [
    {
     "name": "stderr",
     "output_type": "stream",
     "text": [
      "/Users/ketanumare/.virtualenvs/flyte-feast/lib/python3.8/site-packages/sklearn/utils/validation.py:63: FutureWarning: Arrays of bytes/strings is being converted to decimal numbers if dtype='numeric'. This behavior is deprecated in 0.24 and will be removed in 1.1 (renaming of 0.26). Please convert your data to numeric values explicitly instead.\n",
      "  return f(*args, **kwargs)\n",
      "{\"asctime\": \"2021-09-28 09:46:29,348\", \"name\": \"flytekit\", \"levelname\": \"ERROR\", \"message\": \"Exception when executing Input contains NaN, infinity or a value too large for dtype('float64').\", \"exc_info\": \"Traceback (most recent call last):\\n  File \\\"/Users/ketanumare/src/flytekit/flytekit/core/base_task.py\\\", line 464, in dispatch_execute\\n    native_outputs = self.execute(**native_inputs)\\n  File \\\"/Users/ketanumare/src/flytekit/flytekit/core/python_function_task.py\\\", line 157, in execute\\n    return exception_scopes.user_entry_point(self._task_function)(**kwargs)\\n  File \\\"/Users/ketanumare/.virtualenvs/flyte-feast/lib/python3.8/site-packages/wrapt/wrappers.py\\\", line 566, in __call__\\n    return self._self_wrapper(self.__wrapped__, self._self_instance,\\n  File \\\"/Users/ketanumare/src/flytekit/flytekit/common/exceptions/scopes.py\\\", line 198, in user_entry_point\\n    return wrapped(*args, **kwargs)\\n  File \\\"/Users/ketanumare/src/flytesnacks/cookbook/case_studies/feature_engineering/feast_integration/feast_workflow.py\\\", line 249, in predict\\n    prediction = model.predict([test_list])\\n  File \\\"/Users/ketanumare/.virtualenvs/flyte-feast/lib/python3.8/site-packages/sklearn/naive_bayes.py\\\", line 74, in predict\\n    X = self._check_X(X)\\n  File \\\"/Users/ketanumare/.virtualenvs/flyte-feast/lib/python3.8/site-packages/sklearn/naive_bayes.py\\\", line 213, in _check_X\\n    return check_array(X)\\n  File \\\"/Users/ketanumare/.virtualenvs/flyte-feast/lib/python3.8/site-packages/sklearn/utils/validation.py\\\", line 63, in inner_f\\n    return f(*args, **kwargs)\\n  File \\\"/Users/ketanumare/.virtualenvs/flyte-feast/lib/python3.8/site-packages/sklearn/utils/validation.py\\\", line 720, in check_array\\n    _assert_all_finite(array,\\n  File \\\"/Users/ketanumare/.virtualenvs/flyte-feast/lib/python3.8/site-packages/sklearn/utils/validation.py\\\", line 103, in _assert_all_finite\\n    raise ValueError(\\nValueError: Input contains NaN, infinity or a value too large for dtype('float64').\"}\n",
      "ERROR:flytekit:Exception when executing Input contains NaN, infinity or a value too large for dtype('float64').\n",
      "Traceback (most recent call last):\n",
      "  File \"/Users/ketanumare/src/flytekit/flytekit/core/base_task.py\", line 464, in dispatch_execute\n",
      "    native_outputs = self.execute(**native_inputs)\n",
      "  File \"/Users/ketanumare/src/flytekit/flytekit/core/python_function_task.py\", line 157, in execute\n",
      "    return exception_scopes.user_entry_point(self._task_function)(**kwargs)\n",
      "  File \"/Users/ketanumare/.virtualenvs/flyte-feast/lib/python3.8/site-packages/wrapt/wrappers.py\", line 566, in __call__\n",
      "    return self._self_wrapper(self.__wrapped__, self._self_instance,\n",
      "  File \"/Users/ketanumare/src/flytekit/flytekit/common/exceptions/scopes.py\", line 198, in user_entry_point\n",
      "    return wrapped(*args, **kwargs)\n",
      "  File \"/Users/ketanumare/src/flytesnacks/cookbook/case_studies/feature_engineering/feast_integration/feast_workflow.py\", line 249, in predict\n",
      "    prediction = model.predict([test_list])\n",
      "  File \"/Users/ketanumare/.virtualenvs/flyte-feast/lib/python3.8/site-packages/sklearn/naive_bayes.py\", line 74, in predict\n",
      "    X = self._check_X(X)\n",
      "  File \"/Users/ketanumare/.virtualenvs/flyte-feast/lib/python3.8/site-packages/sklearn/naive_bayes.py\", line 213, in _check_X\n",
      "    return check_array(X)\n",
      "  File \"/Users/ketanumare/.virtualenvs/flyte-feast/lib/python3.8/site-packages/sklearn/utils/validation.py\", line 63, in inner_f\n",
      "    return f(*args, **kwargs)\n",
      "  File \"/Users/ketanumare/.virtualenvs/flyte-feast/lib/python3.8/site-packages/sklearn/utils/validation.py\", line 720, in check_array\n",
      "    _assert_all_finite(array,\n",
      "  File \"/Users/ketanumare/.virtualenvs/flyte-feast/lib/python3.8/site-packages/sklearn/utils/validation.py\", line 103, in _assert_all_finite\n",
      "    raise ValueError(\n",
      "ValueError: Input contains NaN, infinity or a value too large for dtype('float64').\n"
     ]
    },
    {
     "ename": "ValueError",
     "evalue": "Input contains NaN, infinity or a value too large for dtype('float64').",
     "output_type": "error",
     "traceback": [
      "\u001b[0;31m---------------------------------------------------------------------------\u001b[0m",
      "\u001b[0;31mValueError\u001b[0m                                Traceback (most recent call last)",
      "\u001b[0;32m/var/folders/hs/n83kv4c57c9bcnlpg66mh6gw0000gn/T/ipykernel_71290/1769562598.py\u001b[0m in \u001b[0;36m<module>\u001b[0;34m\u001b[0m\n\u001b[0;32m----> 1\u001b[0;31m \u001b[0mpredict\u001b[0m\u001b[0;34m(\u001b[0m\u001b[0mmodel_ser\u001b[0m\u001b[0;34m=\u001b[0m\u001b[0mmodel\u001b[0m\u001b[0;34m,\u001b[0m \u001b[0mfeatures\u001b[0m\u001b[0;34m=\u001b[0m\u001b[0minference_point\u001b[0m\u001b[0;34m)\u001b[0m\u001b[0;34m\u001b[0m\u001b[0;34m\u001b[0m\u001b[0m\n\u001b[0m",
      "\u001b[0;32m~/src/flytekit/flytekit/core/base_task.py\u001b[0m in \u001b[0;36m__call__\u001b[0;34m(self, *args, **kwargs)\u001b[0m\n\u001b[1;32m    272\u001b[0m \u001b[0;34m\u001b[0m\u001b[0m\n\u001b[1;32m    273\u001b[0m     \u001b[0;32mdef\u001b[0m \u001b[0m__call__\u001b[0m\u001b[0;34m(\u001b[0m\u001b[0mself\u001b[0m\u001b[0;34m,\u001b[0m \u001b[0;34m*\u001b[0m\u001b[0margs\u001b[0m\u001b[0;34m,\u001b[0m \u001b[0;34m**\u001b[0m\u001b[0mkwargs\u001b[0m\u001b[0;34m)\u001b[0m\u001b[0;34m:\u001b[0m\u001b[0;34m\u001b[0m\u001b[0;34m\u001b[0m\u001b[0m\n\u001b[0;32m--> 274\u001b[0;31m         \u001b[0;32mreturn\u001b[0m \u001b[0mflyte_entity_call_handler\u001b[0m\u001b[0;34m(\u001b[0m\u001b[0mself\u001b[0m\u001b[0;34m,\u001b[0m \u001b[0;34m*\u001b[0m\u001b[0margs\u001b[0m\u001b[0;34m,\u001b[0m \u001b[0;34m**\u001b[0m\u001b[0mkwargs\u001b[0m\u001b[0;34m)\u001b[0m\u001b[0;34m\u001b[0m\u001b[0;34m\u001b[0m\u001b[0m\n\u001b[0m\u001b[1;32m    275\u001b[0m \u001b[0;34m\u001b[0m\u001b[0m\n\u001b[1;32m    276\u001b[0m     \u001b[0;32mdef\u001b[0m \u001b[0mcompile\u001b[0m\u001b[0;34m(\u001b[0m\u001b[0mself\u001b[0m\u001b[0;34m,\u001b[0m \u001b[0mctx\u001b[0m\u001b[0;34m:\u001b[0m \u001b[0mFlyteContext\u001b[0m\u001b[0;34m,\u001b[0m \u001b[0;34m*\u001b[0m\u001b[0margs\u001b[0m\u001b[0;34m,\u001b[0m \u001b[0;34m**\u001b[0m\u001b[0mkwargs\u001b[0m\u001b[0;34m)\u001b[0m\u001b[0;34m:\u001b[0m\u001b[0;34m\u001b[0m\u001b[0;34m\u001b[0m\u001b[0m\n",
      "\u001b[0;32m~/src/flytekit/flytekit/core/promise.py\u001b[0m in \u001b[0;36mflyte_entity_call_handler\u001b[0;34m(entity, *args, **kwargs)\u001b[0m\n\u001b[1;32m    873\u001b[0m             )\n\u001b[1;32m    874\u001b[0m         ) as child_ctx:\n\u001b[0;32m--> 875\u001b[0;31m             \u001b[0mresult\u001b[0m \u001b[0;34m=\u001b[0m \u001b[0mcast\u001b[0m\u001b[0;34m(\u001b[0m\u001b[0mLocallyExecutable\u001b[0m\u001b[0;34m,\u001b[0m \u001b[0mentity\u001b[0m\u001b[0;34m)\u001b[0m\u001b[0;34m.\u001b[0m\u001b[0mlocal_execute\u001b[0m\u001b[0;34m(\u001b[0m\u001b[0mchild_ctx\u001b[0m\u001b[0;34m,\u001b[0m \u001b[0;34m**\u001b[0m\u001b[0mkwargs\u001b[0m\u001b[0;34m)\u001b[0m\u001b[0;34m\u001b[0m\u001b[0;34m\u001b[0m\u001b[0m\n\u001b[0m\u001b[1;32m    876\u001b[0m \u001b[0;34m\u001b[0m\u001b[0m\n\u001b[1;32m    877\u001b[0m         \u001b[0mexpected_outputs\u001b[0m \u001b[0;34m=\u001b[0m \u001b[0mlen\u001b[0m\u001b[0;34m(\u001b[0m\u001b[0mcast\u001b[0m\u001b[0;34m(\u001b[0m\u001b[0mSupportsNodeCreation\u001b[0m\u001b[0;34m,\u001b[0m \u001b[0mentity\u001b[0m\u001b[0;34m)\u001b[0m\u001b[0;34m.\u001b[0m\u001b[0mpython_interface\u001b[0m\u001b[0;34m.\u001b[0m\u001b[0moutputs\u001b[0m\u001b[0;34m)\u001b[0m\u001b[0;34m\u001b[0m\u001b[0;34m\u001b[0m\u001b[0m\n",
      "\u001b[0;32m~/src/flytekit/flytekit/core/base_task.py\u001b[0m in \u001b[0;36mlocal_execute\u001b[0;34m(self, ctx, **kwargs)\u001b[0m\n\u001b[1;32m    243\u001b[0m             \u001b[0;32mif\u001b[0m \u001b[0moutputs_literal_map\u001b[0m \u001b[0;32mis\u001b[0m \u001b[0;32mNone\u001b[0m\u001b[0;34m:\u001b[0m\u001b[0;34m\u001b[0m\u001b[0;34m\u001b[0m\u001b[0m\n\u001b[1;32m    244\u001b[0m                 \u001b[0mlogger\u001b[0m\u001b[0;34m.\u001b[0m\u001b[0minfo\u001b[0m\u001b[0;34m(\u001b[0m\u001b[0;34m\"Cache miss, task will be executed now\"\u001b[0m\u001b[0;34m)\u001b[0m\u001b[0;34m\u001b[0m\u001b[0;34m\u001b[0m\u001b[0m\n\u001b[0;32m--> 245\u001b[0;31m                 \u001b[0moutputs_literal_map\u001b[0m \u001b[0;34m=\u001b[0m \u001b[0mself\u001b[0m\u001b[0;34m.\u001b[0m\u001b[0mdispatch_execute\u001b[0m\u001b[0;34m(\u001b[0m\u001b[0mctx\u001b[0m\u001b[0;34m,\u001b[0m \u001b[0minput_literal_map\u001b[0m\u001b[0;34m)\u001b[0m\u001b[0;34m\u001b[0m\u001b[0;34m\u001b[0m\u001b[0m\n\u001b[0m\u001b[1;32m    246\u001b[0m                 \u001b[0;31m# TODO: need `native_inputs`\u001b[0m\u001b[0;34m\u001b[0m\u001b[0;34m\u001b[0m\u001b[0;34m\u001b[0m\u001b[0m\n\u001b[1;32m    247\u001b[0m                 \u001b[0mLocalTaskCache\u001b[0m\u001b[0;34m.\u001b[0m\u001b[0mset\u001b[0m\u001b[0;34m(\u001b[0m\u001b[0mself\u001b[0m\u001b[0;34m.\u001b[0m\u001b[0mname\u001b[0m\u001b[0;34m,\u001b[0m \u001b[0mself\u001b[0m\u001b[0;34m.\u001b[0m\u001b[0mmetadata\u001b[0m\u001b[0;34m.\u001b[0m\u001b[0mcache_version\u001b[0m\u001b[0;34m,\u001b[0m \u001b[0minput_literal_map\u001b[0m\u001b[0;34m,\u001b[0m \u001b[0moutputs_literal_map\u001b[0m\u001b[0;34m)\u001b[0m\u001b[0;34m\u001b[0m\u001b[0;34m\u001b[0m\u001b[0m\n",
      "\u001b[0;32m~/src/flytekit/flytekit/core/base_task.py\u001b[0m in \u001b[0;36mdispatch_execute\u001b[0;34m(self, ctx, input_literal_map)\u001b[0m\n\u001b[1;32m    465\u001b[0m             \u001b[0;32mexcept\u001b[0m \u001b[0mException\u001b[0m \u001b[0;32mas\u001b[0m \u001b[0me\u001b[0m\u001b[0;34m:\u001b[0m\u001b[0;34m\u001b[0m\u001b[0;34m\u001b[0m\u001b[0m\n\u001b[1;32m    466\u001b[0m                 \u001b[0mlogger\u001b[0m\u001b[0;34m.\u001b[0m\u001b[0mexception\u001b[0m\u001b[0;34m(\u001b[0m\u001b[0;34mf\"Exception when executing {e}\"\u001b[0m\u001b[0;34m)\u001b[0m\u001b[0;34m\u001b[0m\u001b[0;34m\u001b[0m\u001b[0m\n\u001b[0;32m--> 467\u001b[0;31m                 \u001b[0;32mraise\u001b[0m \u001b[0me\u001b[0m\u001b[0;34m\u001b[0m\u001b[0;34m\u001b[0m\u001b[0m\n\u001b[0m\u001b[1;32m    468\u001b[0m \u001b[0;34m\u001b[0m\u001b[0m\n\u001b[1;32m    469\u001b[0m             \u001b[0mlogger\u001b[0m\u001b[0;34m.\u001b[0m\u001b[0minfo\u001b[0m\u001b[0;34m(\u001b[0m\u001b[0;34mf\"Task executed successfully in user level, outputs: {native_outputs}\"\u001b[0m\u001b[0;34m)\u001b[0m\u001b[0;34m\u001b[0m\u001b[0;34m\u001b[0m\u001b[0m\n",
      "\u001b[0;32m~/src/flytekit/flytekit/core/base_task.py\u001b[0m in \u001b[0;36mdispatch_execute\u001b[0;34m(self, ctx, input_literal_map)\u001b[0m\n\u001b[1;32m    462\u001b[0m             \u001b[0mlogger\u001b[0m\u001b[0;34m.\u001b[0m\u001b[0minfo\u001b[0m\u001b[0;34m(\u001b[0m\u001b[0;34mf\"Invoking {self.name} with inputs: {native_inputs}\"\u001b[0m\u001b[0;34m)\u001b[0m\u001b[0;34m\u001b[0m\u001b[0;34m\u001b[0m\u001b[0m\n\u001b[1;32m    463\u001b[0m             \u001b[0;32mtry\u001b[0m\u001b[0;34m:\u001b[0m\u001b[0;34m\u001b[0m\u001b[0;34m\u001b[0m\u001b[0m\n\u001b[0;32m--> 464\u001b[0;31m                 \u001b[0mnative_outputs\u001b[0m \u001b[0;34m=\u001b[0m \u001b[0mself\u001b[0m\u001b[0;34m.\u001b[0m\u001b[0mexecute\u001b[0m\u001b[0;34m(\u001b[0m\u001b[0;34m**\u001b[0m\u001b[0mnative_inputs\u001b[0m\u001b[0;34m)\u001b[0m\u001b[0;34m\u001b[0m\u001b[0;34m\u001b[0m\u001b[0m\n\u001b[0m\u001b[1;32m    465\u001b[0m             \u001b[0;32mexcept\u001b[0m \u001b[0mException\u001b[0m \u001b[0;32mas\u001b[0m \u001b[0me\u001b[0m\u001b[0;34m:\u001b[0m\u001b[0;34m\u001b[0m\u001b[0;34m\u001b[0m\u001b[0m\n\u001b[1;32m    466\u001b[0m                 \u001b[0mlogger\u001b[0m\u001b[0;34m.\u001b[0m\u001b[0mexception\u001b[0m\u001b[0;34m(\u001b[0m\u001b[0;34mf\"Exception when executing {e}\"\u001b[0m\u001b[0;34m)\u001b[0m\u001b[0;34m\u001b[0m\u001b[0;34m\u001b[0m\u001b[0m\n",
      "\u001b[0;32m~/src/flytekit/flytekit/core/python_function_task.py\u001b[0m in \u001b[0;36mexecute\u001b[0;34m(self, **kwargs)\u001b[0m\n\u001b[1;32m    155\u001b[0m         \"\"\"\n\u001b[1;32m    156\u001b[0m         \u001b[0;32mif\u001b[0m \u001b[0mself\u001b[0m\u001b[0;34m.\u001b[0m\u001b[0mexecution_mode\u001b[0m \u001b[0;34m==\u001b[0m \u001b[0mself\u001b[0m\u001b[0;34m.\u001b[0m\u001b[0mExecutionBehavior\u001b[0m\u001b[0;34m.\u001b[0m\u001b[0mDEFAULT\u001b[0m\u001b[0;34m:\u001b[0m\u001b[0;34m\u001b[0m\u001b[0;34m\u001b[0m\u001b[0m\n\u001b[0;32m--> 157\u001b[0;31m             \u001b[0;32mreturn\u001b[0m \u001b[0mexception_scopes\u001b[0m\u001b[0;34m.\u001b[0m\u001b[0muser_entry_point\u001b[0m\u001b[0;34m(\u001b[0m\u001b[0mself\u001b[0m\u001b[0;34m.\u001b[0m\u001b[0m_task_function\u001b[0m\u001b[0;34m)\u001b[0m\u001b[0;34m(\u001b[0m\u001b[0;34m**\u001b[0m\u001b[0mkwargs\u001b[0m\u001b[0;34m)\u001b[0m\u001b[0;34m\u001b[0m\u001b[0;34m\u001b[0m\u001b[0m\n\u001b[0m\u001b[1;32m    158\u001b[0m         \u001b[0;32melif\u001b[0m \u001b[0mself\u001b[0m\u001b[0;34m.\u001b[0m\u001b[0mexecution_mode\u001b[0m \u001b[0;34m==\u001b[0m \u001b[0mself\u001b[0m\u001b[0;34m.\u001b[0m\u001b[0mExecutionBehavior\u001b[0m\u001b[0;34m.\u001b[0m\u001b[0mDYNAMIC\u001b[0m\u001b[0;34m:\u001b[0m\u001b[0;34m\u001b[0m\u001b[0;34m\u001b[0m\u001b[0m\n\u001b[1;32m    159\u001b[0m             \u001b[0;32mreturn\u001b[0m \u001b[0mself\u001b[0m\u001b[0;34m.\u001b[0m\u001b[0mdynamic_execute\u001b[0m\u001b[0;34m(\u001b[0m\u001b[0mself\u001b[0m\u001b[0;34m.\u001b[0m\u001b[0m_task_function\u001b[0m\u001b[0;34m,\u001b[0m \u001b[0;34m**\u001b[0m\u001b[0mkwargs\u001b[0m\u001b[0;34m)\u001b[0m\u001b[0;34m\u001b[0m\u001b[0;34m\u001b[0m\u001b[0m\n",
      "\u001b[0;32m~/.virtualenvs/flyte-feast/lib/python3.8/site-packages/wrapt/wrappers.py\u001b[0m in \u001b[0;36m__call__\u001b[0;34m(self, *args, **kwargs)\u001b[0m\n\u001b[1;32m    564\u001b[0m         \u001b[0;31m# wrapped using the staticmethod decorator.\u001b[0m\u001b[0;34m\u001b[0m\u001b[0;34m\u001b[0m\u001b[0;34m\u001b[0m\u001b[0m\n\u001b[1;32m    565\u001b[0m \u001b[0;34m\u001b[0m\u001b[0m\n\u001b[0;32m--> 566\u001b[0;31m         return self._self_wrapper(self.__wrapped__, self._self_instance,\n\u001b[0m\u001b[1;32m    567\u001b[0m                 args, kwargs)\n\u001b[1;32m    568\u001b[0m \u001b[0;34m\u001b[0m\u001b[0m\n",
      "\u001b[0;32m~/src/flytekit/flytekit/common/exceptions/scopes.py\u001b[0m in \u001b[0;36muser_entry_point\u001b[0;34m(wrapped, instance, args, kwargs)\u001b[0m\n\u001b[1;32m    196\u001b[0m             \u001b[0;31m# See comment at this location for system_entry_point\u001b[0m\u001b[0;34m\u001b[0m\u001b[0;34m\u001b[0m\u001b[0;34m\u001b[0m\u001b[0m\n\u001b[1;32m    197\u001b[0m             \u001b[0;32mtry\u001b[0m\u001b[0;34m:\u001b[0m\u001b[0;34m\u001b[0m\u001b[0;34m\u001b[0m\u001b[0m\n\u001b[0;32m--> 198\u001b[0;31m                 \u001b[0;32mreturn\u001b[0m \u001b[0mwrapped\u001b[0m\u001b[0;34m(\u001b[0m\u001b[0;34m*\u001b[0m\u001b[0margs\u001b[0m\u001b[0;34m,\u001b[0m \u001b[0;34m**\u001b[0m\u001b[0mkwargs\u001b[0m\u001b[0;34m)\u001b[0m\u001b[0;34m\u001b[0m\u001b[0;34m\u001b[0m\u001b[0m\n\u001b[0m\u001b[1;32m    199\u001b[0m             \u001b[0;32mexcept\u001b[0m \u001b[0mFlyteScopedException\u001b[0m \u001b[0;32mas\u001b[0m \u001b[0mex\u001b[0m\u001b[0;34m:\u001b[0m\u001b[0;34m\u001b[0m\u001b[0;34m\u001b[0m\u001b[0m\n\u001b[1;32m    200\u001b[0m                 \u001b[0;32mraise\u001b[0m \u001b[0mex\u001b[0m\u001b[0;34m.\u001b[0m\u001b[0mvalue\u001b[0m\u001b[0;34m\u001b[0m\u001b[0;34m\u001b[0m\u001b[0m\n",
      "\u001b[0;32m~/src/flytesnacks/cookbook/case_studies/feature_engineering/feast_integration/feast_workflow.py\u001b[0m in \u001b[0;36mpredict\u001b[0;34m(model_ser, features)\u001b[0m\n\u001b[1;32m    247\u001b[0m     \u001b[0;32mfor\u001b[0m \u001b[0meach_name\u001b[0m \u001b[0;32min\u001b[0m \u001b[0mf_names\u001b[0m\u001b[0;34m:\u001b[0m\u001b[0;34m\u001b[0m\u001b[0;34m\u001b[0m\u001b[0m\n\u001b[1;32m    248\u001b[0m         \u001b[0mtest_list\u001b[0m\u001b[0;34m.\u001b[0m\u001b[0mappend\u001b[0m\u001b[0;34m(\u001b[0m\u001b[0mfeatures\u001b[0m\u001b[0;34m[\u001b[0m\u001b[0meach_name\u001b[0m\u001b[0;34m]\u001b[0m\u001b[0;34m[\u001b[0m\u001b[0;36m0\u001b[0m\u001b[0;34m]\u001b[0m\u001b[0;34m)\u001b[0m\u001b[0;34m\u001b[0m\u001b[0;34m\u001b[0m\u001b[0m\n\u001b[0;32m--> 249\u001b[0;31m     \u001b[0mprediction\u001b[0m \u001b[0;34m=\u001b[0m \u001b[0mmodel\u001b[0m\u001b[0;34m.\u001b[0m\u001b[0mpredict\u001b[0m\u001b[0;34m(\u001b[0m\u001b[0;34m[\u001b[0m\u001b[0mtest_list\u001b[0m\u001b[0;34m]\u001b[0m\u001b[0;34m)\u001b[0m\u001b[0;34m\u001b[0m\u001b[0;34m\u001b[0m\u001b[0m\n\u001b[0m\u001b[1;32m    250\u001b[0m     \u001b[0;32mreturn\u001b[0m \u001b[0mprediction\u001b[0m\u001b[0;34m\u001b[0m\u001b[0;34m\u001b[0m\u001b[0m\n\u001b[1;32m    251\u001b[0m \u001b[0;34m\u001b[0m\u001b[0m\n",
      "\u001b[0;32m~/.virtualenvs/flyte-feast/lib/python3.8/site-packages/sklearn/naive_bayes.py\u001b[0m in \u001b[0;36mpredict\u001b[0;34m(self, X)\u001b[0m\n\u001b[1;32m     72\u001b[0m         \"\"\"\n\u001b[1;32m     73\u001b[0m         \u001b[0mcheck_is_fitted\u001b[0m\u001b[0;34m(\u001b[0m\u001b[0mself\u001b[0m\u001b[0;34m)\u001b[0m\u001b[0;34m\u001b[0m\u001b[0;34m\u001b[0m\u001b[0m\n\u001b[0;32m---> 74\u001b[0;31m         \u001b[0mX\u001b[0m \u001b[0;34m=\u001b[0m \u001b[0mself\u001b[0m\u001b[0;34m.\u001b[0m\u001b[0m_check_X\u001b[0m\u001b[0;34m(\u001b[0m\u001b[0mX\u001b[0m\u001b[0;34m)\u001b[0m\u001b[0;34m\u001b[0m\u001b[0;34m\u001b[0m\u001b[0m\n\u001b[0m\u001b[1;32m     75\u001b[0m         \u001b[0mjll\u001b[0m \u001b[0;34m=\u001b[0m \u001b[0mself\u001b[0m\u001b[0;34m.\u001b[0m\u001b[0m_joint_log_likelihood\u001b[0m\u001b[0;34m(\u001b[0m\u001b[0mX\u001b[0m\u001b[0;34m)\u001b[0m\u001b[0;34m\u001b[0m\u001b[0;34m\u001b[0m\u001b[0m\n\u001b[1;32m     76\u001b[0m         \u001b[0;32mreturn\u001b[0m \u001b[0mself\u001b[0m\u001b[0;34m.\u001b[0m\u001b[0mclasses_\u001b[0m\u001b[0;34m[\u001b[0m\u001b[0mnp\u001b[0m\u001b[0;34m.\u001b[0m\u001b[0margmax\u001b[0m\u001b[0;34m(\u001b[0m\u001b[0mjll\u001b[0m\u001b[0;34m,\u001b[0m \u001b[0maxis\u001b[0m\u001b[0;34m=\u001b[0m\u001b[0;36m1\u001b[0m\u001b[0;34m)\u001b[0m\u001b[0;34m]\u001b[0m\u001b[0;34m\u001b[0m\u001b[0;34m\u001b[0m\u001b[0m\n",
      "\u001b[0;32m~/.virtualenvs/flyte-feast/lib/python3.8/site-packages/sklearn/naive_bayes.py\u001b[0m in \u001b[0;36m_check_X\u001b[0;34m(self, X)\u001b[0m\n\u001b[1;32m    211\u001b[0m \u001b[0;34m\u001b[0m\u001b[0m\n\u001b[1;32m    212\u001b[0m     \u001b[0;32mdef\u001b[0m \u001b[0m_check_X\u001b[0m\u001b[0;34m(\u001b[0m\u001b[0mself\u001b[0m\u001b[0;34m,\u001b[0m \u001b[0mX\u001b[0m\u001b[0;34m)\u001b[0m\u001b[0;34m:\u001b[0m\u001b[0;34m\u001b[0m\u001b[0;34m\u001b[0m\u001b[0m\n\u001b[0;32m--> 213\u001b[0;31m         \u001b[0;32mreturn\u001b[0m \u001b[0mcheck_array\u001b[0m\u001b[0;34m(\u001b[0m\u001b[0mX\u001b[0m\u001b[0;34m)\u001b[0m\u001b[0;34m\u001b[0m\u001b[0;34m\u001b[0m\u001b[0m\n\u001b[0m\u001b[1;32m    214\u001b[0m \u001b[0;34m\u001b[0m\u001b[0m\n\u001b[1;32m    215\u001b[0m     \u001b[0;34m@\u001b[0m\u001b[0mstaticmethod\u001b[0m\u001b[0;34m\u001b[0m\u001b[0;34m\u001b[0m\u001b[0m\n",
      "\u001b[0;32m~/.virtualenvs/flyte-feast/lib/python3.8/site-packages/sklearn/utils/validation.py\u001b[0m in \u001b[0;36minner_f\u001b[0;34m(*args, **kwargs)\u001b[0m\n\u001b[1;32m     61\u001b[0m             \u001b[0mextra_args\u001b[0m \u001b[0;34m=\u001b[0m \u001b[0mlen\u001b[0m\u001b[0;34m(\u001b[0m\u001b[0margs\u001b[0m\u001b[0;34m)\u001b[0m \u001b[0;34m-\u001b[0m \u001b[0mlen\u001b[0m\u001b[0;34m(\u001b[0m\u001b[0mall_args\u001b[0m\u001b[0;34m)\u001b[0m\u001b[0;34m\u001b[0m\u001b[0;34m\u001b[0m\u001b[0m\n\u001b[1;32m     62\u001b[0m             \u001b[0;32mif\u001b[0m \u001b[0mextra_args\u001b[0m \u001b[0;34m<=\u001b[0m \u001b[0;36m0\u001b[0m\u001b[0;34m:\u001b[0m\u001b[0;34m\u001b[0m\u001b[0;34m\u001b[0m\u001b[0m\n\u001b[0;32m---> 63\u001b[0;31m                 \u001b[0;32mreturn\u001b[0m \u001b[0mf\u001b[0m\u001b[0;34m(\u001b[0m\u001b[0;34m*\u001b[0m\u001b[0margs\u001b[0m\u001b[0;34m,\u001b[0m \u001b[0;34m**\u001b[0m\u001b[0mkwargs\u001b[0m\u001b[0;34m)\u001b[0m\u001b[0;34m\u001b[0m\u001b[0;34m\u001b[0m\u001b[0m\n\u001b[0m\u001b[1;32m     64\u001b[0m \u001b[0;34m\u001b[0m\u001b[0m\n\u001b[1;32m     65\u001b[0m             \u001b[0;31m# extra_args > 0\u001b[0m\u001b[0;34m\u001b[0m\u001b[0;34m\u001b[0m\u001b[0;34m\u001b[0m\u001b[0m\n",
      "\u001b[0;32m~/.virtualenvs/flyte-feast/lib/python3.8/site-packages/sklearn/utils/validation.py\u001b[0m in \u001b[0;36mcheck_array\u001b[0;34m(array, accept_sparse, accept_large_sparse, dtype, order, copy, force_all_finite, ensure_2d, allow_nd, ensure_min_samples, ensure_min_features, estimator)\u001b[0m\n\u001b[1;32m    718\u001b[0m \u001b[0;34m\u001b[0m\u001b[0m\n\u001b[1;32m    719\u001b[0m         \u001b[0;32mif\u001b[0m \u001b[0mforce_all_finite\u001b[0m\u001b[0;34m:\u001b[0m\u001b[0;34m\u001b[0m\u001b[0;34m\u001b[0m\u001b[0m\n\u001b[0;32m--> 720\u001b[0;31m             _assert_all_finite(array,\n\u001b[0m\u001b[1;32m    721\u001b[0m                                allow_nan=force_all_finite == 'allow-nan')\n\u001b[1;32m    722\u001b[0m \u001b[0;34m\u001b[0m\u001b[0m\n",
      "\u001b[0;32m~/.virtualenvs/flyte-feast/lib/python3.8/site-packages/sklearn/utils/validation.py\u001b[0m in \u001b[0;36m_assert_all_finite\u001b[0;34m(X, allow_nan, msg_dtype)\u001b[0m\n\u001b[1;32m    101\u001b[0m                 not allow_nan and not np.isfinite(X).all()):\n\u001b[1;32m    102\u001b[0m             \u001b[0mtype_err\u001b[0m \u001b[0;34m=\u001b[0m \u001b[0;34m'infinity'\u001b[0m \u001b[0;32mif\u001b[0m \u001b[0mallow_nan\u001b[0m \u001b[0;32melse\u001b[0m \u001b[0;34m'NaN, infinity'\u001b[0m\u001b[0;34m\u001b[0m\u001b[0;34m\u001b[0m\u001b[0m\n\u001b[0;32m--> 103\u001b[0;31m             raise ValueError(\n\u001b[0m\u001b[1;32m    104\u001b[0m                     \u001b[0mmsg_err\u001b[0m\u001b[0;34m.\u001b[0m\u001b[0mformat\u001b[0m\u001b[0;34m\u001b[0m\u001b[0;34m\u001b[0m\u001b[0m\n\u001b[1;32m    105\u001b[0m                     (type_err,\n",
      "\u001b[0;31mValueError\u001b[0m: Input contains NaN, infinity or a value too large for dtype('float64')."
     ]
    }
   ],
   "source": [
    "predict(model_ser=model, features=inference_point)"
   ]
  },
  {
   "cell_type": "code",
   "execution_count": 2,
   "id": "f93991c9",
   "metadata": {},
   "outputs": [
    {
     "name": "stdout",
     "output_type": "stream",
     "text": [
      "minio\n",
      "http://localhost:30084\n",
      "miniostorage\n"
     ]
    }
   ],
   "source": [
    "from flytekit.configuration import aws\n",
    "from flytekit.configuration import set_flyte_config_file\n",
    "set_flyte_config_file('/Users/ketanumare/.flyte/config')\n",
    "print(aws.S3_ACCESS_KEY_ID.get())\n",
    "print(aws.S3_ENDPOINT.get())\n",
    "print(aws.S3_SECRET_ACCESS_KEY.get())"
   ]
  },
  {
   "cell_type": "code",
   "execution_count": 1,
   "id": "cb7e3186",
   "metadata": {},
   "outputs": [
    {
     "name": "stdout",
     "output_type": "stream",
     "text": [
      "[platform]\r\n",
      "url=localhost:30081\r\n",
      "insecure=True\r\n",
      "\r\n",
      "[credentials]\r\n",
      "client_id=flytectl\r\n",
      "redirect_uri=http://localhost:53593/callback\r\n",
      "oauth_scopes=offline,all\r\n",
      "authorization_metadata_key=flyte-authorization\r\n",
      "auth_mode=standard\r\n",
      "\r\n",
      "[aws]\r\n",
      "s3_endpoint=http://localhost:30084\r\n",
      "s3_access_key_id=minio\r\n",
      "s3_secret_access_key=miniostorage\r\n"
     ]
    }
   ],
   "source": [
    "!cat /Users/ketanumare/.flyte/config"
   ]
  }
 ],
 "metadata": {
  "kernelspec": {
   "display_name": "Python 3 (ipykernel)",
   "language": "python",
   "name": "python3"
  },
  "language_info": {
   "codemirror_mode": {
    "name": "ipython",
    "version": 3
   },
   "file_extension": ".py",
   "mimetype": "text/x-python",
   "name": "python",
   "nbconvert_exporter": "python",
   "pygments_lexer": "ipython3",
   "version": "3.8.2"
  }
 },
 "nbformat": 4,
 "nbformat_minor": 5
}
