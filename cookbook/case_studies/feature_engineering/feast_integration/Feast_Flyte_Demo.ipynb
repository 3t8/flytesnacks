{
 "cells": [
  {
   "cell_type": "markdown",
   "id": "8711cbe4",
   "metadata": {},
   "source": [
    "# How to Trigger the Feast Workflow using FlyteRemote\n",
    "\n",
    "The goal of this notebook is to train a simple [Gaussian Naive Bayes model using sklearn](https://scikit-learn.org/stable/modules/generated/sklearn.naive_bayes.GaussianNB.html) on a modified [Horse-Colic dataset from UCI](https://archive.ics.uci.edu/ml/datasets/Horse+Colic).\n",
    "\n",
    "The model aims to classify if the lesion of the horse is surgical or not.\n",
    "\n",
    "Let's get started!"
   ]
  },
  {
   "cell_type": "markdown",
   "id": "d5f891e8",
   "metadata": {},
   "source": [
    "Set the AWS environment variables before importing Flytekit."
   ]
  },
  {
   "cell_type": "code",
   "execution_count": 1,
   "id": "75ff01b3",
   "metadata": {},
   "outputs": [],
   "source": [
    "import os\n",
    "\n",
    "os.environ[\"FLYTE_AWS_ENDPOINT\"] = os.environ[\"FEAST_S3_ENDPOINT_URL\"] = \"http://localhost:30084/\"\n",
    "os.environ[\"FLYTE_AWS_ACCESS_KEY_ID\"] = os.environ[\"AWS_ACCESS_KEY_ID\"] = \"minio\"\n",
    "os.environ[\"FLYTE_AWS_SECRET_ACCESS_KEY\"] = os.environ[\"AWS_SECRET_ACCESS_KEY\"] = \"miniostorage\""
   ]
  },
  {
   "cell_type": "markdown",
   "id": "f79f28b4",
   "metadata": {},
   "source": [
    "### 01. Register the code\n",
    "\n",
    "The actual workflow code is auto-documented and rendered using sphinx [here](https://docs.flyte.org/projects/cookbook/en/latest/auto/case_studies/feature_engineering/feast_integration/index.html). We've used [Flytekit](https://docs.flyte.org/projects/flytekit/en/latest/) to express the pipeline in pure Python.\n",
    "\n",
    "You can use [FlyteConsole](https://github.com/flyteorg/flyteconsole) to launch, monitor, and introspect Flyte executions. However here, let's use [flytekit.remote](https://docs.flyte.org/projects/flytekit/en/latest/design/control_plane.html) to interact with the Flyte backend."
   ]
  },
  {
   "cell_type": "code",
   "execution_count": 2,
   "id": "a2330891",
   "metadata": {
    "scrolled": true
   },
   "outputs": [
    {
     "name": "stderr",
     "output_type": "stream",
     "text": [
      "/Users/samhitaalla/.pyenv/versions/3.9.9/envs/flytesnacks/lib/python3.9/site-packages/tqdm/auto.py:22: TqdmWarning: IProgress not found. Please update jupyter and ipywidgets. See https://ipywidgets.readthedocs.io/en/stable/user_install.html\n",
      "  from .autonotebook import tqdm as notebook_tqdm\n"
     ]
    }
   ],
   "source": [
    "from flytekit.remote import FlyteRemote\n",
    "from flytekit.configuration import Config\n",
    "\n",
    "# The `for_sandbox` method instantiates a connection to the demo cluster.\n",
    "remote = FlyteRemote(\n",
    "    config=Config.for_sandbox(),\n",
    "    default_project=\"flytesnacks\",\n",
    "    default_domain=\"development\"\n",
    ")"
   ]
  },
  {
   "cell_type": "markdown",
   "id": "d3d32822",
   "metadata": {},
   "source": [
    "The ``register_script`` method can be used to register the workflow."
   ]
  },
  {
   "cell_type": "code",
   "execution_count": 24,
   "id": "e5a60057",
   "metadata": {},
   "outputs": [
    {
     "ename": "FileNotFoundError",
     "evalue": "[Errno 2] No such file or directory: '../../feast_integration/feast_workflow.py'",
     "output_type": "error",
     "traceback": [
      "\u001b[0;31m---------------------------------------------------------------------------\u001b[0m",
      "\u001b[0;31mFileNotFoundError\u001b[0m                         Traceback (most recent call last)",
      "Cell \u001b[0;32mIn [24], line 5\u001b[0m\n\u001b[1;32m      1\u001b[0m \u001b[38;5;28;01mfrom\u001b[39;00m \u001b[38;5;21;01mflytekit\u001b[39;00m\u001b[38;5;21;01m.\u001b[39;00m\u001b[38;5;21;01mconfiguration\u001b[39;00m \u001b[38;5;28;01mimport\u001b[39;00m ImageConfig\n\u001b[1;32m      3\u001b[0m \u001b[38;5;28;01mfrom\u001b[39;00m \u001b[38;5;21;01mfeast_workflow\u001b[39;00m \u001b[38;5;28;01mimport\u001b[39;00m feast_workflow\n\u001b[0;32m----> 5\u001b[0m wf \u001b[38;5;241m=\u001b[39m \u001b[43mremote\u001b[49m\u001b[38;5;241;43m.\u001b[39;49m\u001b[43mregister_script\u001b[49m\u001b[43m(\u001b[49m\n\u001b[1;32m      6\u001b[0m \u001b[43m    \u001b[49m\u001b[43mfeast_workflow\u001b[49m\u001b[43m,\u001b[49m\n\u001b[1;32m      7\u001b[0m \u001b[43m    \u001b[49m\u001b[43mimage_config\u001b[49m\u001b[38;5;241;43m=\u001b[39;49m\u001b[43mImageConfig\u001b[49m\u001b[38;5;241;43m.\u001b[39;49m\u001b[43mfrom_images\u001b[49m\u001b[43m(\u001b[49m\n\u001b[1;32m      8\u001b[0m \u001b[43m        \u001b[49m\u001b[38;5;124;43m\"\u001b[39;49m\u001b[38;5;124;43mghcr.io/flyteorg/flytecookbook:feast_integration-latest\u001b[39;49m\u001b[38;5;124;43m\"\u001b[39;49m\n\u001b[1;32m      9\u001b[0m \u001b[43m    \u001b[49m\u001b[43m)\u001b[49m\u001b[43m,\u001b[49m\n\u001b[1;32m     10\u001b[0m \u001b[43m    \u001b[49m\u001b[43mversion\u001b[49m\u001b[38;5;241;43m=\u001b[39;49m\u001b[38;5;124;43m\"\u001b[39;49m\u001b[38;5;124;43mv1\u001b[39;49m\u001b[38;5;124;43m\"\u001b[39;49m\u001b[43m,\u001b[49m\n\u001b[1;32m     11\u001b[0m \u001b[43m    \u001b[49m\u001b[43msource_path\u001b[49m\u001b[38;5;241;43m=\u001b[39;49m\u001b[38;5;124;43m\"\u001b[39;49m\u001b[38;5;124;43m../../\u001b[39;49m\u001b[38;5;124;43m\"\u001b[39;49m\u001b[43m,\u001b[49m\n\u001b[1;32m     12\u001b[0m \u001b[43m    \u001b[49m\u001b[43mmodule_name\u001b[49m\u001b[38;5;241;43m=\u001b[39;49m\u001b[38;5;124;43m\"\u001b[39;49m\u001b[38;5;124;43mfeast_workflow\u001b[39;49m\u001b[38;5;124;43m\"\u001b[39;49m\u001b[43m,\u001b[49m\n\u001b[1;32m     13\u001b[0m \u001b[43m)\u001b[49m\n",
      "File \u001b[0;32m~/.pyenv/versions/3.9.9/envs/flytesnacks/lib/python3.9/site-packages/flytekit/remote/remote.py:600\u001b[0m, in \u001b[0;36mFlyteRemote.register_script\u001b[0;34m(self, entity, image_config, version, project, domain, destination_dir, default_launch_plan, options, source_path, module_name)\u001b[0m\n\u001b[1;32m    597\u001b[0m \u001b[39mif\u001b[39;00m image_config \u001b[39mis\u001b[39;00m \u001b[39mNone\u001b[39;00m:\n\u001b[1;32m    598\u001b[0m     image_config \u001b[39m=\u001b[39m ImageConfig\u001b[39m.\u001b[39mauto_default_image()\n\u001b[0;32m--> 600\u001b[0m upload_location, md5_bytes \u001b[39m=\u001b[39m fast_register_single_script(\n\u001b[1;32m    601\u001b[0m     source_path,\n\u001b[1;32m    602\u001b[0m     module_name,\n\u001b[1;32m    603\u001b[0m     functools\u001b[39m.\u001b[39;49mpartial(\n\u001b[1;32m    604\u001b[0m         \u001b[39mself\u001b[39;49m\u001b[39m.\u001b[39;49mclient\u001b[39m.\u001b[39;49mget_upload_signed_url,\n\u001b[1;32m    605\u001b[0m         project\u001b[39m=\u001b[39;49mproject \u001b[39mor\u001b[39;49;00m \u001b[39mself\u001b[39;49m\u001b[39m.\u001b[39;49mdefault_project,\n\u001b[1;32m    606\u001b[0m         domain\u001b[39m=\u001b[39;49mdomain \u001b[39mor\u001b[39;49;00m \u001b[39mself\u001b[39;49m\u001b[39m.\u001b[39;49mdefault_domain,\n\u001b[1;32m    607\u001b[0m         filename\u001b[39m=\u001b[39;49m\u001b[39m\"\u001b[39;49m\u001b[39mscriptmode.tar.gz\u001b[39;49m\u001b[39m\"\u001b[39;49m,\n\u001b[1;32m    608\u001b[0m     ),\n\u001b[1;32m    609\u001b[0m )\n\u001b[1;32m    611\u001b[0m serialization_settings \u001b[39m=\u001b[39m SerializationSettings(\n\u001b[1;32m    612\u001b[0m     project\u001b[39m=\u001b[39mproject,\n\u001b[1;32m    613\u001b[0m     domain\u001b[39m=\u001b[39mdomain,\n\u001b[0;32m   (...)\u001b[0m\n\u001b[1;32m    619\u001b[0m     ),\n\u001b[1;32m    620\u001b[0m )\n\u001b[1;32m    622\u001b[0m \u001b[39mif\u001b[39;00m version \u001b[39mis\u001b[39;00m \u001b[39mNone\u001b[39;00m:\n\u001b[1;32m    623\u001b[0m     \u001b[39m# The md5 version that we send to S3/GCS has to match the file contents exactly,\u001b[39;00m\n\u001b[1;32m    624\u001b[0m     \u001b[39m# but we don't have to use it when registering with the Flyte backend.\u001b[39;00m\n\u001b[1;32m    625\u001b[0m     \u001b[39m# For that add the hash of the compilation settings to hash of file\u001b[39;00m\n",
      "File \u001b[0;32m~/.pyenv/versions/3.9.9/envs/flytesnacks/lib/python3.9/site-packages/flytekit/tools/script_mode.py:107\u001b[0m, in \u001b[0;36mfast_register_single_script\u001b[0;34m(source_path, module_name, create_upload_location_fn)\u001b[0m\n\u001b[1;32m    105\u001b[0m archive_fname \u001b[39m=\u001b[39m os\u001b[39m.\u001b[39mpath\u001b[39m.\u001b[39mjoin(tmp_dir, \u001b[39m\"\u001b[39m\u001b[39mscript_mode.tar.gz\u001b[39m\u001b[39m\"\u001b[39m)\n\u001b[1;32m    106\u001b[0m mod \u001b[39m=\u001b[39m importlib\u001b[39m.\u001b[39mimport_module(module_name)\n\u001b[0;32m--> 107\u001b[0m compress_single_script(source_path, archive_fname, get_full_module_path(mod, mod\u001b[39m.\u001b[39;49m\u001b[39m__name__\u001b[39;49m))\n\u001b[1;32m    109\u001b[0m flyte_ctx \u001b[39m=\u001b[39m context_manager\u001b[39m.\u001b[39mFlyteContextManager\u001b[39m.\u001b[39mcurrent_context()\n\u001b[1;32m    110\u001b[0m md5, _ \u001b[39m=\u001b[39m hash_file(archive_fname)\n",
      "File \u001b[0;32m~/.pyenv/versions/3.9.9/envs/flytesnacks/lib/python3.9/site-packages/flytekit/tools/script_mode.py:65\u001b[0m, in \u001b[0;36mcompress_single_script\u001b[0;34m(source_path, destination, full_module_name)\u001b[0m\n\u001b[1;32m     63\u001b[0m script_file_destination \u001b[39m=\u001b[39m Path(destination_path, \u001b[39mf\u001b[39m\u001b[39m\"\u001b[39m\u001b[39m{\u001b[39;00mpkgs[\u001b[39m-\u001b[39m\u001b[39m1\u001b[39m]\u001b[39m}\u001b[39;00m\u001b[39m.py\u001b[39m\u001b[39m\"\u001b[39m)\n\u001b[1;32m     64\u001b[0m \u001b[39m# Build the final script relative path and copy it to a known place.\u001b[39;00m\n\u001b[0;32m---> 65\u001b[0m shutil\u001b[39m.\u001b[39;49mcopy(\n\u001b[1;32m     66\u001b[0m     script_file,\n\u001b[1;32m     67\u001b[0m     script_file_destination,\n\u001b[1;32m     68\u001b[0m )\n\u001b[1;32m     69\u001b[0m tar_path \u001b[39m=\u001b[39m os\u001b[39m.\u001b[39mpath\u001b[39m.\u001b[39mjoin(tmp_dir, \u001b[39m\"\u001b[39m\u001b[39mtmp.tar\u001b[39m\u001b[39m\"\u001b[39m)\n\u001b[1;32m     70\u001b[0m \u001b[39mwith\u001b[39;00m tarfile\u001b[39m.\u001b[39mopen(tar_path, \u001b[39m\"\u001b[39m\u001b[39mw\u001b[39m\u001b[39m\"\u001b[39m) \u001b[39mas\u001b[39;00m tar:\n",
      "File \u001b[0;32m~/.pyenv/versions/3.9.9/lib/python3.9/shutil.py:427\u001b[0m, in \u001b[0;36mcopy\u001b[0;34m(src, dst, follow_symlinks)\u001b[0m\n\u001b[1;32m    425\u001b[0m \u001b[39mif\u001b[39;00m os\u001b[39m.\u001b[39mpath\u001b[39m.\u001b[39misdir(dst):\n\u001b[1;32m    426\u001b[0m     dst \u001b[39m=\u001b[39m os\u001b[39m.\u001b[39mpath\u001b[39m.\u001b[39mjoin(dst, os\u001b[39m.\u001b[39mpath\u001b[39m.\u001b[39mbasename(src))\n\u001b[0;32m--> 427\u001b[0m copyfile(src, dst, follow_symlinks\u001b[39m=\u001b[39;49mfollow_symlinks)\n\u001b[1;32m    428\u001b[0m copymode(src, dst, follow_symlinks\u001b[39m=\u001b[39mfollow_symlinks)\n\u001b[1;32m    429\u001b[0m \u001b[39mreturn\u001b[39;00m dst\n",
      "File \u001b[0;32m~/.pyenv/versions/3.9.9/lib/python3.9/shutil.py:264\u001b[0m, in \u001b[0;36mcopyfile\u001b[0;34m(src, dst, follow_symlinks)\u001b[0m\n\u001b[1;32m    262\u001b[0m     os\u001b[39m.\u001b[39msymlink(os\u001b[39m.\u001b[39mreadlink(src), dst)\n\u001b[1;32m    263\u001b[0m \u001b[39melse\u001b[39;00m:\n\u001b[0;32m--> 264\u001b[0m     \u001b[39mwith\u001b[39;00m \u001b[39mopen\u001b[39;49m(src, \u001b[39m'\u001b[39;49m\u001b[39mrb\u001b[39;49m\u001b[39m'\u001b[39;49m) \u001b[39mas\u001b[39;00m fsrc:\n\u001b[1;32m    265\u001b[0m         \u001b[39mtry\u001b[39;00m:\n\u001b[1;32m    266\u001b[0m             \u001b[39mwith\u001b[39;00m \u001b[39mopen\u001b[39m(dst, \u001b[39m'\u001b[39m\u001b[39mwb\u001b[39m\u001b[39m'\u001b[39m) \u001b[39mas\u001b[39;00m fdst:\n\u001b[1;32m    267\u001b[0m                 \u001b[39m# macOS\u001b[39;00m\n",
      "\u001b[0;31mFileNotFoundError\u001b[0m: [Errno 2] No such file or directory: '../../feast_integration/feast_workflow.py'"
     ]
    }
   ],
   "source": [
    "from flytekit.configuration import ImageConfig\n",
    "\n",
    "from feast_workflow import feast_workflow\n",
    "\n",
    "if os.getenv(\"SANDBOX\") is None:\n",
    "    wf = remote.register_script(\n",
    "        feast_workflow,\n",
    "        image_config=ImageConfig.from_images(\n",
    "            \"ghcr.io/flyteorg/flytecookbook:feast_integration-latest\"\n",
    "        ),\n",
    "        version=\"v2\",\n",
    "        source_path=\"../\",\n",
    "        module_name=\"feast_workflow\",\n",
    "    )\n",
    "else:\n",
    "    wf = remote.register_script(\n",
    "        feast_workflow,\n",
    "        image_config=ImageConfig.from_images(\n",
    "            \"ghcr.io/flyteorg/flytecookbook:feast_integration-latest\"\n",
    "        ),\n",
    "        version=\"v1\",\n",
    "        source_path=\".\",\n",
    "        module_name=\"feast_workflow\",\n",
    "    )"
   ]
  },
  {
   "cell_type": "markdown",
   "id": "8fcea449",
   "metadata": {},
   "source": [
    "### 02: Launch an execution"
   ]
  },
  {
   "cell_type": "markdown",
   "id": "64d6295a",
   "metadata": {},
   "source": [
    "FlyteRemote provides convenient methods to retrieve version of the pipeline from the remote server.\n",
    "\n",
    "**NOTE**: It is possible to get a specific version of the workflow and trigger a launch for that, but let's just get the latest."
   ]
  },
  {
   "cell_type": "code",
   "execution_count": 5,
   "id": "d28014f8",
   "metadata": {},
   "outputs": [
    {
     "data": {
      "text/plain": [
       "'v1'"
      ]
     },
     "execution_count": 5,
     "metadata": {},
     "output_type": "execute_result"
    }
   ],
   "source": [
    "lp = remote.fetch_launch_plan(name=\"feast_integration.feast_workflow.feast_workflow\")\n",
    "lp.id.version"
   ]
  },
  {
   "cell_type": "markdown",
   "id": "c71210a7",
   "metadata": {},
   "source": [
    "The ``execute`` method can be used to execute a Flyte entity — a launch plan in our case."
   ]
  },
  {
   "cell_type": "code",
   "execution_count": 6,
   "id": "c13770fc",
   "metadata": {},
   "outputs": [],
   "source": [
    "execution = remote.execute(\n",
    "    lp,\n",
    "    inputs={\"num_features_univariate\": 5},\n",
    "    wait=True\n",
    ")"
   ]
  },
  {
   "cell_type": "markdown",
   "id": "07bd9e37",
   "metadata": {},
   "source": [
    "### 03. Sync an execution\n",
    "\n",
    "You can sync an execution to retrieve the workflow's outputs. ``sync_nodes`` is set to True to retrieve the intermediary nodes' outputs as well.\n",
    "\n",
    "**NOTE**: It is possible to fetch an existing execution or simply retrieve an already commenced execution. Also, if you launch an execution with the same name, Flyte will respect that and not restart a new execution!"
   ]
  },
  {
   "cell_type": "code",
   "execution_count": 7,
   "id": "a8bd9614",
   "metadata": {},
   "outputs": [
    {
     "name": "stdout",
     "output_type": "stream",
     "text": [
      "Execution f218aba055ba34a3fb75 is in SUCCEEDED phase\n"
     ]
    }
   ],
   "source": [
    "from flytekit.models.core.execution import WorkflowExecutionPhase\n",
    "\n",
    "synced_execution = remote.sync(execution, sync_nodes=True)\n",
    "print(f\"Execution {synced_execution.id.name} is in {WorkflowExecutionPhase.enum_to_string(synced_execution.closure.phase)} phase\")"
   ]
  },
  {
   "cell_type": "markdown",
   "id": "65e5b181",
   "metadata": {},
   "source": [
    "### 04. Retrieve the output\n",
    "\n",
    "Fetch the model and the model prediction."
   ]
  },
  {
   "cell_type": "code",
   "execution_count": 8,
   "id": "ab24b1c0",
   "metadata": {},
   "outputs": [
    {
     "data": {
      "text/plain": [
       "/var/folders/6r/9pdkgpkd5nx1t34ndh1f_3q80000gn/T/flyteaqx6tlyu/control_plane_metadata/local_flytekit/e1a690494fe33da04a4dca7737096234/0c81c76dc3a029267a96f275431b5bc5.npy"
      ]
     },
     "execution_count": 8,
     "metadata": {},
     "output_type": "execute_result"
    }
   ],
   "source": [
    "model = synced_execution.outputs[\"o0\"]\n",
    "prediction = synced_execution.outputs[\"o1\"]\n",
    "prediction"
   ]
  },
  {
   "cell_type": "markdown",
   "id": "af8277d3",
   "metadata": {},
   "source": [
    "**NOTE**: The output model is available locally as a JobLibSerialized file, which can be downloaded and loaded."
   ]
  },
  {
   "cell_type": "code",
   "execution_count": 9,
   "id": "8a841e22",
   "metadata": {
    "scrolled": true
   },
   "outputs": [
    {
     "data": {
      "text/plain": [
       "/var/folders/6r/9pdkgpkd5nx1t34ndh1f_3q80000gn/T/flyteaqx6tlyu/control_plane_metadata/local_flytekit/91246ef2160dde99a7512ab3aa9aa2ce/model.joblib.dat"
      ]
     },
     "execution_count": 9,
     "metadata": {},
     "output_type": "execute_result"
    }
   ],
   "source": [
    "model"
   ]
  },
  {
   "cell_type": "markdown",
   "id": "91b3bcbc",
   "metadata": {},
   "source": [
    "Fetch the ``repo_config``."
   ]
  },
  {
   "cell_type": "code",
   "execution_count": 10,
   "id": "a21feeb6",
   "metadata": {},
   "outputs": [],
   "source": [
    "repo_config = synced_execution.node_executions[\"n0\"].outputs[\"o0\"]"
   ]
  },
  {
   "cell_type": "markdown",
   "id": "7a535b4d",
   "metadata": {},
   "source": [
    "### 05. Generate predictions\n",
    "\n",
    "Re-use the `predict` function from the workflow to generate predictions — Flytekit will automatically manage the IO for you!"
   ]
  },
  {
   "cell_type": "markdown",
   "id": "dff58f63",
   "metadata": {},
   "source": [
    "#### Load features from the online feature store"
   ]
  },
  {
   "cell_type": "code",
   "execution_count": 11,
   "id": "c7a2c3c4",
   "metadata": {},
   "outputs": [
    {
     "data": {
      "text/plain": [
       "{'total protein': [70.0],\n",
       " 'peripheral pulse': [3.0],\n",
       " 'nasogastric reflux PH': [4.718545454545455],\n",
       " 'surgical lesion': ['1'],\n",
       " 'rectal temperature': [38.17717842323652],\n",
       " 'nasogastric tube': ['1.751269035532995'],\n",
       " 'Hospital Number': ['533738'],\n",
       " 'packed cell volume': [43.0],\n",
       " 'outcome': ['1'],\n",
       " 'abdominal distension': [4.0]}"
      ]
     },
     "execution_count": 11,
     "metadata": {},
     "output_type": "execute_result"
    }
   ],
   "source": [
    "import os\n",
    "\n",
    "from feast_workflow import predict, FEAST_FEATURES, retrieve_online\n",
    "\n",
    "inference_point = retrieve_online(\n",
    "    repo_config=repo_config,\n",
    "    online_store=synced_execution.node_executions[\"n4\"].outputs[\"o0\"],\n",
    "    data_point=533738,\n",
    ")\n",
    "inference_point"
   ]
  },
  {
   "cell_type": "markdown",
   "id": "9a49e572",
   "metadata": {},
   "source": [
    "#### Generate a prediction"
   ]
  },
  {
   "cell_type": "code",
   "execution_count": 12,
   "id": "e44c62e2",
   "metadata": {},
   "outputs": [
    {
     "data": {
      "text/plain": [
       "array(['2'], dtype='<U1')"
      ]
     },
     "execution_count": 12,
     "metadata": {},
     "output_type": "execute_result"
    }
   ],
   "source": [
    "predict(model_ser=model, features=inference_point)"
   ]
  }
 ],
 "metadata": {
  "kernelspec": {
   "display_name": "Python 3.9.9 64-bit ('flytesnacks')",
   "language": "python",
   "name": "python3"
  },
  "language_info": {
   "codemirror_mode": {
    "name": "ipython",
    "version": 3
   },
   "file_extension": ".py",
   "mimetype": "text/x-python",
   "name": "python",
   "nbconvert_exporter": "python",
   "pygments_lexer": "ipython3",
   "version": "3.9.9"
  },
  "vscode": {
   "interpreter": {
    "hash": "93d1c4f33f306e18e1c08a771c972fe86afbedaedb2338666e30a98a5179caac"
   }
  }
 },
 "nbformat": 4,
 "nbformat_minor": 5
}
