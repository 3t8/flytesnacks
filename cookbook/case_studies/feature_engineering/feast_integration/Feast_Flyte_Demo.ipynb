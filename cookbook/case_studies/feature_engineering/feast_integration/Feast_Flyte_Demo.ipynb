{
 "cells": [
  {
   "cell_type": "markdown",
   "id": "8711cbe4",
   "metadata": {},
   "source": [
    "# How to Trigger the Feast Workflow using FlyteRemote\n",
    "\n",
    "The goal of this notebook is to train a simple [Gaussian Naive Bayes model using sklearn](https://scikit-learn.org/stable/modules/generated/sklearn.naive_bayes.GaussianNB.html) on a modified [Horse-Colic dataset from UCI](https://archive.ics.uci.edu/ml/datasets/Horse+Colic).\n",
    "\n",
    "The model aims to classify if the lesion of the horse is surgical or not."
   ]
  },
  {
   "cell_type": "markdown",
   "id": "f79f28b4",
   "metadata": {},
   "source": [
    "### 01. Register the code\n",
    "\n",
    "The actual workflow code is auto-documented and rendered using sphinx [here](https://docs.flyte.org/projects/cookbook/en/latest/auto/case_studies/feature_engineering/feast_integration/index.html). We've used [Flytekit](https://docs.flyte.org/projects/flytekit/en/latest/) to express the pipeline in pure Python.\n",
    "\n",
    "You can use [FlyteConsole](https://github.com/flyteorg/flyteconsole) to launch, monitor, and introspect Flyte executions. However here, let's use [flytekit.remote](https://docs.flyte.org/projects/flytekit/en/latest/design/control_plane.html) to interact with the Flyte backend."
   ]
  },
  {
   "cell_type": "code",
   "execution_count": 1,
   "id": "a2330891",
   "metadata": {
    "scrolled": true
   },
   "outputs": [
    {
     "name": "stderr",
     "output_type": "stream",
     "text": [
      "/Users/samhitaalla/.pyenv/versions/3.9.9/envs/flytesnacks/lib/python3.9/site-packages/tqdm/auto.py:22: TqdmWarning: IProgress not found. Please update jupyter and ipywidgets. See https://ipywidgets.readthedocs.io/en/stable/user_install.html\n",
      "  from .autonotebook import tqdm as notebook_tqdm\n"
     ]
    }
   ],
   "source": [
    "from flytekit.remote import FlyteRemote\n",
    "from flytekit.configuration import Config\n",
    "\n",
    "# The :py:meth:`~flytekit.configuration.Config.auto` method instantiates a connection to the demo cluster.\n",
    "remote = FlyteRemote(\n",
    "    config=Config.for_sandbox(),\n",
    "    default_project=\"flytesnacks\",\n",
    "    default_domain=\"development\"\n",
    ")"
   ]
  },
  {
   "cell_type": "markdown",
   "id": "d3d32822",
   "metadata": {},
   "source": [
    ":py:meth:`~flytekit.remote.remote.FlyteRemote.register_workflow` can be used to register the workflow."
   ]
  },
  {
   "cell_type": "code",
   "execution_count": 2,
   "id": "e5a60057",
   "metadata": {},
   "outputs": [
    {
     "name": "stderr",
     "output_type": "stream",
     "text": [
      "{\"asctime\": \"2022-09-19 18:04:31,543\", \"name\": \"flytekit\", \"levelname\": \"WARNING\", \"message\": \"Unsupported Type <class 'feast.repo_config.RepoConfig'> found, Flyte will default to use PickleFile as the transport. Pickle can only be used to send objects between the exact same version of Python, and we strongly recommend to use python type that flyte support.\"}\n",
      "{\"asctime\": \"2022-09-19 18:04:31,546\", \"name\": \"flytekit\", \"levelname\": \"WARNING\", \"message\": \"Unsupported Type <class 'feast.repo_config.RepoConfig'> found, Flyte will default to use PickleFile as the transport. Pickle can only be used to send objects between the exact same version of Python, and we strongly recommend to use python type that flyte support.\"}\n",
      "{\"asctime\": \"2022-09-19 18:04:31,547\", \"name\": \"flytekit\", \"levelname\": \"WARNING\", \"message\": \"Unsupported Type <class 'feast.repo_config.RepoConfig'> found, Flyte will default to use PickleFile as the transport. Pickle can only be used to send objects between the exact same version of Python, and we strongly recommend to use python type that flyte support.\"}\n",
      "{\"asctime\": \"2022-09-19 18:04:31,549\", \"name\": \"flytekit\", \"levelname\": \"WARNING\", \"message\": \"Unsupported Type <class 'feast.repo_config.RepoConfig'> found, Flyte will default to use PickleFile as the transport. Pickle can only be used to send objects between the exact same version of Python, and we strongly recommend to use python type that flyte support.\"}\n",
      "{\"asctime\": \"2022-09-19 18:04:31,550\", \"name\": \"flytekit\", \"levelname\": \"WARNING\", \"message\": \"Unsupported Type <class 'feast.repo_config.RepoConfig'> found, Flyte will default to use PickleFile as the transport. Pickle can only be used to send objects between the exact same version of Python, and we strongly recommend to use python type that flyte support.\"}\n",
      "{\"asctime\": \"2022-09-19 18:04:31,552\", \"name\": \"flytekit\", \"levelname\": \"WARNING\", \"message\": \"Unsupported Type <class 'feast.repo_config.RepoConfig'> found, Flyte will default to use PickleFile as the transport. Pickle can only be used to send objects between the exact same version of Python, and we strongly recommend to use python type that flyte support.\"}\n"
     ]
    }
   ],
   "source": [
    "from flytekit.configuration import ImageConfig\n",
    "from flytekit.configuration import SerializationSettings\n",
    "\n",
    "from feast_workflow import feast_workflow\n",
    "\n",
    "wf = remote.register_script(\n",
    "    feast_workflow,\n",
    "    image_config=ImageConfig.from_images(\n",
    "        # \"ghcr.io/flyteorg/flytecookbook:feast_integration-latest\"\n",
    "        \"ghcr.io/samhita-alla/feast:0.0.33\"\n",
    "    ),\n",
    "    version=\"v1\",\n",
    ")"
   ]
  },
  {
   "cell_type": "markdown",
   "id": "8fcea449",
   "metadata": {},
   "source": [
    "### 02: Launch an execution"
   ]
  },
  {
   "cell_type": "markdown",
   "id": "64d6295a",
   "metadata": {},
   "source": [
    "#### Retrieve the latest registered version of the pipeline\n",
    "\n",
    "FlyteRemote provides convenient methods to retrieve version of the pipeline from the remote server.\n",
    "\n",
    "**NOTE**: It is possible to get a specific version of the workflow and trigger a launch for that, but let's just get the latest."
   ]
  },
  {
   "cell_type": "code",
   "execution_count": 3,
   "id": "d28014f8",
   "metadata": {},
   "outputs": [
    {
     "data": {
      "text/plain": [
       "'v1'"
      ]
     },
     "execution_count": 3,
     "metadata": {},
     "output_type": "execute_result"
    }
   ],
   "source": [
    "lp = remote.fetch_launch_plan(name=\"feast_integration.feast_workflow.feast_workflow\")\n",
    "lp.id.version"
   ]
  },
  {
   "cell_type": "markdown",
   "id": "c71210a7",
   "metadata": {},
   "source": [
    ":meth:`~flytekit.remote.remote.FlyteRemote.execute` can be used to execute a launch plan."
   ]
  },
  {
   "cell_type": "code",
   "execution_count": 4,
   "id": "c13770fc",
   "metadata": {},
   "outputs": [],
   "source": [
    "execution = remote.execute(\n",
    "    lp,\n",
    "    inputs={\"num_features_univariate\": 5},\n",
    "    wait=True\n",
    ")"
   ]
  },
  {
   "cell_type": "markdown",
   "id": "07bd9e37",
   "metadata": {},
   "source": [
    "### 03. Sync an execution\n",
    "\n",
    "You can sync an execution to retrieve the workflow's outputs. ``sync_nodes`` is set to True to retrieve the intermediary nodes' outputs as well.\n",
    "\n",
    "**NOTE**: It is possible to fetch an existing execution or simply retrieve an already commenced execution. Also, if you launch an execution with the same name, Flyte will respect that and not restart a new execution!"
   ]
  },
  {
   "cell_type": "code",
   "execution_count": 3,
   "id": "a8bd9614",
   "metadata": {},
   "outputs": [
    {
     "name": "stdout",
     "output_type": "stream",
     "text": [
      "Execution f31ec4e7f856d4d528f1 is in SUCCEEDED phase\n"
     ]
    }
   ],
   "source": [
    "from flytekit.models.core.execution import WorkflowExecutionPhase\n",
    "\n",
    "synced_execution = remote.sync(execution, sync_nodes=True)\n",
    "print(f\"Execution {synced_execution.id.name} is in {WorkflowExecutionPhase.enum_to_string(synced_execution.closure.phase)} phase\")"
   ]
  },
  {
   "cell_type": "markdown",
   "id": "65e5b181",
   "metadata": {},
   "source": [
    "### 04. Retrieve the output\n",
    "\n",
    "Fetch the model and the model prediction."
   ]
  },
  {
   "cell_type": "code",
   "execution_count": 4,
   "id": "ab24b1c0",
   "metadata": {},
   "outputs": [
    {
     "data": {
      "text/plain": [
       "/var/folders/6r/9pdkgpkd5nx1t34ndh1f_3q80000gn/T/flyte4jdjgu28/control_plane_metadata/local_flytekit/676810c6c2ab8918c578323d17c45adc/83fe2ce568a95b4e11659a2709bccd4a.npy"
      ]
     },
     "execution_count": 4,
     "metadata": {},
     "output_type": "execute_result"
    }
   ],
   "source": [
    "model = synced_execution.outputs[\"o0\"]\n",
    "prediction = synced_execution.outputs[\"o1\"]\n",
    "prediction"
   ]
  },
  {
   "cell_type": "markdown",
   "id": "af8277d3",
   "metadata": {},
   "source": [
    "**NOTE**: The output model is available locally as a JobLibSerialized file, which can be downloaded and loaded."
   ]
  },
  {
   "cell_type": "code",
   "execution_count": 5,
   "id": "8a841e22",
   "metadata": {
    "scrolled": true
   },
   "outputs": [
    {
     "data": {
      "text/plain": [
       "/var/folders/6r/9pdkgpkd5nx1t34ndh1f_3q80000gn/T/flyte4jdjgu28/control_plane_metadata/local_flytekit/f17f765e7ad7cd32815d76d1c2b7fe20/model.joblib.dat"
      ]
     },
     "execution_count": 5,
     "metadata": {},
     "output_type": "execute_result"
    }
   ],
   "source": [
    "model"
   ]
  },
  {
   "cell_type": "markdown",
   "id": "91b3bcbc",
   "metadata": {},
   "source": [
    "Fetch the ``repo_config``."
   ]
  },
  {
   "cell_type": "code",
   "execution_count": 6,
   "id": "a21feeb6",
   "metadata": {},
   "outputs": [],
   "source": [
    "repo_config = synced_execution.node_executions[\"n0\"].outputs[\"o0\"]"
   ]
  },
  {
   "cell_type": "markdown",
   "id": "7a535b4d",
   "metadata": {},
   "source": [
    "### 05. Generate predictions\n",
    "\n",
    "Re-use the `predict` function from the workflow to generate predictions — Flytekit will automatically manage the IO for you!"
   ]
  },
  {
   "cell_type": "markdown",
   "id": "dff58f63",
   "metadata": {},
   "source": [
    "#### Load features from the online feature store"
   ]
  },
  {
   "cell_type": "code",
   "execution_count": 11,
   "id": "c7a2c3c4",
   "metadata": {},
   "outputs": [
    {
     "name": "stdout",
     "output_type": "stream",
     "text": [
      "minio\n"
     ]
    },
    {
     "name": "stderr",
     "output_type": "stream",
     "text": [
      "{\"asctime\": \"2022-09-19 18:32:46,120\", \"name\": \"flytekit\", \"levelname\": \"ERROR\", \"message\": \"Error from command '['aws', 's3', 'cp', 's3://my-s3-bucket/test/18/f31ec4e7f856d4d528f1-n4-0/9237a930d2c15fd2fa9dd87383a4ef3e/online.db', '/var/folders/6r/9pdkgpkd5nx1t34ndh1f_3q80000gn/T/flyte-v4dqxgo0/sandbox/local_flytekit/cb8bec252c77f43a58a7586dba26c9a1/online.db']':\\nb'fatal error: An error occurred (403) when calling the HeadObject operation: Forbidden\\\\n'\\n\"}\n",
      "{\"asctime\": \"2022-09-19 18:32:47,614\", \"name\": \"flytekit\", \"levelname\": \"ERROR\", \"message\": \"Error from command '['aws', '--no-sign-request', 's3', 'cp', 's3://my-s3-bucket/test/18/f31ec4e7f856d4d528f1-n4-0/9237a930d2c15fd2fa9dd87383a4ef3e/online.db', '/var/folders/6r/9pdkgpkd5nx1t34ndh1f_3q80000gn/T/flyte-v4dqxgo0/sandbox/local_flytekit/cb8bec252c77f43a58a7586dba26c9a1/online.db']':\\nb'fatal error: An error occurred (403) when calling the HeadObject operation: Forbidden\\\\n'\\n\"}\n",
      "{\"asctime\": \"2022-09-19 18:32:47,618\", \"name\": \"flytekit\", \"levelname\": \"ERROR\", \"message\": \"Exception when trying to execute ['aws', 's3', 'cp', 's3://my-s3-bucket/test/18/f31ec4e7f856d4d528f1-n4-0/9237a930d2c15fd2fa9dd87383a4ef3e/online.db', '/var/folders/6r/9pdkgpkd5nx1t34ndh1f_3q80000gn/T/flyte-v4dqxgo0/sandbox/local_flytekit/cb8bec252c77f43a58a7586dba26c9a1/online.db'], reason: Called process exited with error code: 1.  Stderr dump:\\n\\nb'fatal error: An error occurred (403) when calling the HeadObject operation: Forbidden\\\\n'\"}\n",
      "{\"asctime\": \"2022-09-19 18:32:54,200\", \"name\": \"flytekit\", \"levelname\": \"ERROR\", \"message\": \"Error from command '['aws', 's3', 'cp', 's3://my-s3-bucket/test/18/f31ec4e7f856d4d528f1-n4-0/9237a930d2c15fd2fa9dd87383a4ef3e/online.db', '/var/folders/6r/9pdkgpkd5nx1t34ndh1f_3q80000gn/T/flyte-v4dqxgo0/sandbox/local_flytekit/cb8bec252c77f43a58a7586dba26c9a1/online.db']':\\nb'fatal error: An error occurred (403) when calling the HeadObject operation: Forbidden\\\\n'\\n\"}\n",
      "{\"asctime\": \"2022-09-19 18:32:55,680\", \"name\": \"flytekit\", \"levelname\": \"ERROR\", \"message\": \"Error from command '['aws', '--no-sign-request', 's3', 'cp', 's3://my-s3-bucket/test/18/f31ec4e7f856d4d528f1-n4-0/9237a930d2c15fd2fa9dd87383a4ef3e/online.db', '/var/folders/6r/9pdkgpkd5nx1t34ndh1f_3q80000gn/T/flyte-v4dqxgo0/sandbox/local_flytekit/cb8bec252c77f43a58a7586dba26c9a1/online.db']':\\nb'fatal error: An error occurred (403) when calling the HeadObject operation: Forbidden\\\\n'\\n\"}\n",
      "{\"asctime\": \"2022-09-19 18:32:55,684\", \"name\": \"flytekit\", \"levelname\": \"ERROR\", \"message\": \"Exception when trying to execute ['aws', 's3', 'cp', 's3://my-s3-bucket/test/18/f31ec4e7f856d4d528f1-n4-0/9237a930d2c15fd2fa9dd87383a4ef3e/online.db', '/var/folders/6r/9pdkgpkd5nx1t34ndh1f_3q80000gn/T/flyte-v4dqxgo0/sandbox/local_flytekit/cb8bec252c77f43a58a7586dba26c9a1/online.db'], reason: Called process exited with error code: 1.  Stderr dump:\\n\\nb'fatal error: An error occurred (403) when calling the HeadObject operation: Forbidden\\\\n'\"}\n",
      "{\"asctime\": \"2022-09-19 18:33:02,385\", \"name\": \"flytekit\", \"levelname\": \"ERROR\", \"message\": \"Error from command '['aws', 's3', 'cp', 's3://my-s3-bucket/test/18/f31ec4e7f856d4d528f1-n4-0/9237a930d2c15fd2fa9dd87383a4ef3e/online.db', '/var/folders/6r/9pdkgpkd5nx1t34ndh1f_3q80000gn/T/flyte-v4dqxgo0/sandbox/local_flytekit/cb8bec252c77f43a58a7586dba26c9a1/online.db']':\\nb'fatal error: An error occurred (403) when calling the HeadObject operation: Forbidden\\\\n'\\n\"}\n",
      "{\"asctime\": \"2022-09-19 18:33:03,944\", \"name\": \"flytekit\", \"levelname\": \"ERROR\", \"message\": \"Error from command '['aws', '--no-sign-request', 's3', 'cp', 's3://my-s3-bucket/test/18/f31ec4e7f856d4d528f1-n4-0/9237a930d2c15fd2fa9dd87383a4ef3e/online.db', '/var/folders/6r/9pdkgpkd5nx1t34ndh1f_3q80000gn/T/flyte-v4dqxgo0/sandbox/local_flytekit/cb8bec252c77f43a58a7586dba26c9a1/online.db']':\\nb'fatal error: An error occurred (403) when calling the HeadObject operation: Forbidden\\\\n'\\n\"}\n",
      "{\"asctime\": \"2022-09-19 18:33:03,948\", \"name\": \"flytekit\", \"levelname\": \"ERROR\", \"message\": \"Exception when trying to execute ['aws', 's3', 'cp', 's3://my-s3-bucket/test/18/f31ec4e7f856d4d528f1-n4-0/9237a930d2c15fd2fa9dd87383a4ef3e/online.db', '/var/folders/6r/9pdkgpkd5nx1t34ndh1f_3q80000gn/T/flyte-v4dqxgo0/sandbox/local_flytekit/cb8bec252c77f43a58a7586dba26c9a1/online.db'], reason: Called process exited with error code: 1.  Stderr dump:\\n\\nb'fatal error: An error occurred (403) when calling the HeadObject operation: Forbidden\\\\n'\"}\n",
      "{\"asctime\": \"2022-09-19 18:33:10,412\", \"name\": \"flytekit\", \"levelname\": \"ERROR\", \"message\": \"Error from command '['aws', 's3', 'cp', 's3://my-s3-bucket/test/18/f31ec4e7f856d4d528f1-n4-0/9237a930d2c15fd2fa9dd87383a4ef3e/online.db', '/var/folders/6r/9pdkgpkd5nx1t34ndh1f_3q80000gn/T/flyte-v4dqxgo0/sandbox/local_flytekit/cb8bec252c77f43a58a7586dba26c9a1/online.db']':\\nb'fatal error: An error occurred (403) when calling the HeadObject operation: Forbidden\\\\n'\\n\"}\n",
      "{\"asctime\": \"2022-09-19 18:33:11,998\", \"name\": \"flytekit\", \"levelname\": \"ERROR\", \"message\": \"Error from command '['aws', '--no-sign-request', 's3', 'cp', 's3://my-s3-bucket/test/18/f31ec4e7f856d4d528f1-n4-0/9237a930d2c15fd2fa9dd87383a4ef3e/online.db', '/var/folders/6r/9pdkgpkd5nx1t34ndh1f_3q80000gn/T/flyte-v4dqxgo0/sandbox/local_flytekit/cb8bec252c77f43a58a7586dba26c9a1/online.db']':\\nb'fatal error: An error occurred (403) when calling the HeadObject operation: Forbidden\\\\n'\\n\"}\n",
      "{\"asctime\": \"2022-09-19 18:33:12,002\", \"name\": \"flytekit\", \"levelname\": \"ERROR\", \"message\": \"Exception when trying to execute ['aws', 's3', 'cp', 's3://my-s3-bucket/test/18/f31ec4e7f856d4d528f1-n4-0/9237a930d2c15fd2fa9dd87383a4ef3e/online.db', '/var/folders/6r/9pdkgpkd5nx1t34ndh1f_3q80000gn/T/flyte-v4dqxgo0/sandbox/local_flytekit/cb8bec252c77f43a58a7586dba26c9a1/online.db'], reason: Called process exited with error code: 1.  Stderr dump:\\n\\nb'fatal error: An error occurred (403) when calling the HeadObject operation: Forbidden\\\\n'\"}\n",
      "{\"asctime\": \"2022-09-19 18:33:12,003\", \"name\": \"flytekit\", \"levelname\": \"ERROR\", \"message\": \"Exception when executing Failed to get data from s3://my-s3-bucket/test/18/f31ec4e7f856d4d528f1-n4-0/9237a930d2c15fd2fa9dd87383a4ef3e/online.db to /var/folders/6r/9pdkgpkd5nx1t34ndh1f_3q80000gn/T/flyte-v4dqxgo0/sandbox/local_flytekit/cb8bec252c77f43a58a7586dba26c9a1/online.db (recursive=False).\\n\\nOriginal exception: Called process exited with error code: 1.  Stderr dump:\\n\\nb'fatal error: An error occurred (403) when calling the HeadObject operation: Forbidden\\\\n'\", \"exc_info\": \"Traceback (most recent call last):\\n  File \\\"/Users/samhitaalla/.pyenv/versions/3.9.9/envs/flytesnacks/lib/python3.9/site-packages/flytekit/core/data_persistence.py\\\", line 431, in get_data\\n    data_persistence_plugin(data_config=self.data_config).get(\\n  File \\\"/Users/samhitaalla/.pyenv/versions/3.9.9/envs/flytesnacks/lib/python3.9/site-packages/flytekit/extras/persistence/s3_awscli.py\\\", line 153, in get\\n    return _update_cmd_config_and_execute(cmd=cmd, s3_cfg=self.s3_cfg)\\n  File \\\"/Users/samhitaalla/.pyenv/versions/3.9.9/envs/flytesnacks/lib/python3.9/site-packages/flytekit/extras/persistence/s3_awscli.py\\\", line 51, in _update_cmd_config_and_execute\\n    return subprocess.check_call(anonymous_cmd, env=env)\\n  File \\\"/Users/samhitaalla/.pyenv/versions/3.9.9/envs/flytesnacks/lib/python3.9/site-packages/flytekit/tools/subprocess.py\\\", line 26, in check_call\\n    raise Exception(\\nException: Called process exited with error code: 1.  Stderr dump:\\n\\nb'fatal error: An error occurred (403) when calling the HeadObject operation: Forbidden\\\\n'\\n\\nDuring handling of the above exception, another exception occurred:\\n\\nTraceback (most recent call last):\\n  File \\\"/Users/samhitaalla/.pyenv/versions/3.9.9/envs/flytesnacks/lib/python3.9/site-packages/flytekit/core/base_task.py\\\", line 479, in dispatch_execute\\n    native_outputs = self.execute(**native_inputs)\\n  File \\\"/Users/samhitaalla/.pyenv/versions/3.9.9/envs/flytesnacks/lib/python3.9/site-packages/flytekit/core/python_function_task.py\\\", line 163, in execute\\n    return exception_scopes.user_entry_point(self._task_function)(**kwargs)\\n  File \\\"/Users/samhitaalla/.pyenv/versions/3.9.9/envs/flytesnacks/lib/python3.9/site-packages/flytekit/exceptions/scopes.py\\\", line 198, in user_entry_point\\n    return wrapped(*args, **kwargs)\\n  File \\\"/Users/samhitaalla/Desktop/flytesnacks/cookbook/case_studies/feature_engineering/feast_integration/feast_workflow.py\\\", line 319, in retrieve_online\\n    online_store.download(), repo_config.online_store.path\\n  File \\\"/Users/samhitaalla/.pyenv/versions/3.9.9/envs/flytesnacks/lib/python3.9/site-packages/flytekit/types/file/file.py\\\", line 220, in download\\n    return self.__fspath__()\\n  File \\\"/Users/samhitaalla/.pyenv/versions/3.9.9/envs/flytesnacks/lib/python3.9/site-packages/flytekit/types/file/file.py\\\", line 189, in __fspath__\\n    self._downloader()\\n  File \\\"/Users/samhitaalla/.pyenv/versions/3.9.9/envs/flytesnacks/lib/python3.9/site-packages/flytekit/types/file/file.py\\\", line 354, in _downloader\\n    return ctx.file_access.get_data(uri, local_path, is_multipart=False)\\n  File \\\"/Users/samhitaalla/.pyenv/versions/3.9.9/envs/flytesnacks/lib/python3.9/site-packages/flytekit/core/data_persistence.py\\\", line 435, in get_data\\n    raise FlyteAssertion(\\nflytekit.exceptions.user.FlyteAssertion: Failed to get data from s3://my-s3-bucket/test/18/f31ec4e7f856d4d528f1-n4-0/9237a930d2c15fd2fa9dd87383a4ef3e/online.db to /var/folders/6r/9pdkgpkd5nx1t34ndh1f_3q80000gn/T/flyte-v4dqxgo0/sandbox/local_flytekit/cb8bec252c77f43a58a7586dba26c9a1/online.db (recursive=False).\\n\\nOriginal exception: Called process exited with error code: 1.  Stderr dump:\\n\\nb'fatal error: An error occurred (403) when calling the HeadObject operation: Forbidden\\\\n'\"}\n"
     ]
    },
    {
     "ename": "FlyteAssertion",
     "evalue": "Failed to get data from s3://my-s3-bucket/test/18/f31ec4e7f856d4d528f1-n4-0/9237a930d2c15fd2fa9dd87383a4ef3e/online.db to /var/folders/6r/9pdkgpkd5nx1t34ndh1f_3q80000gn/T/flyte-v4dqxgo0/sandbox/local_flytekit/cb8bec252c77f43a58a7586dba26c9a1/online.db (recursive=False).\n\nOriginal exception: Called process exited with error code: 1.  Stderr dump:\n\nb'fatal error: An error occurred (403) when calling the HeadObject operation: Forbidden\\n'",
     "output_type": "error",
     "traceback": [
      "\u001b[0;31m---------------------------------------------------------------------------\u001b[0m",
      "\u001b[0;31mException\u001b[0m                                 Traceback (most recent call last)",
      "File \u001b[0;32m~/.pyenv/versions/3.9.9/envs/flytesnacks/lib/python3.9/site-packages/flytekit/core/data_persistence.py:431\u001b[0m, in \u001b[0;36mFileAccessProvider.get_data\u001b[0;34m(self, remote_path, local_path, is_multipart)\u001b[0m\n\u001b[1;32m    430\u001b[0m         data_persistence_plugin \u001b[39m=\u001b[39m DataPersistencePlugins\u001b[39m.\u001b[39mfind_plugin(remote_path)\n\u001b[0;32m--> 431\u001b[0m         data_persistence_plugin(data_config\u001b[39m=\u001b[39;49m\u001b[39mself\u001b[39;49m\u001b[39m.\u001b[39;49mdata_config)\u001b[39m.\u001b[39;49mget(\n\u001b[1;32m    432\u001b[0m             remote_path, local_path, recursive\u001b[39m=\u001b[39;49mis_multipart\n\u001b[1;32m    433\u001b[0m         )\n\u001b[1;32m    434\u001b[0m \u001b[39mexcept\u001b[39;00m \u001b[39mException\u001b[39;00m \u001b[39mas\u001b[39;00m ex:\n",
      "File \u001b[0;32m~/.pyenv/versions/3.9.9/envs/flytesnacks/lib/python3.9/site-packages/flytekit/extras/persistence/s3_awscli.py:153\u001b[0m, in \u001b[0;36mS3Persistence.get\u001b[0;34m(self, from_path, to_path, recursive)\u001b[0m\n\u001b[1;32m    152\u001b[0m     cmd \u001b[39m=\u001b[39m [S3Persistence\u001b[39m.\u001b[39m_AWS_CLI, \u001b[39m\"\u001b[39m\u001b[39ms3\u001b[39m\u001b[39m\"\u001b[39m, \u001b[39m\"\u001b[39m\u001b[39mcp\u001b[39m\u001b[39m\"\u001b[39m, from_path, to_path]\n\u001b[0;32m--> 153\u001b[0m \u001b[39mreturn\u001b[39;00m _update_cmd_config_and_execute(cmd\u001b[39m=\u001b[39;49mcmd, s3_cfg\u001b[39m=\u001b[39;49m\u001b[39mself\u001b[39;49m\u001b[39m.\u001b[39;49ms3_cfg)\n",
      "File \u001b[0;32m~/.pyenv/versions/3.9.9/envs/flytesnacks/lib/python3.9/site-packages/flytekit/extras/persistence/s3_awscli.py:51\u001b[0m, in \u001b[0;36m_update_cmd_config_and_execute\u001b[0;34m(s3_cfg, cmd)\u001b[0m\n\u001b[1;32m     50\u001b[0m     anonymous_cmd\u001b[39m.\u001b[39minsert(\u001b[39m1\u001b[39m, S3_ANONYMOUS_FLAG)\n\u001b[0;32m---> 51\u001b[0m     \u001b[39mreturn\u001b[39;00m subprocess\u001b[39m.\u001b[39;49mcheck_call(anonymous_cmd, env\u001b[39m=\u001b[39;49menv)\n\u001b[1;32m     53\u001b[0m \u001b[39mexcept\u001b[39;00m \u001b[39mException\u001b[39;00m \u001b[39mas\u001b[39;00m e:\n",
      "File \u001b[0;32m~/.pyenv/versions/3.9.9/envs/flytesnacks/lib/python3.9/site-packages/flytekit/tools/subprocess.py:26\u001b[0m, in \u001b[0;36mcheck_call\u001b[0;34m(cmd_args, **kwargs)\u001b[0m\n\u001b[1;32m     24\u001b[0m             logger\u001b[39m.\u001b[39merror(\u001b[39m\"\u001b[39m\u001b[39mError from command \u001b[39m\u001b[39m'\u001b[39m\u001b[39m{}\u001b[39;00m\u001b[39m'\u001b[39m\u001b[39m:\u001b[39m\u001b[39m\\n\u001b[39;00m\u001b[39m{}\u001b[39;00m\u001b[39m\\n\u001b[39;00m\u001b[39m\"\u001b[39m\u001b[39m.\u001b[39mformat(cmd_args, err_str))\n\u001b[0;32m---> 26\u001b[0m             \u001b[39mraise\u001b[39;00m \u001b[39mException\u001b[39;00m(\n\u001b[1;32m     27\u001b[0m                 \u001b[39m\"\u001b[39m\u001b[39mCalled process exited with error code: \u001b[39m\u001b[39m{}\u001b[39;00m\u001b[39m.  Stderr dump:\u001b[39m\u001b[39m\\n\u001b[39;00m\u001b[39m\\n\u001b[39;00m\u001b[39m{}\u001b[39;00m\u001b[39m\"\u001b[39m\u001b[39m.\u001b[39mformat(ret_code, err_str)\n\u001b[1;32m     28\u001b[0m             )\n\u001b[1;32m     30\u001b[0m \u001b[39mreturn\u001b[39;00m \u001b[39m0\u001b[39m\n",
      "\u001b[0;31mException\u001b[0m: Called process exited with error code: 1.  Stderr dump:\n\nb'fatal error: An error occurred (403) when calling the HeadObject operation: Forbidden\\n'",
      "\nDuring handling of the above exception, another exception occurred:\n",
      "\u001b[0;31mFlyteAssertion\u001b[0m                            Traceback (most recent call last)",
      "Cell \u001b[0;32mIn [11], line 10\u001b[0m\n\u001b[1;32m      7\u001b[0m os\u001b[38;5;241m.\u001b[39menviron[\u001b[38;5;124m\"\u001b[39m\u001b[38;5;124mAWS_SECRET_ACCESS_KEY\u001b[39m\u001b[38;5;124m\"\u001b[39m] \u001b[38;5;241m=\u001b[39m os\u001b[38;5;241m.\u001b[39menviron[\u001b[38;5;124m\"\u001b[39m\u001b[38;5;124mAWS_SECRET_ACCESS_KEY\u001b[39m\u001b[38;5;124m\"\u001b[39m] \u001b[38;5;241m=\u001b[39m \u001b[38;5;124m\"\u001b[39m\u001b[38;5;124mminiostorage\u001b[39m\u001b[38;5;124m\"\u001b[39m\n\u001b[1;32m      8\u001b[0m \u001b[38;5;28mprint\u001b[39m(os\u001b[38;5;241m.\u001b[39menviron[\u001b[38;5;124m\"\u001b[39m\u001b[38;5;124mAWS_ACCESS_KEY_ID\u001b[39m\u001b[38;5;124m\"\u001b[39m])\n\u001b[0;32m---> 10\u001b[0m inference_point \u001b[38;5;241m=\u001b[39m \u001b[43mretrieve_online\u001b[49m\u001b[43m(\u001b[49m\n\u001b[1;32m     11\u001b[0m \u001b[43m    \u001b[49m\u001b[43mrepo_config\u001b[49m\u001b[38;5;241;43m=\u001b[39;49m\u001b[43mrepo_config\u001b[49m\u001b[43m,\u001b[49m\n\u001b[1;32m     12\u001b[0m \u001b[43m    \u001b[49m\u001b[43monline_store\u001b[49m\u001b[38;5;241;43m=\u001b[39;49m\u001b[43msynced_execution\u001b[49m\u001b[38;5;241;43m.\u001b[39;49m\u001b[43mnode_executions\u001b[49m\u001b[43m[\u001b[49m\u001b[38;5;124;43m\"\u001b[39;49m\u001b[38;5;124;43mn4\u001b[39;49m\u001b[38;5;124;43m\"\u001b[39;49m\u001b[43m]\u001b[49m\u001b[38;5;241;43m.\u001b[39;49m\u001b[43moutputs\u001b[49m\u001b[43m[\u001b[49m\u001b[38;5;124;43m\"\u001b[39;49m\u001b[38;5;124;43mo0\u001b[39;49m\u001b[38;5;124;43m\"\u001b[39;49m\u001b[43m]\u001b[49m\u001b[43m,\u001b[49m\n\u001b[1;32m     13\u001b[0m \u001b[43m    \u001b[49m\u001b[43mdata_point\u001b[49m\u001b[38;5;241;43m=\u001b[39;49m\u001b[38;5;241;43m533738\u001b[39;49m\u001b[43m,\u001b[49m\n\u001b[1;32m     14\u001b[0m \u001b[43m)\u001b[49m\n\u001b[1;32m     15\u001b[0m inference_point\n",
      "File \u001b[0;32m~/.pyenv/versions/3.9.9/envs/flytesnacks/lib/python3.9/site-packages/flytekit/core/base_task.py:284\u001b[0m, in \u001b[0;36mTask.__call__\u001b[0;34m(self, *args, **kwargs)\u001b[0m\n\u001b[1;32m    283\u001b[0m \u001b[39mdef\u001b[39;00m \u001b[39m__call__\u001b[39m(\u001b[39mself\u001b[39m, \u001b[39m*\u001b[39margs, \u001b[39m*\u001b[39m\u001b[39m*\u001b[39mkwargs):\n\u001b[0;32m--> 284\u001b[0m     \u001b[39mreturn\u001b[39;00m flyte_entity_call_handler(\u001b[39mself\u001b[39;49m, \u001b[39m*\u001b[39;49margs, \u001b[39m*\u001b[39;49m\u001b[39m*\u001b[39;49mkwargs)\n",
      "File \u001b[0;32m~/.pyenv/versions/3.9.9/envs/flytesnacks/lib/python3.9/site-packages/flytekit/core/promise.py:1036\u001b[0m, in \u001b[0;36mflyte_entity_call_handler\u001b[0;34m(entity, *args, **kwargs)\u001b[0m\n\u001b[1;32m   1030\u001b[0m \u001b[39mwith\u001b[39;00m FlyteContextManager\u001b[39m.\u001b[39mwith_context(\n\u001b[1;32m   1031\u001b[0m     ctx\u001b[39m.\u001b[39mwith_execution_state(\n\u001b[1;32m   1032\u001b[0m         ctx\u001b[39m.\u001b[39mnew_execution_state()\u001b[39m.\u001b[39mwith_params(mode\u001b[39m=\u001b[39mExecutionState\u001b[39m.\u001b[39mMode\u001b[39m.\u001b[39mLOCAL_WORKFLOW_EXECUTION)\n\u001b[1;32m   1033\u001b[0m     )\n\u001b[1;32m   1034\u001b[0m ) \u001b[39mas\u001b[39;00m child_ctx:\n\u001b[1;32m   1035\u001b[0m     cast(FlyteContext, child_ctx)\u001b[39m.\u001b[39muser_space_params\u001b[39m.\u001b[39m_decks \u001b[39m=\u001b[39m []\n\u001b[0;32m-> 1036\u001b[0m     result \u001b[39m=\u001b[39m cast(LocallyExecutable, entity)\u001b[39m.\u001b[39;49mlocal_execute(child_ctx, \u001b[39m*\u001b[39;49m\u001b[39m*\u001b[39;49mkwargs)\n\u001b[1;32m   1038\u001b[0m expected_outputs \u001b[39m=\u001b[39m \u001b[39mlen\u001b[39m(cast(SupportsNodeCreation, entity)\u001b[39m.\u001b[39mpython_interface\u001b[39m.\u001b[39moutputs)\n\u001b[1;32m   1039\u001b[0m \u001b[39mif\u001b[39;00m expected_outputs \u001b[39m==\u001b[39m \u001b[39m0\u001b[39m:\n",
      "File \u001b[0;32m~/.pyenv/versions/3.9.9/envs/flytesnacks/lib/python3.9/site-packages/flytekit/core/base_task.py:265\u001b[0m, in \u001b[0;36mTask.local_execute\u001b[0;34m(self, ctx, **kwargs)\u001b[0m\n\u001b[1;32m    263\u001b[0m     b \u001b[39m=\u001b[39m es\u001b[39m.\u001b[39muser_space_params\u001b[39m.\u001b[39mwith_task_sandbox()\n\u001b[1;32m    264\u001b[0m     ctx \u001b[39m=\u001b[39m ctx\u001b[39m.\u001b[39mcurrent_context()\u001b[39m.\u001b[39mwith_execution_state(es\u001b[39m.\u001b[39mwith_params(user_space_params\u001b[39m=\u001b[39mb\u001b[39m.\u001b[39mbuild()))\u001b[39m.\u001b[39mbuild()\n\u001b[0;32m--> 265\u001b[0m     outputs_literal_map \u001b[39m=\u001b[39m \u001b[39mself\u001b[39;49m\u001b[39m.\u001b[39;49mdispatch_execute(ctx, input_literal_map)\n\u001b[1;32m    266\u001b[0m outputs_literals \u001b[39m=\u001b[39m outputs_literal_map\u001b[39m.\u001b[39mliterals\n\u001b[1;32m    268\u001b[0m \u001b[39m# TODO maybe this is the part that should be done for local execution, we pass the outputs to some special\u001b[39;00m\n\u001b[1;32m    269\u001b[0m \u001b[39m#    location, otherwise we dont really need to right? The higher level execute could just handle literalMap\u001b[39;00m\n\u001b[1;32m    270\u001b[0m \u001b[39m# After running, we again have to wrap the outputs, if any, back into Promise objects\u001b[39;00m\n",
      "File \u001b[0;32m~/.pyenv/versions/3.9.9/envs/flytesnacks/lib/python3.9/site-packages/flytekit/core/base_task.py:482\u001b[0m, in \u001b[0;36mPythonTask.dispatch_execute\u001b[0;34m(self, ctx, input_literal_map)\u001b[0m\n\u001b[1;32m    480\u001b[0m \u001b[39mexcept\u001b[39;00m \u001b[39mException\u001b[39;00m \u001b[39mas\u001b[39;00m e:\n\u001b[1;32m    481\u001b[0m     logger\u001b[39m.\u001b[39mexception(\u001b[39mf\u001b[39m\u001b[39m\"\u001b[39m\u001b[39mException when executing \u001b[39m\u001b[39m{\u001b[39;00me\u001b[39m}\u001b[39;00m\u001b[39m\"\u001b[39m)\n\u001b[0;32m--> 482\u001b[0m     \u001b[39mraise\u001b[39;00m e\n\u001b[1;32m    484\u001b[0m logger\u001b[39m.\u001b[39mdebug(\u001b[39m\"\u001b[39m\u001b[39mTask executed successfully in user level\u001b[39m\u001b[39m\"\u001b[39m)\n\u001b[1;32m    485\u001b[0m \u001b[39m# Lets run the post_execute method. This may result in a IgnoreOutputs Exception, which is\u001b[39;00m\n\u001b[1;32m    486\u001b[0m \u001b[39m# bubbled up to be handled at the callee layer.\u001b[39;00m\n",
      "File \u001b[0;32m~/.pyenv/versions/3.9.9/envs/flytesnacks/lib/python3.9/site-packages/flytekit/core/base_task.py:479\u001b[0m, in \u001b[0;36mPythonTask.dispatch_execute\u001b[0;34m(self, ctx, input_literal_map)\u001b[0m\n\u001b[1;32m    477\u001b[0m logger\u001b[39m.\u001b[39minfo(\u001b[39mf\u001b[39m\u001b[39m\"\u001b[39m\u001b[39mInvoking \u001b[39m\u001b[39m{\u001b[39;00m\u001b[39mself\u001b[39m\u001b[39m.\u001b[39mname\u001b[39m}\u001b[39;00m\u001b[39m with inputs: \u001b[39m\u001b[39m{\u001b[39;00mnative_inputs\u001b[39m}\u001b[39;00m\u001b[39m\"\u001b[39m)\n\u001b[1;32m    478\u001b[0m \u001b[39mtry\u001b[39;00m:\n\u001b[0;32m--> 479\u001b[0m     native_outputs \u001b[39m=\u001b[39m \u001b[39mself\u001b[39;49m\u001b[39m.\u001b[39;49mexecute(\u001b[39m*\u001b[39;49m\u001b[39m*\u001b[39;49mnative_inputs)\n\u001b[1;32m    480\u001b[0m \u001b[39mexcept\u001b[39;00m \u001b[39mException\u001b[39;00m \u001b[39mas\u001b[39;00m e:\n\u001b[1;32m    481\u001b[0m     logger\u001b[39m.\u001b[39mexception(\u001b[39mf\u001b[39m\u001b[39m\"\u001b[39m\u001b[39mException when executing \u001b[39m\u001b[39m{\u001b[39;00me\u001b[39m}\u001b[39;00m\u001b[39m\"\u001b[39m)\n",
      "File \u001b[0;32m~/.pyenv/versions/3.9.9/envs/flytesnacks/lib/python3.9/site-packages/flytekit/core/python_function_task.py:163\u001b[0m, in \u001b[0;36mPythonFunctionTask.execute\u001b[0;34m(self, **kwargs)\u001b[0m\n\u001b[1;32m    158\u001b[0m \u001b[39m\"\"\"\u001b[39;00m\n\u001b[1;32m    159\u001b[0m \u001b[39mThis method will be invoked to execute the task. If you do decide to override this method you must also\u001b[39;00m\n\u001b[1;32m    160\u001b[0m \u001b[39mhandle dynamic tasks or you will no longer be able to use the task as a dynamic task generator.\u001b[39;00m\n\u001b[1;32m    161\u001b[0m \u001b[39m\"\"\"\u001b[39;00m\n\u001b[1;32m    162\u001b[0m \u001b[39mif\u001b[39;00m \u001b[39mself\u001b[39m\u001b[39m.\u001b[39mexecution_mode \u001b[39m==\u001b[39m \u001b[39mself\u001b[39m\u001b[39m.\u001b[39mExecutionBehavior\u001b[39m.\u001b[39mDEFAULT:\n\u001b[0;32m--> 163\u001b[0m     \u001b[39mreturn\u001b[39;00m exception_scopes\u001b[39m.\u001b[39;49muser_entry_point(\u001b[39mself\u001b[39;49m\u001b[39m.\u001b[39;49m_task_function)(\u001b[39m*\u001b[39;49m\u001b[39m*\u001b[39;49mkwargs)\n\u001b[1;32m    164\u001b[0m \u001b[39melif\u001b[39;00m \u001b[39mself\u001b[39m\u001b[39m.\u001b[39mexecution_mode \u001b[39m==\u001b[39m \u001b[39mself\u001b[39m\u001b[39m.\u001b[39mExecutionBehavior\u001b[39m.\u001b[39mDYNAMIC:\n\u001b[1;32m    165\u001b[0m     \u001b[39mreturn\u001b[39;00m \u001b[39mself\u001b[39m\u001b[39m.\u001b[39mdynamic_execute(\u001b[39mself\u001b[39m\u001b[39m.\u001b[39m_task_function, \u001b[39m*\u001b[39m\u001b[39m*\u001b[39mkwargs)\n",
      "File \u001b[0;32m~/.pyenv/versions/3.9.9/envs/flytesnacks/lib/python3.9/site-packages/flytekit/exceptions/scopes.py:198\u001b[0m, in \u001b[0;36muser_entry_point\u001b[0;34m(wrapped, instance, args, kwargs)\u001b[0m\n\u001b[1;32m    195\u001b[0m \u001b[39mif\u001b[39;00m _is_base_context():\n\u001b[1;32m    196\u001b[0m     \u001b[39m# See comment at this location for system_entry_point\u001b[39;00m\n\u001b[1;32m    197\u001b[0m     \u001b[39mtry\u001b[39;00m:\n\u001b[0;32m--> 198\u001b[0m         \u001b[39mreturn\u001b[39;00m wrapped(\u001b[39m*\u001b[39;49margs, \u001b[39m*\u001b[39;49m\u001b[39m*\u001b[39;49mkwargs)\n\u001b[1;32m    199\u001b[0m     \u001b[39mexcept\u001b[39;00m FlyteScopedException \u001b[39mas\u001b[39;00m ex:\n\u001b[1;32m    200\u001b[0m         \u001b[39mraise\u001b[39;00m ex\u001b[39m.\u001b[39mvalue\n",
      "File \u001b[0;32m~/Desktop/flytesnacks/cookbook/case_studies/feature_engineering/feast_integration/feast_workflow.py:319\u001b[0m, in \u001b[0;36mretrieve_online\u001b[0;34m(repo_config, online_store, data_point)\u001b[0m\n\u001b[1;32m    307\u001b[0m entity_rows \u001b[39m=\u001b[39m [{\u001b[39m\"\u001b[39m\u001b[39mHospital Number\u001b[39m\u001b[39m\"\u001b[39m: data_point}]\n\u001b[1;32m    309\u001b[0m \u001b[39m# download the online store file and copy the content to the actual online store path\u001b[39;00m\n\u001b[1;32m    310\u001b[0m \u001b[39m# file_access_obj = FlyteContext().current_context().file_access\u001b[39;00m\n\u001b[1;32m    311\u001b[0m \u001b[39m# file_access_obj.data_config = DataConfig(\u001b[39;00m\n\u001b[0;32m   (...)\u001b[0m\n\u001b[1;32m    316\u001b[0m \u001b[39m#     )\u001b[39;00m\n\u001b[1;32m    317\u001b[0m \u001b[39m# )\u001b[39;00m\n\u001b[1;32m    318\u001b[0m FlyteContext\u001b[39m.\u001b[39mcurrent_context()\u001b[39m.\u001b[39mfile_access\u001b[39m.\u001b[39mget_data(\n\u001b[0;32m--> 319\u001b[0m     online_store\u001b[39m.\u001b[39;49mdownload(), repo_config\u001b[39m.\u001b[39monline_store\u001b[39m.\u001b[39mpath\n\u001b[1;32m    320\u001b[0m )\n\u001b[1;32m    322\u001b[0m \u001b[39m# get the feature vector\u001b[39;00m\n\u001b[1;32m    323\u001b[0m feature_vector \u001b[39m=\u001b[39m (\n\u001b[1;32m    324\u001b[0m     FeatureStore(config\u001b[39m=\u001b[39mrepo_config)\n\u001b[1;32m    325\u001b[0m     \u001b[39m.\u001b[39mget_online_features(FEAST_FEATURES, entity_rows)\n\u001b[1;32m    326\u001b[0m     \u001b[39m.\u001b[39mto_dict()\n\u001b[1;32m    327\u001b[0m )\n",
      "File \u001b[0;32m~/.pyenv/versions/3.9.9/envs/flytesnacks/lib/python3.9/site-packages/flytekit/types/file/file.py:220\u001b[0m, in \u001b[0;36mFlyteFile.download\u001b[0;34m(self)\u001b[0m\n\u001b[1;32m    219\u001b[0m \u001b[39mdef\u001b[39;00m \u001b[39mdownload\u001b[39m(\u001b[39mself\u001b[39m) \u001b[39m-\u001b[39m\u001b[39m>\u001b[39m \u001b[39mstr\u001b[39m:\n\u001b[0;32m--> 220\u001b[0m     \u001b[39mreturn\u001b[39;00m \u001b[39mself\u001b[39;49m\u001b[39m.\u001b[39;49m__fspath__()\n",
      "File \u001b[0;32m~/.pyenv/versions/3.9.9/envs/flytesnacks/lib/python3.9/site-packages/flytekit/types/file/file.py:189\u001b[0m, in \u001b[0;36mFlyteFile.__fspath__\u001b[0;34m(self)\u001b[0m\n\u001b[1;32m    186\u001b[0m \u001b[39mdef\u001b[39;00m \u001b[39m__fspath__\u001b[39m(\u001b[39mself\u001b[39m):\n\u001b[1;32m    187\u001b[0m     \u001b[39m# This is where a delayed downloading of the file will happen\u001b[39;00m\n\u001b[1;32m    188\u001b[0m     \u001b[39mif\u001b[39;00m \u001b[39mnot\u001b[39;00m \u001b[39mself\u001b[39m\u001b[39m.\u001b[39m_downloaded:\n\u001b[0;32m--> 189\u001b[0m         \u001b[39mself\u001b[39;49m\u001b[39m.\u001b[39;49m_downloader()\n\u001b[1;32m    190\u001b[0m         \u001b[39mself\u001b[39m\u001b[39m.\u001b[39m_downloaded \u001b[39m=\u001b[39m \u001b[39mTrue\u001b[39;00m\n\u001b[1;32m    191\u001b[0m     \u001b[39mreturn\u001b[39;00m \u001b[39mself\u001b[39m\u001b[39m.\u001b[39mpath\n",
      "File \u001b[0;32m~/.pyenv/versions/3.9.9/envs/flytesnacks/lib/python3.9/site-packages/flytekit/types/file/file.py:354\u001b[0m, in \u001b[0;36mFlyteFilePathTransformer.to_python_value.<locals>._downloader\u001b[0;34m()\u001b[0m\n\u001b[1;32m    353\u001b[0m \u001b[39mdef\u001b[39;00m \u001b[39m_downloader\u001b[39m():\n\u001b[0;32m--> 354\u001b[0m     \u001b[39mreturn\u001b[39;00m ctx\u001b[39m.\u001b[39;49mfile_access\u001b[39m.\u001b[39;49mget_data(uri, local_path, is_multipart\u001b[39m=\u001b[39;49m\u001b[39mFalse\u001b[39;49;00m)\n",
      "File \u001b[0;32m~/.pyenv/versions/3.9.9/envs/flytesnacks/lib/python3.9/site-packages/flytekit/core/data_persistence.py:435\u001b[0m, in \u001b[0;36mFileAccessProvider.get_data\u001b[0;34m(self, remote_path, local_path, is_multipart)\u001b[0m\n\u001b[1;32m    431\u001b[0m         data_persistence_plugin(data_config\u001b[39m=\u001b[39m\u001b[39mself\u001b[39m\u001b[39m.\u001b[39mdata_config)\u001b[39m.\u001b[39mget(\n\u001b[1;32m    432\u001b[0m             remote_path, local_path, recursive\u001b[39m=\u001b[39mis_multipart\n\u001b[1;32m    433\u001b[0m         )\n\u001b[1;32m    434\u001b[0m \u001b[39mexcept\u001b[39;00m \u001b[39mException\u001b[39;00m \u001b[39mas\u001b[39;00m ex:\n\u001b[0;32m--> 435\u001b[0m     \u001b[39mraise\u001b[39;00m FlyteAssertion(\n\u001b[1;32m    436\u001b[0m         \u001b[39mf\u001b[39m\u001b[39m\"\u001b[39m\u001b[39mFailed to get data from \u001b[39m\u001b[39m{\u001b[39;00mremote_path\u001b[39m}\u001b[39;00m\u001b[39m to \u001b[39m\u001b[39m{\u001b[39;00mlocal_path\u001b[39m}\u001b[39;00m\u001b[39m (recursive=\u001b[39m\u001b[39m{\u001b[39;00mis_multipart\u001b[39m}\u001b[39;00m\u001b[39m).\u001b[39m\u001b[39m\\n\u001b[39;00m\u001b[39m\\n\u001b[39;00m\u001b[39m\"\u001b[39m\n\u001b[1;32m    437\u001b[0m         \u001b[39mf\u001b[39m\u001b[39m\"\u001b[39m\u001b[39mOriginal exception: \u001b[39m\u001b[39m{\u001b[39;00m\u001b[39mstr\u001b[39m(ex)\u001b[39m}\u001b[39;00m\u001b[39m\"\u001b[39m\n\u001b[1;32m    438\u001b[0m     )\n",
      "\u001b[0;31mFlyteAssertion\u001b[0m: Failed to get data from s3://my-s3-bucket/test/18/f31ec4e7f856d4d528f1-n4-0/9237a930d2c15fd2fa9dd87383a4ef3e/online.db to /var/folders/6r/9pdkgpkd5nx1t34ndh1f_3q80000gn/T/flyte-v4dqxgo0/sandbox/local_flytekit/cb8bec252c77f43a58a7586dba26c9a1/online.db (recursive=False).\n\nOriginal exception: Called process exited with error code: 1.  Stderr dump:\n\nb'fatal error: An error occurred (403) when calling the HeadObject operation: Forbidden\\n'"
     ]
    }
   ],
   "source": [
    "import os\n",
    "\n",
    "from feast_workflow import predict, FEAST_FEATURES, retrieve_online\n",
    "\n",
    "os.environ[\"AWS_ENDPOINT\"] = os.environ[\"FEAST_S3_ENDPOINT_URL\"] = \"http://localhost:30084/\"\n",
    "os.environ[\"AWS_ACCESS_KEY_ID\"] = os.environ[\"AWS_ACCESS_KEY_ID\"] = \"minio\"\n",
    "os.environ[\"AWS_SECRET_ACCESS_KEY\"] = os.environ[\"AWS_SECRET_ACCESS_KEY\"] = \"miniostorage\"\n",
    "\n",
    "inference_point = retrieve_online(\n",
    "    repo_config=repo_config,\n",
    "    online_store=synced_execution.node_executions[\"n4\"].outputs[\"o0\"],\n",
    "    data_point=533738,\n",
    ")\n",
    "inference_point"
   ]
  },
  {
   "cell_type": "markdown",
   "id": "9a49e572",
   "metadata": {},
   "source": [
    "#### Generate a prediction"
   ]
  },
  {
   "cell_type": "code",
   "execution_count": null,
   "id": "e44c62e2",
   "metadata": {},
   "outputs": [],
   "source": [
    "predict(model_ser=model, features=inference_point)"
   ]
  }
 ],
 "metadata": {
  "kernelspec": {
   "display_name": "Python 3.9.9 64-bit ('flytesnacks')",
   "language": "python",
   "name": "python3"
  },
  "language_info": {
   "codemirror_mode": {
    "name": "ipython",
    "version": 3
   },
   "file_extension": ".py",
   "mimetype": "text/x-python",
   "name": "python",
   "nbconvert_exporter": "python",
   "pygments_lexer": "ipython3",
   "version": "3.9.9"
  },
  "vscode": {
   "interpreter": {
    "hash": "93d1c4f33f306e18e1c08a771c972fe86afbedaedb2338666e30a98a5179caac"
   }
  }
 },
 "nbformat": 4,
 "nbformat_minor": 5
}
