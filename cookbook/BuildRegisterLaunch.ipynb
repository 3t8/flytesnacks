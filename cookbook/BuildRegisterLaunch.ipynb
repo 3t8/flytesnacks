{
 "cells": [
  {
   "cell_type": "code",
   "execution_count": 18,
   "metadata": {},
   "outputs": [],
   "source": [
    "from flytekit.configuration import platform\n",
    "def print_console_url(exc):\n",
    "    print(\"http://{}/console/projects/{}/domains/{}/executions/{}\".format(platform.URL.get(), exc.id.project, exc.id.domain, exc.id.name))"
   ]
  },
  {
   "cell_type": "markdown",
   "metadata": {},
   "source": [
    "# Build, Register & Launch\n",
    "\n",
    "### 1) Build a docker image\n",
    "To ensure repeatablity, we recommend building a docker image with a new version to reflect any code change.\n",
    "\n",
    "Note: You need to have push permissions on a docker hub repo (or any other docker registry) to execute the docker push command."
   ]
  },
  {
   "cell_type": "code",
   "execution_count": 25,
   "metadata": {
    "scrolled": true
   },
   "outputs": [
    {
     "name": "stdout",
     "output_type": "stream",
     "text": [
      "Sending build context to Docker daemon  198.7kB\n",
      "Step 1/19 : FROM ubuntu:bionic\n",
      " ---> 775349758637\n",
      "Step 2/19 : WORKDIR /root\n",
      " ---> Using cache\n",
      " ---> 9e71f2c2950c\n",
      "Step 3/19 : ENV VENV /opt/venv\n",
      " ---> Using cache\n",
      " ---> 7605b00f67e3\n",
      "Step 4/19 : ENV LANG C.UTF-8\n",
      " ---> Using cache\n",
      " ---> 197d97963594\n",
      "Step 5/19 : ENV LC_ALL C.UTF-8\n",
      " ---> Using cache\n",
      " ---> f424c74f8294\n",
      "Step 6/19 : ENV PYTHONPATH /root\n",
      " ---> Using cache\n",
      " ---> ce39083a6d7c\n",
      "Step 7/19 : RUN :     && apt-get update && apt-get install -y python3.6 python3.6-venv python3.6-dev make build-essential libssl-dev python3-venv python3-pip curl\n",
      " ---> Using cache\n",
      " ---> fbbef8af0eb2\n",
      "Step 8/19 : RUN apt-get update && apt-get install -y libsm6 libxext6 libxrender-dev\n",
      " ---> Using cache\n",
      " ---> 61cfd96195b8\n",
      "Step 9/19 : RUN pip3 install awscli\n",
      " ---> Using cache\n",
      " ---> 9ec5fd79ae76\n",
      "Step 10/19 : RUN python3.6 -m venv ${VENV}\n",
      " ---> Using cache\n",
      " ---> c9f5e3d2048a\n",
      "Step 11/19 : RUN ${VENV}/bin/pip install wheel\n",
      " ---> Using cache\n",
      " ---> 14c2e932b36c\n",
      "Step 12/19 : COPY ./requirements.txt /root\n",
      " ---> Using cache\n",
      " ---> be39f391b4c4\n",
      "Step 13/19 : RUN ${VENV}/bin/pip install -r /root/requirements.txt\n",
      " ---> Using cache\n",
      " ---> 3862b457b56c\n",
      "Step 14/19 : COPY . /root\n",
      " ---> ceb5e3755cf5\n",
      "Step 15/19 : RUN cp ${VENV}/bin/flytekit_venv /usr/local/bin/\n",
      " ---> Running in 9838636a950c\n",
      "Removing intermediate container 9838636a950c\n",
      " ---> d27637eb2a7b\n",
      "Step 16/19 : RUN chmod a+x /usr/local/bin/flytekit_venv\n",
      " ---> Running in 76617bd4ed36\n",
      "Removing intermediate container 76617bd4ed36\n",
      " ---> 5e8ee2f10fd0\n",
      "Step 17/19 : ARG tag\n",
      " ---> Running in ab6db5e04737\n",
      "Removing intermediate container ab6db5e04737\n",
      " ---> 9b4ddda5c578\n",
      "Step 18/19 : ENV FLYTE_INTERNAL_IMAGE $tag\n",
      " ---> Running in 9a9d3dc3416e\n",
      "Removing intermediate container 9a9d3dc3416e\n",
      " ---> 82b457340edc\n",
      "Step 19/19 : ENTRYPOINT [\"/usr/local/bin/flytekit_venv\"]\n",
      " ---> Running in 5308d8240c99\n",
      "Removing intermediate container 5308d8240c99\n",
      " ---> 817d2ed47440\n",
      "Successfully built 817d2ed47440\n",
      "Successfully tagged lyft/flytesnacks:datacouncil-12345\n",
      "The push refers to repository [docker.io/lyft/flytesnacks]\n",
      "\n",
      "\u001b[1Bbf081287: Preparing \n",
      "\u001b[1B9e5e824c: Preparing \n",
      "\u001b[1B0d3ec387: Preparing \n",
      "\u001b[1B9fc24bc2: Preparing \n",
      "\u001b[1Bbb51655e: Preparing \n",
      "\u001b[1Be9699b3b: Preparing \n",
      "\u001b[1Bb7640e73: Preparing \n",
      "\u001b[1B02118bd7: Preparing \n",
      "\u001b[1B28cd61d6: Preparing \n",
      "\u001b[1Bafb09dc3: Preparing \n",
      "\u001b[1Bb5a53aac: Preparing \n",
      "\u001b[1Bc8e5063e: Preparing \n",
      "\u001b[12Be5e824c: Pushed lready exists 3kB\u001b[11A\u001b[2K\u001b[13A\u001b[2K\u001b[6A\u001b[2K\u001b[5A\u001b[2K\u001b[1A\u001b[2K\u001b[13A\u001b[2K\u001b[12A\u001b[2Kdatacouncil-12345: digest: sha256:2f88152d79a191c8c5635c41304b924740d06ed9c11952927bb6c25e18a2be4f size: 3251\n"
     ]
    }
   ],
   "source": [
    "from os import environ\n",
    "environ[\"version\"]=\"12345\"\n",
    "!docker build -t docker.io/lyft/flytesnacks:datacouncil-$version .\n",
    "!docker push docker.io/lyft/flytesnacks:datacouncil-$version"
   ]
  },
  {
   "cell_type": "markdown",
   "metadata": {},
   "source": [
    "### 2) Register all tasks and workflows in this new image\n",
    "FlyteKit can discover all tasks, workflows and launchplans in a given python package(s)."
   ]
  },
  {
   "cell_type": "code",
   "execution_count": 26,
   "metadata": {
    "scrolled": true
   },
   "outputs": [
    {
     "name": "stdout",
     "output_type": "stream",
     "text": [
      "Running task, workflow, and launch plan registration for flytesnacks, development, ['workflows'] with version 12345\n",
      "Registering Task:                workflows.recipe_1.inner.inner_task\n",
      "Registering Workflow:            workflows.recipe_1.inner.IdentityWorkflow\n",
      "Registering Launch Plan:         workflows.recipe_1.inner.IdentityWorkflow\n",
      "Registering Launch Plan:         workflows.recipe_1.inner.secondary_sibling_identity_lp\n",
      "Registering Task:                workflows.recipe_1.outer.lp_yield_task\n",
      "Registering Workflow:            workflows.recipe_1.outer.DynamicLaunchPlanCaller\n",
      "Registering Launch Plan:         workflows.recipe_1.outer.DynamicLaunchPlanCaller\n",
      "Registering Task:                workflows.recipe_1.outer.sub_wf_yield_task\n",
      "Registering Workflow:            workflows.recipe_1.outer.DynamicSubWorkflowCaller\n",
      "Registering Launch Plan:         workflows.recipe_1.outer.DynamicSubWorkflowCaller\n",
      "Registering Launch Plan:         workflows.recipe_1.outer.id_lp\n",
      "Registering Workflow:            workflows.recipe_1.outer.StaticLaunchPlanCaller\n",
      "Registering Launch Plan:         workflows.recipe_1.outer.StaticLaunchPlanCaller\n",
      "Registering Workflow:            workflows.recipe_1.outer.StaticSubWorkflowCaller\n",
      "Registering Launch Plan:         workflows.recipe_1.outer.StaticSubWorkflowCaller\n",
      "Registering Task:                workflows.recipe_2.dynamic.workflow_builder\n",
      "Registering Workflow:            workflows.recipe_2.dynamic.InverterDynamicWorkflow\n",
      "Registering Launch Plan:         workflows.recipe_2.dynamic.InverterDynamicWorkflow\n",
      "Registering Task:                workflows.recipe_2.dynamic.dynamic_wf_task\n",
      "Registering Workflow:            workflows.recipe_2.dynamic.SimpleDynamicSubworkflow\n",
      "Registering Launch Plan:         workflows.recipe_2.dynamic.SimpleDynamicSubworkflow\n",
      "Registering Task:                workflows.recipe_2.dynamic.nested_dynamic_wf_task\n",
      "Registering Task:                workflows.recipe_2.tasks.inner_task\n",
      "Registering Task:                workflows.recipe_2.tasks.inverse_inner_task\n",
      "Registering Task:                workflows.recipe_2.tasks.sq_sub_task\n",
      "Registering Task:                workflows.recipe_3.tasks.generic_type_task\n",
      "Registering Workflow:            workflows.recipe_3.tasks.GenericDemoWorkflow\n",
      "Registering Launch Plan:         workflows.recipe_3.tasks.GenericDemoWorkflow\n",
      "Registering Task:                workflows.recipe_6.presto.presto_task\n",
      "Registering Workflow:            workflows.recipe_6.presto.PrestoWorkflow\n",
      "Registering Launch Plan:         workflows.recipe_6.presto.PrestoWorkflow\n"
     ]
    }
   ],
   "source": [
    "# Register existing tasks/workflows with the system\n",
    "from flytekit.clis.sdk_in_container.register import register_all, register_tasks_only\n",
    "from os import environ\n",
    "from flytekit.configuration import set_flyte_config_file\n",
    "\n",
    "environ[\"FLYTE_INTERNAL_IMAGE\"] = \"docker.io/lyft/flytesnacks:datacouncil-{}\".format(environ[\"version\"])\n",
    "set_flyte_config_file(\"/Users/hamabuelfutuh/.flyte/config\")\n",
    "environ[\"FLYTE_INTERNAL_CONFIGURATION_PATH\"] = \"/Users/hamabuelfutuh/.flyte/config\"\n",
    "\n",
    "register_all(project=\"flytesnacks\", domain=\"development\", pkgs=[\"workflows\"], version=environ[\"version\"], test=False)"
   ]
  },
  {
   "cell_type": "markdown",
   "metadata": {},
   "source": [
    "### 3) Launch a workflow"
   ]
  },
  {
   "cell_type": "code",
   "execution_count": 32,
   "metadata": {},
   "outputs": [
    {
     "name": "stdout",
     "output_type": "stream",
     "text": [
      "http://flyte.lyft.net/console/projects/flytesnacks/domains/development/executions/f45f1d0918283471f838\n"
     ]
    }
   ],
   "source": [
    "from workflows.recipe_1.inner import IdentityWorkflow\n",
    "from os import environ\n",
    "\n",
    "IdentityWorkflow_lp = IdentityWorkflow.create_launch_plan()\n",
    "IdentityWorkflow_lp.register(name=\"IdentityWorkflow\", project=\"flytesnacks\", domain=\"development\", version=environ[\"version\"])\n",
    "exec = IdentityWorkflow_lp.launch(project=\"flytesnacks\", domain=\"development\", inputs={})\n",
    "print_console_url(exec)"
   ]
  },
  {
   "cell_type": "code",
   "execution_count": 33,
   "metadata": {},
   "outputs": [
    {
     "name": "stdout",
     "output_type": "stream",
     "text": [
      "Waiting for workflow execution to complete\n",
      "Done!\n",
      "\n",
      "Output: 5\n"
     ]
    }
   ],
   "source": [
    "print(\"Waiting for workflow execution to complete\")\n",
    "exec.wait_for_completion()\n",
    "print(\"Done!\")\n",
    "print()\n",
    "print(\"Output: {}\".format(exec.outputs[\"task_output\"]))"
   ]
  },
  {
   "cell_type": "code",
   "execution_count": null,
   "metadata": {},
   "outputs": [],
   "source": []
  }
 ],
 "metadata": {
  "kernelspec": {
   "display_name": "Python 3",
   "language": "python",
   "name": "python3"
  },
  "language_info": {
   "codemirror_mode": {
    "name": "ipython",
    "version": 3
   },
   "file_extension": ".py",
   "mimetype": "text/x-python",
   "name": "python",
   "nbconvert_exporter": "python",
   "pygments_lexer": "ipython3",
   "version": "3.7.6"
  }
 },
 "nbformat": 4,
 "nbformat_minor": 4
}
