{
 "cells": [
  {
   "cell_type": "markdown",
   "metadata": {},
   "source": [
    "# Build, Register & Launch\n",
    "\n",
    "### 1) Build a docker image\n",
    "To ensure repeatablity, we recommend building a docker image with a new version to reflect any code change.\n",
    "\n",
    "Note: You need to have push permissions on a docker hub repo (or any other docker registry) to execute the docker push command."
   ]
  },
  {
   "cell_type": "code",
   "execution_count": 9,
   "metadata": {
    "scrolled": true
   },
   "outputs": [
    {
     "name": "stdout",
     "output_type": "stream",
     "text": [
      "Sending build context to Docker daemon  142.3kB\n",
      "Step 1/19 : FROM ubuntu:bionic\n",
      " ---> 775349758637\n",
      "Step 2/19 : WORKDIR /root\n",
      " ---> Using cache\n",
      " ---> 9e71f2c2950c\n",
      "Step 3/19 : ENV VENV /opt/venv\n",
      " ---> Using cache\n",
      " ---> 7605b00f67e3\n",
      "Step 4/19 : ENV LANG C.UTF-8\n",
      " ---> Using cache\n",
      " ---> 197d97963594\n",
      "Step 5/19 : ENV LC_ALL C.UTF-8\n",
      " ---> Using cache\n",
      " ---> f424c74f8294\n",
      "Step 6/19 : ENV PYTHONPATH /root\n",
      " ---> Using cache\n",
      " ---> ce39083a6d7c\n",
      "Step 7/19 : RUN :     && apt-get update && apt-get install -y python3.6 python3.6-venv python3.6-dev make build-essential libssl-dev python3-venv python3-pip curl\n",
      " ---> Using cache\n",
      " ---> fbbef8af0eb2\n",
      "Step 8/19 : RUN apt-get update && apt-get install -y libsm6 libxext6 libxrender-dev\n",
      " ---> Using cache\n",
      " ---> 61cfd96195b8\n",
      "Step 9/19 : RUN pip3 install awscli\n",
      " ---> Using cache\n",
      " ---> 9ec5fd79ae76\n",
      "Step 10/19 : RUN python3.6 -m venv ${VENV}\n",
      " ---> Using cache\n",
      " ---> c9f5e3d2048a\n",
      "Step 11/19 : RUN ${VENV}/bin/pip install wheel\n",
      " ---> Using cache\n",
      " ---> 14c2e932b36c\n",
      "Step 12/19 : COPY ./requirements.txt /root\n",
      " ---> Using cache\n",
      " ---> be39f391b4c4\n",
      "Step 13/19 : RUN ${VENV}/bin/pip install -r /root/requirements.txt\n",
      " ---> Using cache\n",
      " ---> 3862b457b56c\n",
      "Step 14/19 : COPY . /root\n",
      " ---> 4bde787489ad\n",
      "Step 15/19 : RUN cp ${VENV}/bin/flytekit_venv /usr/local/bin/\n",
      " ---> Running in e2d15ba4aedb\n",
      "Removing intermediate container e2d15ba4aedb\n",
      " ---> a32ff5ff9066\n",
      "Step 16/19 : RUN chmod a+x /usr/local/bin/flytekit_venv\n",
      " ---> Running in 4fa0a4d94203\n",
      "Removing intermediate container 4fa0a4d94203\n",
      " ---> c78a42e46f2f\n",
      "Step 17/19 : ARG tag\n",
      " ---> Running in 55ddd9e4e2fe\n",
      "Removing intermediate container 55ddd9e4e2fe\n",
      " ---> b770bdbf798e\n",
      "Step 18/19 : ENV FLYTE_INTERNAL_IMAGE $tag\n",
      " ---> Running in 01bae39e7d72\n",
      "Removing intermediate container 01bae39e7d72\n",
      " ---> 99c2d38767b8\n",
      "Step 19/19 : ENTRYPOINT [\"/usr/local/bin/flytekit_venv\"]\n",
      " ---> Running in a35effec2956\n",
      "Removing intermediate container a35effec2956\n",
      " ---> 23c734d64b0e\n",
      "Successfully built 23c734d64b0e\n",
      "Successfully tagged lyft/flytesnacks:datacouncil-1234\n",
      "The push refers to repository [docker.io/lyft/flytesnacks]\n",
      "\n",
      "\u001b[1Be4adb4fc: Preparing \n",
      "\u001b[1B1a213562: Preparing \n",
      "\u001b[1B0d3ec387: Preparing \n",
      "\u001b[1B9fc24bc2: Preparing \n",
      "\u001b[1Bbb51655e: Preparing \n",
      "\u001b[1Be9699b3b: Preparing \n",
      "\u001b[1Bb7640e73: Preparing \n",
      "\u001b[1B02118bd7: Preparing \n",
      "\u001b[1B28cd61d6: Preparing \n",
      "\u001b[1Bafb09dc3: Preparing \n",
      "\u001b[1Bb5a53aac: Preparing \n",
      "\u001b[1Bc8e5063e: Preparing \n",
      "\u001b[13B4adb4fc: Pushed lready exists 9kB\u001b[2KLayer already exists \u001b[8A\u001b[2K\u001b[6A\u001b[2K\u001b[4A\u001b[2K\u001b[3A\u001b[2K\u001b[2A\u001b[2K\u001b[1A\u001b[2K\u001b[12A\u001b[2K\u001b[13A\u001b[2Kdatacouncil-1234: digest: sha256:06b9dfb6a7541d5309e3041413bcfd86ab33351d34ab124166cd24363bcbb72c size: 3251\n"
     ]
    }
   ],
   "source": [
    "from os import environ\n",
    "environ[\"version\"]=\"1234\"\n",
    "!docker build -t docker.io/lyft/flytesnacks:datacouncil-$version ../\n",
    "!docker push docker.io/lyft/flytesnacks:datacouncil-$version"
   ]
  },
  {
   "cell_type": "markdown",
   "metadata": {},
   "source": [
    "### 2) Register all tasks and workflows in this new image\n",
    "FlyteKit can discover all tasks, workflows and launchplans in a given python package(s)."
   ]
  },
  {
   "cell_type": "code",
   "execution_count": 22,
   "metadata": {},
   "outputs": [
    {
     "name": "stdout",
     "output_type": "stream",
     "text": [
      "/Users/hamabuelfutuh/src/go/src/github.com/lyft/flytesnacks/cookbook/demo\n"
     ]
    },
    {
     "ename": "NameError",
     "evalue": "name '__file__' is not defined",
     "output_type": "error",
     "traceback": [
      "\u001b[0;31m---------------------------------------------------------------------------\u001b[0m",
      "\u001b[0;31mNameError\u001b[0m                                 Traceback (most recent call last)",
      "\u001b[0;32m<ipython-input-22-ad9c66edebca>\u001b[0m in \u001b[0;36m<module>\u001b[0;34m\u001b[0m\n\u001b[1;32m      1\u001b[0m \u001b[0;32mimport\u001b[0m \u001b[0mos\u001b[0m\u001b[0;34m\u001b[0m\u001b[0;34m\u001b[0m\u001b[0m\n\u001b[1;32m      2\u001b[0m \u001b[0mprint\u001b[0m\u001b[0;34m(\u001b[0m\u001b[0mos\u001b[0m\u001b[0;34m.\u001b[0m\u001b[0mgetcwd\u001b[0m\u001b[0;34m(\u001b[0m\u001b[0;34m)\u001b[0m\u001b[0;34m)\u001b[0m\u001b[0;34m\u001b[0m\u001b[0;34m\u001b[0m\u001b[0m\n\u001b[0;32m----> 3\u001b[0;31m \u001b[0mprint\u001b[0m\u001b[0;34m(\u001b[0m\u001b[0m__file__\u001b[0m\u001b[0;34m)\u001b[0m\u001b[0;34m\u001b[0m\u001b[0;34m\u001b[0m\u001b[0m\n\u001b[0m",
      "\u001b[0;31mNameError\u001b[0m: name '__file__' is not defined"
     ]
    }
   ],
   "source": [
    "import os\n",
    "print(os.getcwd())\n",
    "print(__file__)"
   ]
  },
  {
   "cell_type": "code",
   "execution_count": 24,
   "metadata": {},
   "outputs": [
    {
     "name": "stdout",
     "output_type": "stream",
     "text": [
      "Running task, workflow, and launch plan registration for flytesnacks, development, ['cookbook'] with version 1234\n"
     ]
    },
    {
     "ename": "ModuleNotFoundError",
     "evalue": "No module named 'cookbook'",
     "output_type": "error",
     "traceback": [
      "\u001b[0;31m---------------------------------------------------------------------------\u001b[0m",
      "\u001b[0;31mModuleNotFoundError\u001b[0m                       Traceback (most recent call last)",
      "\u001b[0;32m<ipython-input-24-d69e07cc0a2d>\u001b[0m in \u001b[0;36m<module>\u001b[0;34m\u001b[0m\n\u001b[1;32m      9\u001b[0m \u001b[0menviron\u001b[0m\u001b[0;34m[\u001b[0m\u001b[0;34m\"FLYTE_SDK_WORKFLOW_PACKAGES\"\u001b[0m\u001b[0;34m]\u001b[0m \u001b[0;34m=\u001b[0m \u001b[0;34m\"cookbook\"\u001b[0m\u001b[0;34m\u001b[0m\u001b[0;34m\u001b[0m\u001b[0m\n\u001b[1;32m     10\u001b[0m \u001b[0;34m\u001b[0m\u001b[0m\n\u001b[0;32m---> 11\u001b[0;31m \u001b[0mregister_all\u001b[0m\u001b[0;34m(\u001b[0m\u001b[0;34m\"flytesnacks\"\u001b[0m\u001b[0;34m,\u001b[0m \u001b[0;34m\"development\"\u001b[0m\u001b[0;34m,\u001b[0m \u001b[0;34m[\u001b[0m\u001b[0;34m\"cookbook\"\u001b[0m\u001b[0;34m]\u001b[0m\u001b[0;34m,\u001b[0m \u001b[0mversion\u001b[0m\u001b[0;34m=\u001b[0m\u001b[0menviron\u001b[0m\u001b[0;34m[\u001b[0m\u001b[0;34m\"version\"\u001b[0m\u001b[0;34m]\u001b[0m\u001b[0;34m,\u001b[0m \u001b[0mtest\u001b[0m\u001b[0;34m=\u001b[0m\u001b[0;32mFalse\u001b[0m\u001b[0;34m)\u001b[0m\u001b[0;34m\u001b[0m\u001b[0;34m\u001b[0m\u001b[0m\n\u001b[0m",
      "\u001b[0;32m~/.virtualenvs/flytekit-py32/lib/python3.7/site-packages/flytekit/clis/sdk_in_container/register.py\u001b[0m in \u001b[0;36mregister_all\u001b[0;34m(project, domain, pkgs, test, version)\u001b[0m\n\u001b[1;32m     24\u001b[0m     \u001b[0;31m# o = object (e.g. SdkWorkflow)\u001b[0m\u001b[0;34m\u001b[0m\u001b[0;34m\u001b[0m\u001b[0;34m\u001b[0m\u001b[0m\n\u001b[1;32m     25\u001b[0m     \u001b[0mloaded_entities\u001b[0m \u001b[0;34m=\u001b[0m \u001b[0;34m[\u001b[0m\u001b[0;34m]\u001b[0m\u001b[0;34m\u001b[0m\u001b[0;34m\u001b[0m\u001b[0m\n\u001b[0;32m---> 26\u001b[0;31m     \u001b[0;32mfor\u001b[0m \u001b[0mm\u001b[0m\u001b[0;34m,\u001b[0m \u001b[0mk\u001b[0m\u001b[0;34m,\u001b[0m \u001b[0mo\u001b[0m \u001b[0;32min\u001b[0m \u001b[0miterate_registerable_entities_in_order\u001b[0m\u001b[0;34m(\u001b[0m\u001b[0mpkgs\u001b[0m\u001b[0;34m)\u001b[0m\u001b[0;34m:\u001b[0m\u001b[0;34m\u001b[0m\u001b[0;34m\u001b[0m\u001b[0m\n\u001b[0m\u001b[1;32m     27\u001b[0m         \u001b[0mname\u001b[0m \u001b[0;34m=\u001b[0m \u001b[0m_utils\u001b[0m\u001b[0;34m.\u001b[0m\u001b[0mfqdn\u001b[0m\u001b[0;34m(\u001b[0m\u001b[0mm\u001b[0m\u001b[0;34m.\u001b[0m\u001b[0m__name__\u001b[0m\u001b[0;34m,\u001b[0m \u001b[0mk\u001b[0m\u001b[0;34m,\u001b[0m \u001b[0mentity_type\u001b[0m\u001b[0;34m=\u001b[0m\u001b[0mo\u001b[0m\u001b[0;34m.\u001b[0m\u001b[0mresource_type\u001b[0m\u001b[0;34m)\u001b[0m\u001b[0;34m\u001b[0m\u001b[0;34m\u001b[0m\u001b[0m\n\u001b[1;32m     28\u001b[0m         \u001b[0m_logging\u001b[0m\u001b[0;34m.\u001b[0m\u001b[0mdebug\u001b[0m\u001b[0;34m(\u001b[0m\u001b[0;34m\"Found module {}\\n   K: {} Instantiated in {}\"\u001b[0m\u001b[0;34m.\u001b[0m\u001b[0mformat\u001b[0m\u001b[0;34m(\u001b[0m\u001b[0mm\u001b[0m\u001b[0;34m,\u001b[0m \u001b[0mk\u001b[0m\u001b[0;34m,\u001b[0m \u001b[0mo\u001b[0m\u001b[0;34m.\u001b[0m\u001b[0m_instantiated_in\u001b[0m\u001b[0;34m)\u001b[0m\u001b[0;34m)\u001b[0m\u001b[0;34m\u001b[0m\u001b[0;34m\u001b[0m\u001b[0m\n",
      "\u001b[0;32m~/.virtualenvs/flytekit-py32/lib/python3.7/site-packages/flytekit/tools/module_loader.py\u001b[0m in \u001b[0;36miterate_registerable_entities_in_order\u001b[0;34m(pkgs, ignore_entities, include_entities, detect_unreferenced_entities)\u001b[0m\n\u001b[1;32m    112\u001b[0m \u001b[0;34m\u001b[0m\u001b[0m\n\u001b[1;32m    113\u001b[0m     \u001b[0mentity_to_module_key\u001b[0m \u001b[0;34m=\u001b[0m \u001b[0;34m{\u001b[0m\u001b[0;34m}\u001b[0m\u001b[0;34m\u001b[0m\u001b[0;34m\u001b[0m\u001b[0m\n\u001b[0;32m--> 114\u001b[0;31m     \u001b[0;32mfor\u001b[0m \u001b[0mm\u001b[0m \u001b[0;32min\u001b[0m \u001b[0miterate_modules\u001b[0m\u001b[0;34m(\u001b[0m\u001b[0mpkgs\u001b[0m\u001b[0;34m)\u001b[0m\u001b[0;34m:\u001b[0m\u001b[0;34m\u001b[0m\u001b[0;34m\u001b[0m\u001b[0m\n\u001b[0m\u001b[1;32m    115\u001b[0m         \u001b[0;32mfor\u001b[0m \u001b[0mk\u001b[0m \u001b[0;32min\u001b[0m \u001b[0mdir\u001b[0m\u001b[0;34m(\u001b[0m\u001b[0mm\u001b[0m\u001b[0;34m)\u001b[0m\u001b[0;34m:\u001b[0m\u001b[0;34m\u001b[0m\u001b[0;34m\u001b[0m\u001b[0m\n\u001b[1;32m    116\u001b[0m             \u001b[0mo\u001b[0m \u001b[0;34m=\u001b[0m \u001b[0mm\u001b[0m\u001b[0;34m.\u001b[0m\u001b[0m__dict__\u001b[0m\u001b[0;34m[\u001b[0m\u001b[0mk\u001b[0m\u001b[0;34m]\u001b[0m\u001b[0;34m\u001b[0m\u001b[0;34m\u001b[0m\u001b[0m\n",
      "\u001b[0;32m~/.virtualenvs/flytekit-py32/lib/python3.7/site-packages/flytekit/tools/module_loader.py\u001b[0m in \u001b[0;36miterate_modules\u001b[0;34m(pkgs)\u001b[0m\n\u001b[1;32m     13\u001b[0m \u001b[0;32mdef\u001b[0m \u001b[0miterate_modules\u001b[0m\u001b[0;34m(\u001b[0m\u001b[0mpkgs\u001b[0m\u001b[0;34m)\u001b[0m\u001b[0;34m:\u001b[0m\u001b[0;34m\u001b[0m\u001b[0;34m\u001b[0m\u001b[0m\n\u001b[1;32m     14\u001b[0m     \u001b[0;32mfor\u001b[0m \u001b[0mpackage_name\u001b[0m \u001b[0;32min\u001b[0m \u001b[0mpkgs\u001b[0m\u001b[0;34m:\u001b[0m\u001b[0;34m\u001b[0m\u001b[0;34m\u001b[0m\u001b[0m\n\u001b[0;32m---> 15\u001b[0;31m         \u001b[0mpackage\u001b[0m \u001b[0;34m=\u001b[0m \u001b[0mimportlib\u001b[0m\u001b[0;34m.\u001b[0m\u001b[0mimport_module\u001b[0m\u001b[0;34m(\u001b[0m\u001b[0mpackage_name\u001b[0m\u001b[0;34m)\u001b[0m\u001b[0;34m\u001b[0m\u001b[0;34m\u001b[0m\u001b[0m\n\u001b[0m\u001b[1;32m     16\u001b[0m         \u001b[0;32myield\u001b[0m \u001b[0mpackage\u001b[0m\u001b[0;34m\u001b[0m\u001b[0;34m\u001b[0m\u001b[0m\n\u001b[1;32m     17\u001b[0m         \u001b[0;32mfor\u001b[0m \u001b[0m_\u001b[0m\u001b[0;34m,\u001b[0m \u001b[0mname\u001b[0m\u001b[0;34m,\u001b[0m \u001b[0m_\u001b[0m \u001b[0;32min\u001b[0m \u001b[0mpkgutil\u001b[0m\u001b[0;34m.\u001b[0m\u001b[0mwalk_packages\u001b[0m\u001b[0;34m(\u001b[0m\u001b[0mpackage\u001b[0m\u001b[0;34m.\u001b[0m\u001b[0m__path__\u001b[0m\u001b[0;34m,\u001b[0m \u001b[0mprefix\u001b[0m\u001b[0;34m=\u001b[0m\u001b[0;34m'{}.'\u001b[0m\u001b[0;34m.\u001b[0m\u001b[0mformat\u001b[0m\u001b[0;34m(\u001b[0m\u001b[0mpackage_name\u001b[0m\u001b[0;34m)\u001b[0m\u001b[0;34m)\u001b[0m\u001b[0;34m:\u001b[0m\u001b[0;34m\u001b[0m\u001b[0;34m\u001b[0m\u001b[0m\n",
      "\u001b[0;32m~/.virtualenvs/flytekit-py32/lib/python3.7/importlib/__init__.py\u001b[0m in \u001b[0;36mimport_module\u001b[0;34m(name, package)\u001b[0m\n\u001b[1;32m    125\u001b[0m                 \u001b[0;32mbreak\u001b[0m\u001b[0;34m\u001b[0m\u001b[0;34m\u001b[0m\u001b[0m\n\u001b[1;32m    126\u001b[0m             \u001b[0mlevel\u001b[0m \u001b[0;34m+=\u001b[0m \u001b[0;36m1\u001b[0m\u001b[0;34m\u001b[0m\u001b[0;34m\u001b[0m\u001b[0m\n\u001b[0;32m--> 127\u001b[0;31m     \u001b[0;32mreturn\u001b[0m \u001b[0m_bootstrap\u001b[0m\u001b[0;34m.\u001b[0m\u001b[0m_gcd_import\u001b[0m\u001b[0;34m(\u001b[0m\u001b[0mname\u001b[0m\u001b[0;34m[\u001b[0m\u001b[0mlevel\u001b[0m\u001b[0;34m:\u001b[0m\u001b[0;34m]\u001b[0m\u001b[0;34m,\u001b[0m \u001b[0mpackage\u001b[0m\u001b[0;34m,\u001b[0m \u001b[0mlevel\u001b[0m\u001b[0;34m)\u001b[0m\u001b[0;34m\u001b[0m\u001b[0;34m\u001b[0m\u001b[0m\n\u001b[0m\u001b[1;32m    128\u001b[0m \u001b[0;34m\u001b[0m\u001b[0m\n\u001b[1;32m    129\u001b[0m \u001b[0;34m\u001b[0m\u001b[0m\n",
      "\u001b[0;32m~/.virtualenvs/flytekit-py32/lib/python3.7/importlib/_bootstrap.py\u001b[0m in \u001b[0;36m_gcd_import\u001b[0;34m(name, package, level)\u001b[0m\n",
      "\u001b[0;32m~/.virtualenvs/flytekit-py32/lib/python3.7/importlib/_bootstrap.py\u001b[0m in \u001b[0;36m_find_and_load\u001b[0;34m(name, import_)\u001b[0m\n",
      "\u001b[0;32m~/.virtualenvs/flytekit-py32/lib/python3.7/importlib/_bootstrap.py\u001b[0m in \u001b[0;36m_find_and_load_unlocked\u001b[0;34m(name, import_)\u001b[0m\n",
      "\u001b[0;31mModuleNotFoundError\u001b[0m: No module named 'cookbook'"
     ]
    }
   ],
   "source": [
    "# Register existing tasks/workflows with the system\n",
    "from flytekit.clis.sdk_in_container.register import register_all, register_tasks_only\n",
    "from os import environ\n",
    "from flytekit.configuration import set_flyte_config_file\n",
    "\n",
    "environ[\"FLYTE_INTERNAL_IMAGE\"] = \"docker.io/lyft/flytesnacks:datacouncil-$version\"\n",
    "set_flyte_config_file(\"/Users/hamabuelfutuh/.flyte/config\")\n",
    "environ[\"FLYTE_INTERNAL_CONFIGURATION_PATH\"] = \"/Users/hamabuelfutuh/.flyte/config\"\n",
    "environ[\"FLYTE_SDK_WORKFLOW_PACKAGES\"] = \"cookbook\"\n",
    "\n",
    "register_all(\"flytesnacks\", \"development\", [\"cookbook\"], version=environ[\"version\"], test=False)"
   ]
  },
  {
   "cell_type": "code",
   "execution_count": null,
   "metadata": {},
   "outputs": [],
   "source": []
  }
 ],
 "metadata": {
  "kernelspec": {
   "display_name": "Python 3",
   "language": "python",
   "name": "python3"
  },
  "language_info": {
   "codemirror_mode": {
    "name": "ipython",
    "version": 3
   },
   "file_extension": ".py",
   "mimetype": "text/x-python",
   "name": "python",
   "nbconvert_exporter": "python",
   "pygments_lexer": "ipython3",
   "version": "3.7.6"
  }
 },
 "nbformat": 4,
 "nbformat_minor": 4
}
