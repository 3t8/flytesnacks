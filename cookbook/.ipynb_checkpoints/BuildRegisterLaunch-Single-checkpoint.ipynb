{
 "cells": [
  {
   "cell_type": "code",
   "execution_count": 1,
   "metadata": {},
   "outputs": [],
   "source": [
    "from flytekit.configuration import platform\n",
    "def print_console_url(exc):\n",
    "    print(\"http://{}/console/projects/{}/domains/{}/executions/{}\".format(platform.URL.get(), exc.id.project, exc.id.domain, exc.id.name))"
   ]
  },
  {
   "cell_type": "markdown",
   "metadata": {},
   "source": [
    "# REPL-sorta\n",
    "\n",
    "### 1) Run locally\n",
    "Flyte allows you to run the exact tasks that run remotely locally to iterate, unit test, and fix bugs."
   ]
  },
  {
   "cell_type": "code",
   "execution_count": 5,
   "metadata": {},
   "outputs": [
    {
     "ename": "AttributeError",
     "evalue": "module '__main__' has no attribute '__file__'",
     "output_type": "error",
     "traceback": [
      "\u001b[0;31m---------------------------------------------------------------------------\u001b[0m",
      "\u001b[0;31mAttributeError\u001b[0m                            Traceback (most recent call last)",
      "\u001b[0;32m<ipython-input-5-e851ca887766>\u001b[0m in \u001b[0;36m<module>\u001b[0;34m\u001b[0m\n\u001b[1;32m      8\u001b[0m                                      \u001b[0moutputs\u001b[0m\u001b[0;34m=\u001b[0m\u001b[0;34m{\u001b[0m\u001b[0;34m\"out\"\u001b[0m\u001b[0;34m:\u001b[0m \u001b[0mTypes\u001b[0m\u001b[0;34m.\u001b[0m\u001b[0mFloat\u001b[0m\u001b[0;34m}\u001b[0m\u001b[0;34m,\u001b[0m\u001b[0;34m\u001b[0m\u001b[0;34m\u001b[0m\u001b[0m\n\u001b[1;32m      9\u001b[0m                                      \u001b[0mcpu_request\u001b[0m\u001b[0;34m=\u001b[0m\u001b[0;34m\"0.5\"\u001b[0m\u001b[0;34m,\u001b[0m\u001b[0;34m\u001b[0m\u001b[0;34m\u001b[0m\u001b[0m\n\u001b[0;32m---> 10\u001b[0;31m                                      \u001b[0mmemory_request\u001b[0m\u001b[0;34m=\u001b[0m\u001b[0;34m\"1G\"\u001b[0m\u001b[0;34m\u001b[0m\u001b[0;34m\u001b[0m\u001b[0m\n\u001b[0m\u001b[1;32m     11\u001b[0m                                     )\n",
      "\u001b[0;32m~/.virtualenvs/flytekit-py32/lib/python3.7/site-packages/flytekit/contrib/notebook.py\u001b[0m in \u001b[0;36mpython_notebook\u001b[0;34m(notebook_path, inputs, outputs, cache_version, retries, deprecated, storage_request, cpu_request, gpu_request, memory_request, storage_limit, cpu_limit, gpu_limit, memory_limit, cache, timeout, environment, cls)\u001b[0m\n\u001b[1;32m    116\u001b[0m             \u001b[0mtimeout\u001b[0m\u001b[0;34m=\u001b[0m\u001b[0mtimeout\u001b[0m \u001b[0;32mor\u001b[0m \u001b[0m_datetime\u001b[0m\u001b[0;34m.\u001b[0m\u001b[0mtimedelta\u001b[0m\u001b[0;34m(\u001b[0m\u001b[0mseconds\u001b[0m\u001b[0;34m=\u001b[0m\u001b[0;36m0\u001b[0m\u001b[0;34m)\u001b[0m\u001b[0;34m,\u001b[0m\u001b[0;34m\u001b[0m\u001b[0;34m\u001b[0m\u001b[0m\n\u001b[1;32m    117\u001b[0m             \u001b[0menvironment\u001b[0m\u001b[0;34m=\u001b[0m\u001b[0menvironment\u001b[0m\u001b[0;34m,\u001b[0m\u001b[0;34m\u001b[0m\u001b[0;34m\u001b[0m\u001b[0m\n\u001b[0;32m--> 118\u001b[0;31m             custom={})\n\u001b[0m\u001b[1;32m    119\u001b[0m \u001b[0;34m\u001b[0m\u001b[0m\n\u001b[1;32m    120\u001b[0m \u001b[0;34m\u001b[0m\u001b[0m\n",
      "\u001b[0;32m~/.virtualenvs/flytekit-py32/lib/python3.7/site-packages/flytekit/common/mixins/registerable.py\u001b[0m in \u001b[0;36m__call__\u001b[0;34m(cls, *args, **kwargs)\u001b[0m\n\u001b[1;32m     32\u001b[0m \u001b[0;34m\u001b[0m\u001b[0m\n\u001b[1;32m     33\u001b[0m     \u001b[0;32mdef\u001b[0m \u001b[0m__call__\u001b[0m\u001b[0;34m(\u001b[0m\u001b[0mcls\u001b[0m\u001b[0;34m,\u001b[0m \u001b[0;34m*\u001b[0m\u001b[0margs\u001b[0m\u001b[0;34m,\u001b[0m \u001b[0;34m**\u001b[0m\u001b[0mkwargs\u001b[0m\u001b[0;34m)\u001b[0m\u001b[0;34m:\u001b[0m\u001b[0;34m\u001b[0m\u001b[0;34m\u001b[0m\u001b[0m\n\u001b[0;32m---> 34\u001b[0;31m         \u001b[0mo\u001b[0m \u001b[0;34m=\u001b[0m \u001b[0msuper\u001b[0m\u001b[0;34m(\u001b[0m\u001b[0m_InstanceTracker\u001b[0m\u001b[0;34m,\u001b[0m \u001b[0mcls\u001b[0m\u001b[0;34m)\u001b[0m\u001b[0;34m.\u001b[0m\u001b[0m__call__\u001b[0m\u001b[0;34m(\u001b[0m\u001b[0;34m*\u001b[0m\u001b[0margs\u001b[0m\u001b[0;34m,\u001b[0m \u001b[0;34m**\u001b[0m\u001b[0mkwargs\u001b[0m\u001b[0;34m)\u001b[0m\u001b[0;34m\u001b[0m\u001b[0;34m\u001b[0m\u001b[0m\n\u001b[0m\u001b[1;32m     35\u001b[0m         \u001b[0mo\u001b[0m\u001b[0;34m.\u001b[0m\u001b[0m_instantiated_in\u001b[0m \u001b[0;34m=\u001b[0m \u001b[0m_InstanceTracker\u001b[0m\u001b[0;34m.\u001b[0m\u001b[0m_find_instance_module\u001b[0m\u001b[0;34m(\u001b[0m\u001b[0;34m)\u001b[0m\u001b[0;34m\u001b[0m\u001b[0;34m\u001b[0m\u001b[0m\n\u001b[1;32m     36\u001b[0m         \u001b[0;32mreturn\u001b[0m \u001b[0mo\u001b[0m\u001b[0;34m\u001b[0m\u001b[0;34m\u001b[0m\u001b[0m\n",
      "\u001b[0;32m~/.virtualenvs/flytekit-py32/lib/python3.7/site-packages/flytekit/contrib/notebook.py\u001b[0m in \u001b[0;36m__init__\u001b[0;34m(self, notebook_path, inputs, outputs, task_type, discovery_version, retries, deprecated, storage_request, cpu_request, gpu_request, memory_request, storage_limit, cpu_limit, gpu_limit, memory_limit, discoverable, timeout, environment, custom)\u001b[0m\n\u001b[1;32m    164\u001b[0m             \u001b[0;31m# Find absolute path for the notebook.\u001b[0m\u001b[0;34m\u001b[0m\u001b[0;34m\u001b[0m\u001b[0;34m\u001b[0m\u001b[0m\n\u001b[1;32m    165\u001b[0m             \u001b[0mtask_module\u001b[0m \u001b[0;34m=\u001b[0m \u001b[0m_importlib\u001b[0m\u001b[0;34m.\u001b[0m\u001b[0mimport_module\u001b[0m\u001b[0;34m(\u001b[0m\u001b[0m_find_instance_module\u001b[0m\u001b[0;34m(\u001b[0m\u001b[0;34m)\u001b[0m\u001b[0;34m)\u001b[0m\u001b[0;34m\u001b[0m\u001b[0;34m\u001b[0m\u001b[0m\n\u001b[0;32m--> 166\u001b[0;31m             \u001b[0mmodule_path\u001b[0m \u001b[0;34m=\u001b[0m \u001b[0m_os\u001b[0m\u001b[0;34m.\u001b[0m\u001b[0mpath\u001b[0m\u001b[0;34m.\u001b[0m\u001b[0mdirname\u001b[0m\u001b[0;34m(\u001b[0m\u001b[0mtask_module\u001b[0m\u001b[0;34m.\u001b[0m\u001b[0m__file__\u001b[0m\u001b[0;34m)\u001b[0m\u001b[0;34m\u001b[0m\u001b[0;34m\u001b[0m\u001b[0m\n\u001b[0m\u001b[1;32m    167\u001b[0m             \u001b[0mnotebook_path\u001b[0m \u001b[0;34m=\u001b[0m \u001b[0m_os\u001b[0m\u001b[0;34m.\u001b[0m\u001b[0mpath\u001b[0m\u001b[0;34m.\u001b[0m\u001b[0mnormpath\u001b[0m\u001b[0;34m(\u001b[0m\u001b[0m_os\u001b[0m\u001b[0;34m.\u001b[0m\u001b[0mpath\u001b[0m\u001b[0;34m.\u001b[0m\u001b[0mjoin\u001b[0m\u001b[0;34m(\u001b[0m\u001b[0mmodule_path\u001b[0m\u001b[0;34m,\u001b[0m \u001b[0mnotebook_path\u001b[0m\u001b[0;34m)\u001b[0m\u001b[0;34m)\u001b[0m\u001b[0;34m\u001b[0m\u001b[0;34m\u001b[0m\u001b[0m\n\u001b[1;32m    168\u001b[0m \u001b[0;34m\u001b[0m\u001b[0m\n",
      "\u001b[0;31mAttributeError\u001b[0m: module '__main__' has no attribute '__file__'"
     ]
    }
   ],
   "source": [
    "from __future__ import absolute_import\n",
    "\n",
    "from flytekit.contrib.notebook import python_notebook\n",
    "from flytekit.sdk.types import Types\n",
    "\n",
    "interactive_python = python_notebook(notebook_path=\"../../demo_py_task.ipynb\",\n",
    "                                     inputs={\"a\": Types.Float, \"b\": Types.Float},\n",
    "                                     outputs={\"out\": Types.Float},\n",
    "                                     cpu_request=\"0.5\",\n",
    "                                     memory_request=\"1G\"\n",
    "                                    )\n"
   ]
  },
  {
   "cell_type": "code",
   "execution_count": 4,
   "metadata": {},
   "outputs": [
    {
     "data": {
      "application/vnd.jupyter.widget-view+json": {
       "model_id": "f47ef323fea34023a0a0c6a62fa1bb27",
       "version_major": 2,
       "version_minor": 0
      },
      "text/plain": [
       "HBox(children=(FloatProgress(value=0.0, description='Executing', max=4.0, style=ProgressStyle(description_widt…"
      ]
     },
     "metadata": {},
     "output_type": "display_data"
    },
    {
     "name": "stdout",
     "output_type": "stream",
     "text": [
      "\n",
      "2+3=5.0\n"
     ]
    },
    {
     "data": {
      "application/vnd.jupyter.widget-view+json": {
       "model_id": "a43a80667f9e4a1e882763d48f2ac8ad",
       "version_major": 2,
       "version_minor": 0
      },
      "text/plain": [
       "HBox(children=(FloatProgress(value=0.0, description='Executing', max=4.0, style=ProgressStyle(description_widt…"
      ]
     },
     "metadata": {},
     "output_type": "display_data"
    },
    {
     "name": "stdout",
     "output_type": "stream",
     "text": [
      "\n",
      "-5+3=-2.0\n"
     ]
    }
   ],
   "source": [
    "from workflows.recipe_7.interactive_python import interactive_python\n",
    "\n",
    "r = interactive_python.unit_test(a=2.0, b=3.0)\n",
    "print('2+3={}'.format(r['out']))\n",
    "r = interactive_python.unit_test(a=-5.0, b=3.0)\n",
    "print('-5+3={}'.format(r['out']))"
   ]
  },
  {
   "cell_type": "markdown",
   "metadata": {},
   "source": [
    "### 2) Build a docker image\n",
    "To ensure repeatablity, we recommend building a docker image with a new version to reflect any code change.\n",
    "\n",
    "Note: You need to have push permissions on a docker hub repo (or any other docker registry) to execute the docker push command."
   ]
  },
  {
   "cell_type": "code",
   "execution_count": 19,
   "metadata": {
    "scrolled": true
   },
   "outputs": [
    {
     "name": "stdout",
     "output_type": "stream",
     "text": [
      "Sending build context to Docker daemon    235kB\n",
      "Step 1/19 : FROM ubuntu:bionic\n",
      " ---> 775349758637\n",
      "Step 2/19 : WORKDIR /root\n",
      " ---> Using cache\n",
      " ---> 9e71f2c2950c\n",
      "Step 3/19 : ENV VENV /opt/venv\n",
      " ---> Using cache\n",
      " ---> 7605b00f67e3\n",
      "Step 4/19 : ENV LANG C.UTF-8\n",
      " ---> Using cache\n",
      " ---> 197d97963594\n",
      "Step 5/19 : ENV LC_ALL C.UTF-8\n",
      " ---> Using cache\n",
      " ---> f424c74f8294\n",
      "Step 6/19 : ENV PYTHONPATH /root\n",
      " ---> Using cache\n",
      " ---> ce39083a6d7c\n",
      "Step 7/19 : RUN :     && apt-get update && apt-get install -y python3.6 python3.6-venv python3.6-dev make build-essential libssl-dev python3-venv python3-pip curl\n",
      " ---> Using cache\n",
      " ---> fbbef8af0eb2\n",
      "Step 8/19 : RUN apt-get update && apt-get install -y libsm6 libxext6 libxrender-dev\n",
      " ---> Using cache\n",
      " ---> 61cfd96195b8\n",
      "Step 9/19 : RUN pip3 install awscli\n",
      " ---> Using cache\n",
      " ---> 9ec5fd79ae76\n",
      "Step 10/19 : RUN python3.6 -m venv ${VENV}\n",
      " ---> Using cache\n",
      " ---> c9f5e3d2048a\n",
      "Step 11/19 : RUN ${VENV}/bin/pip install wheel\n",
      " ---> Using cache\n",
      " ---> 14c2e932b36c\n",
      "Step 12/19 : COPY ./requirements.txt /root\n",
      " ---> Using cache\n",
      " ---> 6d763f42c315\n",
      "Step 13/19 : RUN ${VENV}/bin/pip install -r /root/requirements.txt\n",
      " ---> Using cache\n",
      " ---> 76e1410a27d3\n",
      "Step 14/19 : COPY . /root\n",
      " ---> 1b7e48180a4f\n",
      "Step 15/19 : RUN cp ${VENV}/bin/flytekit_venv /usr/local/bin/\n",
      " ---> Running in eba006b149a8\n",
      "Removing intermediate container eba006b149a8\n",
      " ---> 76e80316d143\n",
      "Step 16/19 : RUN chmod a+x /usr/local/bin/flytekit_venv\n",
      " ---> Running in 6ca34ce0d278\n",
      "Removing intermediate container 6ca34ce0d278\n",
      " ---> 0a16c4911579\n",
      "Step 17/19 : ARG tag\n",
      " ---> Running in 7825dcf6622f\n",
      "Removing intermediate container 7825dcf6622f\n",
      " ---> 15ab7a4a5c8a\n",
      "Step 18/19 : ENV FLYTE_INTERNAL_IMAGE $tag\n",
      " ---> Running in cd335d5c8ed0\n",
      "Removing intermediate container cd335d5c8ed0\n",
      " ---> 9c60ca336289\n",
      "Step 19/19 : ENTRYPOINT [\"/usr/local/bin/flytekit_venv\"]\n",
      " ---> Running in a68fcbb89089\n",
      "Removing intermediate container a68fcbb89089\n",
      " ---> 7256421f5893\n",
      "Successfully built 7256421f5893\n",
      "Successfully tagged lyft/flytesnacks:datacouncil-123456789\n",
      "The push refers to repository [docker.io/lyft/flytesnacks]\n",
      "\n",
      "\u001b[1Bd8dc047e: Preparing \n",
      "\u001b[1B4b89ac4a: Preparing \n",
      "\u001b[1B0d0ce150: Preparing \n",
      "\u001b[1Bf7315627: Preparing \n",
      "\u001b[1Bbb51655e: Preparing \n",
      "\u001b[1Be9699b3b: Preparing \n",
      "\u001b[1Bb7640e73: Preparing \n",
      "\u001b[1B02118bd7: Preparing \n",
      "\u001b[1B28cd61d6: Preparing \n",
      "\u001b[1Bafb09dc3: Preparing \n",
      "\u001b[1Bb5a53aac: Preparing \n",
      "\u001b[1Bc8e5063e: Preparing \n",
      "\u001b[13B8dc047e: Pushed lready exists 4kB\u001b[2K\u001b[11A\u001b[2K\u001b[9A\u001b[2K\u001b[7A\u001b[2K\u001b[6A\u001b[2K\u001b[5A\u001b[2K\u001b[3A\u001b[2K\u001b[1A\u001b[2K\u001b[2A\u001b[2K\u001b[12A\u001b[2K\u001b[13A\u001b[2Kdatacouncil-123456789: digest: sha256:afdf819bddfed9ad08c8b6aaa2a32a945231e8018fa52422ee9f2aa0cbd5ca5f size: 3251\n"
     ]
    }
   ],
   "source": [
    "from os import environ\n",
    "environ[\"version\"]=\"123456789\"\n",
    "!docker build -t docker.io/lyft/flytesnacks:datacouncil-$version .\n",
    "!docker push docker.io/lyft/flytesnacks:datacouncil-$version"
   ]
  },
  {
   "cell_type": "markdown",
   "metadata": {},
   "source": [
    "### 2) Register a notebook task\n",
    "FlyteKit can discover all tasks, workflows and launchplans in a given python package(s). You can use flytekit.clis.sdk_in_container.register.register_all to achieve that."
   ]
  },
  {
   "cell_type": "code",
   "execution_count": 3,
   "metadata": {
    "scrolled": true
   },
   "outputs": [
    {
     "data": {
      "application/vnd.jupyter.widget-view+json": {
       "model_id": "ac58a3d31e784d318dd1cca604b6f8e8",
       "version_major": 2,
       "version_minor": 0
      },
      "text/plain": [
       "HBox(children=(FloatProgress(value=0.0, description='Executing', max=5.0, style=ProgressStyle(description_widt…"
      ]
     },
     "metadata": {},
     "output_type": "display_data"
    },
    {
     "name": "stderr",
     "output_type": "stream",
     "text": [
      "/Users/hamabuelfutuh/.virtualenvs/flytekit-py32/lib/python3.7/site-packages/papermill/iorw.py:126: UserWarning: The specified input file (/Users/hamabuelfutuh/src/go/src/github.com/lyft/flytesnacks/cookbook/demo_py_task.ipynb.out) does not end in one of ['.ipynb', '.json']\n",
      "  \"The specified input file ({}) does not end in one of {}\".format(path, extensions)\n"
     ]
    },
    {
     "name": "stdout",
     "output_type": "stream",
     "text": [
      "\n"
     ]
    },
    {
     "name": "stderr",
     "output_type": "stream",
     "text": [
      "/Users/hamabuelfutuh/.virtualenvs/flytekit-py32/lib/python3.7/site-packages/jupyter_client/manager.py:358: FutureWarning: Method cleanup(connection_file=True) is deprecated, use cleanup_resources(restart=False).\n",
      "  FutureWarning)\n"
     ]
    },
    {
     "data": {
      "text/plain": [
       "{'out': 5.0,\n",
       " 'output_notebook': metadata {\n",
       "   type {\n",
       "   }\n",
       " }\n",
       " uri: \"/tmp/flyte/a6b163cbbef9615c8e1e32a0953125e8\"}"
      ]
     },
     "execution_count": 3,
     "metadata": {},
     "output_type": "execute_result"
    }
   ],
   "source": [
    "from os import environ\n",
    "from flytekit.configuration import set_flyte_config_file\n",
    "from flytekit.contrib.notebook import python_notebook, spark_notebook\n",
    "from flytekit.sdk.types import Types\n",
    "from workflows.recipe_7.interactive_python import interactive_python\n",
    "\n",
    "environ[\"FLYTE_INTERNAL_IMAGE\"] = \"docker.io/lyft/flytesnacks:datacouncil-{}\".format(environ[\"version\"])\n",
    "set_flyte_config_file(\"production.config\")\n",
    "environ[\"FLYTE_INTERNAL_CONFIGURATION_PATH\"] = \"/root/production.config\"\n",
    "\n",
    "interactive_python.unit_test(a=2.0, b=3.0)\n",
    "\n",
    "# interactive_python.register(project=\"flytesnacks\", domain=\"development\", name=\"interactive_python\", version=environ[\"version\"])"
   ]
  },
  {
   "cell_type": "markdown",
   "metadata": {},
   "source": [
    "### 3.a) Launch a single task"
   ]
  },
  {
   "cell_type": "code",
   "execution_count": 21,
   "metadata": {},
   "outputs": [
    {
     "name": "stdout",
     "output_type": "stream",
     "text": [
      "http://flyte.lyft.net/console/projects/flytesnacks/domains/development/executions/ing58qbvv5\n"
     ]
    }
   ],
   "source": [
    "from workflows.recipe_1.inner import IdentityWorkflow\n",
    "from os import environ\n",
    "\n",
    "exec = interactive_python.launch(project=\"flytesnacks\", domain=\"development\", inputs={\n",
    "    'a': 5.0,\n",
    "    'b': 6.0,\n",
    "})\n",
    "print_console_url(exec)"
   ]
  },
  {
   "cell_type": "code",
   "execution_count": 23,
   "metadata": {},
   "outputs": [
    {
     "name": "stdout",
     "output_type": "stream",
     "text": [
      "Waiting for workflow execution to complete\n",
      "Done!\n",
      "\n",
      "Output: 11.0\n"
     ]
    }
   ],
   "source": [
    "print(\"Waiting for workflow execution to complete\")\n",
    "exec.wait_for_completion()\n",
    "print(\"Done!\")\n",
    "print()\n",
    "print(\"Output: {}\".format(exec.outputs[\"out\"]))"
   ]
  },
  {
   "cell_type": "code",
   "execution_count": null,
   "metadata": {},
   "outputs": [],
   "source": []
  }
 ],
 "metadata": {
  "kernelspec": {
   "display_name": "Python 3",
   "language": "python",
   "name": "python3"
  },
  "language_info": {
   "codemirror_mode": {
    "name": "ipython",
    "version": 3
   },
   "file_extension": ".py",
   "mimetype": "text/x-python",
   "name": "python",
   "nbconvert_exporter": "python",
   "pygments_lexer": "ipython3",
   "version": "3.7.6"
  }
 },
 "nbformat": 4,
 "nbformat_minor": 4
}
