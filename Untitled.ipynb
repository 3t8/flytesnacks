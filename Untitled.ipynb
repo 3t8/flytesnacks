{
 "cells": [
  {
   "cell_type": "code",
   "execution_count": 1,
   "id": "811fa7ce-a3f1-4218-bd9c-fd4d72e889bc",
   "metadata": {},
   "outputs": [
    {
     "name": "stdout",
     "output_type": "stream",
     "text": [
      "/Users/ytong/go/src/github.com/flyteorg/flytesnacks/cookbook\n"
     ]
    }
   ],
   "source": [
    "%cd cookbook"
   ]
  },
  {
   "cell_type": "code",
   "execution_count": 12,
   "id": "c64e150a-e4c4-4385-ad11-b66fbefd3700",
   "metadata": {},
   "outputs": [],
   "source": [
    "from core.flyte_basics.documented_workflow import sphinx_docstring, PandasData"
   ]
  },
  {
   "cell_type": "code",
   "execution_count": 10,
   "id": "00548177-2c4c-4a9c-a787-7ebc98511ab3",
   "metadata": {},
   "outputs": [],
   "source": [
    "from flytekit.remote.remote import FlyteRemote, Options\n",
    "from flytekit.configuration import Config\n",
    "import pandas as pd"
   ]
  },
  {
   "cell_type": "code",
   "execution_count": 4,
   "id": "28b56318-3400-4ed5-9818-316a89ae204a",
   "metadata": {},
   "outputs": [],
   "source": [
    "rr = FlyteRemote(\n",
    "    Config.auto(),\n",
    "    default_project=\"flytesnacks\",\n",
    "    default_domain=\"development\",\n",
    ")"
   ]
  },
  {
   "cell_type": "code",
   "execution_count": 5,
   "id": "fd6df0e5-6b59-4f5a-b6eb-6e1d0768833d",
   "metadata": {},
   "outputs": [
    {
     "data": {
      "text/plain": [
       "Config(platform=PlatformConfig(endpoint='demo.nuclyde.io', insecure=False, command=None, client_id=None, client_credentials_secret=None, scopes=[], auth_mode=<AuthType.STANDARD: 'standard'>), secrets=SecretsConfig(env_prefix='_FSEC_', default_dir='/etc/secrets', file_prefix=''), stats=StatsConfig(host='localhost', port=8125, disabled=False, disabled_tags=False), data_config=DataConfig(s3=S3Config(enable_debug=False, endpoint=None, retries=3, backoff=datetime.timedelta(seconds=5), access_key_id=None, secret_access_key=None), gcs=GCSConfig(gsutil_parallelism=False)), local_sandbox_path='/var/folders/bt/5y0vvxc95tx_hpjxf99m_zsr0000gn/T/flyte8u1q50rh')"
      ]
     },
     "execution_count": 5,
     "metadata": {},
     "output_type": "execute_result"
    }
   ],
   "source": [
    "rr.config"
   ]
  },
  {
   "cell_type": "code",
   "execution_count": 8,
   "id": "555754d5-08f0-47aa-96e3-c91043d5de28",
   "metadata": {},
   "outputs": [],
   "source": [
    "rwf = rr.register_script(sphinx_docstring, options=Options.default_from(k8s_service_account=\"demo\"))"
   ]
  },
  {
   "cell_type": "code",
   "execution_count": 13,
   "id": "74071aed-173c-4fdf-b94a-f4cbb9b03fae",
   "metadata": {},
   "outputs": [
    {
     "data": {
      "text/plain": [
       "id {\n",
       "  project: \"flytesnacks\"\n",
       "  domain: \"development\"\n",
       "  name: \"f9d5fff83e8bd42738b2\"\n",
       "}\n",
       "spec {\n",
       "  launch_plan {\n",
       "    resource_type: LAUNCH_PLAN\n",
       "    project: \"flytesnacks\"\n",
       "    domain: \"development\"\n",
       "    name: \"core.flyte_basics.documented_workflow.sphinx_docstring\"\n",
       "    version: \"5IAhkTjtOi4JUKgy6VkErQ==\"\n",
       "  }\n",
       "  metadata {\n",
       "    principal: \"115249785742477566757\"\n",
       "  }\n",
       "  notifications {\n",
       "  }\n",
       "  labels {\n",
       "  }\n",
       "  annotations {\n",
       "  }\n",
       "  auth_role {\n",
       "  }\n",
       "}\n",
       "closure {\n",
       "  started_at {\n",
       "  }\n",
       "  duration {\n",
       "  }\n",
       "}"
      ]
     },
     "execution_count": 13,
     "metadata": {},
     "output_type": "execute_result"
    }
   ],
   "source": [
    "rr.execute(rwf, inputs={\"df\": pd.DataFrame(data={'id': [1, 2], 'name': ['John', 'Meghan']}), \"data\": PandasData()})"
   ]
  },
  {
   "cell_type": "code",
   "execution_count": null,
   "id": "7c604d25-c042-452d-9145-3c48d76ed2d7",
   "metadata": {},
   "outputs": [],
   "source": []
  }
 ],
 "metadata": {
  "kernelspec": {
   "display_name": "Python 3 (ipykernel)",
   "language": "python",
   "name": "python3"
  },
  "language_info": {
   "codemirror_mode": {
    "name": "ipython",
    "version": 3
   },
   "file_extension": ".py",
   "mimetype": "text/x-python",
   "name": "python",
   "nbconvert_exporter": "python",
   "pygments_lexer": "ipython3",
   "version": "3.8.9"
  }
 },
 "nbformat": 4,
 "nbformat_minor": 5
}
