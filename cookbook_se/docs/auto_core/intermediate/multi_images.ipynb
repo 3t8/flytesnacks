{
  "cells": [
    {
      "cell_type": "code",
      "execution_count": null,
      "metadata": {
        "collapsed": false
      },
      "outputs": [],
      "source": [
        "%matplotlib inline"
      ]
    },
    {
      "cell_type": "markdown",
      "metadata": {},
      "source": [
        "\n\n# Working with Multiple Container Images in the same workflow\n\nTypically when you are working locally, it is preferable to install all requirements of your project locally\n(maybe in a single virtual environment). This gets complicated when you want to deploy your code to a remote\nenvironment. This is because most tasks in Flyte (function tasks) get deployed using a Docker Container. A docker\ncontainer allows you to create an exepected environment for your tasks. Though it is completely possible to build a\nsingle Container Image that contains all your dependencies, it is complicated to achieve this in practice.\nReasons why it is complicated and not recommended,\n\n#. All dependencies in one container increases the size of the container image\n#. Some task executions like Spark, Sagemaker based Training, Deep Learning using GPUs need specific runtime configurations, for e.g.,\n\n     - Spark needs JavaVirtualMachine to be installed and Spark entrypoints to be set\n     - To use GPUs for deep learning, NVIDIA drivers and other corresponding libraries need to be installed. These are not required for a CPU\n     - Sagemaker expects the entrypoint to be specifically designed to accept its parameters\n\n#. Building a singular image may increase the build time for the image itself\n\n<div class=\"alert alert-info\"><h4>Note</h4><p>Flyte (Service) by default has no requirement that a Workflow is bound to a single Container Image. Flytekit offers a simple interface to easily alter the images that should be associated per task, yet keeping the local execution simple for the user.</p></div>\n\n\nFor every :py:class:`flytekit.annotated.task.PythonFunctionTask` type task or simply a task that is decorated with the ``@task`` decorator, users can supply rules of how the container image should be bound. By default, flytekit will associate one container image with all tasks. This image is called the ``default`` image.\nTo alter the image, users should use the ``container_image`` parameter available in the :py:func:`flytekit.task` decorator. Any one of the following is an acceptable\n\n#. Image reference is specified, but the version is derived from the default images version ``container_image=\"docker.io/redis:{{.image.default.version}},``\n#. Both the FQN and the version are derived from the default image ``container_image=\"{{.image.default.fqn}}:spark-{{.image.default.version}},``\n\nThe images themselves are parameterizable in the config in the following format\n ``{{.image.<name>.<attribute>}}``\n\n- ``name`` refers to the name of the image in the image configuration. The name ``default`` is a reserved keyword and will automatically apply to the default image name for this repository\n- ``fqn`` refers to the fully qualified name of the image. For example it includes the repository and domain url of the image. e.g. docker.io/my_repo/xyz\n- ``version`` refers to the tag of the image. e.g. latest, or python-3.8 etc. If the container_image is not specified then the default configured image for the project is used.\n\n<div class=\"alert alert-info\"><h4>Note</h4><p>The default image (name + version) is always ``{{.image.default.fqn}}:{{.image.default.version}}``</p></div>\n\n.. warning:\n\n    It is the responsibility of the user to push a container image that matches the new name described.\n"
      ]
    },
    {
      "cell_type": "markdown",
      "metadata": {},
      "source": [
        "Lets declare a task that uses an image that is derived from the defaults FQN and version\n\n.. todo::\n\n  Another example for multi-images here\n\nFor another example where this is done please refer to :any:`intermediate_spark_dataframes_passing`\n\n"
      ]
    }
  ],
  "metadata": {
    "kernelspec": {
      "display_name": "Python 3",
      "language": "python",
      "name": "python3"
    },
    "language_info": {
      "codemirror_mode": {
        "name": "ipython",
        "version": 3
      },
      "file_extension": ".py",
      "mimetype": "text/x-python",
      "name": "python",
      "nbconvert_exporter": "python",
      "pygments_lexer": "ipython3",
      "version": "3.8.6"
    }
  },
  "nbformat": 4,
  "nbformat_minor": 0
}