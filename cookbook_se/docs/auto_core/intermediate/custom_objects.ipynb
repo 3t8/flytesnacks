{
  "cells": [
    {
      "cell_type": "code",
      "execution_count": null,
      "metadata": {
        "collapsed": false
      },
      "outputs": [],
      "source": [
        "%matplotlib inline"
      ]
    },
    {
      "cell_type": "markdown",
      "metadata": {},
      "source": [
        "\n# Using custom objects\n\nFlyte supports passing JSON's between tasks. But, to simplify the usage for the users and introduce type-safety,\nflytekit supports passing custom data objects between tasks. Currently only dataclasses that are decorated with\n@dataclasses_json are supported.\n\nThis example shows how users can serialize custom JSON'able dataclasses between successive tasks using the excellent\n`dataclasses_json <https://pypi.org/project/dataclasses-json/>` library\n"
      ]
    },
    {
      "cell_type": "code",
      "execution_count": null,
      "metadata": {
        "collapsed": false
      },
      "outputs": [],
      "source": [
        "import typing\nfrom dataclasses import dataclass\nfrom dataclasses_json import dataclass_json\n\nfrom flytekit import task, workflow"
      ]
    },
    {
      "cell_type": "markdown",
      "metadata": {},
      "source": [
        "This Datum is a user defined complex type, which can be used to pass complex data between tasks.\nMoreover, users can also pass this data between different languages and also input through the Flyteconsole as a\nraw JSON.\n\n<div class=\"alert alert-info\"><h4>Note</h4><p>Only other supported types can be nested in this class, for example it can only contain other ``@dataclass_json``\n  annotated dataclasses if you want to use complex classes. Arbitrary classes will cause a **failure**.</p></div>\n\n<div class=\"alert alert-info\"><h4>Note</h4><p>All variables in DataClasses should be **annotated with their type**. Failure to do should will result in an error</p></div>\n\n"
      ]
    },
    {
      "cell_type": "code",
      "execution_count": null,
      "metadata": {
        "collapsed": false
      },
      "outputs": [],
      "source": [
        "@dataclass_json\n@dataclass\nclass Datum(object):\n    \"\"\"\n    Example of a simple custom class that is modeled as a dataclass\n    \"\"\"\n\n    x: int\n    y: str\n    z: typing.Dict[int, str]"
      ]
    },
    {
      "cell_type": "markdown",
      "metadata": {},
      "source": [
        "Once declared dataclasses can be returned as outputs or accepted as inputs\n\n"
      ]
    },
    {
      "cell_type": "code",
      "execution_count": null,
      "metadata": {
        "collapsed": false
      },
      "outputs": [],
      "source": [
        "@task\ndef stringify(x: int) -> Datum:\n    \"\"\"\n    A dataclass return will be regarded as a complex single json return.\n    \"\"\"\n    return Datum(x=x, y=str(x), z={x: str(x)})\n\n\n@task\ndef add(x: Datum, y: Datum) -> Datum:\n    \"\"\"\n    Flytekit will automatically convert the passed in json into a DataClass. If the structures dont match, it will raise\n    a runtime failure\n    \"\"\"\n    x.z.update(y.z)\n    return Datum(x=x.x + y.x, y=x.y + y.y, z=x.z)"
      ]
    },
    {
      "cell_type": "markdown",
      "metadata": {},
      "source": [
        "Workflow creation remains identical\n\n"
      ]
    },
    {
      "cell_type": "code",
      "execution_count": null,
      "metadata": {
        "collapsed": false
      },
      "outputs": [],
      "source": [
        "@workflow\ndef wf(x: int, y: int) -> Datum:\n    \"\"\"\n    Dataclasses (JSON) can be returned from a workflow as well.\n    \"\"\"\n    return add(x=stringify(x=x), y=stringify(x=y))\n\n\nif __name__ == \"__main__\":\n    \"\"\"\n    This workflow can be run locally. During local execution also, the dataclasses will be marshalled to and from json.\n    \"\"\"\n    wf(x=10, y=20)"
      ]
    }
  ],
  "metadata": {
    "kernelspec": {
      "display_name": "Python 3",
      "language": "python",
      "name": "python3"
    },
    "language_info": {
      "codemirror_mode": {
        "name": "ipython",
        "version": 3
      },
      "file_extension": ".py",
      "mimetype": "text/x-python",
      "name": "python",
      "nbconvert_exporter": "python",
      "pygments_lexer": "ipython3",
      "version": "3.8.6"
    }
  },
  "nbformat": 4,
  "nbformat_minor": 0
}