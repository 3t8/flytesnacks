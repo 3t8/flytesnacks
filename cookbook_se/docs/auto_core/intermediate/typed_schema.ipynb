{
  "cells": [
    {
      "cell_type": "code",
      "execution_count": null,
      "metadata": {
        "collapsed": false
      },
      "outputs": [],
      "source": [
        "%matplotlib inline"
      ]
    },
    {
      "cell_type": "markdown",
      "metadata": {},
      "source": [
        "\n# Typed columns in a schema\n\nThis example explains how a typed schema can be used in Flyte and declared in flytekit.\n"
      ]
    },
    {
      "cell_type": "code",
      "execution_count": null,
      "metadata": {
        "collapsed": false
      },
      "outputs": [],
      "source": [
        "import pandas\nfrom flytekit import kwtypes, task, workflow"
      ]
    },
    {
      "cell_type": "markdown",
      "metadata": {},
      "source": [
        "Flytekit consists of some pre-built type extenstions, one of them is the FlyteSchema type\n\n"
      ]
    },
    {
      "cell_type": "code",
      "execution_count": null,
      "metadata": {
        "collapsed": false
      },
      "outputs": [],
      "source": [
        "from flytekit.types.schema import FlyteSchema"
      ]
    },
    {
      "cell_type": "markdown",
      "metadata": {},
      "source": [
        "FlyteSchema is an abstract Schema type that can be used to represent any structured dataset which has typed\n(or untyped) columns\n\n"
      ]
    },
    {
      "cell_type": "code",
      "execution_count": null,
      "metadata": {
        "collapsed": false
      },
      "outputs": [],
      "source": [
        "out_schema = FlyteSchema[kwtypes(x=int, y=str)]"
      ]
    },
    {
      "cell_type": "markdown",
      "metadata": {},
      "source": [
        "To write to a schema object refer to :py:func:`flytekit.FlyteSchema.open` method. Writing can be done using\nAny of the supported dataframe formats.\n\n.. todo::\n\n  Reference the supported dataframe formats here\n\n"
      ]
    },
    {
      "cell_type": "code",
      "execution_count": null,
      "metadata": {
        "collapsed": false
      },
      "outputs": [],
      "source": [
        "@task\ndef t1() -> out_schema:\n    w = out_schema()\n    df = pandas.DataFrame(data={\"x\": [1, 2], \"y\": [\"3\", \"4\"]})\n    w.open().write(df)\n    return w"
      ]
    },
    {
      "cell_type": "markdown",
      "metadata": {},
      "source": [
        "To read a Schema, one has to invoke the :py:func:`flytekit.FlyteSchema.open`. The default mode is automatically\nconfigured to be `open` and the default returned dataframe type is :py:class:`pandas.DataFrame`\nDifferent types of dataframes can be returned based on the type passed into the open method\n\n"
      ]
    },
    {
      "cell_type": "code",
      "execution_count": null,
      "metadata": {
        "collapsed": false
      },
      "outputs": [],
      "source": [
        "@task\ndef t2(schema: FlyteSchema[kwtypes(x=int, y=str)]) -> FlyteSchema[kwtypes(x=int)]:\n    assert isinstance(schema, FlyteSchema)\n    df: pandas.DataFrame = schema.open().all()\n    return df[schema.column_names()[:-1]]\n\n\n@workflow\ndef wf() -> FlyteSchema[kwtypes(x=int)]:\n    return t2(schema=t1())"
      ]
    },
    {
      "cell_type": "markdown",
      "metadata": {},
      "source": [
        "Local execution will convert the data to and from the serialized representation thus, mimicing a complete distributed\nexecution.\n\n"
      ]
    },
    {
      "cell_type": "code",
      "execution_count": null,
      "metadata": {
        "collapsed": false
      },
      "outputs": [],
      "source": [
        "if __name__ == \"__main__\":\n    print(f\"Running {__file__} main...\")\n    print(f\"Running wf(), returns columns {wf().columns()}\")"
      ]
    }
  ],
  "metadata": {
    "kernelspec": {
      "display_name": "Python 3",
      "language": "python",
      "name": "python3"
    },
    "language_info": {
      "codemirror_mode": {
        "name": "ipython",
        "version": 3
      },
      "file_extension": ".py",
      "mimetype": "text/x-python",
      "name": "python",
      "nbconvert_exporter": "python",
      "pygments_lexer": "ipython3",
      "version": "3.8.6"
    }
  },
  "nbformat": 4,
  "nbformat_minor": 0
}