{
  "cells": [
    {
      "cell_type": "code",
      "execution_count": null,
      "metadata": {
        "collapsed": false
      },
      "outputs": [],
      "source": [
        "%matplotlib inline"
      ]
    },
    {
      "cell_type": "markdown",
      "metadata": {},
      "source": [
        "\n# Write a dynamic task\n\nPlease make sure you understand the difference between a task and a workflow - feel free to revisit the earlier\ndiscussions and examples of those concepts. The key thing to note is that the body of tasks run at run time and the\nbody of workflows run at compile (aka registration) time. A dynamic task is a mix between the two - it's effectively\na workflow that is compiled at run time.\n"
      ]
    },
    {
      "cell_type": "code",
      "execution_count": null,
      "metadata": {
        "collapsed": false
      },
      "outputs": [],
      "source": [
        "import typing\n\nfrom flytekit import dynamic, task, workflow\n\n\n@task\ndef t1(a: int) -> str:\n    a = a + 2\n    return \"world-\" + str(a)\n\n\n@task\ndef t2(a: str, b: str) -> str:\n    return b + a"
      ]
    },
    {
      "cell_type": "markdown",
      "metadata": {},
      "source": [
        "This is how you declare a dynamic task. Note that you can call ``range`` on the input ``a``. In a normal workflow,\nyou cannot do this and compilation would fail very early on. Because this isn't run until there are literal values\nfor all inputs, it does work.\n\nLocal execution will also work as it's treated like a task that will be run with Python native inputs.\n\nThe name of this function was intentionally chosen. Even though these are implemented as tasks in flytekit, you\nshould think about them as workflows. At execution time, flytekit is running the compilation step, and producing\na ``WorkflowTemplate``, which it then passes back to Flyte Propeller for further running, much like how sub-workflows\nare handled.\n\n"
      ]
    },
    {
      "cell_type": "code",
      "execution_count": null,
      "metadata": {
        "collapsed": false
      },
      "outputs": [],
      "source": [
        "@dynamic\ndef my_subwf(a: int) -> (typing.List[str], int):\n    s = []\n    for i in range(a):\n        s.append(t1(a=i))\n    return s, 5\n\n\n@workflow\ndef my_wf(a: int, b: str) -> (str, typing.List[str], int):\n    x = t2(a=b, b=b)\n    v, z = my_subwf(a=a)\n    return x, v, z\n\n\nif __name__ == \"__main__\":\n    print(f\"Running {__file__} main...\")\n    print(f\"Running sub-wf directly my_subwf(a=3) = {my_subwf(a=3)}\")\n    print(f\"Running my_wf(a=5, b='hello') {my_wf(a=5, b='hello')}\")"
      ]
    }
  ],
  "metadata": {
    "kernelspec": {
      "display_name": "Python 3",
      "language": "python",
      "name": "python3"
    },
    "language_info": {
      "codemirror_mode": {
        "name": "ipython",
        "version": 3
      },
      "file_extension": ".py",
      "mimetype": "text/x-python",
      "name": "python",
      "nbconvert_exporter": "python",
      "pygments_lexer": "ipython3",
      "version": "3.8.6"
    }
  },
  "nbformat": 4,
  "nbformat_minor": 0
}