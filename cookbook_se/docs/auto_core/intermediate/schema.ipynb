{
  "cells": [
    {
      "cell_type": "code",
      "execution_count": null,
      "metadata": {
        "collapsed": false
      },
      "outputs": [],
      "source": [
        "%matplotlib inline"
      ]
    },
    {
      "cell_type": "markdown",
      "metadata": {},
      "source": [
        "\n# Using Schemas\n\nThis example explains how an untyped schema is passed between tasks using :py:class:`pandas.DataFrame`.\nFlytekit makes it possible for users to directly return or accept a :py:class:`pandas.DataFrame`, which are automatically\nconverted into flyte's abstract representation of a schema object\n"
      ]
    },
    {
      "cell_type": "code",
      "execution_count": null,
      "metadata": {
        "collapsed": false
      },
      "outputs": [],
      "source": [
        "import pandas\nfrom flytekit import task, workflow"
      ]
    },
    {
      "cell_type": "markdown",
      "metadata": {},
      "source": [
        "Flytekit allows users to directly use pandas.dataframe in their tasks as long as they import\nNote: # noqa: F401. This is to ignore pylint complaining about unused imports\n\n"
      ]
    },
    {
      "cell_type": "code",
      "execution_count": null,
      "metadata": {
        "collapsed": false
      },
      "outputs": [],
      "source": [
        "from flytekit.types import schema  # noqa: F401"
      ]
    },
    {
      "cell_type": "markdown",
      "metadata": {},
      "source": [
        "This task generates a pandas.DataFrame and returns it. The Dataframe itself will be serialized to an intermediate\nformat like parquet before passing between tasks\n\n"
      ]
    },
    {
      "cell_type": "code",
      "execution_count": null,
      "metadata": {
        "collapsed": false
      },
      "outputs": [],
      "source": [
        "@task\ndef get_df(a: int) -> pandas.DataFrame:\n    \"\"\"\n    Generate a sample dataframe\n    \"\"\"\n    return pandas.DataFrame(data={\"col1\": [a, 2], \"col2\": [a, 4]})"
      ]
    },
    {
      "cell_type": "markdown",
      "metadata": {},
      "source": [
        "This task shows an example of transforming a dataFrame\n\n"
      ]
    },
    {
      "cell_type": "code",
      "execution_count": null,
      "metadata": {
        "collapsed": false
      },
      "outputs": [],
      "source": [
        "@task\ndef add_df(df: pandas.DataFrame) -> pandas.DataFrame:\n    \"\"\"\n    Append some data to the dataframe.\n    NOTE: this may result in runtime failures if the columns do not match\n    \"\"\"\n    return df.append(pandas.DataFrame(data={\"col1\": [5, 10], \"col2\": [5, 10]}))"
      ]
    },
    {
      "cell_type": "markdown",
      "metadata": {},
      "source": [
        "The workflow shows that passing DataFrame's between tasks is as simple as passing dataFrames in memory\n\n"
      ]
    },
    {
      "cell_type": "code",
      "execution_count": null,
      "metadata": {
        "collapsed": false
      },
      "outputs": [],
      "source": [
        "@workflow\ndef df_wf(a: int) -> pandas.DataFrame:\n    \"\"\"\n    Pass data between the dataframes\n    \"\"\"\n    df = get_df(a=a)\n    return add_df(df=df)"
      ]
    },
    {
      "cell_type": "markdown",
      "metadata": {},
      "source": [
        "The entire program can be run locally\n\n"
      ]
    },
    {
      "cell_type": "code",
      "execution_count": null,
      "metadata": {
        "collapsed": false
      },
      "outputs": [],
      "source": [
        "if __name__ == \"__main__\":\n    print(f\"Running {__file__} main...\")\n    print(f\"Running df_wf(a=42) {df_wf(a=42)}\")"
      ]
    }
  ],
  "metadata": {
    "kernelspec": {
      "display_name": "Python 3",
      "language": "python",
      "name": "python3"
    },
    "language_info": {
      "codemirror_mode": {
        "name": "ipython",
        "version": 3
      },
      "file_extension": ".py",
      "mimetype": "text/x-python",
      "name": "python",
      "nbconvert_exporter": "python",
      "pygments_lexer": "ipython3",
      "version": "3.8.6"
    }
  },
  "nbformat": 4,
  "nbformat_minor": 0
}