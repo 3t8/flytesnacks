{
  "cells": [
    {
      "cell_type": "code",
      "execution_count": null,
      "metadata": {
        "collapsed": false
      },
      "outputs": [],
      "source": [
        "%matplotlib inline"
      ]
    },
    {
      "cell_type": "markdown",
      "metadata": {},
      "source": [
        "\n# Conditions\n\nFlytekit supports conditions as a first class construct in the language. Conditions offer a way to selectively execute\nbranches of a workflow based on static or dynamic data produced by other tasks or come in as workflow inputs.\nConditions are very performant to be evaluated however, they are limited to certain binary and logical operators and can\nonly be performed on primitive values.\n"
      ]
    },
    {
      "cell_type": "markdown",
      "metadata": {},
      "source": [
        "To start off, import `conditional` module\n\n"
      ]
    },
    {
      "cell_type": "code",
      "execution_count": null,
      "metadata": {
        "collapsed": false
      },
      "outputs": [],
      "source": [
        "import typing\n\nfrom flytekit import task, workflow\nfrom flytekit.annotated.condition import conditional"
      ]
    },
    {
      "cell_type": "markdown",
      "metadata": {},
      "source": [
        "## Example 1\nIn the following example we define two tasks `square` and `double` and depending on whether the workflow input is a\nfraction (0-1) or not, it decided which to execute.\n\n"
      ]
    },
    {
      "cell_type": "code",
      "execution_count": null,
      "metadata": {
        "collapsed": false
      },
      "outputs": [],
      "source": [
        "@task\ndef square(n: float) -> float:\n    \"\"\"\n    Parameters:\n        n (float): name of the parameter for the task will be derived from the name of the input variable\n               the type will be automatically deduced to be Types.Integer\n\n    Return:\n        float: The label for the output will be automatically assigned and type will be deduced from the annotation\n\n    \"\"\"\n    return n * n\n\n\n@task\ndef double(n: float) -> float:\n    \"\"\"\n    Parameters:\n        n (float): name of the parameter for the task will be derived from the name of the input variable\n               the type will be automatically deduced to be Types.Integer\n\n    Return:\n        float: The label for the output will be automatically assigned and type will be deduced from the annotation\n\n    \"\"\"\n    return 2 * n\n\n\n@workflow\ndef multiplier(my_input: float) -> float:\n    return (\n        conditional(\"fractions\")\n        .if_((my_input >= 0.1) & (my_input <= 1.0))\n        .then(double(n=my_input))\n        .else_()\n        .then(square(n=my_input))\n    )\n\n\nprint(f\"Output of multiplier(my_input=3): {multiplier(my_input=3)}\")\nprint(f\"Output of multiplier(my_input=0.5): {multiplier(my_input=0.5)}\")"
      ]
    },
    {
      "cell_type": "markdown",
      "metadata": {},
      "source": [
        "## Example 2\nIn the following example we have an if condition with multiple branches and we fail if no conditions are met. Flyte\nexpects any conditional() statement to be _complete_ meaning all possible branches have to be handled.\n\n"
      ]
    },
    {
      "cell_type": "code",
      "execution_count": null,
      "metadata": {
        "collapsed": false
      },
      "outputs": [],
      "source": [
        "@workflow\ndef multiplier_2(my_input: float) -> float:\n    return (\n        conditional(\"fractions\")\n        .if_((my_input > 0.1) & (my_input < 1.0))\n        .then(double(n=my_input))\n        .elif_((my_input > 1.0) & (my_input <= 10.0))\n        .then(square(n=my_input))\n        .else_()\n        .fail(\"The input must be between 0 and 10\")\n    )\n\n\nprint(f\"Output of multiplier_2(my_input=10): {multiplier_2(my_input=10)}\")"
      ]
    },
    {
      "cell_type": "markdown",
      "metadata": {},
      "source": [
        "## Example 3\nIn the following example we consume the output returned by the conditional() in a subsequent task.\n\n"
      ]
    },
    {
      "cell_type": "code",
      "execution_count": null,
      "metadata": {
        "collapsed": false
      },
      "outputs": [],
      "source": [
        "@workflow\ndef multiplier_3(my_input: float) -> float:\n    d = (\n        conditional(\"fractions\")\n        .if_((my_input > 0.1) & (my_input < 1.0))\n        .then(double(n=my_input))\n        .elif_((my_input > 1.0) & (my_input < 10.0))\n        .then(square(n=my_input))\n        .else_()\n        .fail(\"The input must be between 0 and 10\")\n    )\n\n    # d will be either the output of `double` or t he output of `square`. If the conditional() falls through the fail\n    # branch, execution will not reach here.\n    return double(n=d)\n\n\nprint(f\"Output of multiplier_3(my_input=5): {multiplier_3(my_input=5)}\")"
      ]
    }
  ],
  "metadata": {
    "kernelspec": {
      "display_name": "Python 3",
      "language": "python",
      "name": "python3"
    },
    "language_info": {
      "codemirror_mode": {
        "name": "ipython",
        "version": 3
      },
      "file_extension": ".py",
      "mimetype": "text/x-python",
      "name": "python",
      "nbconvert_exporter": "python",
      "pygments_lexer": "ipython3",
      "version": "3.8.6"
    }
  },
  "nbformat": 4,
  "nbformat_minor": 0
}