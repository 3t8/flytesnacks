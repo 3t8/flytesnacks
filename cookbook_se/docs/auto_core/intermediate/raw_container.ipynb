{
  "cells": [
    {
      "cell_type": "code",
      "execution_count": null,
      "metadata": {
        "collapsed": false
      },
      "outputs": [],
      "source": [
        "%matplotlib inline"
      ]
    },
    {
      "cell_type": "markdown",
      "metadata": {},
      "source": [
        "\n# Raw container example\n\nThis example shows how it is possible to use arbitrary containers and pass data between them using Flyte.\nFlyte mounts an input data volume where all the data needed by the container is available and an output data volume\nfor the container to write all the data which will be stored away.\n\nThe data is written as separate files, one per input variable. The format of the file is serialized strings.\nRefer to the raw protocol to understand how to leverage this\n"
      ]
    },
    {
      "cell_type": "code",
      "execution_count": null,
      "metadata": {
        "collapsed": false
      },
      "outputs": [],
      "source": [
        "from flytekit import ContainerTask, kwtypes, workflow"
      ]
    },
    {
      "cell_type": "markdown",
      "metadata": {},
      "source": [
        "A :py:class:`flytekit.ContainerTask` denotes an arbitrary container. In the following example, the name of the task\nis square. This name has to be unique in the entire project. Users can specify some\n\n- ``input_data_dir`` -> where inputs will be written to\n- ``output_data_dir`` -> where Flyte will expect the outputs to exist.\n\ninputs and outputs specify the interface for the task, thus it should be an ordered dictionary of typed input and\noutput variables\n\n"
      ]
    },
    {
      "cell_type": "code",
      "execution_count": null,
      "metadata": {
        "collapsed": false
      },
      "outputs": [],
      "source": [
        "square = ContainerTask(\n    name=\"square\",\n    input_data_dir=\"/var/inputs\",\n    output_data_dir=\"/var/outputs\",\n    inputs=kwtypes(val=int),\n    outputs=kwtypes(out=int),\n    image=\"alpine\",\n    command=[\n        \"sh\",\n        \"-c\",\n        \"echo $(( {{.Inputs.val}} * {{.Inputs.val}} )) | tee /var/outputs/out\",\n    ],\n)\n\n\nsum = ContainerTask(\n    name=\"sum\",\n    input_data_dir=\"/var/flyte/inputs\",\n    output_data_dir=\"/var/flyte/outputs\",\n    inputs=kwtypes(x=int, y=int),\n    outputs=kwtypes(out=int),\n    image=\"alpine\",\n    command=[\n        \"sh\",\n        \"-c\",\n        \"echo $(( {{.Inputs.x}} + {{.Inputs.y}} )) | tee /var/flyte/outputs/out\",\n    ],\n)"
      ]
    },
    {
      "cell_type": "markdown",
      "metadata": {},
      "source": [
        "As can be seen in this example, ContainerTasks can be interacted with like normal python functions, whose inputs\ncorrespond to the declared input variables\n\n"
      ]
    },
    {
      "cell_type": "code",
      "execution_count": null,
      "metadata": {
        "collapsed": false
      },
      "outputs": [],
      "source": [
        "@workflow\ndef raw_container_wf(val1: int, val2: int) -> int:\n    \"\"\"\n    These tasks can be invoked like simple python methods. But running them locally performs no execution, unless\n    the execution is mocked.\n    \"\"\"\n    return sum(x=square(val=val1), y=square(val=val2))"
      ]
    },
    {
      "cell_type": "markdown",
      "metadata": {},
      "source": [
        "ContainerTasks cannot really be executed locally as Flytekit is incapable of executing Containers currently.\nbut it is possible to mock the execution.\n\n"
      ]
    },
    {
      "cell_type": "code",
      "execution_count": null,
      "metadata": {
        "collapsed": false
      },
      "outputs": [],
      "source": [
        "if __name__ == \"__main__\":\n    print(f\"Running {__file__} main...\")\n    print(\n        f\"Running raw_container_wf(val1=5, val2=5) {raw_container_wf(val1=5, val2=5)}\"\n    )"
      ]
    }
  ],
  "metadata": {
    "kernelspec": {
      "display_name": "Python 3",
      "language": "python",
      "name": "python3"
    },
    "language_info": {
      "codemirror_mode": {
        "name": "ipython",
        "version": 3
      },
      "file_extension": ".py",
      "mimetype": "text/x-python",
      "name": "python",
      "nbconvert_exporter": "python",
      "pygments_lexer": "ipython3",
      "version": "3.8.6"
    }
  },
  "nbformat": 4,
  "nbformat_minor": 0
}