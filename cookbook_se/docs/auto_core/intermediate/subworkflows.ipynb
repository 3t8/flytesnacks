{
  "cells": [
    {
      "cell_type": "code",
      "execution_count": null,
      "metadata": {
        "collapsed": false
      },
      "outputs": [],
      "source": [
        "%matplotlib inline"
      ]
    },
    {
      "cell_type": "markdown",
      "metadata": {},
      "source": [
        "\n# Call another workflow by subworkflow\n\nLaunch plans were introduced in the Basics section of this book. Subworkflows are similar in that they allow users\nto kick off one workflow from inside another. What's the difference? Think of launch plans as passing by pointer and\nsubworkflows as passing by value.\n\nWhen you include a launch plan of workflow A inside workflow B, when B gets run, a new workflow execution,\nreplete with a new workflow execution ID, a new Flyte UI link, will be run.\n\nWhen you include workflow A as a subworkflow of workflow B, when B gets run, the entire workflow A graph is basically\ncopied into workflow B at the point where it is called.\n"
      ]
    },
    {
      "cell_type": "code",
      "execution_count": null,
      "metadata": {
        "collapsed": false
      },
      "outputs": [],
      "source": [
        "import typing\n\nfrom flytekit import task, workflow\n\n\n@task\ndef t1(a: int) -> typing.NamedTuple(\"OutputsBC\", t1_int_output=int, c=str):\n    return a + 2, \"world\""
      ]
    },
    {
      "cell_type": "markdown",
      "metadata": {},
      "source": [
        "This will be the subworkflow of our examples, but note that this is a workflow like any other. It can be run just\nlike any other workflow. Note here that the workflow has been declared with a default.\n\n"
      ]
    },
    {
      "cell_type": "code",
      "execution_count": null,
      "metadata": {
        "collapsed": false
      },
      "outputs": [],
      "source": [
        "@workflow\ndef my_subwf(a: int = 42) -> (str, str):\n    x, y = t1(a=a)\n    u, v = t1(a=x)\n    return y, v"
      ]
    },
    {
      "cell_type": "markdown",
      "metadata": {},
      "source": [
        "This is the parent workflow. In it, we call the workflow declared above.\nThis also showcases how to override the node name of a task (or subworkflow). Typically, nodes are just named\nsequentially, ``node-0``, ``node-1``, and so on. Because the inner ``my_subwf`` also has a ``node-0`` you may\nwish to change the name of the first one. Not doing so is also fine - Flyte will automatically prepend something\nto the inner ``node-0``, since node IDs need to be distinct within a workflow graph. This issue does not exist\nwhen calling something by launch plan since those launch a separate execution entirely.\n\n"
      ]
    },
    {
      "cell_type": "code",
      "execution_count": null,
      "metadata": {
        "collapsed": false
      },
      "outputs": [],
      "source": [
        "@workflow\ndef parent_wf(a: int) -> (int, str, str):\n    x, y = t1(a=a).with_overrides(node_name=\"node-t1-parent\")\n    u, v = my_subwf(a=x)\n    return x, u, v\n\n\nif __name__ == \"__main__\":\n    print(f\"Running parent_wf(a=3) {parent_wf(a=3)}\")"
      ]
    }
  ],
  "metadata": {
    "kernelspec": {
      "display_name": "Python 3",
      "language": "python",
      "name": "python3"
    },
    "language_info": {
      "codemirror_mode": {
        "name": "ipython",
        "version": 3
      },
      "file_extension": ".py",
      "mimetype": "text/x-python",
      "name": "python",
      "nbconvert_exporter": "python",
      "pygments_lexer": "ipython3",
      "version": "3.8.6"
    }
  },
  "nbformat": 4,
  "nbformat_minor": 0
}