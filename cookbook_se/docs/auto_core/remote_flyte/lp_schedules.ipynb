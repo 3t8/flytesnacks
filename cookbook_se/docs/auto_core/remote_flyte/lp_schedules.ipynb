{
  "cells": [
    {
      "cell_type": "code",
      "execution_count": null,
      "metadata": {
        "collapsed": false
      },
      "outputs": [],
      "source": [
        "%matplotlib inline"
      ]
    },
    {
      "cell_type": "markdown",
      "metadata": {},
      "source": [
        "\n# Scheduling workflow executions with launch plans\n\nFor background on launch plans, refer to :any:`launch_plans`.\n\nFor up-to-date documentation on schedules, see the `official docs <https://lyft.github.io/flyte/user/concepts/launchplans_schedules.html#schedules>`_\n"
      ]
    },
    {
      "cell_type": "markdown",
      "metadata": {},
      "source": [
        "Let's consider the following example workflow:\n\n"
      ]
    },
    {
      "cell_type": "code",
      "execution_count": null,
      "metadata": {
        "collapsed": false
      },
      "outputs": [],
      "source": [
        "from datetime import datetime\n\nfrom flytekit import task, workflow\n\n\n@task\ndef format_date(run_date: datetime) -> str:\n    return run_date.strftime(\"%Y-%m-%d %H:%M\")\n\n\n@workflow\ndef date_formatter_wf(kickoff_time: datetime):\n    formatted_kickoff_time = format_date(run_date=kickoff_time)\n    print(formatted_kickoff_time)"
      ]
    },
    {
      "cell_type": "markdown",
      "metadata": {},
      "source": [
        "# Cron Expression\nCron expression strings use the `AWS syntax <http://docs.aws.amazon.com/AmazonCloudWatch/latest/events/ScheduledEvents.html#CronExpressions>`_.\nThese are validated at launch plan registration time.\n\n"
      ]
    },
    {
      "cell_type": "code",
      "execution_count": null,
      "metadata": {
        "collapsed": false
      },
      "outputs": [],
      "source": [
        "from flytekit import LaunchPlan\nfrom flytekit.annotated.schedule import CronSchedule\n\n# creates a launch plan that runs at 10am UTC every day.\ncron_lp = LaunchPlan.create(\n    \"my_cron_scheduled_lp\",\n    date_formatter_wf,\n    schedule=CronSchedule(\n        # Note that kickoff_time_input_arg matches the workflow input we defined above: kickoff_time\n        cron_expression=\"0 10 * * ? *\",\n        kickoff_time_input_arg=\"kickoff_time\",\n    ),\n)"
      ]
    },
    {
      "cell_type": "markdown",
      "metadata": {},
      "source": [
        "# Fixed Rate\nIf you prefer to use an interval rather than the cron syntax to schedule your workflows, this is currently supported\nfor Flyte deployments hosted on AWS.\nTo run ``date_formatter_wf`` every 10 minutes read on below:\n\n"
      ]
    },
    {
      "cell_type": "code",
      "execution_count": null,
      "metadata": {
        "collapsed": false
      },
      "outputs": [],
      "source": [
        "from datetime import timedelta\n\nfrom flytekit import LaunchPlan\nfrom flytekit.annotated.schedule import FixedRate\n\n\n@task\ndef be_positive(name: str) -> str:\n    return f\"You're awesome, {name}\"\n\n\n@workflow\ndef positive_wf(name: str):\n    reminder = be_positive(name=name)\n    print(f\"{reminder}\")\n\n\nfixed_rate_lp = LaunchPlan.create(\n    \"my_fixed_rate_lp\",\n    positive_wf,\n    # Note that the workflow above doesn't accept any kickoff time arguments.\n    # We just omit the ``kickoff_time_input_arg`` from the FixedRate schedule invocation\n    schedule=FixedRate(duration=timedelta(minutes=10)),\n    fixed_inputs={\"name\": \"you\"},\n)"
      ]
    },
    {
      "cell_type": "markdown",
      "metadata": {},
      "source": [
        "Once you've initialized your launch plan, don't forget to set it to active so that the schedule is run.\nTBD (katrogan)\n\n"
      ]
    }
  ],
  "metadata": {
    "kernelspec": {
      "display_name": "Python 3",
      "language": "python",
      "name": "python3"
    },
    "language_info": {
      "codemirror_mode": {
        "name": "ipython",
        "version": 3
      },
      "file_extension": ".py",
      "mimetype": "text/x-python",
      "name": "python",
      "nbconvert_exporter": "python",
      "pygments_lexer": "ipython3",
      "version": "3.8.6"
    }
  },
  "nbformat": 4,
  "nbformat_minor": 0
}