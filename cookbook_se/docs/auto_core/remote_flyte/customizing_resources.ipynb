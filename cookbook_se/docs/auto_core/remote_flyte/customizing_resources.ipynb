{
  "cells": [
    {
      "cell_type": "code",
      "execution_count": null,
      "metadata": {
        "collapsed": false
      },
      "outputs": [],
      "source": [
        "%matplotlib inline"
      ]
    },
    {
      "cell_type": "markdown",
      "metadata": {},
      "source": [
        "\n# Customizing task resources like mem/cpu\n\nOne of the reasons why you would want to use a hosted Flyte environment is due to the potential of leveraging CPU, memory and storage resources, far greater than whats available locally.\nFlytekit makes it possible to specify these requirements declaratively and close to where the task itself is declared.\n"
      ]
    },
    {
      "cell_type": "code",
      "execution_count": null,
      "metadata": {
        "collapsed": false
      },
      "outputs": [],
      "source": [
        "import typing\nfrom flytekit import task, workflow"
      ]
    },
    {
      "cell_type": "markdown",
      "metadata": {},
      "source": [
        "In this example the memory required by the function increases as the dataset size increases. For large datasets we may not be able to run locally. Thus we want to provide hints to flyte backend that we want to request for more memory.\nThis is done by simply decorating the task with the hints as shown in the following code sample. The following parameters are available to be changed for a task\n\n#. ``cpu_request`` minimum cpu requested\n#. ``cpu_limit`` maximum cpu possible\n#. ``memory_request`` min memory requested\n#. ``memory_limit`` max memory possible\n#. ``gpu_request`` min gpus requested\n#. ``gpu_limit`` max gpus requested, they should be the same?,kub\n\nThe following resources are not yet supported, but coming soon\n\n#. ``storage_request`` min storage requested\n#. ``storage_limit`` max storage possible\n\nThe acutal values follow the `kubernetes convention <https://kubernetes.io/docs/concepts/configuration/manage-resources-containers/>`_.\n\n<div class=\"alert alert-danger\"><h4>Warning</h4><p>We are working on changing how the cpu-request, memory is configured. This API is likely to change in alpha-3. The changes will be minimal</p></div>\n\n\n"
      ]
    },
    {
      "cell_type": "code",
      "execution_count": null,
      "metadata": {
        "collapsed": false
      },
      "outputs": [],
      "source": [
        "@task(cpu_request=\"1\", memory_request=\"2048\")\ndef count_unique_numbers(x: typing.List[int]) -> int:\n    s = set()\n    for i in x:\n        s.add(i)\n    return len(s)"
      ]
    },
    {
      "cell_type": "markdown",
      "metadata": {},
      "source": [
        "Now lets create a dummy task that squares the number\n\n"
      ]
    },
    {
      "cell_type": "code",
      "execution_count": null,
      "metadata": {
        "collapsed": false
      },
      "outputs": [],
      "source": [
        "@task\ndef square(x: int) -> int:\n    return x * x"
      ]
    },
    {
      "cell_type": "markdown",
      "metadata": {},
      "source": [
        "The tasks decorated with memory and storage hints can be used like regular tasks in a workflow, as follows\n\n"
      ]
    },
    {
      "cell_type": "code",
      "execution_count": null,
      "metadata": {
        "collapsed": false
      },
      "outputs": [],
      "source": [
        "@workflow\ndef my_workflow(x: typing.List[int]) -> int:\n    return square(x=count_unique_numbers(x=x))"
      ]
    },
    {
      "cell_type": "markdown",
      "metadata": {},
      "source": [
        "The workflow and task can be executed locally\n\n"
      ]
    },
    {
      "cell_type": "code",
      "execution_count": null,
      "metadata": {
        "collapsed": false
      },
      "outputs": [],
      "source": [
        "if __name__ == \"__main__\":\n    print(count_unique_numbers(x=[1, 1, 2]))\n    print(my_workflow(x=[1, 1, 2]))"
      ]
    }
  ],
  "metadata": {
    "kernelspec": {
      "display_name": "Python 3",
      "language": "python",
      "name": "python3"
    },
    "language_info": {
      "codemirror_mode": {
        "name": "ipython",
        "version": 3
      },
      "file_extension": ".py",
      "mimetype": "text/x-python",
      "name": "python",
      "nbconvert_exporter": "python",
      "pygments_lexer": "ipython3",
      "version": "3.8.6"
    }
  },
  "nbformat": 4,
  "nbformat_minor": 0
}