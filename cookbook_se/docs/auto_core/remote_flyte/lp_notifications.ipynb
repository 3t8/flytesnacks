{
  "cells": [
    {
      "cell_type": "code",
      "execution_count": null,
      "metadata": {
        "collapsed": false
      },
      "outputs": [],
      "source": [
        "%matplotlib inline"
      ]
    },
    {
      "cell_type": "markdown",
      "metadata": {},
      "source": [
        "\n# Getting notifications on workflow termination\n\nFor background on launch plans, refer to :any:`launch_plans`.\n\nFor up-to-date documentation on notifications see the `official docs <https://lyft.github.io/flyte/user/features/notifications.html>`_\n"
      ]
    },
    {
      "cell_type": "markdown",
      "metadata": {},
      "source": [
        "Let's consider the following example workflow:\n\n"
      ]
    },
    {
      "cell_type": "code",
      "execution_count": null,
      "metadata": {
        "collapsed": false
      },
      "outputs": [],
      "source": [
        "from flytekit import LaunchPlan, task, workflow\nfrom flytekit.annotated.notification import Email\nfrom flytekit.models.core.execution import WorkflowExecutionPhase\n\n\n@task\ndef double_int_and_print(a: int) -> str:\n    return str(a * 2)\n\n\n@workflow\ndef int_doubler_wf(a: int) -> str:\n    doubled = double_int_and_print(a=a)\n    return doubled\n\n\n# This launch plan triggers email notifications when the workflow execution it triggered reaches the phase `SUCCEEDED`.\nint_doubler_wf_lp = LaunchPlan.create(\n    \"int_doubler_wf\",\n    int_doubler_wf,\n    default_inputs={\"a\": 4},\n    notifications=[\n        Email(\n            phases=[WorkflowExecutionPhase.SUCCEEDED],\n            recipients_email=[\"admin@example.com\"],\n        )\n    ],\n)"
      ]
    },
    {
      "cell_type": "markdown",
      "metadata": {},
      "source": [
        "Notifications shine when used for scheduled workflows to alert on failures:\n\n"
      ]
    },
    {
      "cell_type": "code",
      "execution_count": null,
      "metadata": {
        "collapsed": false
      },
      "outputs": [],
      "source": [
        "from datetime import timedelta\n\nfrom flytekit.annotated.notification import PagerDuty\nfrom flytekit.annotated.schedule import FixedRate\n\nint_doubler_wf_scheduled_lp = LaunchPlan.create(\n    \"int_doubler_wf_scheduled\",\n    int_doubler_wf,\n    default_inputs={\"a\": 4},\n    notifications=[\n        PagerDuty(\n            phases=[WorkflowExecutionPhase.FAILED, WorkflowExecutionPhase.TIMED_OUT],\n            recipients_email=[\"abc@pagerduty.com\"],\n        )\n    ],\n    schedule=FixedRate(duration=timedelta(days=1)),\n)"
      ]
    },
    {
      "cell_type": "markdown",
      "metadata": {},
      "source": [
        "If you desire you can combine notifications with different permutations of terminal phases and recipient targets:\n\n"
      ]
    },
    {
      "cell_type": "code",
      "execution_count": null,
      "metadata": {
        "collapsed": false
      },
      "outputs": [],
      "source": [
        "from flytekit.annotated.notification import Slack\n\nwacky_int_doubler_lp = LaunchPlan.create(\n    \"wacky_int_doubler\",\n    int_doubler_wf,\n    default_inputs={\"a\": 4},\n    notifications=[\n        Email(\n            phases=[WorkflowExecutionPhase.FAILED],\n            recipients_email=[\"me@example.com\", \"you@example.com\"],\n        ),\n        Email(\n            phases=[WorkflowExecutionPhase.SUCCEEDED],\n            recipients_email=[\"myboss@example.com\"],\n        ),\n        Slack(\n            phases=[\n                WorkflowExecutionPhase.SUCCEEDED,\n                WorkflowExecutionPhase.ABORTED,\n                WorkflowExecutionPhase.TIMED_OUT,\n            ],\n            recipients_email=[\"myteam@slack.com\"],\n        ),\n    ],\n)"
      ]
    }
  ],
  "metadata": {
    "kernelspec": {
      "display_name": "Python 3",
      "language": "python",
      "name": "python3"
    },
    "language_info": {
      "codemirror_mode": {
        "name": "ipython",
        "version": 3
      },
      "file_extension": ".py",
      "mimetype": "text/x-python",
      "name": "python",
      "nbconvert_exporter": "python",
      "pygments_lexer": "ipython3",
      "version": "3.8.6"
    }
  },
  "nbformat": 4,
  "nbformat_minor": 0
}