{
  "cells": [
    {
      "cell_type": "code",
      "execution_count": null,
      "metadata": {
        "collapsed": false
      },
      "outputs": [],
      "source": [
        "%matplotlib inline"
      ]
    },
    {
      "cell_type": "markdown",
      "metadata": {},
      "source": [
        "\n\n# Launch Plans\n\nLaunch plans bind a partial or complete list of inputs necessary to launch a workflow along\nwith optional run-time overrides such as notifications, schedules and more.\nLaunch plan inputs must only assign inputs already defined in the reference workflow definition.\n"
      ]
    },
    {
      "cell_type": "markdown",
      "metadata": {},
      "source": [
        "Launch plans are the only means for invoking workflow executions.\nBy default, a 'default' launch plan will be created during the serialization (and registration process),\nwhich will optionally bind any default workflow inputs and any default runtime options specified in the project\nflytekit config (such as user role, etc).\nThe following example creates a default launch plan with no inputs during serialization.\n\n"
      ]
    },
    {
      "cell_type": "code",
      "execution_count": null,
      "metadata": {
        "collapsed": false
      },
      "outputs": [],
      "source": [
        "import datetime\nimport calendar\n\nfrom flytekit import task, LaunchPlan, workflow, current_context\n\n\n@task\ndef square(val: int) -> int:\n    return val * val\n\n\n@workflow\ndef my_wf(val: int) -> int:\n    result = square(val=val)\n    return result\n\n\ndefault_lp = LaunchPlan.get_default_launch_plan(current_context(), my_wf)\nsquare_3 = default_lp(val=3)"
      ]
    },
    {
      "cell_type": "markdown",
      "metadata": {},
      "source": [
        "The following shows how to specify a user-defined launch plan that defaults the value of 'val' to 4.\n\n"
      ]
    },
    {
      "cell_type": "code",
      "execution_count": null,
      "metadata": {
        "collapsed": false
      },
      "outputs": [],
      "source": [
        "my_lp = LaunchPlan.create(\"default_4_lp\", my_wf, default_inputs={\"val\": 4})\nsquare_4 = my_lp()\nsquare_5 = my_lp(val=5)"
      ]
    },
    {
      "cell_type": "markdown",
      "metadata": {},
      "source": [
        "In some cases you may want to **fix** launch plan inputs, such that they can't be overridden at execution call time.\n\n"
      ]
    },
    {
      "cell_type": "code",
      "execution_count": null,
      "metadata": {
        "collapsed": false
      },
      "outputs": [],
      "source": [
        "my_fixed_lp = LaunchPlan.create(\"always_2_lp\", my_wf, fixed_inputs={\"val\": 4})\nsquare_2 = my_fixed_lp()\n# error:\n# square_1 = my_fixed_lp(val=1)"
      ]
    },
    {
      "cell_type": "markdown",
      "metadata": {},
      "source": [
        "## Putting it all together\n\nDefault and fixed inputs can all be used in combination together to simplify individual executions\nor even programmatic ones.\nLet's take a look at a trivial example where we enthusiastically greet each day of the upcoming week:\n\n"
      ]
    },
    {
      "cell_type": "code",
      "execution_count": null,
      "metadata": {
        "collapsed": false
      },
      "outputs": [],
      "source": [
        "@task\ndef greet(day_of_week: str, number: int, am: bool) -> str:\n    greeting = \"Have a great \" + day_of_week\n    greeting += \"morning\" if am else \"evening\"\n    return \" \" + greeting + \"!\" * number\n\n\n@workflow\ndef go_greet(day_of_week: str, number: int, am: bool = False) -> str:\n    return greet(day_of_week=day_of_week, number=number, am=am)\n\n\nmorning_greeting = LaunchPlan.create(\n    \"morning_greeting\",\n    go_greet,\n    fixed_inputs={\"am\": True},\n    default_inputs={\"number\": 1},\n)\n\n# Let's see if we can convincingly pass a Turing test!\ntoday = datetime.datetime.today()\nfor n in range(7):\n    day = today + datetime.timedelta(days=n)\n    weekday = calendar.day_name[day.weekday()]\n    if day.weekday() < 5:\n        print(morning_greeting(day_of_week=weekday))\n    else:\n        # We're extra enthusiastic on weekends\n        print(morning_greeting(number=3, day_of_week=weekday))"
      ]
    }
  ],
  "metadata": {
    "kernelspec": {
      "display_name": "Python 3",
      "language": "python",
      "name": "python3"
    },
    "language_info": {
      "codemirror_mode": {
        "name": "ipython",
        "version": 3
      },
      "file_extension": ".py",
      "mimetype": "text/x-python",
      "name": "python",
      "nbconvert_exporter": "python",
      "pygments_lexer": "ipython3",
      "version": "3.8.6"
    }
  },
  "nbformat": 4,
  "nbformat_minor": 0
}