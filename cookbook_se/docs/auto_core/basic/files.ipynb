{
  "cells": [
    {
      "cell_type": "code",
      "execution_count": null,
      "metadata": {
        "collapsed": false
      },
      "outputs": [],
      "source": [
        "%matplotlib inline"
      ]
    },
    {
      "cell_type": "markdown",
      "metadata": {},
      "source": [
        "\n# Work with files\n\nFiles are one of the most fundamental things that users of Python work with, and they are fully supported by Flyte.\nIn the IDL, they are known as `Blob <https://github.com/lyft/flyteidl/blob/cee566b2e6e109120f1bb34c980b1cfaf006a473/protos/flyteidl/core/literals.proto#L33>`__ literals\nand are backed by the `blob type <https://github.com/lyft/flyteidl/blob/cee566b2e6e109120f1bb34c980b1cfaf006a473/protos/flyteidl/core/types.proto#L47>`__\n\nNote that the type message includes a ``format`` field which is text.\n"
      ]
    },
    {
      "cell_type": "code",
      "execution_count": null,
      "metadata": {
        "collapsed": false
      },
      "outputs": [],
      "source": [
        "import os\nimport urllib.request\n\nimport cv2\nimport flytekit\nfrom flytekit import task, workflow\nfrom flytekit.types.file import FlyteFile"
      ]
    },
    {
      "cell_type": "markdown",
      "metadata": {},
      "source": [
        "Let's assume our mission here is pretty simple. We want to take each of these links, download the picture, rotate it\nand return the file.\n\n"
      ]
    },
    {
      "cell_type": "code",
      "execution_count": null,
      "metadata": {
        "collapsed": false
      },
      "outputs": [],
      "source": [
        "default_images = [\n    \"https://upload.wikimedia.org/wikipedia/commons/a/a8/Fractal_pyramid.jpg\",\n    \"https://upload.wikimedia.org/wikipedia/commons/thumb/a/ad/Julian_fractal.jpg/256px-Julian_fractal.jpg\",\n]"
      ]
    },
    {
      "cell_type": "markdown",
      "metadata": {},
      "source": [
        "Note the signature of the return type of this task is a ``FlyteFile``. Files do not have a native object in Python\nso we had to write one ourselves. There does exist the ``os.PathLike`` protocol, but nothing implements it.\n\nWhen this task finishes, the flytekit engine will detect the ``FlyteFile`` instance being returned, find a location\nin Flyte's object store (usually S3), upload the file to that location, and create a Blob literal pointing to it.\n\nNote that the ``FlyteFile`` literal is scoped with a string, which gets inserted into the format of the Blob type.\nThe ``[]`` are entirely optional, and if you don't specify it, the format will just be an ``\"\"``.\n\n"
      ]
    },
    {
      "cell_type": "code",
      "execution_count": null,
      "metadata": {
        "collapsed": false
      },
      "outputs": [],
      "source": [
        "@task\ndef rotate(image_location: str) -> FlyteFile:\n    \"\"\"\n    Download the given image, rotate it by 180 degrees\n    \"\"\"\n    working_dir = flytekit.current_context().working_directory\n    local_image = os.path.join(working_dir, \"incoming.jpg\")\n    urllib.request.urlretrieve(image_location, local_image)\n    img = cv2.imread(local_image, 0)\n    if img is None:\n        raise Exception(\"Failed to read image\")\n    (h, w) = img.shape[:2]\n    center = (w / 2, h / 2)\n    mat = cv2.getRotationMatrix2D(center, 180, 1)\n    res = cv2.warpAffine(img, mat, (w, h))\n    out_path = os.path.join(working_dir, \"rotated.jpg\")\n    cv2.imwrite(out_path, res)\n    return FlyteFile[\"jpg\"](path=out_path)\n\n\n@workflow\ndef rotate_one_workflow(in_image: str) -> FlyteFile:\n    return rotate(image_location=in_image)"
      ]
    },
    {
      "cell_type": "markdown",
      "metadata": {},
      "source": [
        "Execute it\n\n"
      ]
    },
    {
      "cell_type": "code",
      "execution_count": null,
      "metadata": {
        "collapsed": false
      },
      "outputs": [],
      "source": [
        "if __name__ == \"__main__\":\n    print(f\"Running {__file__} main...\")\n    print(\n        f\"Running rotate_one_workflow(in_image=default_images[0]) {rotate_one_workflow(in_image=default_images[0])}\"\n    )"
      ]
    }
  ],
  "metadata": {
    "kernelspec": {
      "display_name": "Python 3",
      "language": "python",
      "name": "python3"
    },
    "language_info": {
      "codemirror_mode": {
        "name": "ipython",
        "version": 3
      },
      "file_extension": ".py",
      "mimetype": "text/x-python",
      "name": "python",
      "nbconvert_exporter": "python",
      "pygments_lexer": "ipython3",
      "version": "3.8.6"
    }
  },
  "nbformat": 4,
  "nbformat_minor": 0
}