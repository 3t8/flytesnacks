{
  "cells": [
    {
      "cell_type": "code",
      "execution_count": null,
      "metadata": {
        "collapsed": false
      },
      "outputs": [],
      "source": [
        "%matplotlib inline"
      ]
    },
    {
      "cell_type": "markdown",
      "metadata": {},
      "source": [
        "\n# Work with folders\n\nPlease also see the entry on files. After files, folders are the other fundamental operating system primitive users might find themselves working with. The Flyte IDL's support of folders take the form of `multi-part blobs <https://github.com/lyft/flyteidl/blob/cee566b2e6e109120f1bb34c980b1cfaf006a473/protos/flyteidl/core/types.proto#L50>`__.\n"
      ]
    },
    {
      "cell_type": "code",
      "execution_count": null,
      "metadata": {
        "collapsed": false
      },
      "outputs": [],
      "source": [
        "import pathlib\nimport os\nimport urllib.request\n\nimport cv2\nimport flytekit\nfrom flytekit import task, workflow\nfrom flytekit.types.directory import FlyteDirectory"
      ]
    },
    {
      "cell_type": "markdown",
      "metadata": {},
      "source": [
        "Playing on the same example used in the File chapter, this first task downloads a bunch of files into a directory,\nand then returns a Flyte object referencing them.\n\n"
      ]
    },
    {
      "cell_type": "code",
      "execution_count": null,
      "metadata": {
        "collapsed": false
      },
      "outputs": [],
      "source": [
        "default_images = [\n    \"https://upload.wikimedia.org/wikipedia/commons/a/a8/Fractal_pyramid.jpg\",\n    \"https://upload.wikimedia.org/wikipedia/commons/thumb/a/ad/Julian_fractal.jpg/256px-Julian_fractal.jpg\",\n]"
      ]
    },
    {
      "cell_type": "markdown",
      "metadata": {},
      "source": [
        "This task downloads the two files above using non-Flyte libraries, and returns the path to the folder, in a FlyteDirectory object.\n\n"
      ]
    },
    {
      "cell_type": "code",
      "execution_count": null,
      "metadata": {
        "collapsed": false
      },
      "outputs": [],
      "source": [
        "@task\ndef download_files() -> FlyteDirectory:\n    working_dir = flytekit.current_context().working_directory\n    pp = pathlib.Path(os.path.join(working_dir, \"images\"))\n    pp.mkdir(exist_ok=True)\n    for idx, remote_location in enumerate(default_images):\n        local_image = os.path.join(working_dir, \"images\", f\"image_{idx}.jpg\")\n        urllib.request.urlretrieve(remote_location, local_image)\n\n    return FlyteDirectory(path=os.path.join(working_dir, \"images\"))"
      ]
    },
    {
      "cell_type": "markdown",
      "metadata": {},
      "source": [
        "Purely Python function, no Flyte components here.\n\n"
      ]
    },
    {
      "cell_type": "code",
      "execution_count": null,
      "metadata": {
        "collapsed": false
      },
      "outputs": [],
      "source": [
        "def rotate(local_image: str):\n    \"\"\"\n    In place rotation of the image\n    \"\"\"\n    img = cv2.imread(local_image, 0)\n    if img is None:\n        raise Exception(\"Failed to read image\")\n    (h, w) = img.shape[:2]\n    center = (w / 2, h / 2)\n    mat = cv2.getRotationMatrix2D(center, 180, 1)\n    res = cv2.warpAffine(img, mat, (w, h))\n    # out_path = os.path.join(working_dir, \"rotated.jpg\")\n    cv2.imwrite(local_image, res)"
      ]
    },
    {
      "cell_type": "markdown",
      "metadata": {},
      "source": [
        "This task accepts the previously downloaded folder, and calls the rotate function above on each. Since the rotate function does the image manipulation in place, we just create a new FlyteDirectory object pointed to the same place.\n\n"
      ]
    },
    {
      "cell_type": "code",
      "execution_count": null,
      "metadata": {
        "collapsed": false
      },
      "outputs": [],
      "source": [
        "@task\ndef rotate_all(img_dir: FlyteDirectory) -> FlyteDirectory:\n    \"\"\"\n    Download the given image, rotate it by 180 degrees\n    \"\"\"\n    for img in [os.path.join(img_dir, x) for x in os.listdir(img_dir)]:\n        rotate(img)\n    return FlyteDirectory(path=img_dir.path)\n\n\n@workflow\ndef download_and_rotate() -> FlyteDirectory:\n    directory = download_files()\n    return rotate_all(img_dir=directory)\n\n\nif __name__ == \"__main__\":\n    print(f\"Running {__file__} main...\")\n    print(f\"Running main {download_and_rotate()}\")"
      ]
    }
  ],
  "metadata": {
    "kernelspec": {
      "display_name": "Python 3",
      "language": "python",
      "name": "python3"
    },
    "language_info": {
      "codemirror_mode": {
        "name": "ipython",
        "version": 3
      },
      "file_extension": ".py",
      "mimetype": "text/x-python",
      "name": "python",
      "nbconvert_exporter": "python",
      "pygments_lexer": "ipython3",
      "version": "3.8.6"
    }
  },
  "nbformat": 4,
  "nbformat_minor": 0
}