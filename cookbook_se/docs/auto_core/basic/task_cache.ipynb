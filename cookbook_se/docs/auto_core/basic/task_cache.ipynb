{
  "cells": [
    {
      "cell_type": "code",
      "execution_count": null,
      "metadata": {
        "collapsed": false
      },
      "outputs": [],
      "source": [
        "%matplotlib inline"
      ]
    },
    {
      "cell_type": "markdown",
      "metadata": {},
      "source": [
        "\n# Task Cache\n\nFlyte provides the ability to cache the output of task executions in order to make subsequent executions faster. A well-behaved Flyte Task should generate deterministic output given the same inputs and task functionality.\nThis is useful in situations where a user knows that many executions with the exact same inputs can occur. For example, your task may be periodically run on a schedule, run multiple times when debugging workflows, or \ncommonly shared across different workflows but receive the same inputs.\n"
      ]
    },
    {
      "cell_type": "markdown",
      "metadata": {},
      "source": [
        "For any task in flyte, there is always one required import\n\n"
      ]
    },
    {
      "cell_type": "code",
      "execution_count": null,
      "metadata": {
        "collapsed": false
      },
      "outputs": [],
      "source": [
        "from flytekit import task"
      ]
    },
    {
      "cell_type": "markdown",
      "metadata": {},
      "source": [
        "Task caching is disabled by default. This is to avoid unintended consequences of caching tasks with side-effects. To enable caching and control its behavior, use the `cache` and `cache_version` parameters when constructing\na task. `cache` controls whether caching is enabled or disabled overall and `cache_version` controls which version of the cache is used. Bumping this version is akin to invalidating the cache, the next execution of that task\nwith the same input/interface will actually run, and the results will be cached so that subsequent executions are just replayed from the cache.\n\n:py:func:`flytekit.task`\n\n"
      ]
    },
    {
      "cell_type": "code",
      "execution_count": null,
      "metadata": {
        "collapsed": false
      },
      "outputs": [],
      "source": [
        "@task(cache=True, cache_version=\"1.0\")\ndef square(n: int) -> int:\n    \"\"\"\n     Parameters:\n        n (int): name of the parameter for the task will be derived from the name of the input variable\n               the type will be automatically deduced to be Types.Integer\n\n    Return:\n        int: The label for the output will be automatically assigned and type will be deduced from the annotation\n\n    \"\"\"\n    return n * n"
      ]
    },
    {
      "cell_type": "markdown",
      "metadata": {},
      "source": [
        "In the above example, calling `square(n=2)` twice (even if it's across different executions or different workflows), will only actually execution the multiplication operation once. The second time the output will be made\navailable immediately.\n\n"
      ]
    },
    {
      "cell_type": "markdown",
      "metadata": {},
      "source": [
        "If, in a subsequent code update, we update the signature of the task to return the original number along with the result, it'll automatically invalidate the cache (even though the cache version remains the same). ::\n\n  :py:func:`flytekit.task`\n  @task(cache=True, cache_version=\"1.0\")\n  def square(n: int) -> (int, int):\n      ...\n\n"
      ]
    },
    {
      "cell_type": "markdown",
      "metadata": {},
      "source": [
        "To read more about Task caching and how a unique signature is calculated, please proceed to the `Task Cache documentation <https://flyte.readthedocs.io/en/stable/user/features/task_cache.html#features-task-cache>`__.\n\n"
      ]
    }
  ],
  "metadata": {
    "kernelspec": {
      "display_name": "Python 3",
      "language": "python",
      "name": "python3"
    },
    "language_info": {
      "codemirror_mode": {
        "name": "ipython",
        "version": 3
      },
      "file_extension": ".py",
      "mimetype": "text/x-python",
      "name": "python",
      "nbconvert_exporter": "python",
      "pygments_lexer": "ipython3",
      "version": "3.8.6"
    }
  },
  "nbformat": 4,
  "nbformat_minor": 0
}