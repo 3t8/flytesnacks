{
  "cells": [
    {
      "cell_type": "code",
      "execution_count": null,
      "metadata": {
        "collapsed": false
      },
      "outputs": [],
      "source": [
        "%matplotlib inline"
      ]
    },
    {
      "cell_type": "markdown",
      "metadata": {},
      "source": [
        "\n# Mock Tasks for Testing\n\nA lot of the tasks that you write you can run locally, but some of them you will not be able to, usually because they\nare tasks that depend on a third-party only available on the backend. Hive tasks are a common example, as most users\nwill not have access to the service that executes Hive queries from their development environment. However, it's still\nuseful to be able to locally run a workflow that calls such a task. In these instances, flytekit provides a couple\nof utilities to help navigate this.\n"
      ]
    },
    {
      "cell_type": "code",
      "execution_count": null,
      "metadata": {
        "collapsed": false
      },
      "outputs": [],
      "source": [
        "import datetime\n\nimport pandas\nfrom flytekit import task, workflow, SQLTask, kwtypes, TaskMetadata\nfrom flytekit.annotated.testing import task_mock, patch\nfrom flytekit.types.schema import FlyteSchema"
      ]
    },
    {
      "cell_type": "markdown",
      "metadata": {},
      "source": [
        "This is a generic SQL task (and is by default not hooked up to any datastore nor handled by any plugin), and must\nbe mocked.\n\n"
      ]
    },
    {
      "cell_type": "code",
      "execution_count": null,
      "metadata": {
        "collapsed": false
      },
      "outputs": [],
      "source": [
        "sql = SQLTask(\n    \"my-query\",\n    query_template=\"SELECT * FROM hive.city.fact_airport_sessions WHERE ds = '{{ .Inputs.ds }}' LIMIT 10\",\n    inputs=kwtypes(ds=datetime.datetime),\n    outputs=kwtypes(results=FlyteSchema),\n    metadata=TaskMetadata(retries=2),\n)"
      ]
    },
    {
      "cell_type": "markdown",
      "metadata": {},
      "source": [
        "This is a task that can run locally\n\n"
      ]
    },
    {
      "cell_type": "code",
      "execution_count": null,
      "metadata": {
        "collapsed": false
      },
      "outputs": [],
      "source": [
        "@task\ndef t1() -> datetime.datetime:\n    return datetime.datetime.now()"
      ]
    },
    {
      "cell_type": "markdown",
      "metadata": {},
      "source": [
        "Declare a workflow that chains these two tasks together.\n\n"
      ]
    },
    {
      "cell_type": "code",
      "execution_count": null,
      "metadata": {
        "collapsed": false
      },
      "outputs": [],
      "source": [
        "@workflow\ndef my_wf() -> FlyteSchema:\n    dt = t1()\n    return sql(ds=dt)"
      ]
    },
    {
      "cell_type": "markdown",
      "metadata": {},
      "source": [
        "Without a mock, calling the workflow would typically raise an exception, but with the ``task_mock`` construct, which\nreturns a ``MagicMock`` object, we can override the return value.\n\n"
      ]
    },
    {
      "cell_type": "code",
      "execution_count": null,
      "metadata": {
        "collapsed": false
      },
      "outputs": [],
      "source": [
        "def main_1():\n    with task_mock(sql) as mock:\n        mock.return_value = pandas.DataFrame(data={\"x\": [1, 2], \"y\": [\"3\", \"4\"]})\n        assert (\n            (\n                my_wf().open().all()\n                == pandas.DataFrame(data={\"x\": [1, 2], \"y\": [\"3\", \"4\"]})\n            )\n            .all()\n            .all()\n        )"
      ]
    },
    {
      "cell_type": "markdown",
      "metadata": {},
      "source": [
        "There is another utility as well called ``patch`` which offers the same functionality, but in the traditional Python\npatching style, where the first argument is the ``MagicMock`` object.\n\n"
      ]
    },
    {
      "cell_type": "code",
      "execution_count": null,
      "metadata": {
        "collapsed": false
      },
      "outputs": [],
      "source": [
        "def main_2():\n    @patch(sql)\n    def test_user_demo_test(mock_sql):\n        mock_sql.return_value = pandas.DataFrame(data={\"x\": [1, 2], \"y\": [\"3\", \"4\"]})\n        assert (\n            (\n                my_wf().open().all()\n                == pandas.DataFrame(data={\"x\": [1, 2], \"y\": [\"3\", \"4\"]})\n            )\n            .all()\n            .all()\n        )\n\n\nif __name__ == \"__main__\":\n    main_1()\n    main_2()"
      ]
    }
  ],
  "metadata": {
    "kernelspec": {
      "display_name": "Python 3",
      "language": "python",
      "name": "python3"
    },
    "language_info": {
      "codemirror_mode": {
        "name": "ipython",
        "version": 3
      },
      "file_extension": ".py",
      "mimetype": "text/x-python",
      "name": "python",
      "nbconvert_exporter": "python",
      "pygments_lexer": "ipython3",
      "version": "3.8.6"
    }
  },
  "nbformat": 4,
  "nbformat_minor": 0
}