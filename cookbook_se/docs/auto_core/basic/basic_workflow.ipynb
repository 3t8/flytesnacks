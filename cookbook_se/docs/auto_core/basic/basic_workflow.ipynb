{
  "cells": [
    {
      "cell_type": "code",
      "execution_count": null,
      "metadata": {
        "collapsed": false
      },
      "outputs": [],
      "source": [
        "%matplotlib inline"
      ]
    },
    {
      "cell_type": "markdown",
      "metadata": {},
      "source": [
        "\n# Write a simple workflow\n\nOnce you've had a handle on tasks, we can move to workflows. Workflow are the other basic building block of Flyte.\n\nWorkflows string together two or more tasks. They are also written as Python functions, but it is important to make a\ncritical distinction between tasks and workflows.\n\nThe body of a task's function runs at \"run time\", i.e. on the K8s cluster, using the task's container. The body of a\nworkflow is not used for computation, it is only used to structure the tasks, i.e. the output of ``t1`` is an input\nof ``t2`` in the workflow below. As such, the body of workflows is run at \"registration\" time. Please refer to the\nregistration docs for additional information as well since it is actually a two-step process.\n\nTake a look at the conceptual `discussion <https://lyft.github.io/flyte/user/concepts/workflows_nodes.html#workflows>`__\nbehind workflows for additional information.\n"
      ]
    },
    {
      "cell_type": "code",
      "execution_count": null,
      "metadata": {
        "collapsed": false
      },
      "outputs": [],
      "source": [
        "import typing\n\nfrom flytekit import task, workflow\n\n\n@task\ndef t1(a: int) -> typing.NamedTuple(\"OutputsBC\", t1_int_output=int, c=str):\n    return a + 2, \"world\"\n\n\n@task\ndef t2(a: str, b: str) -> str:\n    return b + a"
      ]
    },
    {
      "cell_type": "markdown",
      "metadata": {},
      "source": [
        "You can treat the outputs of a task as you normally would a Python function. Assign the output to two variables\nand use them in subsequent tasks as normal.\n\n"
      ]
    },
    {
      "cell_type": "code",
      "execution_count": null,
      "metadata": {
        "collapsed": false
      },
      "outputs": [],
      "source": [
        "@workflow\ndef my_wf(a: int, b: str) -> (int, str):\n    x, y = t1(a=a)\n    d = t2(a=y, b=b)\n    return x, d"
      ]
    },
    {
      "cell_type": "markdown",
      "metadata": {},
      "source": [
        "Execute the Workflow, simply by invoking it like a function and passing in\nthe necessary parameters\n\n<div class=\"alert alert-info\"><h4>Note</h4><p>One thing to remember, currently we only support ``Keyword arguments``. So\n  every argument should be passed in the form ``arg=value``. Failure to do so\n  will result in an error</p></div>\n\n"
      ]
    },
    {
      "cell_type": "code",
      "execution_count": null,
      "metadata": {
        "collapsed": false
      },
      "outputs": [],
      "source": [
        "if __name__ == \"__main__\":\n    print(f\"Running my_wf(a=50, b='hello') {my_wf(a=50, b='hello')}\")"
      ]
    }
  ],
  "metadata": {
    "kernelspec": {
      "display_name": "Python 3",
      "language": "python",
      "name": "python3"
    },
    "language_info": {
      "codemirror_mode": {
        "name": "ipython",
        "version": 3
      },
      "file_extension": ".py",
      "mimetype": "text/x-python",
      "name": "python",
      "nbconvert_exporter": "python",
      "pygments_lexer": "ipython3",
      "version": "3.8.6"
    }
  },
  "nbformat": 4,
  "nbformat_minor": 0
}