{
  "cells": [
    {
      "cell_type": "code",
      "execution_count": null,
      "metadata": {
        "collapsed": false
      },
      "outputs": [],
      "source": [
        "%matplotlib inline"
      ]
    },
    {
      "cell_type": "markdown",
      "metadata": {},
      "source": [
        "\n# Tasks\n\nThis example shows how to write a task in flytekit python.\nRecap: In Flyte a task is a fundamental building block and an extension point. Flyte has multiple plugins for tasks,\nwhich can be either a backend-plugin or can be a simple extension that is available in flytekit.\n\nA task in flytekit can be 2 types:\n\n1. A task that has a python function associated with it. The execution of the task would be an execution of this\n   function\n#. A task that does not have a python function, for e.g a SQL query or some other portable task like Sagemaker prebuilt\n   algorithms, or something that just invokes an API\n\nThis section will talk about how to write a Python Function task. Other type of tasks will be covered in later sections\n"
      ]
    },
    {
      "cell_type": "markdown",
      "metadata": {},
      "source": [
        "For any task in flyte, there is always one required import\n\n"
      ]
    },
    {
      "cell_type": "code",
      "execution_count": null,
      "metadata": {
        "collapsed": false
      },
      "outputs": [],
      "source": [
        "from flytekit import task"
      ]
    },
    {
      "cell_type": "markdown",
      "metadata": {},
      "source": [
        "A ``PythonFunctionTask`` must always be decorated with the ``@task`` ``flytekit.task`` decorator.\nThe task itself is a regular python function, with one exception, it needs all the inputs and outputs to be clearly\nannotated with the types. The types are regular python types, more on this in the type-system section.\n:py:func:`flytekit.task`\n\n"
      ]
    },
    {
      "cell_type": "code",
      "execution_count": null,
      "metadata": {
        "collapsed": false
      },
      "outputs": [],
      "source": [
        "@task\ndef square(n: int) -> int:\n    \"\"\"\n     Parameters:\n        n (int): name of the parameter for the task will be derived from the name of the input variable\n               the type will be automatically deduced to be Types.Integer\n\n    Return:\n        int: The label for the output will be automatically assigned and type will be deduced from the annotation\n\n    \"\"\"\n    return n * n"
      ]
    },
    {
      "cell_type": "markdown",
      "metadata": {},
      "source": [
        "In this task, one input is ``n`` which has type ``int``.\nthe task ``square`` takes the number ``n`` and returns a new integer (squared value)\n\n<div class=\"alert alert-info\"><h4>Note</h4><p>Flytekit will assign a default name to the output variable like ``out0``\n  In case of multiple outputs, each output will be numbered in the order\n  starting with 0. For e.g. -> ``out0, out1, out2, ...``</p></div>\n\nFlyte tasks can be executed like normal functions\n\n"
      ]
    },
    {
      "cell_type": "code",
      "execution_count": null,
      "metadata": {
        "collapsed": false
      },
      "outputs": [],
      "source": [
        "if __name__ == \"__main__\":\n    print(square(n=10))"
      ]
    }
  ],
  "metadata": {
    "kernelspec": {
      "display_name": "Python 3",
      "language": "python",
      "name": "python3"
    },
    "language_info": {
      "codemirror_mode": {
        "name": "ipython",
        "version": 3
      },
      "file_extension": ".py",
      "mimetype": "text/x-python",
      "name": "python",
      "nbconvert_exporter": "python",
      "pygments_lexer": "ipython3",
      "version": "3.8.6"
    }
  },
  "nbformat": 4,
  "nbformat_minor": 0
}