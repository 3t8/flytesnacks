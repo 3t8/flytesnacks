{
  "cells": [
    {
      "cell_type": "code",
      "execution_count": null,
      "metadata": {
        "collapsed": false
      },
      "outputs": [],
      "source": [
        "%matplotlib inline"
      ]
    },
    {
      "cell_type": "markdown",
      "metadata": {},
      "source": [
        "\n\n# 01: Merge Sort; Conditions & Recursion in Flyte\n\nFlyteIdl (the fundamental building block of the Flyte Language) allows various programming language features;\nConditionals, Recursion, Custom Typing and more.\n\nThis tutorial will walk you through writing a simple Distributed Merge Sort algorithm. It'll show usage of conditions\nas well as recursion using dynamically generated workflows. Flyte imposes limitation on the depth of the recursion to\navoid mis-use and potentially affecting the overall stability of the system.\n"
      ]
    },
    {
      "cell_type": "code",
      "execution_count": null,
      "metadata": {
        "collapsed": false
      },
      "outputs": [],
      "source": [
        "import typing\nfrom datetime import datetime\nfrom random import random, seed\n\nfrom flytekit import task, workflow, dynamic\nfrom flytekit.annotated.condition import conditional\n\n# seed random number generator\nseed(datetime.now().microsecond)"
      ]
    },
    {
      "cell_type": "markdown",
      "metadata": {},
      "source": [
        "A simple split function that divides a list into two halves.\n\n"
      ]
    },
    {
      "cell_type": "code",
      "execution_count": null,
      "metadata": {
        "collapsed": false
      },
      "outputs": [],
      "source": [
        "@task\ndef split(numbers: typing.List[int]) -> (typing.List[int], typing.List[int], int):\n    return numbers[0:int(len(numbers) / 2)], numbers[int(len(numbers) / 2) + 1:], int(len(numbers) / 2)"
      ]
    },
    {
      "cell_type": "markdown",
      "metadata": {},
      "source": [
        "One sample implementation for merging. In a more real world example, this might merge file streams and only load\nchunks into the memory.\n\n"
      ]
    },
    {
      "cell_type": "code",
      "execution_count": null,
      "metadata": {
        "collapsed": false
      },
      "outputs": [],
      "source": [
        "@task\ndef merge(sorted_list1: typing.List[int], sorted_list2: typing.List[int]) -> typing.List[int]:\n    n1 = len(sorted_list1)\n    n2 = len(sorted_list2)\n    result = []\n    i = 0\n    j = 0\n\n    # Traverse both array \n    while i < n1 and j < n2:\n        # Check if current element of first array is smaller than current element of second array. If yes,  \n        # store first array element and increment first array index. Otherwise do same with second array \n        if sorted_list1[i] < sorted_list2[j]:\n            result.append(sorted_list1[i])\n            i = i + 1\n        else:\n            result.append(sorted_list2[j])\n            j = j + 1\n\n    # Store remaining elements of first array \n    while i < n1:\n        result.append(sorted_list1[i])\n        i = i + 1\n\n    # Store remaining elements of second array \n    while j < n2:\n        result.append(sorted_list2[j])\n        j = j + 1\n\n    return result"
      ]
    },
    {
      "cell_type": "markdown",
      "metadata": {},
      "source": [
        "Generally speaking, the algorithm will recurse through the list, splitting it in half until it reaches a size that we\nknow is efficient enough to run locally. At which point it'll just use the python-builtin sorted function.\n\n"
      ]
    },
    {
      "cell_type": "markdown",
      "metadata": {},
      "source": [
        "This runs the sorting completely locally. It's faster and more efficient to do so if the entire list fits in memory.\n\n"
      ]
    },
    {
      "cell_type": "code",
      "execution_count": null,
      "metadata": {
        "collapsed": false
      },
      "outputs": [],
      "source": [
        "@task\ndef sort_locally(numbers: typing.List[int]) -> typing.List[int]:\n    return sorted(numbers)"
      ]
    },
    {
      "cell_type": "markdown",
      "metadata": {},
      "source": [
        "Let's now define the typical merge sort algorithm. We split, merge-sort each half then finally merge. With the simple\naddition of the `@dynamic` annotation, this function will instead generate a plan of execution (a flyte workflow) with\n4 different nodes that will all run remotely on potentially different hosts. Flyte takes care of ensuring references\nof data are properly passed around and order of execution is maintained with maximum possible parallelism.\n\n"
      ]
    },
    {
      "cell_type": "code",
      "execution_count": null,
      "metadata": {
        "collapsed": false
      },
      "outputs": [],
      "source": [
        "@dynamic\ndef merge_sort_remotely(numbers: typing.List[int], run_local_at_count: int) -> typing.List[int]:\n    split1, split2, new_count = split(numbers=numbers)\n    sorted1 = merge_sort(numbers=split1, numbers_count=new_count, run_local_at_count=run_local_at_count)\n    sorted2 = merge_sort(numbers=split2, numbers_count=new_count, run_local_at_count=run_local_at_count)\n    return merge(sorted_list1=sorted1, sorted_list2=sorted2)"
      ]
    },
    {
      "cell_type": "markdown",
      "metadata": {},
      "source": [
        "Putting it all together, this is the workflow that also serves as the entry point of execution. Given an unordered set\nof numbers, their length as well as the size at which to sort locally, it runs a condition on the size. The condition\nshould look and flow naturally to a python developer. Binary arithmetic and logical operations on simple types as well\nas logical operations on conditions are supported. This condition checks if the current size of the numbers is below\nthe cut-off size to run locally, if so, it runs the sort_locally task. Otherwise it runs the above dynamic workflow\nthat recurse down the list.\n\n"
      ]
    },
    {
      "cell_type": "code",
      "execution_count": null,
      "metadata": {
        "collapsed": false
      },
      "outputs": [],
      "source": [
        "@workflow\ndef merge_sort(numbers: typing.List[int], numbers_count: int, run_local_at_count: int = 10) -> typing.List[int]:\n    return (\n        conditional(\"terminal_case\")\n            .if_(numbers_count <= run_local_at_count)\n            .then(sort_locally(numbers=numbers))\n            .else_()\n            .then(merge_sort_remotely(numbers=numbers, run_local_at_count=run_local_at_count))\n    )"
      ]
    },
    {
      "cell_type": "markdown",
      "metadata": {},
      "source": [
        "A helper function to generate inputs for running the workflow locally.\n\n"
      ]
    },
    {
      "cell_type": "code",
      "execution_count": null,
      "metadata": {
        "collapsed": false
      },
      "outputs": [],
      "source": [
        "def generate_inputs(numbers_count: int) -> typing.List[int]:\n    generated_list = []\n    # generate random numbers between 0-1\n    for _ in range(numbers_count):\n        value = int(random() * 10000)\n        generated_list.append(value)\n\n    return generated_list"
      ]
    },
    {
      "cell_type": "markdown",
      "metadata": {},
      "source": [
        "The entire workflow can be executed locally as follows...\n\n"
      ]
    },
    {
      "cell_type": "code",
      "execution_count": null,
      "metadata": {
        "collapsed": false
      },
      "outputs": [],
      "source": [
        "if __name__ == \"__main__\":\n    print(f\"Running Merge Sort Locally...\")\n    count = 20\n    x = generate_inputs(count)\n    print(x)\n    print(merge_sort(numbers=x, numbers_count=count))"
      ]
    }
  ],
  "metadata": {
    "kernelspec": {
      "display_name": "Python 3",
      "language": "python",
      "name": "python3"
    },
    "language_info": {
      "codemirror_mode": {
        "name": "ipython",
        "version": 3
      },
      "file_extension": ".py",
      "mimetype": "text/x-python",
      "name": "python",
      "nbconvert_exporter": "python",
      "pygments_lexer": "ipython3",
      "version": "3.8.6"
    }
  },
  "nbformat": 4,
  "nbformat_minor": 0
}