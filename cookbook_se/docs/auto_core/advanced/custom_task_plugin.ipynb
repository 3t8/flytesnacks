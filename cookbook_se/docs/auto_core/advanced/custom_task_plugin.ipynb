{
  "cells": [
    {
      "cell_type": "code",
      "execution_count": null,
      "metadata": {
        "collapsed": false
      },
      "outputs": [],
      "source": [
        "%matplotlib inline"
      ]
    },
    {
      "cell_type": "markdown",
      "metadata": {},
      "source": [
        "\n\n# How to write your own flytekit task plugins?\n\nFlytekit is designed to be extremely extensible. You can add new task-types that are useful only for your use-cases.\nFlyte does come with the capability of extending the backend, but that is only required if you want the capability to be\nextended to all users of Flyte, or there is a cost/visibility benefit of doing so. To understand when you should write\na backend plugin refer to - TODO: Flow chart that helps you decide when to write a backend / flytekit plugin?\n\nThis tutorial will walk you through writing your own Sensor style plugin, that allows users to wait for a file to land\nin the object store. Remember, if you follow the Flyte/flytekit constructs, you will automatically make your plugin portable\nacross all cloud platforms that Flyte supports\n\n## Sensor Plugin\nA sensor Plugin waits for some event to happen, before marking the task as success. You do not need to worry about the\ntimeout as that will be handled by the flyte engine itself, when running in production\n\n### Plugin API\n\n.. code-block:: python\n\n    sensor = WaitForObjectStoreFile(metadata=metadata(timeout=\"1H\", retries=10))\n\n    @workflow\n    def wait_and_run(path: str) -> int:\n        # To demonstrate how to create outputs, we will also return the output from the sensor. The output will be the\n        # same as the path\n        path = sensor(path=path)\n        return do_next(path=path)\n"
      ]
    },
    {
      "cell_type": "code",
      "execution_count": null,
      "metadata": {
        "collapsed": false
      },
      "outputs": [],
      "source": [
        "import typing\nfrom datetime import timedelta\nfrom time import sleep\n\nfrom flytekit import task, workflow\nfrom flytekit.annotated import context_manager\nfrom flytekit.annotated.base_task import PythonTask, TaskMetadata\nfrom flytekit.annotated.interface import Interface"
      ]
    },
    {
      "cell_type": "markdown",
      "metadata": {},
      "source": [
        "### Plugin Structure\nAs illustrated above to achieve this structure we need to create a Class called  ``WaitForObjectStoreFile``, which\nderives from :py:class:`flytekit.annotated.PythonFunctionTask` as follows.\n\n\n"
      ]
    },
    {
      "cell_type": "code",
      "execution_count": null,
      "metadata": {
        "collapsed": false
      },
      "outputs": [],
      "source": [
        "class WaitForObjectStoreFile(PythonTask):\n    \"\"\"\n    Add documentation here for your Plugin.\n    This plugin creates an object store file sensor, that waits and exits only when the file exists.\n    \"\"\"\n\n    _VAR_NAME: str = \"path\"\n\n    def __init__(\n        self, name: str, poll_interval: timedelta = timedelta(seconds=10), **kwargs,\n    ):\n        super(WaitForObjectStoreFile, self).__init__(\n            task_type=\"object-store-sensor\",\n            name=name,\n            task_config=None,\n            interface=Interface(\n                inputs={self._VAR_NAME: str}, outputs={self._VAR_NAME: str}\n            ),\n            **kwargs,\n        )\n        self._poll_interval = poll_interval\n\n    def execute(self, **kwargs) -> typing.Any:\n        # No need to check for existence, as that is guaranteed\n        path = kwargs[self._VAR_NAME]\n        ctx = context_manager.FlyteContext.current_context()\n        user_context = ctx.user_space_params\n        while True:\n            user_context.logging.info(f\"Sensing file in path {path}...\")\n            if ctx.file_access.exists(path):\n                user_context.logging.info(f\"file in path {path} exists!\")\n                return path\n            user_context.logging.warning(f\"file in path {path} does not exists!\")\n            sleep(self._poll_interval.seconds)"
      ]
    },
    {
      "cell_type": "markdown",
      "metadata": {},
      "source": [
        "#### Note about Config Objects\n\nFlytekit routes to the right plugin only based on the type of task_config class, if using the @task decorator.\nConfig is very useful for cases when one wants to customize the behavior of the plugin or pass the config information\nto the backend plugin, but in this case we have no real configuration. The config object is any class, that your\nplugin understands\n\n<div class=\"alert alert-info\"><h4>Note</h4><p>Observe that the base class is Generic, it is parameterized with the desired config class</p></div>\n\n<div class=\"alert alert-info\"><h4>Note</h4><p>To create a task decorator based plugin the Config is required In this example, we are creating a named class plugin\n  This construct does not need a plugin</p></div>\n\nWe will try to cover an example of Config objects in a subsequent tutorial\n\n### Actual Usage\n\n"
      ]
    },
    {
      "cell_type": "code",
      "execution_count": null,
      "metadata": {
        "collapsed": false
      },
      "outputs": [],
      "source": [
        "sensor = WaitForObjectStoreFile(\n    name=\"my-objectstore-sensor\",\n    metadata=TaskMetadata(retries=10, timeout=timedelta(minutes=20)),\n    poll_interval=timedelta(seconds=1),\n)\n\n\n@task\ndef print_file(path: str) -> str:\n    print(path)\n    return path\n\n\n@workflow\ndef my_workflow(path: str) -> str:\n    return print_file(path=sensor(path=path))"
      ]
    },
    {
      "cell_type": "markdown",
      "metadata": {},
      "source": [
        "Ofcourse you can run the workflow using your own new shiny plugin locally\n\n"
      ]
    },
    {
      "cell_type": "code",
      "execution_count": null,
      "metadata": {
        "collapsed": false
      },
      "outputs": [],
      "source": [
        "if __name__ == \"__main__\":\n    f = \"/tmp/some-file\"\n    with open(f, \"w\") as w:\n        w.write(\"Hello World!\")\n\n    print(my_workflow(path=f))"
      ]
    }
  ],
  "metadata": {
    "kernelspec": {
      "display_name": "Python 3",
      "language": "python",
      "name": "python3"
    },
    "language_info": {
      "codemirror_mode": {
        "name": "ipython",
        "version": 3
      },
      "file_extension": ".py",
      "mimetype": "text/x-python",
      "name": "python",
      "nbconvert_exporter": "python",
      "pygments_lexer": "ipython3",
      "version": "3.8.6"
    }
  },
  "nbformat": 4,
  "nbformat_minor": 0
}