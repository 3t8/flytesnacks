{
  "cells": [
    {
      "cell_type": "code",
      "execution_count": null,
      "metadata": {
        "collapsed": false
      },
      "outputs": [],
      "source": [
        "%matplotlib inline"
      ]
    },
    {
      "cell_type": "markdown",
      "metadata": {},
      "source": [
        "\n# Pod plugin example\n\nPod tasks can be used anytime you need to bring up multiple containers within a single task. They expose a fully\nmodifable kubernetes `pod spec\n<https://kubernetes.io/docs/reference/generated/kubernetes-api/v1.20/#podspec-v1-core>`_ you can use to customize\nyour task execution runtime.\n\nAll you need to use Pod tasks are to 1) define a pod spec and 2) specify the primary container name\nThe primary container is the driver for the flyte task execution for example, producing inputs and outputs.\n"
      ]
    },
    {
      "cell_type": "markdown",
      "metadata": {},
      "source": [
        "Pod tasks accept all the same arguments that ordinary container tasks accept, such as resource specifications.\nHowever, these are only applied to the primary container. To customize other containers brought up during execution\nwe define a fully-fledged pod spec.\n\nIn this example, we define a simple pod spec in which a shared volume is mounted in both the primary and secondary\ncontainers. The secondary writes a file that the primary waits on before completing.\n\n"
      ]
    },
    {
      "cell_type": "code",
      "execution_count": null,
      "metadata": {
        "collapsed": false
      },
      "outputs": [],
      "source": [
        "import os\nimport time\n\nfrom flytekit import task, workflow\nfrom flytekitplugins.pod import Pod\nfrom k8s.io.api.core.v1 import generated_pb2\nfrom k8s.io.apimachinery.pkg.api.resource.generated_pb2 import Quantity\n\n_SHARED_DATA_PATH = \"/data/message.txt\"\n\n\ndef generate_pod_spec_for_task():\n    pod_spec = generated_pb2.PodSpec()\n\n    # Primary containers do not require us to specify an image, the default image built for flyte tasks will get used.\n    primary_container = generated_pb2.Container(name=\"primary\")\n\n    # Note: for non-primary containers we must specify an image.\n    secondary_container = generated_pb2.Container(name=\"secondary\", image=\"alpine\",)\n    secondary_container.command.extend([\"/bin/sh\"])\n    secondary_container.args.extend(\n        [\"-c\", \"echo hi pod world > {}\".format(_SHARED_DATA_PATH)]\n    )\n\n    resources = generated_pb2.ResourceRequirements()\n    resources.limits[\"cpu\"].CopyFrom(Quantity(string=\"1\"))\n    resources.requests[\"cpu\"].CopyFrom(Quantity(string=\"1\"))\n    resources.limits[\"memory\"].CopyFrom(Quantity(string=\"100Mi\"))\n    resources.requests[\"memory\"].CopyFrom(Quantity(string=\"100Mi\"))\n    primary_container.resources.CopyFrom(resources)\n    secondary_container.resources.CopyFrom(resources)\n\n    shared_volume_mount = generated_pb2.VolumeMount(\n        name=\"shared-data\", mountPath=\"/data\",\n    )\n    secondary_container.volumeMounts.extend([shared_volume_mount])\n    primary_container.volumeMounts.extend([shared_volume_mount])\n\n    pod_spec.volumes.extend(\n        [\n            generated_pb2.Volume(\n                name=\"shared-data\",\n                volumeSource=generated_pb2.VolumeSource(\n                    emptyDir=generated_pb2.EmptyDirVolumeSource(medium=\"Memory\",)\n                ),\n            )\n        ]\n    )\n    pod_spec.containers.extend([primary_container, secondary_container])\n    return pod_spec"
      ]
    },
    {
      "cell_type": "markdown",
      "metadata": {},
      "source": [
        "Although Pod tasks for the most part allow you to customize kubernetes container attributes\nyou can still use flyte directives to specify resources and even the image. The default image built for\nflyte tasks will get used unless you specify the `container_image` task attribute.\n\n"
      ]
    },
    {
      "cell_type": "code",
      "execution_count": null,
      "metadata": {
        "collapsed": false
      },
      "outputs": [],
      "source": [
        "@task(\n    task_config=Pod(\n        pod_spec=generate_pod_spec_for_task(), primary_container_name=\"primary\"\n    ),\n    # a separate image is used\n    container_image=\"{{.image.default.fqn}}:pod-{{.image.default.version}}\",\n)\ndef my_pod_task() -> str:\n    # The code defined in this task will get injected into the primary container.\n    while not os.path.isfile(_SHARED_DATA_PATH):\n        time.sleep(5)\n\n    with open(_SHARED_DATA_PATH, \"r\") as shared_message_file:\n        return shared_message_file.read()\n\n\n@workflow\ndef PodWorkflow() -> str:\n    s = my_pod_task()\n    return s\n\n\nif __name__ == \"__main__\":\n    pass"
      ]
    }
  ],
  "metadata": {
    "kernelspec": {
      "display_name": "Python 3",
      "language": "python",
      "name": "python3"
    },
    "language_info": {
      "codemirror_mode": {
        "name": "ipython",
        "version": 3
      },
      "file_extension": ".py",
      "mimetype": "text/x-python",
      "name": "python",
      "nbconvert_exporter": "python",
      "pygments_lexer": "ipython3",
      "version": "3.8.6"
    }
  },
  "nbformat": 4,
  "nbformat_minor": 0
}